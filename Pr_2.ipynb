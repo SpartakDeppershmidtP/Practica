{
  "cells": [
    {
      "cell_type": "markdown",
      "metadata": {
        "id": "aQrobhvn4bdA"
      },
      "source": [
        "# Практика 02. Базовые конструкции языка Python. Коллекции данных: строки, списки, кортежи, множества, словари. Решение прикладных задач"
      ]
    },
    {
      "cell_type": "markdown",
      "metadata": {
        "id": "S17wgxLn1e-U"
      },
      "source": [
        "## Часть 01. Проверка условий"
      ]
    },
    {
      "cell_type": "markdown",
      "metadata": {
        "id": "QP_1FV4o1e-U"
      },
      "source": [
        "### Проверка условий"
      ]
    },
    {
      "cell_type": "markdown",
      "metadata": {
        "id": "p-gekj4j1e-U"
      },
      "source": [
        "Начнем с известных всем операторов. Проверим,\n",
        "\n",
        "* правда ли, что 8 меньше 9;\n",
        "* правда ли, что 9 больше 10."
      ]
    },
    {
      "cell_type": "code",
      "execution_count": null,
      "metadata": {
        "id": "xgNvCQv31e-V",
        "outputId": "9c3baafe-0bdb-4f03-bfbe-557c75f93d30",
        "colab": {
          "base_uri": "https://localhost:8080/"
        }
      },
      "outputs": [
        {
          "output_type": "execute_result",
          "data": {
            "text/plain": [
              "True"
            ]
          },
          "metadata": {},
          "execution_count": 3
        }
      ],
      "source": [
        "8 < 9 # правда"
      ]
    },
    {
      "cell_type": "code",
      "execution_count": null,
      "metadata": {
        "id": "8bFtv6Tl1e-V",
        "outputId": "a193f85b-b9d2-4c62-be69-34b467541fea",
        "colab": {
          "base_uri": "https://localhost:8080/"
        }
      },
      "outputs": [
        {
          "output_type": "execute_result",
          "data": {
            "text/plain": [
              "False"
            ]
          },
          "metadata": {},
          "execution_count": 4
        }
      ],
      "source": [
        "9 > 10 # неправда"
      ]
    },
    {
      "cell_type": "markdown",
      "metadata": {
        "id": "XnZkxS1o1e-W"
      },
      "source": [
        "Результат такой проверки имеет логический тип (*boolean*)."
      ]
    },
    {
      "cell_type": "code",
      "execution_count": null,
      "metadata": {
        "id": "YOZqjNg51e-W",
        "outputId": "cf586e20-0315-4567-bf7e-b9d8dce7bcfc",
        "colab": {
          "base_uri": "https://localhost:8080/"
        }
      },
      "outputs": [
        {
          "output_type": "execute_result",
          "data": {
            "text/plain": [
              "True"
            ]
          },
          "metadata": {},
          "execution_count": 8
        }
      ],
      "source": [
        "res = 8 < 9\n",
        "res"
      ]
    },
    {
      "cell_type": "markdown",
      "metadata": {
        "id": "xYKgibFS1e-W"
      },
      "source": [
        "Как мы уже обсуждали, переменные такого типа могут принимать два значения `True` или `False`. Обратите внимание, что `True` и `False` не заключены в кавычки – добавив кавычки, мы получим строки \"True\" и \"False\" (тип *string*)."
      ]
    },
    {
      "cell_type": "code",
      "execution_count": null,
      "metadata": {
        "id": "zPtn7Oxl1e-W",
        "outputId": "5f8c0870-9d4d-4af7-a1df-17e72153b288",
        "colab": {
          "base_uri": "https://localhost:8080/"
        }
      },
      "outputs": [
        {
          "output_type": "execute_result",
          "data": {
            "text/plain": [
              "False"
            ]
          },
          "metadata": {},
          "execution_count": 11
        }
      ],
      "source": [
        "'True' == True"
      ]
    },
    {
      "cell_type": "markdown",
      "metadata": {
        "id": "4HztSI8W1e-W"
      },
      "source": [
        "При проверке равенства двух частей (переменных, списков и так далее) используется двойной знак равенства."
      ]
    },
    {
      "cell_type": "code",
      "execution_count": null,
      "metadata": {
        "id": "R4GHTj8F1e-W",
        "outputId": "91f76c05-0829-47d6-ebfe-019cf29d1789",
        "colab": {
          "base_uri": "https://localhost:8080/"
        }
      },
      "outputs": [
        {
          "output_type": "execute_result",
          "data": {
            "text/plain": [
              "True"
            ]
          },
          "metadata": {},
          "execution_count": 12
        }
      ],
      "source": [
        "6 == 6"
      ]
    },
    {
      "cell_type": "markdown",
      "metadata": {
        "id": "5KnXDaO-1e-X"
      },
      "source": [
        "Одинарный знак «равно» используется для присваивания значений. Так ничего не сравним, но сохраним в переменную `a` число 6:"
      ]
    },
    {
      "cell_type": "code",
      "execution_count": null,
      "metadata": {
        "id": "Q5lPY-eT1e-X"
      },
      "outputs": [],
      "source": [
        "a = 6\n",
        "a"
      ]
    },
    {
      "cell_type": "markdown",
      "metadata": {
        "id": "tqUpz0An1e-X"
      },
      "source": [
        "А так уже проверим условия:"
      ]
    },
    {
      "cell_type": "code",
      "execution_count": null,
      "metadata": {
        "id": "zHvoAfGV1e-X",
        "outputId": "4d5fea2f-8f46-4535-bbee-d40440622b98",
        "colab": {
          "base_uri": "https://localhost:8080/"
        }
      },
      "outputs": [
        {
          "output_type": "stream",
          "name": "stdout",
          "text": [
            "True\n",
            "False\n"
          ]
        }
      ],
      "source": [
        "print(a == 6)\n",
        "print(a == 9)"
      ]
    },
    {
      "cell_type": "markdown",
      "metadata": {
        "id": "G_iPh_Oo1e-X"
      },
      "source": [
        "Отрицание равенства в Python обозначается с помощью оператора `!=` (вообще `!` в программировании используется для отрицания)."
      ]
    },
    {
      "cell_type": "code",
      "execution_count": null,
      "metadata": {
        "id": "x1L0JatT1e-X",
        "outputId": "1527186e-fac5-4f59-9ea5-8994151f8333",
        "colab": {
          "base_uri": "https://localhost:8080/"
        }
      },
      "outputs": [
        {
          "output_type": "execute_result",
          "data": {
            "text/plain": [
              "True"
            ]
          },
          "metadata": {},
          "execution_count": 17
        }
      ],
      "source": [
        "6 != 7"
      ]
    },
    {
      "cell_type": "markdown",
      "metadata": {
        "id": "xEvd4rle1e-X"
      },
      "source": [
        "Стоит отметить, что Python достаточно лояльно относится к разделению между типам данных. Например, если мы сравним целое число и то же число, но с плавающей точкой (с дробной частью равной 0), Python сообщит, что эти числа совпадают."
      ]
    },
    {
      "cell_type": "code",
      "execution_count": null,
      "metadata": {
        "id": "1XsYUQnq1e-X",
        "outputId": "f2cba0e4-5397-4c0f-eb33-412132dac183",
        "colab": {
          "base_uri": "https://localhost:8080/"
        }
      },
      "outputs": [
        {
          "output_type": "execute_result",
          "data": {
            "text/plain": [
              "True"
            ]
          },
          "metadata": {},
          "execution_count": 18
        }
      ],
      "source": [
        "6 == 6.0 # верно"
      ]
    },
    {
      "cell_type": "markdown",
      "metadata": {
        "id": "kqJn4YdC1e-X"
      },
      "source": [
        "### Сложные условия"
      ]
    },
    {
      "cell_type": "markdown",
      "metadata": {
        "id": "TqqzVS4k1e-X"
      },
      "source": [
        "Пусть у нас есть три целочисленные переменные `a`, `b` и `c`, и мы планируем составлять сложные, составные уcловия, касающиеся этих переменных."
      ]
    },
    {
      "cell_type": "code",
      "execution_count": null,
      "metadata": {
        "id": "u85ga9At1e-X"
      },
      "outputs": [],
      "source": [
        "a = 3\n",
        "b = 7\n",
        "c = 1"
      ]
    },
    {
      "cell_type": "markdown",
      "metadata": {
        "id": "YqEr9Xnq1e-X"
      },
      "source": [
        "Помогут операторы `and` и `or`. Оператор `and` соответствует одновременному выполнению условий, оператор `or` соответствует ситуации, когда хотя бы одно из условий выполняется. Оператор `or` в Python – обычное «или», не исключающее: либо верно первое условие, либо второе, либо оба."
      ]
    },
    {
      "cell_type": "markdown",
      "metadata": {
        "id": "QVmOwG092NTJ"
      },
      "source": [
        "(15 < 17) and (17 > 10)<br>\n",
        "True   and  True -> True"
      ]
    },
    {
      "cell_type": "code",
      "execution_count": null,
      "metadata": {
        "id": "YQo92Uok1e-X",
        "outputId": "93a07056-df92-4064-f696-4bcfd4cdfaa2",
        "colab": {
          "base_uri": "https://localhost:8080/"
        }
      },
      "outputs": [
        {
          "output_type": "execute_result",
          "data": {
            "text/plain": [
              "True"
            ]
          },
          "metadata": {},
          "execution_count": 20
        }
      ],
      "source": [
        "(a < b) and (b > c) # оба верны"
      ]
    },
    {
      "cell_type": "markdown",
      "metadata": {
        "id": "OqlyGdNL2RfY"
      },
      "source": [
        "(15 < 17) and (10 > 17)<br>\n",
        "True  and False -> False"
      ]
    },
    {
      "cell_type": "code",
      "execution_count": null,
      "metadata": {
        "id": "Iz-st07i1e-Y",
        "outputId": "506dc1c2-e95a-4e9f-e2d4-0d0918fee43e",
        "colab": {
          "base_uri": "https://localhost:8080/"
        }
      },
      "outputs": [
        {
          "output_type": "execute_result",
          "data": {
            "text/plain": [
              "False"
            ]
          },
          "metadata": {},
          "execution_count": 21
        }
      ],
      "source": [
        "(a < b) and (c > b) # второе неверно -> все неверно"
      ]
    },
    {
      "cell_type": "markdown",
      "metadata": {
        "id": "Bz_LjpZM1e-Y"
      },
      "source": [
        "Вместо `and` можно использовать оператор `&`, он нам ещё пригодится при работе с датафреймами `pandas`:"
      ]
    },
    {
      "cell_type": "code",
      "execution_count": null,
      "metadata": {
        "id": "dKQuHOJd1e-Y",
        "outputId": "40331080-0d10-4578-905e-8622d9956332",
        "colab": {
          "base_uri": "https://localhost:8080/"
        }
      },
      "outputs": [
        {
          "output_type": "execute_result",
          "data": {
            "text/plain": [
              "False"
            ]
          },
          "metadata": {},
          "execution_count": 22
        }
      ],
      "source": [
        "(a < b) & (c > b)"
      ]
    },
    {
      "cell_type": "markdown",
      "metadata": {
        "id": "w8T7Z6Km2Vl4"
      },
      "source": [
        "(15 < 17) or (15 > 10)<br>\n",
        "True or True - > True"
      ]
    },
    {
      "cell_type": "code",
      "execution_count": null,
      "metadata": {
        "id": "fisT2s0X1e-Y",
        "outputId": "f4f86c0a-72b1-4923-9dbd-5c48fa32e7b7",
        "colab": {
          "base_uri": "https://localhost:8080/"
        }
      },
      "outputs": [
        {
          "output_type": "execute_result",
          "data": {
            "text/plain": [
              "False"
            ]
          },
          "metadata": {},
          "execution_count": 26
        }
      ],
      "source": [
        "(a < b) or (a > c) # первое верное -> хотя бы одно верно"
      ]
    },
    {
      "cell_type": "markdown",
      "metadata": {
        "id": "4i0fmZwm1e-Y"
      },
      "source": [
        "Вместо `or` можно использовать оператор `|`:"
      ]
    },
    {
      "cell_type": "code",
      "execution_count": null,
      "metadata": {
        "id": "t8Kp8bzg1e-Y",
        "outputId": "affc996c-de74-45c0-97b6-6232a67ab327",
        "colab": {
          "base_uri": "https://localhost:8080/"
        }
      },
      "outputs": [
        {
          "output_type": "execute_result",
          "data": {
            "text/plain": [
              "False"
            ]
          },
          "metadata": {},
          "execution_count": 27
        }
      ],
      "source": [
        "(a < b) | (a > c)"
      ]
    },
    {
      "cell_type": "markdown",
      "metadata": {
        "id": "SHfMiwA81e-Y"
      },
      "source": [
        "Кроме `and` и `or` в Python есть еще полезные операторы: оператор принадлежности `in` и оператор отрицания `not`."
      ]
    },
    {
      "cell_type": "markdown",
      "metadata": {
        "id": "Fa91HkOm1e-Y"
      },
      "source": [
        "Пусть у нас есть списки отличных, хороших, удовлетворительных и плохих оценок."
      ]
    },
    {
      "cell_type": "code",
      "execution_count": null,
      "metadata": {
        "id": "dlXqM6-K1e-Y"
      },
      "outputs": [],
      "source": [
        "excel = [8, 9, 10]\n",
        "good = [6, 7]\n",
        "sat = [4, 5]\n",
        "bad = [1, 2, 3]"
      ]
    },
    {
      "cell_type": "markdown",
      "metadata": {
        "id": "mzEvbfQM1e-Y"
      },
      "source": [
        "Проверим, лежит ли оценка 8 в плохих:"
      ]
    },
    {
      "cell_type": "code",
      "execution_count": null,
      "metadata": {
        "id": "O3Fwc3Qj1e-Y",
        "outputId": "a52f2284-95bb-47ba-d25d-bbb305862cee",
        "colab": {
          "base_uri": "https://localhost:8080/"
        }
      },
      "outputs": [
        {
          "output_type": "execute_result",
          "data": {
            "text/plain": [
              "False"
            ]
          },
          "metadata": {},
          "execution_count": 40
        }
      ],
      "source": [
        "8 in bad"
      ]
    },
    {
      "cell_type": "markdown",
      "metadata": {
        "id": "VU_0Er8Z1e-Y"
      },
      "source": [
        "Применим отрицание:"
      ]
    },
    {
      "cell_type": "code",
      "execution_count": null,
      "metadata": {
        "id": "KGESCxBY1e-Y",
        "outputId": "f93784bc-f425-49bf-a2c7-c6d75c0f273f",
        "colab": {
          "base_uri": "https://localhost:8080/"
        }
      },
      "outputs": [
        {
          "output_type": "execute_result",
          "data": {
            "text/plain": [
              "True"
            ]
          },
          "metadata": {},
          "execution_count": 41
        }
      ],
      "source": [
        "8 not in bad # верно!"
      ]
    },
    {
      "cell_type": "markdown",
      "metadata": {
        "id": "4FWN8G5W1e-Y"
      },
      "source": [
        "## Часть 02. Условные конструкции"
      ]
    },
    {
      "cell_type": "markdown",
      "metadata": {
        "id": "hhU9KeK-2rqX"
      },
      "source": [
        "<b>Условные операторы</b> в языках программирования (в том числе и в Python) необходимы в ситуациях, когда перед программой поставлена проблема выбора действия в зависимости от состояния переменных: если условие выполняется, то должен выполняться один набор действий, если нет – другой набор действий.<br>\n",
        "Конструкцию <b>if-elif-else</b> еще называют <b>оператором ветвления</b>."
      ]
    },
    {
      "cell_type": "markdown",
      "metadata": {
        "id": "BG_m1Ta12zaI"
      },
      "source": [
        "Синтаксис инструкции изображают в следующем виде:"
      ]
    },
    {
      "cell_type": "code",
      "execution_count": null,
      "metadata": {
        "id": "cL0DLBe_2yq5"
      },
      "outputs": [],
      "source": [
        "if <условие 1>:\n",
        "    <выражение 1>\n",
        "elif <условие 2>:\n",
        "    <выражение 2>\n",
        "\n",
        "…\n",
        "\n",
        "elif <условие n>:\n",
        "    <выражение n>\n",
        "else:\n",
        "    <выражение n + 1>"
      ]
    },
    {
      "cell_type": "markdown",
      "metadata": {
        "id": "by8LgY5P25Ww"
      },
      "source": [
        "Структура следующая:<br>\n",
        "\n",
        "- Всегда присутствует инструкция <b>if</b>;\n",
        "- Ноль, одно или несколько выражений <b>elif</b>;\n",
        "- Конечный оператор <b>else</b> не обязателен, но может использоваться, если все вышестоящие не сработали."
      ]
    },
    {
      "cell_type": "markdown",
      "metadata": {
        "id": "7Pa2Ibdk28rI"
      },
      "source": [
        "Рассмотрим синтаксис условного оператора на примере.<br>\n",
        "Пусть от пользователя требуется ввести два целых числа: температуру на улице вчера и сегодня.<br>\n",
        "А программа ответит — сегодня теплее, холоднее или же температура не изменилась."
      ]
    },
    {
      "cell_type": "code",
      "execution_count": null,
      "metadata": {
        "id": "WNgk2UsH2-OI",
        "colab": {
          "base_uri": "https://localhost:8080/"
        },
        "outputId": "dd005e10-c9f6-44f9-e8dc-613da1fddf36"
      },
      "outputs": [
        {
          "name": "stdout",
          "output_type": "stream",
          "text": [
            "20\n",
            "20\n"
          ]
        }
      ],
      "source": [
        "yesterday_temp = int(input())\n",
        "\n",
        "today_temp = int(input())"
      ]
    },
    {
      "cell_type": "code",
      "execution_count": null,
      "metadata": {
        "id": "TwD2GPIc2_9P",
        "colab": {
          "base_uri": "https://localhost:8080/"
        },
        "outputId": "1a43d841-5d80-4300-ab0e-d8a50fb7de91"
      },
      "outputs": [
        {
          "output_type": "stream",
          "name": "stdout",
          "text": [
            "Сегодня такая же погода как и вчера!\n"
          ]
        }
      ],
      "source": [
        "if yesterday_temp > today_temp:\n",
        "    print('Сегодня холоднее, чем вчера')\n",
        "\n",
        "elif yesterday_temp < today_temp:\n",
        "    print('Сегодня теплее, чем вчера')\n",
        "\n",
        "else:\n",
        "    print('Сегодня такая же погода как и вчера!')\n"
      ]
    },
    {
      "cell_type": "markdown",
      "metadata": {
        "id": "q03ewLTk3CAo"
      },
      "source": [
        "Оператор `if` является началом условной конструкции.<br>\n",
        "Далее идёт условие, которое возвращает логическое значение `True` (истина) или `False` (ложь).<br>\n",
        "Завершается условие символом «двоеточие».<br>\n",
        "Затем — обязательный отступ в четыре пробела, он показывает, что строки объединяются в один блок.<br>\n",
        "Отступ аналогичен использованию фигурных скобок или ключевых слов begin и end в других языках программирования."
      ]
    },
    {
      "cell_type": "markdown",
      "metadata": {
        "id": "dRqFYAXa3EFY"
      },
      "source": [
        "Тело условной конструкции может содержать одно или несколько выражений (строк).<br>\n",
        "По завершении тела может идти следующее условие, которое начинается с оператора `elif` (сокращение от else if — «иначе если»). Оно проверяется `только в случае`, если предыдущее условие `не было истинным`."
      ]
    },
    {
      "cell_type": "markdown",
      "metadata": {
        "id": "5iSugPlP3F4f"
      },
      "source": [
        "Синтаксис в `elif` аналогичен `if`.<br>\n",
        "Операторов `elif` для одного блока условного оператора может быть несколько, а может не быть совсем.<br>\n",
        "Последним идёт оператор `else`, который не содержит условия, а выполняется, только если ни одно из предыдущих условий в `if` и `elif` не выполнилось.<br>\n",
        "Оператор `else` не является обязательным."
      ]
    },
    {
      "cell_type": "markdown",
      "metadata": {
        "id": "HNulra2o3H-n"
      },
      "source": [
        "В качестве условия может выступать результат операции сравнения:\n",
        "\n",
        "- `>` (больше);\n",
        "- `>=` (больше или равно);\n",
        "- `<` (меньше);\n",
        "- `<=` (меньше или равно);\n",
        "- `==` (равно);\n",
        "- `!=` (не равно)."
      ]
    },
    {
      "cell_type": "markdown",
      "metadata": {
        "id": "OPr3Wn1I3J-H"
      },
      "source": [
        "Для записи <b>сложных условий<b> можно применять логические операции:<br>\n",
        "\n",
        "`and` — логическое «И» для двух условий. Возвращает True, если оба условия истинны, иначе возвращает False;<br>\n",
        "`or` — логическое «ИЛИ» для двух условий. Возвращает False, если оба условия ложны, иначе возвращает True;<br>\n",
        "`not` — логическое «НЕ» для одного условия. Возвращает False для истинного условия, и наоборот."
      ]
    },
    {
      "cell_type": "markdown",
      "metadata": {
        "id": "cxlgmom-1jV6"
      },
      "source": [
        "Изменим условие задачи.<br>\n",
        "Пусть от пользователя требуется ввести два целых числа: температуру на улице вчера и сегодня.<br>\n",
        "А программа ответит — сегодня теплее, если температура сегодня выше температуры вчера."
      ]
    },
    {
      "cell_type": "markdown",
      "metadata": {
        "id": "S9cHeMmO1jV6"
      },
      "source": [
        "Пусть от пользователя требуется ввести два целых числа: температуру на улице вчера и сегодня.<br>\n",
        "А программа ответит — сегодня теплее, если температура сегодня выше температуры вчера,<br>\n",
        "сегодня холоднее, если температура сегодня ниже температуры вчера."
      ]
    },
    {
      "cell_type": "code",
      "execution_count": null,
      "metadata": {
        "id": "zHWINX8l1jV6",
        "outputId": "7813b9e8-3162-4c0e-db83-51b70701e78d",
        "colab": {
          "base_uri": "https://localhost:8080/"
        }
      },
      "outputs": [
        {
          "name": "stdout",
          "output_type": "stream",
          "text": [
            "Введите вчерашнюю t: 20\n",
            "Введите сегодняшнюю t: 30\n"
          ]
        }
      ],
      "source": [
        "yesterday_temp = int(input(\"Введите вчерашнюю t: \"))\n",
        "today_temp = int(input(\"Введите сегодняшнюю t: \"))"
      ]
    },
    {
      "cell_type": "code",
      "execution_count": null,
      "metadata": {
        "id": "TqfFPbhd1jV6",
        "outputId": "29de17ec-8104-40cd-fa42-73413dc589d1",
        "colab": {
          "base_uri": "https://localhost:8080/"
        }
      },
      "outputs": [
        {
          "output_type": "stream",
          "name": "stdout",
          "text": [
            "Сегодня теплее, чем вчера!\n"
          ]
        }
      ],
      "source": [
        "if today_temp > yesterday_temp:\n",
        "    print('Сегодня теплее, чем вчера!')\n",
        "\n",
        "elif today_temp < yesterday_temp:\n",
        "    print('Сегодня холоднее, чем вчера!')"
      ]
    },
    {
      "cell_type": "markdown",
      "metadata": {
        "id": "B75nXRID1jV6"
      },
      "source": [
        "Пусть от пользователя требуется ввести два целых числа: температуру на улице вчера и сегодня.<br>\n",
        "А программа ответит — сегодня теплее, если температура сегодня выше температуры вчера,<br>\n",
        "иначе - сегодня холоднее."
      ]
    },
    {
      "cell_type": "code",
      "execution_count": null,
      "metadata": {
        "id": "O_Op6BhW1jV6",
        "outputId": "ad4b380e-c4cc-410f-f661-e6cd1266ce51",
        "colab": {
          "base_uri": "https://localhost:8080/"
        }
      },
      "outputs": [
        {
          "output_type": "stream",
          "name": "stdout",
          "text": [
            "Сегодня холоднее, чем вчера!\n"
          ]
        }
      ],
      "source": [
        "if today_temp > yesterday_temp:\n",
        "    print('Сегодня теплее, чем вчера!')\n",
        "\n",
        "else:\n",
        "    print('Сегодня холоднее, чем вчера!')"
      ]
    },
    {
      "cell_type": "markdown",
      "metadata": {
        "id": "yroxsL5B1jV6"
      },
      "source": [
        "# Задание\n",
        "\n",
        "1. Напишите программу, которая будет проверять, какое число сохранено в переменной <b>result</b> (значение вводится с клавиатуры).<br>\n",
        "И если это число <b>меньше 25</b>, на экран будет выводиться сообщение `Слишком мало`, <b>иначе</b> - `Слишком много`.<br>\n",
        "\n",
        "2. Изменим условие задачи.<br>\n",
        "\n",
        "Если это число <b>меньше 25</b>, на экран будет выводиться сообщение `Слишком мало`, <b>меньше 50</b> - сообщение `Мало`, <b>равно 50</b> - сообщение `Отлично!`, <b>больше 50 (!но меньше 75)</b> - сообщение `Много`, <b>больше 75</b> - `Слишком много`.<br>\n",
        "Подумайте, как оптимально можно реализовать условие: больше 50 (!но меньше 75).<br>\n",
        "\n",
        "3. Продумайте и запишите <b>собственное условие задачи<b> с учетом трех вариантов ее решения:\n",
        "- без использования конструкций `elif`, `else`;\n",
        "- без использования конструкции `elif`, но с конструкцией `else`;\n",
        "- без использования конструкций `else`, но с конструкцией `elif`.<br>\n",
        "\n",
        "Напишите программы решения всех трех вариантов предложенной задачи."
      ]
    },
    {
      "cell_type": "code",
      "execution_count": null,
      "metadata": {
        "id": "HTKOKgxj1jV7",
        "colab": {
          "base_uri": "https://localhost:8080/"
        },
        "outputId": "d96f1a0c-b3f8-4877-c550-61588ea50485"
      },
      "outputs": [
        {
          "output_type": "stream",
          "name": "stdout",
          "text": [
            "Введите чиcло: 24\n",
            "Слишком мало\n"
          ]
        }
      ],
      "source": [
        "# Задание 1\n",
        "result = int(input(\"Введите чиcло: \"))\n",
        "\n",
        "if result < 25:\n",
        "    print('Слишком мало')\n",
        "else:\n",
        "    print('Слишком много')\n"
      ]
    },
    {
      "cell_type": "code",
      "execution_count": null,
      "metadata": {
        "colab": {
          "base_uri": "https://localhost:8080/"
        },
        "id": "5ES3aluuFJmA",
        "outputId": "c3447bd7-e12d-4ad6-9804-0fcaf6e7535f"
      },
      "outputs": [
        {
          "output_type": "stream",
          "name": "stdout",
          "text": [
            "Введите число: 76\n",
            "Слишком много\n"
          ]
        }
      ],
      "source": [
        "# Задание 2\n",
        "result = int(input(\"Введите число: \"))\n",
        "\n",
        "if result < 25:\n",
        "    print('Слишком мало')\n",
        "elif result < 50:\n",
        "    print('Мало')\n",
        "elif result == 50:\n",
        "    print('Отлично!')\n",
        "elif (result > 50) and (result < 75):\n",
        "    print('Много')\n",
        "elif result >= 75:\n",
        "    print('Слишком много')\n",
        "else:\n",
        "    print('Слишком много')"
      ]
    },
    {
      "cell_type": "code",
      "execution_count": null,
      "metadata": {
        "colab": {
          "base_uri": "https://localhost:8080/"
        },
        "collapsed": true,
        "id": "r-rZ_hqeFJmA",
        "outputId": "79b7a84a-0ee4-4e3a-b534-57aeeef43802"
      },
      "outputs": [
        {
          "output_type": "stream",
          "name": "stdout",
          "text": [
            "Введите число: 24\n",
            "Слишком мало\n"
          ]
        }
      ],
      "source": [
        "# Задание 3 (без elif, else)\n",
        "result = int(input(\"Введите число: \"))\n",
        "\n",
        "if result < 25:\n",
        "    print('Слишком мало')\n",
        "\n",
        "if (result >= 25) and (result < 50):\n",
        "    print('Мало')\n",
        "\n",
        "if result == 50:\n",
        "    print('Отлично!')\n",
        "\n",
        "if (result > 50) and (result < 75):\n",
        "    print('Много')\n",
        "\n",
        "if result >= 75:\n",
        "    print('Слишком много')"
      ]
    },
    {
      "cell_type": "code",
      "source": [
        "# Задание 3 (без elif, но с else)\n",
        "result = int(input(\"Введите число: \"))\n",
        "\n",
        "if result < 25:\n",
        "    print(\"Слишком мало\")\n",
        "else:\n",
        "    if result < 50:\n",
        "        print(\"Мало\")\n",
        "    else:\n",
        "        if result == 50:\n",
        "            print(\"Отлично!\")\n",
        "        else:\n",
        "            if result < 75:\n",
        "                print(\"Много\")\n",
        "            else:\n",
        "                print(\"Слишком много\")"
      ],
      "metadata": {
        "colab": {
          "base_uri": "https://localhost:8080/"
        },
        "id": "WFBKa_zaO_WE",
        "outputId": "a0e8b804-84a1-4cda-fb78-0d3d564adc81"
      },
      "execution_count": null,
      "outputs": [
        {
          "output_type": "stream",
          "name": "stdout",
          "text": [
            "Введите число: 24\n",
            "Слишком мало\n"
          ]
        }
      ]
    },
    {
      "cell_type": "code",
      "source": [
        "# Задание 3 (без else, но с elif)\n",
        "result = int(input(\"Введите число: \"))\n",
        "\n",
        "if result < 25:\n",
        "    print('Слишком мало')\n",
        "elif (result >= 25) and (result < 50):\n",
        "    print('Мало')\n",
        "elif result == 50:\n",
        "    print('Отлично!')\n",
        "elif (result > 50) and (result < 75):\n",
        "    print('Много')\n",
        "elif result >= 75:\n",
        "    print('Слишком много')"
      ],
      "metadata": {
        "colab": {
          "base_uri": "https://localhost:8080/"
        },
        "id": "hmN7V_ptVeyT",
        "outputId": "2ea29d37-0e30-4312-d3d0-63188f8cf1b2"
      },
      "execution_count": null,
      "outputs": [
        {
          "output_type": "stream",
          "name": "stdout",
          "text": [
            "Введите число: 45\n",
            "Мало\n"
          ]
        }
      ]
    },
    {
      "cell_type": "markdown",
      "metadata": {
        "id": "Lq1JQ-gH1jV7"
      },
      "source": [
        "Обратите внимание, что если в задаче несколько условий, то решение можно реализовать несколькими способами: через инструкцию `elif` или через `вложенную условную конструкцию`."
      ]
    },
    {
      "cell_type": "markdown",
      "metadata": {
        "id": "PtJgHOe31jV7"
      },
      "source": [
        "*Например*,<br>\n",
        "мы просим пользователя ввести число, и если число больше 10, на экране должно появиться сообщение \"больше 10\",<br>\n",
        "если равно 10 – \"равно 10\", если меньше – \"меньше 10\".<br>\n",
        "Условные конструкции можно вкладывать друг друга, главное не забывать при этом про отступы:"
      ]
    },
    {
      "cell_type": "code",
      "execution_count": null,
      "metadata": {
        "id": "x60I_1av1jV7"
      },
      "outputs": [],
      "source": [
        "x = 7"
      ]
    },
    {
      "cell_type": "code",
      "execution_count": null,
      "metadata": {
        "id": "CmKWjx3W1jV7"
      },
      "outputs": [],
      "source": [
        "if x < 10:\n",
        "    print('меньше 10')\n",
        "\n",
        "else:\n",
        "    if x == 10:\n",
        "        print('равно 10')\n",
        "\n",
        "    else:\n",
        "        print('больше 10')"
      ]
    },
    {
      "cell_type": "markdown",
      "metadata": {
        "id": "8TAtihn21jV7"
      },
      "source": [
        "Можно воспользоваться оператором `elif`, который по смыслу является сочетанием `else + if`: если предыдущее условие невыполнено, то нужно проверить следующее условие, и если оно тоже не выполнено, то уже перейти к ветке с `else`."
      ]
    },
    {
      "cell_type": "code",
      "execution_count": null,
      "metadata": {
        "id": "BMomeCi51jV7"
      },
      "outputs": [],
      "source": [
        "if x < 10:\n",
        "    print('меньше 10')\n",
        "\n",
        "elif x == 10:\n",
        "    print('равно 10')\n",
        "\n",
        "else:\n",
        "    print('больше 10')"
      ]
    },
    {
      "cell_type": "markdown",
      "metadata": {
        "id": "xMgoH3V91jV7"
      },
      "source": [
        "Ответвлений с `elif` может быть несколько: сколько условий, столько и выражений с `elif`."
      ]
    },
    {
      "cell_type": "markdown",
      "metadata": {
        "id": "Sg9LvNTe1jV7"
      },
      "source": [
        "А можно ли обойтись совсем без `elif`, просто записав несколько выражений с `if`?<br>\n",
        "Все зависит от ситуации. Иногда решения использовать `elif` и `if` будут равнозначными, иногда – нет."
      ]
    },
    {
      "cell_type": "markdown",
      "metadata": {
        "id": "3wWll_a61jV7"
      },
      "source": [
        "*Рассмотрим задачу*.<br>\n",
        "В переменной `mark` хранится оценка по 10-балльной шкале. Нужно вывести текстовый комментарий (\"Excellent\", \"Good\", \"Satisfactory\" или \"Bad\") в соотвествии с оценкой. Решим эту задачу с помощью `elif`:"
      ]
    },
    {
      "cell_type": "code",
      "execution_count": null,
      "metadata": {
        "id": "PtrZxlnm1jV7"
      },
      "outputs": [],
      "source": [
        "excel = [8, 9, 10]\n",
        "good = [6, 7]\n",
        "sat = [4, 5]\n",
        "bad = [1, 2, 3]"
      ]
    },
    {
      "cell_type": "code",
      "execution_count": null,
      "metadata": {
        "id": "Fy3pMiU61jV7"
      },
      "outputs": [],
      "source": [
        "mark = 6"
      ]
    },
    {
      "cell_type": "code",
      "execution_count": null,
      "metadata": {
        "id": "TrPYM13R1jV7",
        "outputId": "4e329945-94aa-4ff5-8068-dee404ac330a",
        "colab": {
          "base_uri": "https://localhost:8080/"
        }
      },
      "outputs": [
        {
          "output_type": "stream",
          "name": "stdout",
          "text": [
            "Good\n"
          ]
        }
      ],
      "source": [
        "if mark >= 8:\n",
        "    print('Excellent')\n",
        "\n",
        "elif mark >= 6:\n",
        "    print('Good')\n",
        "\n",
        "elif mark >= 4:\n",
        "    print('Satisfactory')\n",
        "\n",
        "else:\n",
        "    print('Bad')"
      ]
    },
    {
      "cell_type": "markdown",
      "metadata": {
        "id": "rIiq0BSh1jV8"
      },
      "source": [
        "Почему мы можем сделать так? Потому что на каждом шаге, при проверке нового условия, мы сужаем круг интересующих нас исходов: если оценка не больше или равна 8, то она точно меньше 8 и сравнивать ее нужно только со следующей «пограничной» оценкой 6, далее, если оценка оказалась меньше 6, остается сравнить ее только с 4 и все."
      ]
    },
    {
      "cell_type": "markdown",
      "metadata": {
        "id": "eVFQ9QSD1jV8"
      },
      "source": [
        "Можно решить эту задачу без `elif`, а с помощью сложных условий:"
      ]
    },
    {
      "cell_type": "code",
      "execution_count": null,
      "metadata": {
        "id": "zjnZE2ts1jV8"
      },
      "outputs": [],
      "source": [
        "mark = 6"
      ]
    },
    {
      "cell_type": "code",
      "execution_count": null,
      "metadata": {
        "id": "bwiu1XwK1jV8",
        "outputId": "396a96c5-f0dd-44b7-e52c-0c95546a5cc6",
        "colab": {
          "base_uri": "https://localhost:8080/"
        }
      },
      "outputs": [
        {
          "output_type": "stream",
          "name": "stdout",
          "text": [
            "Good\n"
          ]
        }
      ],
      "source": [
        "if mark >= 8:\n",
        "    print('Excellent')\n",
        "\n",
        "if (mark < 8) and (mark >= 6):\n",
        "    print('Good')\n",
        "\n",
        "if (mark < 6) and (mark >= 4):\n",
        "    print('Satisfactory')\n",
        "\n",
        "if (mark < 4):\n",
        "    print('Bad')"
      ]
    },
    {
      "cell_type": "markdown",
      "metadata": {
        "id": "Z18H3-oo1jV8"
      },
      "source": [
        "В логическом операторе можно использовать **двойное неравенство**. Например, неравенство"
      ]
    },
    {
      "cell_type": "code",
      "execution_count": null,
      "metadata": {
        "id": "quCmzKj71jV8",
        "colab": {
          "base_uri": "https://localhost:8080/"
        },
        "outputId": "e3f36df0-5f44-4796-fcc8-4f338fdb5493"
      },
      "outputs": [
        {
          "output_type": "stream",
          "name": "stdout",
          "text": [
            "23\n",
            "четатам\n"
          ]
        }
      ],
      "source": [
        "x = int(input())\n",
        "\n",
        "if x >= 0 and x < 100:\n",
        "  print('четатам')"
      ]
    },
    {
      "cell_type": "markdown",
      "metadata": {
        "id": "rIHlCTUK1jV8"
      },
      "source": [
        "лучше записать так:"
      ]
    },
    {
      "cell_type": "code",
      "execution_count": null,
      "metadata": {
        "id": "2e9_eer01jV8"
      },
      "outputs": [],
      "source": [
        "if 0 <= x < 100:\n",
        "        ..."
      ]
    },
    {
      "cell_type": "markdown",
      "metadata": {
        "id": "yAac4sRW1jV8"
      },
      "source": [
        "Если бы в конце вместо последнего `if` мы написали конструкцию с `else`, результат был бы другим:"
      ]
    },
    {
      "cell_type": "code",
      "execution_count": null,
      "metadata": {
        "id": "yLCqBbmR1jV8"
      },
      "outputs": [],
      "source": [
        "mark = 9"
      ]
    },
    {
      "cell_type": "code",
      "execution_count": null,
      "metadata": {
        "id": "seHmeFaT1jV8",
        "outputId": "07ee9c96-0d06-4f96-cf72-ee93e5372bd6",
        "colab": {
          "base_uri": "https://localhost:8080/"
        }
      },
      "outputs": [
        {
          "output_type": "stream",
          "name": "stdout",
          "text": [
            "Excellent\n",
            "Bad\n"
          ]
        }
      ],
      "source": [
        "if mark >= 8:\n",
        "    print('Excellent')\n",
        "\n",
        "if (mark < 8) and (mark >= 6):\n",
        "    print('Good')\n",
        "\n",
        "if (mark < 6) and (mark >= 4):\n",
        "    print('Satisfactory')\n",
        "\n",
        "else:\n",
        "    print('Bad')"
      ]
    },
    {
      "cell_type": "markdown",
      "metadata": {
        "id": "8l_Ah35X1jV8"
      },
      "source": [
        "Почему? Потому что в этом случае часть с `else` относится не ко всем частям с `if` выше, а только к последней, где проверяется принадлежность `mark` промежутку от 6 до 8."
      ]
    },
    {
      "cell_type": "markdown",
      "metadata": {
        "id": "oVZKXgF21jV8"
      },
      "source": [
        "Рассмотрим еще один пример. Пользователь должен ввести первую и последнюю буквы русского алфавита. Ввод производится в двух отдельных строках и в любом регистре."
      ]
    },
    {
      "cell_type": "code",
      "execution_count": null,
      "metadata": {
        "id": "PsE2LjeG1jV8",
        "outputId": "4cb8d650-8631-4571-d40d-8d628c147e37",
        "colab": {
          "base_uri": "https://localhost:8080/"
        }
      },
      "outputs": [
        {
          "name": "stdout",
          "output_type": "stream",
          "text": [
            "Введите первую и последнюю буквы русского алфавита\n",
            "а\n",
            "я\n"
          ]
        }
      ],
      "source": [
        "print('Введите первую и последнюю буквы русского алфавита')\n",
        "\n",
        "first_letter = input()\n",
        "last_letter = input()"
      ]
    },
    {
      "cell_type": "markdown",
      "metadata": {
        "id": "oIvrV-dt1jV8"
      },
      "source": [
        "Затем программа проверяет введенные символы и выводит на экран сообщение `Верно!`, если пользователь правильно ввел обе буквы, в противном случае - сообщение `Неверно!`."
      ]
    },
    {
      "cell_type": "code",
      "execution_count": null,
      "metadata": {
        "id": "VKQA_2kp1jV8",
        "outputId": "c35696c9-d66a-4b9b-88ee-996b4bcf999c",
        "colab": {
          "base_uri": "https://localhost:8080/"
        }
      },
      "outputs": [
        {
          "output_type": "stream",
          "name": "stdout",
          "text": [
            "Неверно!\n"
          ]
        }
      ],
      "source": [
        "if (first_letter == 'а' or first_letter == 'А') and (\n",
        "    last_letter == 'я' or last_letter == 'Я'):\n",
        "\n",
        "    print('Верно!')\n",
        "\n",
        "else:\n",
        "    print('Неверно!')"
      ]
    },
    {
      "cell_type": "markdown",
      "metadata": {
        "id": "mL_rJ0gP1jV8"
      },
      "source": [
        "**Строки** также **можно сравнивать между собой** с помощью операций >, < и т.д.<br>\n",
        "В отличие от чисел, строки сравниваются посимвольно в соответствии с кодами символов в таблице кодировки (в Python рекомендуется использовать кодировку `UTF-8`)."
      ]
    },
    {
      "cell_type": "markdown",
      "metadata": {
        "id": "34mf76131jV8"
      },
      "source": [
        "Компьютер изначально работает только с двоичными числами. Поэтому для работы с символами им назначаются коды — числа, а сами таблицы соответствия символов и кодов называются `таблицами кодировки`. Кодировок существует достаточно много, одной из самых популярных на данный момент является `UTF-8`. Например, сравним две односимвольные строки:"
      ]
    },
    {
      "cell_type": "code",
      "execution_count": null,
      "metadata": {
        "id": "ndhHpfAO1jV9",
        "outputId": "6fed971e-a7b8-4b57-eed2-305a4803dc5c",
        "colab": {
          "base_uri": "https://localhost:8080/"
        }
      },
      "outputs": [
        {
          "output_type": "stream",
          "name": "stdout",
          "text": [
            "False\n"
          ]
        }
      ],
      "source": [
        "letter_1 = 't'\n",
        "letter_2 = 'w'\n",
        "\n",
        "print(letter_1 > letter_2)"
      ]
    },
    {
      "cell_type": "markdown",
      "metadata": {
        "id": "ZotWC1hK1jV9"
      },
      "source": [
        "Программа выведет False, поскольку символ t стоит в таблице кодировки раньше, чем w (как и по алфавиту, то есть лексикографически). Чтобы убедиться в этом, можно использовать встроенную функцию `ord()`, которая возвращает код символа из таблицы кодировки:"
      ]
    },
    {
      "cell_type": "code",
      "execution_count": null,
      "metadata": {
        "id": "GFiLjAr31jV9",
        "outputId": "8d2183ad-5cac-4331-8c94-94071f06699a",
        "colab": {
          "base_uri": "https://localhost:8080/"
        }
      },
      "outputs": [
        {
          "output_type": "stream",
          "name": "stdout",
          "text": [
            "116 119\n"
          ]
        }
      ],
      "source": [
        "print(ord('t'), ord('w'))"
      ]
    },
    {
      "cell_type": "code",
      "execution_count": null,
      "metadata": {
        "id": "C33AG9e_1jV9",
        "outputId": "ea9a40f9-913d-440c-a6d0-bf9b5abf9f13",
        "colab": {
          "base_uri": "https://localhost:8080/"
        }
      },
      "outputs": [
        {
          "output_type": "stream",
          "name": "stdout",
          "text": [
            "1065 1098\n"
          ]
        }
      ],
      "source": [
        "print(ord('Щ'), ord('ъ'))"
      ]
    },
    {
      "cell_type": "markdown",
      "metadata": {
        "id": "KRdAdNA-1jV9"
      },
      "source": [
        "Поскольку 116 меньше 119, в предыдущем примере мы и получили False.<br>\n",
        "Чтобы получить символ по его коду, необходимо вызвать встроенную функцию `chr()` с соответствующим кодом:"
      ]
    },
    {
      "cell_type": "code",
      "execution_count": null,
      "metadata": {
        "id": "tjOnrH2t1jV9",
        "outputId": "245c076e-7e44-4898-d862-6f0ad908b08e",
        "colab": {
          "base_uri": "https://localhost:8080/"
        }
      },
      "outputs": [
        {
          "output_type": "stream",
          "name": "stdout",
          "text": [
            "t w\n"
          ]
        }
      ],
      "source": [
        "print(chr(116), chr(119))"
      ]
    },
    {
      "cell_type": "markdown",
      "metadata": {
        "id": "kMztTLz21jV9"
      },
      "source": [
        "В таблице кодировки большие и маленькие буквы являются различными символами с разными кодами (из разных диапазонов). Поэтому для корректного сравнения строки должны быть в одном регистре."
      ]
    },
    {
      "cell_type": "markdown",
      "metadata": {
        "id": "-mkEidS01jV9"
      },
      "source": [
        "Для проверки условия наличия подстроки в строке используется оператор `in`. Например, проверим, что во введённой строке встречается корень «добр» (для слов «добрый», «доброе» и подобных):"
      ]
    },
    {
      "cell_type": "code",
      "execution_count": null,
      "metadata": {
        "id": "z4YqKYS_1jV9",
        "outputId": "db2223a5-5d99-48e0-a655-dbd12bf0fce8",
        "colab": {
          "base_uri": "https://localhost:8080/"
        }
      },
      "outputs": [
        {
          "name": "stdout",
          "output_type": "stream",
          "text": [
            "добро\n"
          ]
        }
      ],
      "source": [
        "text = input()"
      ]
    },
    {
      "cell_type": "code",
      "execution_count": null,
      "metadata": {
        "id": "9_BjU-QM1jV9",
        "outputId": "35a11b62-7c45-4516-a3cc-18b0ea03dd64",
        "colab": {
          "base_uri": "https://localhost:8080/"
        }
      },
      "outputs": [
        {
          "output_type": "stream",
          "name": "stdout",
          "text": [
            "Встретилось 'доброе' слово\n"
          ]
        }
      ],
      "source": [
        "if 'добр' in text:\n",
        "    print(\"Встретилось 'доброе' слово\")\n",
        "\n",
        "else:\n",
        "    print(\"Добрых слов не найдено\")"
      ]
    },
    {
      "cell_type": "markdown",
      "metadata": {
        "id": "gDMLprXl1jV9"
      },
      "source": [
        "Попробуем сравнить строки:"
      ]
    },
    {
      "cell_type": "code",
      "execution_count": null,
      "metadata": {
        "id": "2sjE49Fs1jV9",
        "outputId": "e45533b4-ce2c-4cab-9b36-5109845a4441",
        "colab": {
          "base_uri": "https://localhost:8080/"
        }
      },
      "outputs": [
        {
          "output_type": "execute_result",
          "data": {
            "text/plain": [
              "True"
            ]
          },
          "metadata": {},
          "execution_count": 76
        }
      ],
      "source": [
        "'11' > '100'"
      ]
    },
    {
      "cell_type": "code",
      "execution_count": null,
      "metadata": {
        "id": "1gHDUkLR1jV9",
        "outputId": "f1571a96-54e4-4f09-8a7b-116a5c54ca13",
        "colab": {
          "base_uri": "https://localhost:8080/"
        }
      },
      "outputs": [
        {
          "output_type": "stream",
          "name": "stdout",
          "text": [
            "49 48\n"
          ]
        }
      ],
      "source": [
        "print(ord('1'), ord('0'))"
      ]
    },
    {
      "cell_type": "code",
      "execution_count": null,
      "metadata": {
        "id": "Aavdw0Dg1jV9",
        "outputId": "f045d4c6-3de4-4fbc-9ae9-1f8f155e8b09",
        "colab": {
          "base_uri": "https://localhost:8080/"
        }
      },
      "outputs": [
        {
          "output_type": "execute_result",
          "data": {
            "text/plain": [
              "False"
            ]
          },
          "metadata": {},
          "execution_count": 78
        }
      ],
      "source": [
        "'Москва' > 'Челябинск'"
      ]
    },
    {
      "cell_type": "code",
      "execution_count": null,
      "metadata": {
        "id": "HkUwH9XJ1jV9",
        "outputId": "b8ebc958-e074-4204-9669-75d043b2b4f9",
        "colab": {
          "base_uri": "https://localhost:8080/"
        }
      },
      "outputs": [
        {
          "output_type": "execute_result",
          "data": {
            "text/plain": [
              "True"
            ]
          },
          "metadata": {},
          "execution_count": 79
        }
      ],
      "source": [
        "'Москва' > 'Миасс'"
      ]
    },
    {
      "cell_type": "markdown",
      "metadata": {
        "id": "JvBLwbL81jV-"
      },
      "source": [
        "Разберём другой пример. Нам необходимо обеспечить ввод имени, причём такого, чтобы оно было больше 3 символов, но меньше 50.<br>\n",
        "Для начала надо задать переменную и ввести имя через клавиатуру:"
      ]
    },
    {
      "cell_type": "code",
      "execution_count": null,
      "metadata": {
        "id": "JgOxhFP-1jV-",
        "colab": {
          "base_uri": "https://localhost:8080/"
        },
        "outputId": "821b674c-963a-4626-9f8f-60ed3a19a6dc"
      },
      "outputs": [
        {
          "name": "stdout",
          "output_type": "stream",
          "text": [
            "Введите имя: спарт\n"
          ]
        }
      ],
      "source": [
        "name = input('Введите имя: ')"
      ]
    },
    {
      "cell_type": "markdown",
      "metadata": {
        "id": "h_RJXX-x1jV-"
      },
      "source": [
        "Теперь пропишем условия. «len» определяет длину слова, не забываем, что отсчёт начинается с «0»."
      ]
    },
    {
      "cell_type": "code",
      "execution_count": null,
      "metadata": {
        "id": "zpYbS5qL1jV-",
        "colab": {
          "base_uri": "https://localhost:8080/"
        },
        "outputId": "3150a460-aa4f-43ff-a54d-56273ec1155c"
      },
      "outputs": [
        {
          "output_type": "stream",
          "name": "stdout",
          "text": [
            "Имя введено верно\n"
          ]
        }
      ],
      "source": [
        "if len(name) < 3:\n",
        "    print('Имя должно состоять хотя бы из трех символов')\n",
        "\n",
        "elif len(name) > 50:\n",
        "    print('Имя не должно быть более 50 символов')\n",
        "\n",
        "else:\n",
        "    print('Имя введено верно')"
      ]
    },
    {
      "cell_type": "markdown",
      "metadata": {
        "id": "KH2JlFX51jV-"
      },
      "source": [
        "# Задание\n",
        "\n",
        "1. Пользователь вводит с клавиатуры два числа через пробел.<br>\n",
        "Напишите код, который возвращает максимальное из двух введенных значений.\n",
        "\n",
        "<b>Пример: </b>\n",
        "\n",
        "Ввод:\n",
        "\n",
        "    Введите два числа: 5.7 8\n",
        "    \n",
        "Вывод:\n",
        "\n",
        "    8\n",
        "    \n",
        "*Подсказка:* вспомните работу со списками и функцию *split* из предыдущих лекций.\n",
        "\n",
        "2. Дан список `N` из целых чисел. Напишите код, который делает следующее: выводит каждый элемент списка на экран и для каждого элемента либо выводит комментарий \"Это четное число\", либо комментарии \"Это нечетное число\".\n",
        "\n",
        "*Подсказка:* используйте цикл for, оператор для нахождения остатка от деления – это `%`.\n",
        "\n",
        "3. У питона есть набор любимых чисел.\n",
        "\n",
        "    favorites = [3, 7, 11, 23, 18, 48, 81]\n",
        "\n",
        "Напишите программу, которая просит пользователя ввести целое число, и если оно нравится питону, на экран будет выводиться сообщение: `\"Мое любимое число!\"`, если нет ‒ `\"Эх, ну почему?\"`."
      ]
    },
    {
      "cell_type": "code",
      "execution_count": 1,
      "metadata": {
        "id": "cxga5Em_1jV-",
        "colab": {
          "base_uri": "https://localhost:8080/"
        },
        "outputId": "b92d51ff-0a08-457b-a7cd-d6f1535f0c21"
      },
      "outputs": [
        {
          "output_type": "stream",
          "name": "stdout",
          "text": [
            "Введите два числа через пробел: 4 6.7\n",
            "Максимальное значение: 6.7\n"
          ]
        }
      ],
      "source": [
        "# Задание (2 числа)\n",
        "numbers = input(\"Введите два числа через пробел: \")\n",
        "\n",
        "num1, num2 = numbers.split()\n",
        "\n",
        "if num1 > num2:\n",
        "    print(f\"Максимальное значение: {num1}\")\n",
        "else:\n",
        "    print(f\"Максимальное значение: {num2}\")"
      ]
    },
    {
      "cell_type": "code",
      "execution_count": 2,
      "metadata": {
        "id": "5SG-cagE1jV-",
        "colab": {
          "base_uri": "https://localhost:8080/"
        },
        "outputId": "9faf55e7-d158-4ce9-af70-01bbe554ad49"
      },
      "outputs": [
        {
          "output_type": "stream",
          "name": "stdout",
          "text": [
            "6 - Это четное число\n",
            "3 - Это нечетное число\n",
            "4 - Это четное число\n",
            "8 - Это четное число\n",
            "9 - Это нечетное число\n",
            "10 - Это четное число\n",
            "12 - Это четное число\n",
            "14 - Это четное число\n",
            "18 - Это четное число\n"
          ]
        }
      ],
      "source": [
        "N = [6, 3, 4, 8, 9, 10, 12, 14, 18]\n",
        "\n",
        "for num in N:\n",
        "    if num % 2 == 0:\n",
        "        print(f\"{num} - Это четное число\")\n",
        "    else:\n",
        "        print(f\"{num} - Это нечетное число\")"
      ]
    },
    {
      "cell_type": "code",
      "execution_count": 5,
      "metadata": {
        "colab": {
          "base_uri": "https://localhost:8080/"
        },
        "id": "LDH2b341FJmL",
        "outputId": "ad13bcd5-367f-499f-f0fc-37fd1f782701"
      },
      "outputs": [
        {
          "output_type": "stream",
          "name": "stdout",
          "text": [
            "Введите целое число: 5\n",
            "Эх, ну почему?\n"
          ]
        }
      ],
      "source": [
        "# Задание (любимые числа)\n",
        "favorites = [3, 7, 11, 23, 18, 48, 81]\n",
        "\n",
        "num1 = int(input(\"Введите целое число: \"))\n",
        "\n",
        "for num in favorites:\n",
        "    if num == num1:\n",
        "        print('Мое любимое число!')\n",
        "        break\n",
        "    else:\n",
        "        print('Эх, ну почему?')\n",
        "        break"
      ]
    },
    {
      "cell_type": "markdown",
      "metadata": {
        "id": "CExcSe_B4HtI"
      },
      "source": [
        "## Часть 03. Циклы в Python"
      ]
    },
    {
      "cell_type": "markdown",
      "metadata": {
        "id": "NeyodBtC4Hiw"
      },
      "source": [
        "- цикл с проверкой условия (**while**-loop)\n",
        "- цикл с перебором значений (**for**-loop)"
      ]
    },
    {
      "cell_type": "markdown",
      "metadata": {
        "id": "o8LT8Ty11e-d"
      },
      "source": [
        "## Часть 04. Цикл for\n",
        "\n",
        "Раз есть списки, хочется научиться «пробегаться» по их элементам. Например, выводить на экран не весь список `age` сразу, а постепенно, каждый элемент с новой строчки. Для этого есть циклы. Рассмотрим цикл *for*."
      ]
    },
    {
      "cell_type": "code",
      "execution_count": null,
      "metadata": {
        "id": "CfUaHw3k1e-d",
        "outputId": "a4296bd1-5fc2-4a98-d10d-0a8ffd4a5f5b",
        "colab": {
          "base_uri": "https://localhost:8080/"
        }
      },
      "outputs": [
        {
          "output_type": "execute_result",
          "data": {
            "text/plain": [
              "[23, 25, 32, 48, 19]"
            ]
          },
          "metadata": {},
          "execution_count": 5
        }
      ],
      "source": [
        "age = [23, 25, 32, 48, 19]  # возраст\n",
        "age"
      ]
    },
    {
      "cell_type": "code",
      "execution_count": null,
      "metadata": {
        "id": "t9LqBdQN1e-d",
        "outputId": "67c6678b-2421-4628-e3c5-9a34d871a3c3",
        "colab": {
          "base_uri": "https://localhost:8080/"
        }
      },
      "outputs": [
        {
          "output_type": "stream",
          "name": "stdout",
          "text": [
            "23\n",
            "25\n",
            "32\n",
            "48\n",
            "19\n"
          ]
        }
      ],
      "source": [
        "for i in age:\n",
        "    print(i)"
      ]
    },
    {
      "cell_type": "markdown",
      "metadata": {
        "id": "6wcBGFRb1e-d"
      },
      "source": [
        "Как устроен цикл выше? Кодом выше мы доносим до Python мысль:\n",
        "\n",
        "* пробегайся по всем элементам списка `age` (`for i in age`);\n",
        "* выводи каждый элемент на экран (`print(i)`).\n",
        "\n",
        "Вообще любой цикл *for* имеет такую структуру: сначала указывается, по каким значениям нужно итерировать «пробегаться», а затем, что нужно делать. Действия, которые нужно выполнить в цикле, указываются после двоеточия в *for* – эта часть называется *телом* цикла.  \n",
        "\n",
        "Буквы в конструкции *for* могут быть любые, совсем необязательно брать букву `i`. Python сам поймет, что мы имеем в виду, запуская цикл.\n",
        "\n",
        "В качестве еще одного примера давайте для каждого элемента списка выведем на экран сообщение вида:\n",
        "\n",
        "    x^2 – квадрат числа x."
      ]
    },
    {
      "cell_type": "code",
      "execution_count": null,
      "metadata": {
        "id": "4ilU1fme1e-d",
        "outputId": "a2f1aa18-0bbe-421f-aafa-7adbde467e73",
        "colab": {
          "base_uri": "https://localhost:8080/"
        }
      },
      "outputs": [
        {
          "output_type": "stream",
          "name": "stdout",
          "text": [
            "529 – квадрат числа 23\n",
            "625 – квадрат числа 25\n",
            "1024 – квадрат числа 32\n",
            "2304 – квадрат числа 48\n",
            "361 – квадрат числа 19\n"
          ]
        }
      ],
      "source": [
        "# вместо i напишем a\n",
        "for a in age:\n",
        "    print(a ** 2, '– квадрат числа', a)"
      ]
    },
    {
      "cell_type": "markdown",
      "metadata": {
        "id": "zU0hqMw51e-d"
      },
      "source": [
        "Теперь, используя цикл и специальный метод `.append()`, создадим новый список на основе старого – дополним пустой список преобразованными элементами старого списка. Метод `.append()` работает просто: он приписывает элемент в конец списка. Например, так:"
      ]
    },
    {
      "cell_type": "code",
      "execution_count": null,
      "metadata": {
        "id": "nzonE5-s1e-d",
        "outputId": "3b7976da-be05-4044-d88e-3028ae5e9ca9",
        "colab": {
          "base_uri": "https://localhost:8080/"
        }
      },
      "outputs": [
        {
          "output_type": "stream",
          "name": "stdout",
          "text": [
            "[23, 25, 32, 48, 19, 76, 76, 67, 76]\n",
            "[23, 25, 32, 48, 19, 76, 76, 67, 76, 5]\n"
          ]
        }
      ],
      "source": [
        "print(age)  # до\n",
        "\n",
        "age.append(5)\n",
        "\n",
        "print(age)  # после"
      ]
    },
    {
      "cell_type": "markdown",
      "metadata": {
        "id": "vM8MVOcA1e-d"
      },
      "source": [
        "Теперь создадим на основе старого списка `age` список `age2` с квадратами значений возраста:"
      ]
    },
    {
      "cell_type": "code",
      "execution_count": null,
      "metadata": {
        "id": "NxediTpf1e-d"
      },
      "outputs": [],
      "source": [
        "age2 = []  # пока пустой список"
      ]
    },
    {
      "cell_type": "code",
      "execution_count": null,
      "metadata": {
        "id": "dtM6uxs_1e-d",
        "outputId": "4e36a554-df35-4f6f-cd5c-db8df57711cc",
        "colab": {
          "base_uri": "https://localhost:8080/"
        }
      },
      "outputs": [
        {
          "output_type": "stream",
          "name": "stdout",
          "text": [
            "[529, 625, 1024, 2304, 361, 5776, 5776, 4489, 5776, 25]\n"
          ]
        }
      ],
      "source": [
        "for a in age:\n",
        "    age2.append(a ** 2)\n",
        "\n",
        "print(age2)  # сработало!"
      ]
    },
    {
      "cell_type": "markdown",
      "metadata": {
        "id": "XE3g6Iet1e-d"
      },
      "source": [
        "Конечно, циклы нужны не только для того, чтобы работать со списками. С помощью циклов можно решить любую задачу, которая требует повторения одинаковых действий.<br>\n",
        "Например, решим задачу про питона, который греется на солнышке и каждый день увеличивает время пребывания на солнце. Воспользуемся циклом."
      ]
    },
    {
      "cell_type": "code",
      "execution_count": null,
      "metadata": {
        "id": "f8l9Hczb1e-d"
      },
      "outputs": [],
      "source": [
        "# создадим список с номерами дней\n",
        "days = [2, 3, 4, 5, 6, 7, 8, 9, 10]"
      ]
    },
    {
      "cell_type": "code",
      "execution_count": null,
      "metadata": {
        "id": "PmGTZLVO1e-d",
        "outputId": "9d8c162e-c3b5-4e85-cc5d-3813475421f7",
        "colab": {
          "base_uri": "https://localhost:8080/"
        }
      },
      "outputs": [
        {
          "output_type": "stream",
          "name": "stdout",
          "text": [
            "1 1\n"
          ]
        }
      ],
      "source": [
        "# начальное значение времени, которое питон проводит на солнце\n",
        "time = 1\n",
        "\n",
        "print(1, time)"
      ]
    },
    {
      "cell_type": "code",
      "execution_count": null,
      "metadata": {
        "id": "v4mrHiI-1e-e",
        "outputId": "75318ae1-6231-4aaf-9df8-14e683525a08",
        "colab": {
          "base_uri": "https://localhost:8080/"
        }
      },
      "outputs": [
        {
          "output_type": "stream",
          "name": "stdout",
          "text": [
            "2 3\n",
            "3 5\n",
            "4 7\n",
            "5 9\n",
            "6 11\n",
            "7 13\n",
            "8 15\n",
            "9 17\n",
            "10 19\n"
          ]
        }
      ],
      "source": [
        "# теперь будем изменять значение time в цикле\n",
        "# и выводить на экран номер дня и время\n",
        "\n",
        "for d in days:\n",
        "\n",
        "    time = time + 2\n",
        "    print(d, time)"
      ]
    },
    {
      "cell_type": "markdown",
      "metadata": {
        "id": "AWS4dN723oFV"
      },
      "source": [
        "**Цикл с перебором значений**<br>\n",
        "Выполняется для всех элементов коллекции или последовательности<br>\n",
        "\n",
        "- диапазон целых чисел range\n",
        "- элементы списка или множества\n",
        "- отдельные буквы строки\n",
        "- специальные функции, порождающие последовательности"
      ]
    },
    {
      "cell_type": "markdown",
      "metadata": {
        "id": "5_qfUT673oFV"
      },
      "source": [
        "Цикл **for**, также называемый **циклом с параметром**, в языке Python богат возможностями. В цикле **for** указывается **переменная** и множество значений, по которому будет пробегать переменная. Множество значений может быть задано *списком, кортежем, строкой или диапазоном*."
      ]
    },
    {
      "cell_type": "markdown",
      "metadata": {
        "id": "jt_7IHx43oFV"
      },
      "source": [
        "Простейший пример использования цикла, где в качестве множества значений используется кортеж:"
      ]
    },
    {
      "cell_type": "code",
      "execution_count": null,
      "metadata": {
        "id": "MhZXSBsP3oFV",
        "colab": {
          "base_uri": "https://localhost:8080/"
        },
        "outputId": "5136228b-a3de-40c9-a4b6-c7269d62525b"
      },
      "outputs": [
        {
          "output_type": "stream",
          "name": "stdout",
          "text": [
            "#1 color of rainbow is red\n",
            "#2 color of rainbow is orange\n",
            "#3 color of rainbow is yellow\n",
            "#4 color of rainbow is green\n",
            "#5 color of rainbow is cyan\n",
            "#6 color of rainbow is blue\n",
            "#7 color of rainbow is violet\n"
          ]
        }
      ],
      "source": [
        "i = 1\n",
        "\n",
        "for color in 'red', 'orange', 'yellow', 'green', 'cyan', 'blue', 'violet':\n",
        "    print('#', i, ' color of rainbow is ', color, sep = '')\n",
        "\n",
        "    i += 1"
      ]
    },
    {
      "cell_type": "markdown",
      "metadata": {
        "id": "KwO4G73f3oFV"
      },
      "source": [
        "В этом примере переменная `color` последовательно принимает значения 'red', 'orange' и т.д. В теле цикла выводится сообщение, которое содержит название цвета, то есть значение переменной `color`, а также номер итерации цикла - число, которое сначала равно 1, а затем увеличивается на один (инструкцией i += 1 с каждым проходом цикла)."
      ]
    },
    {
      "cell_type": "markdown",
      "metadata": {
        "id": "3tfge-Yz3oFV"
      },
      "source": [
        "Инструкция `i += 1` эквивалентна конструкции `i = i + 1` (это просто сокращенная запись). Такую сокращенную запись можно использовать для всех арифметических операций: `*=, -=, /=, %=`..."
      ]
    },
    {
      "cell_type": "markdown",
      "metadata": {
        "id": "oqOSkQqJ3oFW"
      },
      "source": [
        "В списке значений могут быть выражения различных типов, например:"
      ]
    },
    {
      "cell_type": "code",
      "execution_count": null,
      "metadata": {
        "id": "X7Z2zKTf3oFW",
        "colab": {
          "base_uri": "https://localhost:8080/"
        },
        "outputId": "f9ae2536-ea42-4697-bdf7-7688aee84568"
      },
      "outputs": [
        {
          "output_type": "stream",
          "name": "stdout",
          "text": [
            "1\n",
            "2\n",
            "3\n",
            "one\n",
            "two\n",
            "three\n",
            "1.2\n"
          ]
        }
      ],
      "source": [
        "for i in 1, 2, 3, 'one', 'two', 'three':\n",
        "    print(i)"
      ]
    },
    {
      "cell_type": "markdown",
      "metadata": {
        "id": "F4C_XREK3oFW"
      },
      "source": [
        "При первых трех итерациях цикла переменная `i` будет принимать значение типа `int`, при последующих трех — типа `str`."
      ]
    },
    {
      "cell_type": "markdown",
      "metadata": {
        "id": "A6XTRlL_3oFW"
      },
      "source": [
        "**Итерация** — это повтор какого-либо действия. То есть один шаг цикла. Например, цикл из пяти повторений — пять итераций.<br>\n",
        "\n",
        "**Итератор** — это интерфейс, который позволяет получить следующий объект последовательности.<br>\n",
        "\n",
        "**Итерируемые объекты** — это объекты, которые можно повторять."
      ]
    },
    {
      "cell_type": "markdown",
      "metadata": {
        "id": "qFQzplXP3oFW"
      },
      "source": [
        "**Схема работы цикла for:**<br>\n",
        "https://sky.pro/media/wp-content/webp-express/webp-images/uploads/2022/04/infografika-e1649859094396.png.webp"
      ]
    },
    {
      "cell_type": "markdown",
      "metadata": {
        "id": "2NfqwAVK3oFW"
      },
      "source": [
        "**Синтаксис цикла for:**"
      ]
    },
    {
      "cell_type": "code",
      "execution_count": null,
      "metadata": {
        "id": "56c4ww-W3oFW"
      },
      "outputs": [],
      "source": [
        "for <переменная> in <последовательность>:\n",
        "    <действие>\n",
        "else:\n",
        "    <действие>"
      ]
    },
    {
      "cell_type": "markdown",
      "metadata": {
        "id": "uq3MhSN23oFW"
      },
      "source": [
        "В Python цикл начинается с ключевого слова `for`, за которым следует произвольное имя переменной, которое будет хранить значения следующего объекта последовательности. Элементы «последовательности» перебираются один за другим «переменной» цикла; если быть точным, переменная указывает на элементы. Для каждого элемента выполняется «действие»."
      ]
    },
    {
      "cell_type": "markdown",
      "metadata": {
        "id": "advBJLV33oFW"
      },
      "source": [
        "Блок `else` является особенным. Он будет выполнен только в том случае, если цикл не был «остановлен» оператором `break`. Таким образом, он будет выполнен только после того, как все элементы последовательности будут пройдены."
      ]
    },
    {
      "cell_type": "code",
      "execution_count": null,
      "metadata": {
        "colab": {
          "base_uri": "https://localhost:8080/"
        },
        "id": "5yYETw2-FJmT",
        "outputId": "c27e1040-4fca-4f73-cfc8-93cf1c5d983a"
      },
      "outputs": [
        {
          "output_type": "stream",
          "name": "stdout",
          "text": [
            "1\n",
            "2\n",
            "3\n",
            "one\n",
            "two\n",
            "three\n",
            "else\n"
          ]
        }
      ],
      "source": [
        "for i in 1, 2, 3, 'one', 'two', 'three':\n",
        "    print(i)\n",
        "else:\n",
        "    print('else')"
      ]
    },
    {
      "cell_type": "markdown",
      "metadata": {
        "id": "Y_RConcO3oFW"
      },
      "source": [
        "#### Оператор прерывания в python — break"
      ]
    },
    {
      "cell_type": "markdown",
      "metadata": {
        "id": "Wqmm2wJQ3oFW"
      },
      "source": [
        "Если в программе цикл `for` должен быть прерван оператором `break`, цикл будет завершен, и поток программы будет продолжен без выполнения действий из `else`."
      ]
    },
    {
      "cell_type": "markdown",
      "metadata": {
        "id": "h2eN_Rv63oFW"
      },
      "source": [
        "Обычно фразы `break` в pyton связаны с условными операторами."
      ]
    },
    {
      "cell_type": "code",
      "execution_count": null,
      "metadata": {
        "id": "pbRdnZD53oFW"
      },
      "outputs": [],
      "source": [
        "dinner = ['отбивные', 'пельмени', 'яйца', 'орехи']"
      ]
    },
    {
      "cell_type": "code",
      "execution_count": null,
      "metadata": {
        "id": "nrwmSih43oFW",
        "colab": {
          "base_uri": "https://localhost:8080/"
        },
        "outputId": "a17156df-f588-4b6d-e59c-a2053dd22495"
      },
      "outputs": [
        {
          "output_type": "stream",
          "name": "stdout",
          "text": [
            "Отлично, вкусные отбивные\n",
            "Я не ем пельмени!\n",
            "Ужин окончен\n"
          ]
        }
      ],
      "source": [
        "for food in dinner:\n",
        "    if food == 'пельмени':\n",
        "        print('Я не ем пельмени!')\n",
        "        break\n",
        "    print('Отлично, вкусные ' + food)\n",
        "else:\n",
        "    print('Хорошо, что не было пельменей!')\n",
        "\n",
        "print('Ужин окончен')"
      ]
    },
    {
      "cell_type": "markdown",
      "metadata": {
        "id": "yiTOlfwx3oFW"
      },
      "source": [
        "Удалим «пельмени» из списка еды и получим следующее:"
      ]
    },
    {
      "cell_type": "code",
      "execution_count": null,
      "metadata": {
        "id": "7bksveWpFJmV"
      },
      "outputs": [],
      "source": [
        "dinner = ['отбивные', 'яйца', 'орехи']"
      ]
    },
    {
      "cell_type": "code",
      "execution_count": null,
      "metadata": {
        "id": "dqogUGPx3oFW",
        "colab": {
          "base_uri": "https://localhost:8080/"
        },
        "outputId": "17509943-213f-4310-d417-0da4877bedbf"
      },
      "outputs": [
        {
          "output_type": "stream",
          "name": "stdout",
          "text": [
            "Отлично, вкусные отбивные\n",
            "Ужин окончен\n"
          ]
        }
      ],
      "source": [
        "for food in dinner:\n",
        "    if food == 'пельмени':\n",
        "        print('Я не ем пельмени!')\n",
        "        break\n",
        "    print('Отлично, вкусные ' + food)\n",
        "else:\n",
        "    print('Хорошо, что не было пельменей!')\n",
        "\n",
        "print('Ужин окончен')"
      ]
    },
    {
      "cell_type": "markdown",
      "metadata": {
        "id": "p7s9HeWw3oFW"
      },
      "source": [
        "Еще один пример: необходимо прервать цикл, например, когда ожидали символ, а получили число, используем инструкцию `break`."
      ]
    },
    {
      "cell_type": "code",
      "execution_count": null,
      "metadata": {
        "id": "N-iBrFJ63oFX",
        "colab": {
          "base_uri": "https://localhost:8080/"
        },
        "outputId": "d9b9f24b-f138-455e-8a52-0ecd9510a843"
      },
      "outputs": [
        {
          "output_type": "stream",
          "name": "stdout",
          "text": [
            "T\n",
            "h\n",
            "e\n",
            " \n",
            "t\n"
          ]
        }
      ],
      "source": [
        "for chr in 'The t3st string':\n",
        "    if chr.isdigit():\n",
        "        break\n",
        "    print(chr)"
      ]
    },
    {
      "cell_type": "markdown",
      "metadata": {
        "id": "Goyf7sXW3oFX"
      },
      "source": [
        "Дальше вывод не пойдет, так как слово t3st написано через тройку.<br>\n",
        "Перейти на следующий шаг цикла можно с помощью инструкции `continue`."
      ]
    },
    {
      "cell_type": "markdown",
      "metadata": {
        "id": "Ib6NfOfZ3oFX"
      },
      "source": [
        "#### Оператор пропуска python — continue"
      ]
    },
    {
      "cell_type": "markdown",
      "metadata": {
        "id": "nyynFyx-3oFX"
      },
      "source": [
        "Предположим, «пельмени» нам нужно просто пропустить и продолжить прием пищи. Тогда нужно использовать оператор `continue` для перехода к следующему элементу."
      ]
    },
    {
      "cell_type": "markdown",
      "metadata": {
        "id": "bKE26yRD3oFX"
      },
      "source": [
        "В следующем маленьком скрипте `python` используем `continue`, чтобы продолжить, итерацию по списку, когда сталкиваемся с пельменями."
      ]
    },
    {
      "cell_type": "code",
      "execution_count": null,
      "metadata": {
        "id": "ZUSzvArO3oFX"
      },
      "outputs": [],
      "source": [
        "dinner = ['отбивные', 'пельмени', 'яйца', 'орехи']"
      ]
    },
    {
      "cell_type": "code",
      "execution_count": null,
      "metadata": {
        "id": "4iuJzwR83oFX",
        "colab": {
          "base_uri": "https://localhost:8080/"
        },
        "outputId": "cc0e03de-3b22-4420-a903-b458c5bc6ff3"
      },
      "outputs": [
        {
          "output_type": "stream",
          "name": "stdout",
          "text": [
            "Отлично, вкусные отбивные\n",
            "Я не ем пельмени!\n",
            "Отлично, вкусные яйца\n",
            "Отлично, вкусные орехи\n",
            "Ненавижу пельмени!\n",
            "Ужин окончен\n"
          ]
        }
      ],
      "source": [
        "for food in dinner:\n",
        "    if food == 'пельмени':\n",
        "        print('Я не ем пельмени!')\n",
        "        continue\n",
        "    print('Отлично, вкусные ' + food)\n",
        "else:\n",
        "    print('Ненавижу пельмени!')\n",
        "\n",
        "print('Ужин окончен')"
      ]
    },
    {
      "cell_type": "code",
      "execution_count": null,
      "metadata": {
        "id": "GdPs0tQ83oFX",
        "colab": {
          "base_uri": "https://localhost:8080/"
        },
        "outputId": "63f3264b-c16f-4bfe-f5d3-cc73ebbbdf01"
      },
      "outputs": [
        {
          "output_type": "stream",
          "name": "stdout",
          "text": [
            "T\n",
            "h\n",
            "e\n",
            " \n",
            "t\n",
            "s\n",
            "t\n",
            " \n",
            "s\n",
            "t\n",
            "r\n",
            "i\n",
            "n\n",
            "g\n"
          ]
        }
      ],
      "source": [
        "for chr in 'The t3st string':\n",
        "    if chr.isdigit():\n",
        "        continue\n",
        "    print(chr)"
      ]
    },
    {
      "cell_type": "code",
      "execution_count": null,
      "metadata": {
        "id": "G-01MsaK3oFX",
        "colab": {
          "base_uri": "https://localhost:8080/"
        },
        "outputId": "5256485d-3945-4abe-cf55-7fbac8991d5c"
      },
      "outputs": [
        {
          "output_type": "stream",
          "name": "stdout",
          "text": [
            "1\n",
            "2\n",
            "4\n",
            "5\n",
            "7\n",
            "8\n"
          ]
        }
      ],
      "source": [
        "for i in range(9):\n",
        "    if i % 3 == 0:\n",
        "        continue\n",
        "    print(i)"
      ]
    },
    {
      "cell_type": "markdown",
      "metadata": {
        "id": "fj6bOxw33oFX"
      },
      "source": [
        "#### Итерация по спискам с функцией range()"
      ]
    },
    {
      "cell_type": "markdown",
      "metadata": {
        "id": "9t7b8P4b3oFX"
      },
      "source": [
        "Как правило, циклы `for` используются либо для повторения какой-либо последовательности действий заданное число раз, либо для изменения значения переменной в цикле от некоторого начального значения до некоторого конечного."
      ]
    },
    {
      "cell_type": "markdown",
      "metadata": {
        "id": "_AW6NIzB3oFX"
      },
      "source": [
        "Для повторения цикла некоторое заданное число раз `n` можно использовать цикл `for` вместе с функцией `range`:"
      ]
    },
    {
      "cell_type": "code",
      "execution_count": null,
      "metadata": {
        "id": "DIhd_evT3oFX",
        "colab": {
          "base_uri": "https://localhost:8080/"
        },
        "outputId": "caa0ae20-0715-44f7-90e8-848de125cb66"
      },
      "outputs": [
        {
          "output_type": "stream",
          "name": "stdout",
          "text": [
            "0\n",
            "0\n",
            "1\n",
            "1\n",
            "2\n",
            "4\n",
            "3\n",
            "9\n",
            "ЦИкл окончен\n"
          ]
        }
      ],
      "source": [
        "for i in range(4):  # равносильно инструкции for i in 0, 1, 2, 3:\n",
        "\n",
        "    # здесь можно выполнять циклические действия\n",
        "    print(i)\n",
        "    print(i ** 2)\n",
        "\n",
        "# цикл закончился, поскольку закончился блок с отступом\n",
        "\n",
        "print('Конец цикла')"
      ]
    },
    {
      "cell_type": "markdown",
      "metadata": {
        "id": "sB96PKv_3oFY"
      },
      "source": [
        "В качестве `n` может использоваться числовая константа, переменная или произвольное арифметическое выражение (например, 2 ** 10). Если значение `n` равно нулю или отрицательное, то тело цикла не выполнится ни разу."
      ]
    },
    {
      "cell_type": "code",
      "execution_count": null,
      "metadata": {
        "id": "EYJ4rPKj3oFY",
        "colab": {
          "base_uri": "https://localhost:8080/"
        },
        "outputId": "5c046249-898e-4944-9335-6a7f9b41b9c6"
      },
      "outputs": [
        {
          "output_type": "stream",
          "name": "stdout",
          "text": [
            "0\n",
            "0\n",
            "1\n",
            "1\n",
            "2\n",
            "4\n",
            "3\n",
            "9\n",
            "Конец цикла\n"
          ]
        }
      ],
      "source": [
        "for i in range(4):  # равносильно инструкции for i in 0, 1, 2, 3:\n",
        "\n",
        "    # здесь можно выполнять циклические действия\n",
        "    print(i)\n",
        "    print(i ** 2)\n",
        "\n",
        "# цикл закончился, поскольку закончился блок с отступом\n",
        "\n",
        "print('Конец цикла')"
      ]
    },
    {
      "cell_type": "markdown",
      "metadata": {
        "id": "MDxK3g_33oFY"
      },
      "source": [
        "Функция `range` может также принимать не один, а два параметра. Вызов `range(a, b)` означает, что индексная переменная будет принимать значения `от a до b - 1`, то есть первый параметр функции `range`, вызываемой с двумя параметрами, задает начальное значение индексной переменной, а второй параметр — первое значение, которое индексная переменная принимать не будет. Если же `a≥b`, то цикл не будет выполнен ни разу. Например, для того, чтобы просуммировать значения чисел `от 1 до n` можно воспользоваться следующей программой:"
      ]
    },
    {
      "cell_type": "code",
      "execution_count": null,
      "metadata": {
        "id": "MJGUWXdc3oFY",
        "colab": {
          "base_uri": "https://localhost:8080/"
        },
        "outputId": "4218c1be-b284-432b-9543-3f78d3c6882b"
      },
      "outputs": [
        {
          "output_type": "stream",
          "name": "stdout",
          "text": [
            "21\n"
          ]
        }
      ],
      "source": [
        "sum = 0\n",
        "n = 5\n",
        "\n",
        "for i in range(1, n + 1):\n",
        "    sum += i\n",
        "\n",
        "print(sum)"
      ]
    },
    {
      "cell_type": "markdown",
      "metadata": {
        "id": "pzXUE3PT3oFY"
      },
      "source": [
        "В этом примере переменная `i` принимает значения `1, 2, ..., n`, и значение переменной `sum` последовательно увеличивается на указанные значения."
      ]
    },
    {
      "cell_type": "markdown",
      "metadata": {
        "id": "v7J1QgTX3oFY"
      },
      "source": [
        "Наконец, чтобы организовать цикл, в котором индексная переменная будет уменьшаться, необходимо использовать функцию `range` с тремя параметрами. Первый параметр задает начальное значение индексной переменной, второй параметр — значение, до которого будет изменяться индексная переменная (не включая его!), а третий параметр — величину изменения индексной переменной. Например, сделать цикл по всем нечетным числам `от 1 до 99` можно при помощи функции `range(1, 100, 2)`, а сделать цикл по всем числам `от 100 до 1` можно при помощи `range(100, 0, -1)`."
      ]
    },
    {
      "cell_type": "markdown",
      "metadata": {
        "id": "sRcpvn523oFY"
      },
      "source": [
        "Если нужно получить доступ к `индексам списка`, не очевидно как использовать цикл `for` для этой задачи.<br>\n",
        "Мы можем получить доступ ко всем элементам, но индекс элемента остается недоступным.<br>\n",
        "Есть способ получить доступ как к индексу элемента, так и к самому элементу.<br>\n",
        "Для этого используйте функцию `range()` в сочетании с функцией длины `len()`:"
      ]
    },
    {
      "cell_type": "code",
      "execution_count": null,
      "metadata": {
        "id": "Kw9Ijtb63oFY"
      },
      "outputs": [],
      "source": [
        "fibonacci = [0, 1, 1, 2, 3, 5, 8, 13, 21]"
      ]
    },
    {
      "cell_type": "code",
      "execution_count": null,
      "metadata": {
        "colab": {
          "base_uri": "https://localhost:8080/"
        },
        "id": "CjGSvTOvFJmb",
        "outputId": "2f7fc11e-a865-49f5-f120-be40d7937f29"
      },
      "outputs": [
        {
          "output_type": "stream",
          "name": "stdout",
          "text": [
            "0\n",
            "1\n",
            "1\n",
            "2\n",
            "3\n",
            "5\n",
            "8\n",
            "13\n",
            "21\n"
          ]
        }
      ],
      "source": [
        "for i in fibonacci:\n",
        "    print(i)"
      ]
    },
    {
      "cell_type": "code",
      "execution_count": null,
      "metadata": {
        "id": "Zn-M-lZ33oFY",
        "colab": {
          "base_uri": "https://localhost:8080/"
        },
        "outputId": "1631e392-956e-4e96-c8e7-8b1b7a0d0906"
      },
      "outputs": [
        {
          "output_type": "stream",
          "name": "stdout",
          "text": [
            "0 0\n",
            "1 1\n",
            "2 1\n",
            "3 2\n",
            "4 3\n",
            "5 5\n",
            "6 8\n",
            "7 13\n",
            "8 21\n"
          ]
        }
      ],
      "source": [
        "for i in range(len(fibonacci)):\n",
        "\n",
        "    print(i,fibonacci[i])"
      ]
    },
    {
      "cell_type": "markdown",
      "metadata": {
        "id": "QO4To3Mi3oFY"
      },
      "source": [
        "*Примечание*. Если применить len() к list или tuple, получим соответствующее количество элементов этой последовательности."
      ]
    },
    {
      "cell_type": "markdown",
      "metadata": {
        "id": "F2BtIUIX3oFY"
      },
      "source": [
        "#### Enumerate в python 3"
      ]
    },
    {
      "cell_type": "markdown",
      "metadata": {
        "id": "V54yKbnE3oFY"
      },
      "source": [
        "`Enumerate` — встроенная функция Python. Она позволяет автоматически считать итерации цикла."
      ]
    },
    {
      "cell_type": "code",
      "execution_count": null,
      "metadata": {
        "id": "dqOQpfma3oFY"
      },
      "outputs": [],
      "source": [
        "for counter, value in enumerate(some_list):\n",
        "    print(counter, value)"
      ]
    },
    {
      "cell_type": "code",
      "execution_count": null,
      "metadata": {
        "id": "mAv8iV4w3oFY"
      },
      "outputs": [],
      "source": [
        "my_list = ['яблоко', 'банан', 'вишня', 'персик']"
      ]
    },
    {
      "cell_type": "code",
      "execution_count": null,
      "metadata": {
        "id": "Tsr-mbtc3oFY",
        "colab": {
          "base_uri": "https://localhost:8080/"
        },
        "outputId": "617c79eb-d811-4235-a73e-f9c55189c816"
      },
      "outputs": [
        {
          "output_type": "stream",
          "name": "stdout",
          "text": [
            "1 яблоко\n",
            "2 банан\n",
            "3 вишня\n",
            "4 персик\n"
          ]
        }
      ],
      "source": [
        "for x, value in enumerate(my_list, 1):\n",
        "    print(x, value)"
      ]
    },
    {
      "cell_type": "markdown",
      "metadata": {
        "id": "KNMFoHjK3oFY"
      },
      "source": [
        "Функция `enumerate` принимает необязательный аргумент (значение начала отсчета, по умолчанию 0), который делает ее еще более полезной."
      ]
    },
    {
      "cell_type": "markdown",
      "metadata": {
        "id": "65sFPU9OFJmd"
      },
      "source": [
        "# Задание\n",
        "Напишите программу, которая получает от пользователя **строку целых чисел**, и выводит:\n",
        "\n",
        "- Количество положительных чисел.\n",
        "- Произведение всех отрицательных чисел.\n",
        "- Минимальное и максимальное числа **без** использования функций **min()** и **max()**.\n",
        "\n",
        "**Пример:**\n",
        "\n",
        "*Входные данные:*\n",
        "        \n",
        "3 -5 2 4 12 7 3 4 6 9 25 -50 12 35 2 11\n",
        "    \n",
        "*Выходные данные:*\n",
        "        \n",
        "Количество положительных чисел: 14<br>\n",
        "Произведение отрицательных чисел: 250<br>\n",
        "Минимальное число: -50<br>\n",
        "Максимальное число: 35\n",
        "\n",
        "*Подсказка: в цикле используйте условный оператор*"
      ]
    },
    {
      "cell_type": "code",
      "execution_count": null,
      "metadata": {
        "colab": {
          "base_uri": "https://localhost:8080/"
        },
        "id": "uEJzaH4SFJmd",
        "outputId": "4703efcc-17bd-42dd-b97c-c44d22bf8f21"
      },
      "outputs": [
        {
          "output_type": "stream",
          "name": "stdout",
          "text": [
            "Введите строку целых чисел через пробел: 3 6 5 7 9 8 2 1 -4 -9 -6\n",
            "Количество положительных чисел: 8\n",
            "Произведение отрицательных чисел: -216\n",
            "Минимальное число: -9\n",
            "Максимальное число: 9\n"
          ]
        }
      ],
      "source": [
        "numbers = input(\"Введите строку целых чисел через пробел: \")\n",
        "\n",
        "numbers_list = [int(num) for num in numbers.split()]\n",
        "\n",
        "positive_count = 0\n",
        "negative_product = 1\n",
        "min_num = numbers_list[0]\n",
        "max_num = numbers_list[0]\n",
        "\n",
        "for num in numbers_list:\n",
        "\n",
        "    if num > 0:\n",
        "        positive_count += 1\n",
        "    elif num < 0:\n",
        "        negative_product *= num\n",
        "\n",
        "    if num < min_num:\n",
        "        min_num = num\n",
        "\n",
        "    if num > max_num:\n",
        "        max_num = num\n",
        "\n",
        "# Проверка наличия отрицательных чисел\n",
        "if negative_product == 1:\n",
        "    negative_product = 0\n",
        "\n",
        "print(f\"Количество положительных чисел: {positive_count}\")\n",
        "print(f\"Произведение отрицательных чисел: {negative_product}\")\n",
        "print(f\"Минимальное число: {min_num}\")\n",
        "print(f\"Максимальное число: {max_num}\")"
      ]
    },
    {
      "cell_type": "markdown",
      "metadata": {
        "id": "DsSnhurg3oFY"
      },
      "source": [
        "### Как работать с циклом for в Python"
      ]
    },
    {
      "cell_type": "markdown",
      "metadata": {
        "id": "sMF1zaCb3oFY"
      },
      "source": [
        "Цикл `for` работает со встроенными типами данных. Например, строки, списки, множества, кортежи, словари и даже файлы."
      ]
    },
    {
      "cell_type": "markdown",
      "metadata": {
        "id": "mkvlnkfX3oFZ"
      },
      "source": [
        "**Циклы в строках**<br>\n",
        "Символы в строке можно вывести один за другим с помощью цикла for."
      ]
    },
    {
      "cell_type": "code",
      "execution_count": null,
      "metadata": {
        "id": "xB_d9Qxs3oFZ",
        "colab": {
          "base_uri": "https://localhost:8080/"
        },
        "outputId": "e135ba07-1648-49ec-cf41-b5042a8c0415"
      },
      "outputs": [
        {
          "output_type": "stream",
          "name": "stdout",
          "text": [
            "П\n",
            "и\n",
            "т\n",
            "о\n",
            "н\n"
          ]
        }
      ],
      "source": [
        "# выведем буквы в слове Питон\n",
        "\n",
        "for i in 'Питон':\n",
        "    print(i)"
      ]
    },
    {
      "cell_type": "markdown",
      "metadata": {
        "id": "6zPKvhCx3oFZ"
      },
      "source": [
        "Иногда в алгоритмах нужно применять альтернативные инструкции для объектов, которые не проходят проверку. Выведем на печать каждый символ строки, меняя нижний регистр на верхний:"
      ]
    },
    {
      "cell_type": "code",
      "execution_count": null,
      "metadata": {
        "id": "p6jxezcf3oFZ",
        "colab": {
          "base_uri": "https://localhost:8080/"
        },
        "outputId": "d665a7b9-29c9-4eb8-e791-604c9c19a75a"
      },
      "outputs": [
        {
          "output_type": "stream",
          "name": "stdout",
          "text": [
            "t\n",
            "h\n",
            "i\n",
            "s\n",
            " \n",
            "i\n",
            "s\n",
            " \n",
            "t\n",
            "h\n",
            "e\n",
            " \n",
            "t\n",
            "e\n",
            "s\n",
            "t\n",
            " \n",
            "s\n",
            "t\n",
            "r\n",
            "i\n",
            "n\n",
            "g\n"
          ]
        }
      ],
      "source": [
        "for chr in \"THis is THe TEst sTRinG\":\n",
        "\n",
        "    if chr.upper():\n",
        "        print(chr.lower())\n",
        "\n",
        "    else:\n",
        "        print(chr)"
      ]
    },
    {
      "cell_type": "markdown",
      "metadata": {
        "id": "zOYtj77h3oFZ"
      },
      "source": [
        "**Циклы в списках**<br>"
      ]
    },
    {
      "cell_type": "code",
      "execution_count": null,
      "metadata": {
        "id": "WJgikcAL3oFZ"
      },
      "outputs": [],
      "source": [
        "# поочередно выведем элементы списка\n",
        "\n",
        "number_list = [1, 2, 3]"
      ]
    },
    {
      "cell_type": "code",
      "execution_count": null,
      "metadata": {
        "id": "A3GWvb12a6Ra",
        "colab": {
          "base_uri": "https://localhost:8080/"
        },
        "outputId": "1b722d31-4454-4555-bdf8-2daa42fccb0e"
      },
      "outputs": [
        {
          "output_type": "stream",
          "name": "stdout",
          "text": [
            "1\n",
            "2\n",
            "3\n"
          ]
        }
      ],
      "source": [
        "# не забывая про двоеточие и отступ\n",
        "\n",
        "for number in number_list:\n",
        "    print(number)"
      ]
    },
    {
      "cell_type": "markdown",
      "metadata": {
        "id": "TzN9RqR-3oFZ"
      },
      "source": [
        "Такого же результата можно добиться с помощью функции `range`, которая генерирует последовательность чисел."
      ]
    },
    {
      "cell_type": "code",
      "execution_count": null,
      "metadata": {
        "id": "o3X4tYEM3oFZ"
      },
      "outputs": [],
      "source": [
        "# список\n",
        "\n",
        "elems = [0, 1, 2, 3, 4, 5, 6, 7, 8, 9]"
      ]
    },
    {
      "cell_type": "code",
      "execution_count": null,
      "metadata": {
        "id": "nxJMUI0W3oFZ",
        "colab": {
          "base_uri": "https://localhost:8080/"
        },
        "outputId": "15dd2daf-e3f4-4d78-b896-29aa43764ebe"
      },
      "outputs": [
        {
          "output_type": "stream",
          "name": "stdout",
          "text": [
            "0\n",
            "1\n",
            "2\n",
            "3\n",
            "4\n",
            "5\n",
            "6\n",
            "7\n",
            "8\n",
            "9\n"
          ]
        }
      ],
      "source": [
        "# итерация по списку\n",
        "\n",
        "for item in elems:\n",
        "    print(item)"
      ]
    },
    {
      "cell_type": "code",
      "execution_count": null,
      "metadata": {
        "id": "qxyEoyqP3oFZ",
        "colab": {
          "base_uri": "https://localhost:8080/"
        },
        "outputId": "1894901b-4d5d-451d-eff9-54a1c6004f20"
      },
      "outputs": [
        {
          "output_type": "stream",
          "name": "stdout",
          "text": [
            "0\n",
            "1\n",
            "2\n",
            "3\n",
            "4\n",
            "5\n",
            "6\n",
            "7\n",
            "8\n",
            "9\n"
          ]
        }
      ],
      "source": [
        "# итерация по числам с нуля до 10 не включительно\n",
        "\n",
        "for i in range(0, 10):\n",
        "    print(i)"
      ]
    },
    {
      "cell_type": "markdown",
      "metadata": {
        "id": "BOn1EV1x3oFZ"
      },
      "source": [
        "**Циклы с шагом**<br>"
      ]
    },
    {
      "cell_type": "markdown",
      "metadata": {
        "id": "_4nexx3f3oFZ"
      },
      "source": [
        "Например, если нужно отобразить каждое второе число из списка, можно сделать проверку на деление с остатком. Алгоритм:\n",
        "\n",
        "- получить размерность множества;<br>\n",
        "↓\n",
        "- отнять от этого числа единицу;<br>\n",
        "↓\n",
        "- итерировать по множеству чисел с нуля до полученного числа включительно;<br>\n",
        "↓\n",
        "- получить элементы списка, используя индексацию."
      ]
    },
    {
      "cell_type": "code",
      "execution_count": null,
      "metadata": {
        "id": "Lnq6L51A3oFZ"
      },
      "outputs": [],
      "source": [
        "# кортеж\n",
        "\n",
        "elems = (0, 1, 2, 3, 4, 5, 6, 7, 8, 9)\n",
        "\n",
        "# получаем размерность\n",
        "\n",
        "length = len(elems)"
      ]
    },
    {
      "cell_type": "code",
      "execution_count": null,
      "metadata": {
        "id": "Xr2rSb4V3oFZ",
        "colab": {
          "base_uri": "https://localhost:8080/"
        },
        "outputId": "3015fb9a-a1d8-4fa1-b810-fb7d15019f58"
      },
      "outputs": [
        {
          "output_type": "stream",
          "name": "stdout",
          "text": [
            "0\n",
            "2\n",
            "4\n",
            "6\n",
            "8\n"
          ]
        }
      ],
      "source": [
        "# нам не нужно отнимать единицу, так как\n",
        "# крайнее число в range не входит в последовательность\n",
        "# первое число тоже не указываем\n",
        "# по умолчанию — оно равно нулю\n",
        "\n",
        "for i in range(length):\n",
        "\n",
        "    # если остатка нет — выводим число\n",
        "    if i % 2 == 0:\n",
        "        print(elems[i])"
      ]
    },
    {
      "cell_type": "markdown",
      "metadata": {
        "id": "qPvHDVd43oFZ"
      },
      "source": [
        "А можно выполнить с помощью шага в функции `range`:"
      ]
    },
    {
      "cell_type": "code",
      "execution_count": null,
      "metadata": {
        "id": "yGFTW5Cf3oFZ",
        "colab": {
          "base_uri": "https://localhost:8080/"
        },
        "outputId": "da184467-d052-492d-f4fc-f0961b5ed81e"
      },
      "outputs": [
        {
          "output_type": "stream",
          "name": "stdout",
          "text": [
            "0\n",
            "2\n",
            "4\n",
            "6\n",
            "8\n"
          ]
        }
      ],
      "source": [
        "# каждое второе число от 0 до 10\n",
        "\n",
        "for i in range(0, 10, 2):\n",
        "    print(i)"
      ]
    },
    {
      "cell_type": "markdown",
      "metadata": {
        "id": "kftJk0OA3oFa"
      },
      "source": [
        "**Циклы в словарях**<br>"
      ]
    },
    {
      "cell_type": "markdown",
      "metadata": {
        "id": "nHpz3caV3oFa"
      },
      "source": [
        "Итерацию по словарю проводят тремя способами. Первый и второй способ дают очередной ключ и очередное значение словаря на каждом шаге. Третий — и ключ, и значение за один шаг."
      ]
    },
    {
      "cell_type": "code",
      "execution_count": null,
      "metadata": {
        "id": "zF5Gzh8h3oFa"
      },
      "outputs": [],
      "source": [
        "mydict = {1: \"one\", 2: \"two\", 3: \"three\", 4: \"four\", 5: \"five\"}"
      ]
    },
    {
      "cell_type": "code",
      "execution_count": null,
      "metadata": {
        "id": "gZEqVTJn3oFa",
        "colab": {
          "base_uri": "https://localhost:8080/"
        },
        "outputId": "73529782-631b-40d8-f505-a459e9b1af65"
      },
      "outputs": [
        {
          "output_type": "stream",
          "name": "stdout",
          "text": [
            "1 :: one\n",
            "2 :: two\n",
            "3 :: three\n",
            "4 :: four\n",
            "5 :: five\n"
          ]
        }
      ],
      "source": [
        "# итерация по ключам\n",
        "\n",
        "for key in mydict:\n",
        "\n",
        "    print(f\"{key} :: {mydict[key]}\")"
      ]
    },
    {
      "cell_type": "code",
      "execution_count": null,
      "metadata": {
        "id": "_tRq-l973oFa",
        "colab": {
          "base_uri": "https://localhost:8080/"
        },
        "outputId": "29e3e9c0-c067-40c8-bf20-fbaa2062824a"
      },
      "outputs": [
        {
          "output_type": "stream",
          "name": "stdout",
          "text": [
            "1 :: one\n",
            "2 :: two\n",
            "3 :: three\n",
            "4 :: four\n",
            "5 :: five\n"
          ]
        }
      ],
      "source": [
        "# по ключам с явным указанием\n",
        "\n",
        "for key in mydict.keys():\n",
        "\n",
        "    print(f\"{key} :: {mydict[key]}\")"
      ]
    },
    {
      "cell_type": "code",
      "execution_count": null,
      "metadata": {
        "id": "QCwnbjfG3oFa",
        "colab": {
          "base_uri": "https://localhost:8080/"
        },
        "outputId": "76f32290-1f67-41ca-a065-580bd2ea94c8"
      },
      "outputs": [
        {
          "output_type": "stream",
          "name": "stdout",
          "text": [
            "one\n",
            "two\n",
            "three\n",
            "four\n",
            "five\n"
          ]
        }
      ],
      "source": [
        "# итерация по значениям\n",
        "\n",
        "for value in mydict.values():\n",
        "\n",
        "    print(value)"
      ]
    },
    {
      "cell_type": "code",
      "execution_count": null,
      "metadata": {
        "id": "bxk0uyZZ3oFa",
        "colab": {
          "base_uri": "https://localhost:8080/"
        },
        "outputId": "f84ca411-160c-4885-d767-b22fd1a59291"
      },
      "outputs": [
        {
          "output_type": "stream",
          "name": "stdout",
          "text": [
            "1 one\n",
            "2 two\n",
            "3 three\n",
            "4 four\n",
            "5 five\n"
          ]
        }
      ],
      "source": [
        "# итерация по ключам и значениям\n",
        "# применяется распаковка кортежа вида (ключ, значение)\n",
        "\n",
        "for key, value in mydict.items():\n",
        "\n",
        "    print(key, value)"
      ]
    },
    {
      "cell_type": "code",
      "execution_count": null,
      "metadata": {
        "id": "nIrD5ArAb8ih"
      },
      "outputs": [],
      "source": [
        "# создадим словарь, значениями которого будут списки из двух элементов\n",
        "\n",
        "d = {'apple' : [3, 'kg'], 'tomato' : [6, 'pcs'], 'carrot' : [2, 'kg']}"
      ]
    },
    {
      "cell_type": "code",
      "execution_count": null,
      "metadata": {
        "id": "QD9h9pplgDVI",
        "colab": {
          "base_uri": "https://localhost:8080/"
        },
        "outputId": "b6faa2b5-c34e-4a68-cb5a-0b65198cb0c6"
      },
      "outputs": [
        {
          "output_type": "stream",
          "name": "stdout",
          "text": [
            "apple [3, 'kg']\n",
            "tomato [6, 'pcs']\n",
            "carrot [2, 'kg']\n"
          ]
        }
      ],
      "source": [
        "# затем создадим две переменные-контейнера и применим метод .items()\n",
        "\n",
        "for k, v in d.items():\n",
        "    print(k, v)"
      ]
    },
    {
      "cell_type": "markdown",
      "metadata": {
        "id": "3dkQiLUH3oFa"
      },
      "source": [
        "Помимо этого мы можем вывести только ключи или только значения с помощью методов .keys() и .values() соответственно."
      ]
    },
    {
      "cell_type": "code",
      "execution_count": null,
      "metadata": {
        "id": "QV1uyoe0gFLh",
        "colab": {
          "base_uri": "https://localhost:8080/"
        },
        "outputId": "a962fff0-9c37-4614-f957-8f730d1450c2"
      },
      "outputs": [
        {
          "output_type": "stream",
          "name": "stdout",
          "text": [
            "3\n",
            "6\n",
            "2\n"
          ]
        }
      ],
      "source": [
        "# возьмем только одну переменную и применим метод .values()\n",
        "\n",
        "for v in d.values():\n",
        "\n",
        "  # значение представляет собой список, выведем его первый элемент с индексом [0]\n",
        "  print(v[0])"
      ]
    },
    {
      "cell_type": "markdown",
      "metadata": {
        "id": "jsL1sqCs3oFa"
      },
      "source": [
        "Помимо этого мы можем вложить один цикл for в другой (nested for loops). Предположим, что у нас есть следующая база данных клиентов."
      ]
    },
    {
      "cell_type": "code",
      "execution_count": null,
      "metadata": {
        "id": "8WzO673x-n7b"
      },
      "outputs": [],
      "source": [
        "# предположим, что у нас есть следующая база данных клиентов\n",
        "\n",
        "clients = {1: {'Name': 'Илья', 'Age': 18, 'Value': 86, 'Sex': \"female\"},\n",
        "           2: {'Name': 'Саня', 'Age': 16, 'Value': 65, 'Sex': \"female\"}}"
      ]
    },
    {
      "cell_type": "markdown",
      "metadata": {
        "id": "XQmLdqPC3oFa"
      },
      "source": [
        "База данных представляет собой словарь. Ключами являются id клиентов. Значениями — еще один (вложенный) словарь с информацией о каждом клиенте."
      ]
    },
    {
      "cell_type": "markdown",
      "metadata": {
        "id": "uqMgG4KP3oFb"
      },
      "source": [
        "Ключами второго (вложенного) словаря выступают названия полей (ФИО, возраст, пол и выручка с клиента), а значениями — соответствующая информация. Выведем все эти данные."
      ]
    },
    {
      "cell_type": "code",
      "execution_count": null,
      "metadata": {
        "id": "zYoothSRM7T9",
        "colab": {
          "base_uri": "https://localhost:8080/"
        },
        "outputId": "ef1c313b-78a0-438b-cc50-d2bc344cde0a"
      },
      "outputs": [
        {
          "output_type": "stream",
          "name": "stdout",
          "text": [
            "Clients ID: 1\n",
            "Name: Илья\n",
            "Age: 18\n",
            "Value: 86\n",
            "Sex: female\n",
            "\n",
            "Clients ID: 2\n",
            "Name: Саня\n",
            "Age: 16\n",
            "Value: 65\n",
            "Sex: female\n",
            "\n"
          ]
        }
      ],
      "source": [
        "# в первом цикле for поместим id и информацию о клиентах в переменные id и info\n",
        "for id, info in clients.items():\n",
        "  print('Clients ID: ' + str(id))\n",
        "\n",
        "  for i, c in info.items():\n",
        "    print(i + ': ' + str(c))\n",
        "\n",
        "  print()"
      ]
    },
    {
      "cell_type": "markdown",
      "metadata": {
        "id": "suwMXv203oFb"
      },
      "source": [
        "*Примечание*\n",
        "\n",
        "- Обратите особое внимание на отступы слева, они указывают на очередность выполнения операций. Например, пустая команда print() (и соответственно пустая строка) имеет один отступ, чтобы исполниться после каждого клиента, а не после каждого поля с информацией о клиенте.\n",
        "- При использовании функции print() мы можем объединить несколько строк, а вот объединить строку и число нельзя. Так как id, значение возраста (age) и значение выручки (revenue) являются числами (тип int), их нужно сначала принудительно сделать строкой через функцию str()."
      ]
    },
    {
      "cell_type": "markdown",
      "metadata": {
        "id": "Q3CB7PzqYZ_L"
      },
      "source": [
        "**Функция range() для списков и цикла for**"
      ]
    },
    {
      "cell_type": "markdown",
      "metadata": {
        "id": "ogL4YE7V3oFb"
      },
      "source": [
        "Иногда нам нужно создать последовательность чисел и пройтись по ней в цикле. Конечно, можно создать список и заполнить его нужными элементами, но, во-первых, для этого надо написать много кода, во-вторых, это будет неэффективно с точки зрения памяти компьютера. Для этого есть специальная функция range()."
      ]
    },
    {
      "cell_type": "markdown",
      "metadata": {
        "id": "aIZlzb4x3oFb"
      },
      "source": [
        "Функция range() принимает от одного до трех параметров.\n",
        "\n",
        "- Если передать только один параметр, то мы начнем последовательность с нуля и закончим на элементе, предшествующем нашему параметру. В примере выше мы передали параметр «пять» (range(5)) и получили последовательность 0, 1, 2, 3, 4.\n",
        "- Если указать два параметра, то мы начнем последовательность с первого параметра и закончим на элементе, предшествующем второму параметру. В частности, если написать range(1, 6), то получится 1, 2, 3, 4, 5.\n",
        "- Третий параметр устанавливает шаг. По умолчанию он равен единице, однако если, например, написать, range(0, 6, 2), то мы получим 0, 2, 4."
      ]
    },
    {
      "cell_type": "code",
      "execution_count": null,
      "metadata": {
        "id": "HtJWgzs2OEG_",
        "colab": {
          "base_uri": "https://localhost:8080/"
        },
        "outputId": "df5c302a-10df-4712-e370-c46bd1353efa"
      },
      "outputs": [
        {
          "output_type": "stream",
          "name": "stdout",
          "text": [
            "0\n",
            "1\n",
            "2\n",
            "3\n",
            "4\n"
          ]
        }
      ],
      "source": [
        "# создадим последовательность от 0 до 4\n",
        "\n",
        "for i in range(5):\n",
        "    print(i)"
      ]
    },
    {
      "cell_type": "code",
      "execution_count": null,
      "metadata": {
        "id": "UI24as2nYzR1",
        "colab": {
          "base_uri": "https://localhost:8080/"
        },
        "outputId": "6e5a9f57-4836-491c-d1e0-8c296611e533"
      },
      "outputs": [
        {
          "output_type": "stream",
          "name": "stdout",
          "text": [
            "1\n",
            "2\n",
            "3\n",
            "4\n",
            "5\n"
          ]
        }
      ],
      "source": [
        "# от 1 до 5\n",
        "\n",
        "for i in range(1, 6):\n",
        "    print(i)"
      ]
    },
    {
      "cell_type": "code",
      "execution_count": null,
      "metadata": {
        "id": "qN0SAaPXdILc",
        "colab": {
          "base_uri": "https://localhost:8080/"
        },
        "outputId": "2720e0f3-f67c-4d84-9236-8676155da340"
      },
      "outputs": [
        {
          "output_type": "stream",
          "name": "stdout",
          "text": [
            "0\n",
            "2\n",
            "4\n"
          ]
        }
      ],
      "source": [
        "# и от 0 до 5 с шагом 2 (то есть будем выводить числа через одно)\n",
        "\n",
        "for i in range(0, 6, 2):\n",
        "    print(i)"
      ]
    },
    {
      "cell_type": "code",
      "execution_count": null,
      "metadata": {
        "id": "8GQZbHG83oFb"
      },
      "outputs": [],
      "source": [
        "# возьмем месяцы года\n",
        "\n",
        "months = ['Январь', 'Февраль', 'Март', 'Апрель', 'Май', 'Июнь', 'Июль', 'Август', 'Сентябрь', 'Октябрь', 'Ноябрь', 'Декабрь']\n",
        "\n",
        "# и продажи мороженого в тыс. рублей в каждый из месяцев\n",
        "\n",
        "sales = [47, 75, 79, 94, 123, 209, 233, 214, 197, 130, 87, 55]"
      ]
    },
    {
      "cell_type": "markdown",
      "metadata": {
        "id": "-6lNVvaE3oFb"
      },
      "source": [
        "Что интересно, если совместить range() с функцией len(), то такую конструкцию можно использовать для того, чтобы в одном цикле вывести все элементы, например, двух списков по их индексу."
      ]
    },
    {
      "cell_type": "code",
      "execution_count": null,
      "metadata": {
        "id": "8dUjujIG3cph",
        "colab": {
          "base_uri": "https://localhost:8080/"
        },
        "outputId": "79572f23-1931-4ae5-afc5-cb2281aa4615"
      },
      "outputs": [
        {
          "output_type": "stream",
          "name": "stdout",
          "text": [
            "Январь 47\n",
            "Февраль 75\n",
            "Март 79\n",
            "Апрель 94\n",
            "Май 123\n",
            "Июнь 209\n",
            "Июль 233\n",
            "Август 214\n",
            "Сентябрь 197\n",
            "Октябрь 130\n",
            "Ноябрь 87\n",
            "Декабрь 55\n"
          ]
        }
      ],
      "source": [
        "# задав последовательность через range(len())\n",
        "\n",
        "for i in range(len(months)):\n",
        "\n",
        "  # мы можем вывести каждый из элементов обоих списков в одном цикле\n",
        "  print(months[i], sales[i])"
      ]
    },
    {
      "cell_type": "markdown",
      "metadata": {
        "id": "c4X4Nw2Yf2IH"
      },
      "source": [
        "**Функция enumerate() для списков и цикла for**"
      ]
    },
    {
      "cell_type": "markdown",
      "metadata": {
        "id": "-G-ymLaU3oFb"
      },
      "source": [
        "Мы можем использовать эту функцию, если у нас есть, например, список и, проходясь в цикле по этому списку, мы хотим также получить порядковый номер (индекс) элементов списка."
      ]
    },
    {
      "cell_type": "code",
      "execution_count": null,
      "metadata": {
        "id": "b9nt093_3oFb"
      },
      "outputs": [],
      "source": [
        "# пусть дан список со днями недели\n",
        "\n",
        "days = ['Понедельник', 'Вторник', 'Среда', 'Четверг', 'Пятница', 'Суббота', 'Воскресенье']"
      ]
    },
    {
      "cell_type": "code",
      "execution_count": null,
      "metadata": {
        "id": "5a3gqF7-foJY",
        "colab": {
          "base_uri": "https://localhost:8080/"
        },
        "outputId": "97809ff2-5ffb-4602-b156-5ae71e4364ad"
      },
      "outputs": [
        {
          "output_type": "stream",
          "name": "stdout",
          "text": [
            "1 Понедельник\n",
            "2 Вторник\n",
            "3 Среда\n",
            "4 Четверг\n",
            "5 Пятница\n",
            "6 Суббота\n",
            "7 Воскресенье\n"
          ]
        }
      ],
      "source": [
        "# выведем индекс (i) и сами элементы списка (day)\n",
        "\n",
        "for i, day in enumerate(days):\n",
        "    print(i, day)"
      ]
    },
    {
      "cell_type": "markdown",
      "metadata": {
        "id": "qK4T9z9e3oFb"
      },
      "source": [
        "Все бы хорошо, но неделю логичнее начинать с первого дня, а не с нулевого. Для этого функции enumerate() можно передать начальное значение."
      ]
    },
    {
      "cell_type": "code",
      "execution_count": null,
      "metadata": {
        "id": "qrn0qMjWlgg4",
        "colab": {
          "base_uri": "https://localhost:8080/"
        },
        "outputId": "9d878ce0-255e-4e5d-ea8e-fa07fd9a01eb"
      },
      "outputs": [
        {
          "output_type": "stream",
          "name": "stdout",
          "text": [
            "1 Понедельник\n",
            "2 Вторник\n",
            "3 Среда\n",
            "4 Четверг\n",
            "5 Пятница\n",
            "6 Суббота\n",
            "7 Воскресенье\n"
          ]
        }
      ],
      "source": [
        "# так же выведем индекс и элементы списка, но начнем с 1\n",
        "\n",
        "for i, day in enumerate(days, 1):\n",
        "    print(i, day)"
      ]
    },
    {
      "cell_type": "markdown",
      "metadata": {
        "id": "_mSbZrl_3oFc"
      },
      "source": [
        "**Обратный цикл**"
      ]
    },
    {
      "cell_type": "markdown",
      "metadata": {
        "id": "p1aes8lc3oFc"
      },
      "source": [
        "Встроенная функция `reversed` и слайсинги (срезы) позволяют проводить итерацию по объекту в обратном порядке."
      ]
    },
    {
      "cell_type": "code",
      "execution_count": null,
      "metadata": {
        "id": "EbYHjvIT3oFc"
      },
      "outputs": [],
      "source": [
        "elems = (0, 1, 2, 3, 4, 5, 6, 7, 8, 9)"
      ]
    },
    {
      "cell_type": "code",
      "execution_count": null,
      "metadata": {
        "id": "7P20ODsd3oFc",
        "colab": {
          "base_uri": "https://localhost:8080/"
        },
        "outputId": "6e7a84cf-d7e4-4828-e032-62eb894e924e"
      },
      "outputs": [
        {
          "output_type": "stream",
          "name": "stdout",
          "text": [
            "9\n",
            "8\n",
            "7\n",
            "6\n",
            "5\n",
            "4\n",
            "3\n",
            "2\n",
            "1\n",
            "0\n"
          ]
        }
      ],
      "source": [
        "# пример\n",
        "\n",
        "for item in reversed(elems):\n",
        "    print(item)"
      ]
    },
    {
      "cell_type": "code",
      "execution_count": null,
      "metadata": {
        "id": "ITuNxDqN3oFc",
        "colab": {
          "base_uri": "https://localhost:8080/"
        },
        "outputId": "4e798dd2-4b02-49be-cdb6-dc794c56e21a"
      },
      "outputs": [
        {
          "output_type": "stream",
          "name": "stdout",
          "text": [
            "9\n",
            "8\n",
            "7\n",
            "6\n",
            "5\n",
            "4\n",
            "3\n",
            "2\n",
            "1\n",
            "0\n"
          ]
        }
      ],
      "source": [
        "# пример использования слайсингов\n",
        "\n",
        "for item in elems[::-1]:\n",
        "    print(item)"
      ]
    },
    {
      "cell_type": "markdown",
      "metadata": {
        "id": "xAU0I-m93oFc"
      },
      "source": [
        "**Генератор**"
      ]
    },
    {
      "cell_type": "markdown",
      "metadata": {
        "id": "TN9sJDbi3oFc"
      },
      "source": [
        "Инструкция `for` есть в различных выражениях-генераторах, например, генераторе списка или словаря."
      ]
    },
    {
      "cell_type": "code",
      "execution_count": null,
      "metadata": {
        "id": "xWJvnqjs3oFc"
      },
      "outputs": [],
      "source": [
        "import random"
      ]
    },
    {
      "cell_type": "code",
      "execution_count": null,
      "metadata": {
        "id": "9XrfUpEU3oFc",
        "colab": {
          "base_uri": "https://localhost:8080/"
        },
        "outputId": "947b8c4e-f6e3-43b9-d038-15ca92a5a8f6"
      },
      "outputs": [
        {
          "output_type": "stream",
          "name": "stdout",
          "text": [
            "[1, 10, 2, 8, 6]\n"
          ]
        }
      ],
      "source": [
        "# так мы сделаем список из 20 случайно сгенерированных чисел\n",
        "\n",
        "list = [random.randint(0, 11) for _ in range(5)]\n",
        "print(list)\n"
      ]
    },
    {
      "cell_type": "markdown",
      "metadata": {
        "id": "esIlSNoa3oFc"
      },
      "source": [
        "**Главное о цикле for**\n",
        "- For перебирает элементы и выполняет код, который записан в теле цикла. В его основе лежат последовательности.\n",
        "- Главное условие успешной работы цикла — объект должен быть итерируемым.\n",
        "- Итерацию проводят по многим встроенным структурам данных: строки, словари, списки, множества, кортежи. Внутри инструкции создают ветвления в алгоритме с помощью проверок.\n",
        "- Чтобы прервать цикл, используйте ключевое слово break. Чтобы пропустить элемент итерируемого множества — continue."
      ]
    },
    {
      "cell_type": "markdown",
      "metadata": {
        "id": "PED3yOQG1e-e"
      },
      "source": [
        "## Часть 05. Цикл `while`"
      ]
    },
    {
      "cell_type": "markdown",
      "metadata": {
        "id": "4p-yFZZT1e-e"
      },
      "source": [
        "С циклом `for` мы уже знакомы. Сейчас мы познакомимся с циклом `while`, логика которого отличается от `for`. Конструкции с циклом `while` устроены следующим образом: действия, которые указаны в теле цикла, должны выполняться до тех пор, пока верно условие, прописанное после `while` (отсюда и название). Если в цикле `for` мы указывали некоторый промежуток, по которому в ходе цикла мы будем «пробегаться», то в случае с циклом `while` мы просто фиксируем стартовую точку, а конечную точку никак не указываем: программа сама остановится, когда условие в цикле перестанет выполняться."
      ]
    },
    {
      "cell_type": "markdown",
      "metadata": {
        "id": "FrVaqxN71e-e"
      },
      "source": [
        "Давайте, используя цикл `while`, будем выводить на экран элементы списка `turnout` до тех пор, пока не столкнемся со странным значением явки (больше 100).<br>\n",
        "`turnout` - процент явки на выборы по регионам"
      ]
    },
    {
      "cell_type": "code",
      "execution_count": null,
      "metadata": {
        "id": "cO9XlFNF1e-e"
      },
      "outputs": [],
      "source": [
        "turnout = [68, 45, 98, 56, 70, 146, 56, 67]"
      ]
    },
    {
      "cell_type": "code",
      "execution_count": null,
      "metadata": {
        "id": "kWmeAF7V1e-e"
      },
      "outputs": [],
      "source": [
        "i = 0 # начинаем с индекса i=0"
      ]
    },
    {
      "cell_type": "code",
      "execution_count": null,
      "metadata": {
        "id": "38gCCBpv1e-e",
        "colab": {
          "base_uri": "https://localhost:8080/"
        },
        "outputId": "f1d0bd28-d8fd-48f7-ec0c-f49c62a785d0"
      },
      "outputs": [
        {
          "output_type": "stream",
          "name": "stdout",
          "text": [
            "68\n",
            "45\n",
            "98\n",
            "56\n",
            "70\n"
          ]
        }
      ],
      "source": [
        "while turnout[i] < 100: # пока элемент nums[i] >= 0\n",
        "\n",
        "    print(turnout[i]) # выводим элемент на экран\n",
        "    i = i + 1 # переходим к следующему элементу"
      ]
    },
    {
      "cell_type": "markdown",
      "metadata": {
        "id": "nT3JUV5q1e-e"
      },
      "source": [
        "На значении 70 мы остановились: за ним идет значение 146, для которого условие `turnout[i] < 100` не выполняется. Python не ожидал такого подвоха и перестал с нами разговаривать :)\n",
        "\n",
        "Давайте теперь попробуем переписать код так, чтобы он работал точно так же, но только чтобы в нем использовался цикл `for`, а не `while`. Вообще почти любой код с `while` можно переписать через `for`, и иногда это полезно: код с циклом `while` обычно более медленный, плюс, склонен к зацикливанию."
      ]
    },
    {
      "cell_type": "code",
      "execution_count": null,
      "metadata": {
        "id": "i-c5mrlo1e-e",
        "colab": {
          "base_uri": "https://localhost:8080/"
        },
        "outputId": "262150a3-7c17-41ff-ad7e-45370492dead"
      },
      "outputs": [
        {
          "output_type": "stream",
          "name": "stdout",
          "text": [
            "68\n",
            "45\n",
            "98\n",
            "56\n",
            "70\n"
          ]
        }
      ],
      "source": [
        "for t in turnout:\n",
        "    if t < 100:\n",
        "        print(t)\n",
        "    else:\n",
        "        break"
      ]
    },
    {
      "cell_type": "markdown",
      "metadata": {
        "id": "pScsY4Ys1e-e"
      },
      "source": [
        "В коде выше мы использовали оператор `break`, который позволяет выйти из цикла, то есть закончить исполнение строк кода в теле цикла и перейти к коду дальше.  "
      ]
    },
    {
      "cell_type": "code",
      "execution_count": null,
      "metadata": {
        "id": "ruMUI_NdFJmv",
        "colab": {
          "base_uri": "https://localhost:8080/"
        },
        "outputId": "9d2e55f0-9117-42e3-cd6d-8454986a5d26"
      },
      "outputs": [
        {
          "output_type": "stream",
          "name": "stdout",
          "text": [
            "68\n",
            "45\n",
            "98\n",
            "56\n",
            "70\n",
            "56\n",
            "67\n"
          ]
        }
      ],
      "source": [
        "for t in turnout:\n",
        "    if t < 100:\n",
        "        print(t)"
      ]
    },
    {
      "cell_type": "markdown",
      "metadata": {
        "id": "x7KwHQMJ1e-e"
      },
      "source": [
        "Если бы мы хотели модифицировать код таким образом, чтобы он пропускал странное значение, ничего не делал, можно было бы добавить оператор `pass` вместо `break` (отвечает за отсутсвие действия):"
      ]
    },
    {
      "cell_type": "code",
      "execution_count": null,
      "metadata": {
        "id": "4UEMRYe41e-e",
        "colab": {
          "base_uri": "https://localhost:8080/"
        },
        "outputId": "898852fa-1a31-4e71-c783-b39c6296217f"
      },
      "outputs": [
        {
          "output_type": "stream",
          "name": "stdout",
          "text": [
            "68\n",
            "45\n",
            "98\n",
            "56\n",
            "70\n",
            "56\n",
            "67\n"
          ]
        }
      ],
      "source": [
        "for t in turnout:\n",
        "    if t < 100:\n",
        "        print(t)\n",
        "    else:\n",
        "        pass"
      ]
    },
    {
      "cell_type": "markdown",
      "metadata": {
        "id": "xxx8ATGg1e-e"
      },
      "source": [
        "А теперь напишем маленькую игру-угадайку. Программа будет загадывать целое число от 1 до 100, а пользователь его угадывать. Как программа будет загадывать число? Выбирать случайным образом из интервала [1, 100] (на самом деле псевдослучайным образом, так как абсолютной случайности не получится, генерирование чисел происходит по фиксированным алгоритмам)."
      ]
    },
    {
      "cell_type": "code",
      "execution_count": null,
      "metadata": {
        "id": "aoJPnocx1e-e"
      },
      "outputs": [],
      "source": [
        "from random import randrange # импортируем модуль для функии randrange"
      ]
    },
    {
      "cell_type": "code",
      "execution_count": null,
      "metadata": {
        "id": "0Dc0hPhx1e-e"
      },
      "outputs": [],
      "source": [
        "n = randrange(1, 101) # n и есть загаданное число"
      ]
    },
    {
      "cell_type": "markdown",
      "metadata": {
        "id": "hspEtA6c1e-f"
      },
      "source": [
        "Осталось написать цикл. До тех пор, пока пользователь не угадает число, программа не будет останавливаться, но зато она будет давать подсказки: если введенное пользователем число больше загаданного, то будет выводиться сообщение \"Вы ввели слишком большое число.\", если меньше – \"Вы ввели слишком маленькое число.\""
      ]
    },
    {
      "cell_type": "code",
      "execution_count": null,
      "metadata": {
        "id": "94Dz-cW61e-f",
        "colab": {
          "base_uri": "https://localhost:8080/"
        },
        "outputId": "a48951f9-8562-48e1-db79-40cf55399923"
      },
      "outputs": [
        {
          "output_type": "stream",
          "name": "stdout",
          "text": [
            "Ваша попытка:40\n",
            "Вы ввели слишком большое число.\n",
            "Ваша попытка:30\n",
            "Вы ввели слишком маленькое число.\n",
            "Ваша попытка:35\n",
            "Вы ввели слишком большое число.\n",
            "Ваша попытка:34\n",
            "Вы ввели слишком большое число.\n",
            "Ваша попытка:33\n",
            "Вы выиграли!\n"
          ]
        }
      ],
      "source": [
        "while True:\n",
        "    guess = int(input('Ваша попытка:'))\n",
        "\n",
        "    if guess == n:\n",
        "        print('Вы выиграли!')\n",
        "        break\n",
        "\n",
        "    elif guess > n:\n",
        "        print('Вы ввели слишком большое число.')\n",
        "    else:\n",
        "        print('Вы ввели слишком маленькое число.')"
      ]
    },
    {
      "cell_type": "markdown",
      "metadata": {
        "id": "GTUjL9_Y1e-f"
      },
      "source": [
        "В коде выше в `while` мы не написали никакого условия явно, вместо этого мы написали `while True`. Это выражение означает «до тех пор, пока мы не вышли из цикла». В нашем случае это равносильно «до тех пор, пока не столкнулись с `break`», пока наш ответ не совпал с загаданным числом. Неформально можно считать, что конструкция `while True` – своеобразная альтернатива «бесконечному» циклу `for`."
      ]
    },
    {
      "cell_type": "markdown",
      "metadata": {
        "id": "pTNU4r6mFJmw"
      },
      "source": [
        "### Рассмотрим теорию по циклу While"
      ]
    },
    {
      "cell_type": "markdown",
      "metadata": {
        "id": "mpSWcsFe3oFc"
      },
      "source": [
        "**Цикл с проверкой условия**<br>\n",
        "Выполняется до тех пор, пока условие не станет ложным, или пока явно не сделать выход из цикла (break) или из функции (return)."
      ]
    },
    {
      "cell_type": "markdown",
      "metadata": {
        "id": "j13hssTD3oFc"
      },
      "source": [
        "Цикл **while** будет выполняться до тех пор, пока верно заданное в нем условие."
      ]
    },
    {
      "cell_type": "markdown",
      "metadata": {
        "id": "vc30I3dR3oFc"
      },
      "source": [
        "В целом все просто, но есть один нюанс.<br>\n",
        "**Условие должно в какой-то момент перестать быть верным**, иначе цикл станет бесконечным. Для этого существует счетчик (counter)."
      ]
    },
    {
      "cell_type": "code",
      "execution_count": null,
      "metadata": {
        "id": "7dWKX2p8pZCl",
        "colab": {
          "base_uri": "https://localhost:8080/"
        },
        "outputId": "e986e1de-7cfd-4b75-85fc-817389455342"
      },
      "outputs": [
        {
          "output_type": "stream",
          "name": "stdout",
          "text": [
            "Текущее значение счетчика:  0\n",
            "Новое значение счетчика:    1\n",
            "\n",
            "Текущее значение счетчика:  1\n",
            "Новое значение счетчика:    2\n",
            "\n",
            "Текущее значение счетчика:  2\n",
            "Новое значение счетчика:    3\n",
            "\n"
          ]
        }
      ],
      "source": [
        "# зададим начальное значение счетчика\n",
        "\n",
        "i = 0\n",
        "\n",
        "# пока счетчик меньше трех\n",
        "\n",
        "while i < 3:\n",
        "\n",
        "  # в каждом цикле будем выводить его текущее значение\n",
        "  print('Текущее значение счетчика:  ' + str(i))\n",
        "\n",
        "  # внутри цикла не забудем \"нарастить\" счетчик\n",
        "  i = i + 1\n",
        "\n",
        "  # и выведем новое значение\n",
        "  print('Новое значение счетчика:    ' + str(i))\n",
        "\n",
        "  # добавим пустую строку\n",
        "  print()"
      ]
    },
    {
      "cell_type": "markdown",
      "metadata": {
        "id": "h71qh9Gi3oFc"
      },
      "source": [
        "Рассмотрим еще раз, как мы получили такой результат.\n",
        "\n",
        "- У нас есть начальное значение счетчика, равное нулю (i = 0) (хотя конечно значение счетчика может быть любым)\n",
        "- При первой итерации, так как 0 < 3, исполняем код в цикле и увеличиваем счетчик на 1 (теперь i = 1)\n",
        "- На второй итерации, 1 < 3, условие по-прежнему верно, снова исполняем код и увеличиваем счетчик на 1 (i = 2)\n",
        "- На третьей итерации, 2 < 3, условие верно, исполняем код и увеличиваем счетчик на 1 (i = 3)\n",
        "- Далее, алгоритм пытается выполнить четвертую итерацию цикла, однако так как 3 < 3 неверно, цикл прерывается"
      ]
    },
    {
      "cell_type": "code",
      "execution_count": null,
      "metadata": {
        "id": "AsLYv9o-mpy2",
        "colab": {
          "base_uri": "https://localhost:8080/"
        },
        "outputId": "b312aeec-c54f-4954-a494-c2e4311a46a1"
      },
      "outputs": [
        {
          "output_type": "stream",
          "name": "stdout",
          "text": [
            "0\n",
            "1\n",
            "2\n"
          ]
        }
      ],
      "source": [
        "# тот же код можно упростить\n",
        "\n",
        "i = 0\n",
        "\n",
        "while i < 3:\n",
        "    print(i)\n",
        "\n",
        "    # в частности, оператор += сразу увеличивает и присваивает новое значение\n",
        "\n",
        "    i += 1"
      ]
    },
    {
      "cell_type": "code",
      "execution_count": null,
      "metadata": {
        "id": "ec5wfxA_3oFc"
      },
      "outputs": [],
      "source": [
        "x = 0\n",
        "y = 5"
      ]
    },
    {
      "cell_type": "code",
      "execution_count": null,
      "metadata": {
        "id": "2hdiIOup3oFc",
        "tags": [],
        "colab": {
          "base_uri": "https://localhost:8080/"
        },
        "outputId": "a0d4e53a-8aa0-4ce9-962f-9da6e8a74f4e"
      },
      "outputs": [
        {
          "output_type": "stream",
          "name": "stdout",
          "text": [
            "0 1 2 3 4 "
          ]
        }
      ],
      "source": [
        "while x < y:\n",
        "\n",
        "    print(x, end=' ')\n",
        "    x += 1  # Или x = x + 1"
      ]
    },
    {
      "cell_type": "code",
      "execution_count": null,
      "metadata": {
        "id": "ECC1XHjt3oFd"
      },
      "outputs": [],
      "source": [
        "x = 0\n",
        "y = 5"
      ]
    },
    {
      "cell_type": "code",
      "execution_count": null,
      "metadata": {
        "id": "7HwCcaL13oFd",
        "tags": [],
        "colab": {
          "base_uri": "https://localhost:8080/"
        },
        "outputId": "e4ad25a9-8956-4292-8ed1-f409f30098c1"
      },
      "outputs": [
        {
          "output_type": "stream",
          "name": "stdout",
          "text": [
            "0 1 2 3 4 Happy End!\n"
          ]
        }
      ],
      "source": [
        "while x < y:\n",
        "\n",
        "    print(x, end=' ')\n",
        "    x += 1  # Или x = x + 1\n",
        "\n",
        "else:\n",
        "    print('Happy End!')"
      ]
    },
    {
      "cell_type": "code",
      "execution_count": null,
      "metadata": {
        "id": "mnzbwLkH3oFd"
      },
      "outputs": [],
      "source": [
        "x = 0\n",
        "y = 5"
      ]
    },
    {
      "cell_type": "code",
      "execution_count": null,
      "metadata": {
        "id": "E9CDQrz33oFd",
        "tags": [],
        "colab": {
          "base_uri": "https://localhost:8080/"
        },
        "outputId": "d44c35d9-4955-4551-efa9-55d044dac812"
      },
      "outputs": [
        {
          "output_type": "stream",
          "name": "stdout",
          "text": [
            "4 Happy End!\n"
          ]
        }
      ],
      "source": [
        "while x < y:\n",
        "\n",
        "    print(x, end=' ')\n",
        "    x += 1\n",
        "\n",
        "    if x > y-2: break\n",
        "else:\n",
        "    print('Happy End!')"
      ]
    },
    {
      "cell_type": "markdown",
      "metadata": {
        "id": "N6Djl9Shdkxh"
      },
      "source": [
        "#### Break, continue в цикле while"
      ]
    },
    {
      "cell_type": "markdown",
      "metadata": {
        "id": "ATzNZBDg3oFd"
      },
      "source": [
        "Ходом исполнения цикла можно управлять."
      ]
    },
    {
      "cell_type": "markdown",
      "metadata": {
        "id": "ZCW-rwAFggXA"
      },
      "source": [
        "**Оператор break**"
      ]
    },
    {
      "cell_type": "markdown",
      "metadata": {
        "id": "1jZFD0gD3oFd"
      },
      "source": [
        "Представьте, что вы пишете цикл, который затем примените к очень длинному словарю или списку (в нем, например, 10 тыс. элементов), но вы не уверены в своем коде. Если цикл применить сразу ко всему объекту и при этом окажется, что код делает не совсем то, что вы хотите, то придется ждать, пока компьютер выведет все 10 тыс. записей.<br>\n",
        "\n",
        "Логично протестировать код на первой записи, а уже потом двигаться дальше. В этом нам поможет оператор break (прерывание цикла)."
      ]
    },
    {
      "cell_type": "code",
      "execution_count": null,
      "metadata": {
        "id": "I4O09ZwT3oFd"
      },
      "outputs": [],
      "source": [
        "# вновь возьмем словарь clients\n",
        "\n",
        "clients = {1: {'name': 'Анна', 'age': 24, 'sex': 'male', 'revenue': 12000},\n",
        "           2: {'name': 'Илья', 'age': 18, 'sex': 'female', 'revenue': 8000}}"
      ]
    },
    {
      "cell_type": "code",
      "execution_count": null,
      "metadata": {
        "id": "RBHU-9AMtfWx",
        "colab": {
          "base_uri": "https://localhost:8080/"
        },
        "outputId": "73f027f2-f028-44f0-e034-208296a70209"
      },
      "outputs": [
        {
          "output_type": "stream",
          "name": "stdout",
          "text": [
            "1 {'name': 'Анна', 'age': 24, 'sex': 'male', 'revenue': 12000}\n"
          ]
        }
      ],
      "source": [
        "# в цикле пройдемся по ключам и значениям словаря\n",
        "\n",
        "for id, info in clients.items():\n",
        "\n",
        "  # и выведем их\n",
        "  print(id, info)\n",
        "\n",
        "  # однако уже после первого исполнения цикла, прервем его\n",
        "  break"
      ]
    },
    {
      "cell_type": "markdown",
      "metadata": {
        "id": "X03K_dMj3oFd"
      },
      "source": [
        "Цикл можно также прерывать при наступлении определенного условия."
      ]
    },
    {
      "cell_type": "code",
      "execution_count": null,
      "metadata": {
        "id": "SFqkq_3lfqrn",
        "colab": {
          "base_uri": "https://localhost:8080/"
        },
        "outputId": "445d3042-bdab-4c0c-fe79-9b1df3f191fb"
      },
      "outputs": [
        {
          "output_type": "stream",
          "name": "stdout",
          "text": [
            "6\n",
            "5\n",
            "4\n",
            "3\n",
            "2\n",
            "1\n"
          ]
        }
      ],
      "source": [
        "# начальное значение счетчика\n",
        "x = 6\n",
        "\n",
        "# будем исполнять цикл пока x не равен нулю\n",
        "\n",
        "while x != 0:\n",
        "\n",
        "  # выведем текущее значение счетчика\n",
        "  print(x)\n",
        "\n",
        "  # и уменьшим (!) его на 1\n",
        "  x -= 1\n",
        "\n",
        "  # если значение счетчика станет равным 3, прервем цикл\n",
        "  if x == 3: break"
      ]
    },
    {
      "cell_type": "markdown",
      "metadata": {
        "id": "7irtPBXt3oFd"
      },
      "source": [
        "Мы прервали цикл, когда значение счетчика стало равно трем.<br>\n",
        "\n",
        "Также обратите внимание, что здесь цикл двигается в сторону уменьшения (с помощью -=). Мы начали с x = 6 и должны были вывести значения 6, 5, 4, 3, 2, 1, если бы условие не прервало выполнение цикла."
      ]
    },
    {
      "cell_type": "markdown",
      "metadata": {
        "id": "L3Mf_VrMjX_9"
      },
      "source": [
        "**Оператор continue**"
      ]
    },
    {
      "cell_type": "markdown",
      "metadata": {
        "id": "naTQb-gK3oFd"
      },
      "source": [
        "Иногда цикл не нужно прерывать, но нужно как бы «перескочить» одну или несколько итераций этого цикла. В этом случае применяется оператор continue.<br>\n",
        "\n",
        "Предположим, нам нужно создать последовательность целых чисел от 1 до 10 включительно и вывести только четные числа."
      ]
    },
    {
      "cell_type": "code",
      "execution_count": null,
      "metadata": {
        "id": "fQOiiMyTjdic",
        "colab": {
          "base_uri": "https://localhost:8080/"
        },
        "outputId": "a2917460-3953-4293-bf1e-f70c17eeeffe"
      },
      "outputs": [
        {
          "output_type": "stream",
          "name": "stdout",
          "text": [
            "2\n",
            "4\n",
            "6\n",
            "8\n"
          ]
        }
      ],
      "source": [
        "# выведем все четные числа в диапазоне от 1 до 10 включительно.\n",
        "\n",
        "# с помощью функции range создадим последовательность от 1 до 10 с шагом 1\n",
        "for i in range(1, 10):\n",
        "\n",
        "  # если остаток от деления на два не равен нулю (то есть число нечетное)\n",
        "  if i % 2 != 0:\n",
        "\n",
        "    # идем к следующему числу последовательности\n",
        "    continue\n",
        "\n",
        "  # в противном случае выводим число\n",
        "  else:\n",
        "    print(i)"
      ]
    },
    {
      "cell_type": "code",
      "execution_count": null,
      "metadata": {
        "id": "QpDsG9Qu3oFd"
      },
      "outputs": [],
      "source": [
        "a = 15"
      ]
    },
    {
      "cell_type": "code",
      "execution_count": null,
      "metadata": {
        "id": "7u-CwJLc3oFd",
        "tags": [],
        "colab": {
          "base_uri": "https://localhost:8080/"
        },
        "outputId": "5d500e10-5207-4606-a58f-205fc960b463"
      },
      "outputs": [
        {
          "output_type": "stream",
          "name": "stdout",
          "text": [
            "14 12 10 8 6 4 2 0 "
          ]
        }
      ],
      "source": [
        "while a:\n",
        "\n",
        "    a = a - 1 # a -= 1\n",
        "\n",
        "    if a % 2 != 0: continue\n",
        "    print(a, end=' ')"
      ]
    },
    {
      "cell_type": "code",
      "execution_count": null,
      "metadata": {
        "id": "MenDiM7T3oFd"
      },
      "outputs": [],
      "source": [
        "my_sum = 0"
      ]
    },
    {
      "cell_type": "code",
      "execution_count": null,
      "metadata": {
        "id": "BowTm6zo3oFd",
        "tags": [],
        "colab": {
          "base_uri": "https://localhost:8080/"
        },
        "outputId": "0e13a518-e523-4de8-f768-8851c1e27046"
      },
      "outputs": [
        {
          "output_type": "stream",
          "name": "stdout",
          "text": [
            "Введите значение: 20\n",
            "Текущая сумма:  20\n",
            "Введите значение: 30\n",
            "Текущая сумма:  50\n",
            "Введите значение: 0\n",
            "Конечная сумма:  50\n"
          ]
        }
      ],
      "source": [
        "while True:\n",
        "\n",
        "    val = int(input('Введите значение: '))\n",
        "\n",
        "    if val == 0: break\n",
        "    my_sum += val\n",
        "\n",
        "    print('Текущая сумма: ', my_sum)\n",
        "\n",
        "print('Конечная сумма: ', my_sum)"
      ]
    },
    {
      "cell_type": "markdown",
      "metadata": {
        "id": "7nUOL75ZFJm6"
      },
      "source": [
        "# Задание\n",
        "Напишите программу, которая составляет **строку из полученных от пользователя слов**, пока длина строки не достигнет 50 символов. Слова, начинающиеся с гласных, в строку не включаются.\n",
        "\n",
        "**Пример:**\n",
        "\n",
        "*Входные данные:*\n",
        "       \n",
        "о<br>\n",
        "бойся<br>\n",
        "Бармаглота<br>\n",
        "сын<br>\n",
        "он<br>\n",
        "так<br>\n",
        "свиреп<br>\n",
        "и<br>\n",
        "лик<br>\n",
        "а<br>\n",
        "в глуще<br>\n",
        "рымит\n",
        "    \n",
        "*Выходные данные:*\n",
        "        \n",
        "бойся Бармаглота сын так свиреп лик в глуще рымит"
      ]
    },
    {
      "cell_type": "code",
      "execution_count": null,
      "metadata": {
        "id": "333rweAKFJm6",
        "colab": {
          "base_uri": "https://localhost:8080/"
        },
        "outputId": "cee0c8fe-1603-4f0e-ee7a-e1605c6b9bc7"
      },
      "outputs": [
        {
          "output_type": "stream",
          "name": "stdout",
          "text": [
            "Введите слова по одному (для завершения ввода введите пустую строку):\n"
          ]
        }
      ],
      "source": []
    },
    {
      "cell_type": "code",
      "execution_count": null,
      "metadata": {
        "id": "cZfjOKhEFJm7"
      },
      "outputs": [],
      "source": []
    },
    {
      "cell_type": "code",
      "execution_count": null,
      "metadata": {
        "id": "OIrAHbgLFJm7",
        "colab": {
          "base_uri": "https://localhost:8080/"
        },
        "outputId": "c81e4490-b86c-4f4b-97a5-77b2ce4265ca"
      },
      "outputs": [
        {
          "output_type": "stream",
          "name": "stdout",
          "text": [
            "Для выхода из цикла, введите 'стоп' в строку ввода:\n",
            "Введите слово: вода\n",
            "Введите слово: еда\n",
            "Введите слово: кола\n",
            "Введите слово: анапа\n",
            "Введите слово: шлюпка\n",
            "Введите слово: катер\n",
            "Введите слово: звезда\n",
            "Введите слово: солнце\n",
            "Введите слово: арбуз\n",
            "Введите слово: артем\n",
            "Введите слово: стоп\n",
            "вода кола шлюпка катер звезда солнце \n"
          ]
        }
      ],
      "source": [
        "print(\"Для выхода из цикла, введите 'стоп' в строку ввода:\")\n",
        "\n",
        "result_string = \"\"\n",
        "vowels = \"аоуыэеёиюяaoeiuy\"\n",
        "\n",
        "while len(result_string) < 50:\n",
        "    word = input(\"Введите слово: \")\n",
        "\n",
        "    if word.lower() == 'стоп':\n",
        "        break\n",
        "\n",
        "    if word[0].lower() not in vowels and \\\n",
        "    len(result_string) + len(word) + 1 <= 50:\n",
        "        result_string += word + \" \"\n",
        "\n",
        "print(result_string)"
      ]
    }
  ],
  "metadata": {
    "colab": {
      "provenance": []
    },
    "kernelspec": {
      "display_name": "Python 3 (ipykernel)",
      "language": "python",
      "name": "python3"
    },
    "language_info": {
      "codemirror_mode": {
        "name": "ipython",
        "version": 3
      },
      "file_extension": ".py",
      "mimetype": "text/x-python",
      "name": "python",
      "nbconvert_exporter": "python",
      "pygments_lexer": "ipython3",
      "version": "3.11.7"
    }
  },
  "nbformat": 4,
  "nbformat_minor": 0
}
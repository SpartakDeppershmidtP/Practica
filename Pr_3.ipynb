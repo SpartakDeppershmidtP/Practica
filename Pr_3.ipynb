{
  "cells": [
    {
      "cell_type": "markdown",
      "metadata": {
        "id": "0AoPSXyUTTLc"
      },
      "source": [
        "# Практика 03. Базовые конструкции языка Python. Коллекции данных: строки, списки, кортежи, множества, словари. Решение прикладных задач"
      ]
    },
    {
      "cell_type": "markdown",
      "metadata": {
        "id": "a9p6cc-zh8mo"
      },
      "source": [
        "**Списки**: содержат значения.<br>\n",
        "Ими могут быть числа, строки, имена и так далее:<br>\n",
        "Модели автомобилей;<br>\n",
        "Имена собак;<br>\n",
        "Посещенные страны;<br>\n",
        "Посетители магазина и так далее.<br>\n",
        "\n",
        "**Кортежи**: этот тип данных очень похож на список, но с одним исключением.<br>\n",
        "**После создания кортежа его значения нельзя менять**. Списки — изменяемые, а кортежи — нет.<br>\n",
        "Это может понадобиться в определенных случаях для достижения безопасности или просто удобства.<br>\n",
        "В кортежах могут, например, храниться:<br>\n",
        "Все месяцы года;<br>\n",
        "Дисциплины Олимпийских игр;<br>\n",
        "Штаты США.<br>\n",
        "Важно только отметить, что кортежи не являются вообще неизменяемыми, ведь вы всегда можете переписать код, поменяв или удалив определенные значения. Речь идет о том, что значения не могут быть изменены после создания — во время работы программы.\n",
        "\n",
        "**Словари** — это пары из ключа и значения.<br>\n",
        "Словари также являются изменяемыми.<br>\n",
        "Это удобная структура данных, которая подходит для сохранения значения с определенными дополнительными параметрами, например:<br>\n",
        "Данные клиента включая список его покупок<br>\n",
        "Названия стран + их количество олимпийских медалей<br>\n",
        "Автомобильные бренды и их модели<br>\n",
        "Страны с количеством ДТП с летальным исходом<br><br>\n",
        "\n",
        "Функции **list()** и **dict()** очень простые. Они помогают создавать соответствующие структуры данных.<br>\n",
        "List(), dict() и float() используют круглые скобки, потому что они являются функциями.<br>\n",
        "Скобки сами по себе представляют кортеж, и их не стоит путать со скобками в функциях, например, list()."
      ]
    },
    {
      "cell_type": "markdown",
      "metadata": {
        "id": "RlZjHIePh8mq"
      },
      "source": [
        "**Инициализировать список, кортеж и словарь** можно несколькими способами.<br>\n",
        "Один из наиболее распространенных — присвоить соответствующие символы переменной.<br>\n",
        "Для списка эти символы — [], для кортежа — (), а для словаря — {}.<br>\n",
        "Если присвоить эти символы без значений внутри, то будут созданы соответствующие пустые структуры данных."
      ]
    },
    {
      "cell_type": "code",
      "execution_count": 188,
      "metadata": {
        "id": "ngdDfNQ0h8mr"
      },
      "outputs": [],
      "source": [
        "import numpy as np\n",
        "import pandas as pd"
      ]
    },
    {
      "cell_type": "markdown",
      "metadata": {
        "id": "lIM5gFo4TbUg"
      },
      "source": [
        "## Часть 1. Списки"
      ]
    },
    {
      "cell_type": "markdown",
      "metadata": {
        "id": "PPEbDV8hCAGO"
      },
      "source": [
        "### Основы работы со списками"
      ]
    },
    {
      "cell_type": "code",
      "execution_count": null,
      "metadata": {
        "id": "x3wxNu5jthst"
      },
      "outputs": [],
      "source": [
        "# пустой список можно создать (инициализировать) через [] или функцию list()\n",
        "\n",
        "some_list_1 = []\n",
        "some_list_2 = list()"
      ]
    },
    {
      "cell_type": "code",
      "execution_count": null,
      "metadata": {
        "id": "IMBJFpJJ-I8A",
        "colab": {
          "base_uri": "https://localhost:8080/"
        },
        "outputId": "2e26d669-435f-4069-ab04-770ef7c20ee0"
      },
      "outputs": [
        {
          "output_type": "stream",
          "name": "stdout",
          "text": [
            "[] []\n"
          ]
        }
      ],
      "source": [
        "print(some_list_1, some_list_2)"
      ]
    },
    {
      "cell_type": "code",
      "execution_count": null,
      "metadata": {
        "id": "tLWO1t--thwP",
        "colab": {
          "base_uri": "https://localhost:8080/"
        },
        "outputId": "e339f63f-d49a-4988-8f8d-907c4a97b4d1"
      },
      "outputs": [
        {
          "output_type": "execute_result",
          "data": {
            "text/plain": [
              "[3, 'число три', ['число', 'три'], {'число': 3}]"
            ]
          },
          "metadata": {},
          "execution_count": 4
        }
      ],
      "source": [
        "# элементами списка могут, в частности числа, строки, другие списки и словари\n",
        "\n",
        "number_three = [3, 'число три', ['число', 'три'], {'число': 3}]\n",
        "number_three"
      ]
    },
    {
      "cell_type": "code",
      "execution_count": null,
      "metadata": {
        "id": "_jEdnwKSkbSE",
        "colab": {
          "base_uri": "https://localhost:8080/"
        },
        "outputId": "9a0d153e-1868-4583-cf36-5b0f475983c0"
      },
      "outputs": [
        {
          "output_type": "execute_result",
          "data": {
            "text/plain": [
              "4"
            ]
          },
          "metadata": {},
          "execution_count": 5
        }
      ],
      "source": [
        "# длина списка рассчитывается через функцию len()\n",
        "\n",
        "len(number_three)"
      ]
    },
    {
      "cell_type": "markdown",
      "metadata": {
        "id": "9KkaG7NJDOMW"
      },
      "source": [
        "### Индекс и срез списка"
      ]
    },
    {
      "cell_type": "code",
      "execution_count": null,
      "metadata": {
        "id": "b3GS578dDRSH"
      },
      "outputs": [],
      "source": [
        "# у списка есть положительный и отрицательный индексы\n",
        "\n",
        "abc_list = ['a', 'b', 'c', 'd', 'e']"
      ]
    },
    {
      "cell_type": "code",
      "execution_count": null,
      "metadata": {
        "id": "MC-n_2V7_Bf2",
        "colab": {
          "base_uri": "https://localhost:8080/"
        },
        "outputId": "a733c64a-608d-43ff-bbf2-c7d186fdb511"
      },
      "outputs": [
        {
          "output_type": "stream",
          "name": "stdout",
          "text": [
            "a e\n"
          ]
        }
      ],
      "source": [
        "# воспользуемся ими для вывода первого и последнего элементов\n",
        "\n",
        "print(abc_list[0], abc_list[-1])"
      ]
    },
    {
      "cell_type": "code",
      "execution_count": null,
      "metadata": {
        "id": "LsfIU3Z3F6Qo"
      },
      "outputs": [],
      "source": [
        "# при работе с вложенным списком\n",
        "\n",
        "salary_list = [['Анна', 90000], ['Игорь', 85000], ['Алексей', 95000]]"
      ]
    },
    {
      "cell_type": "code",
      "execution_count": null,
      "metadata": {
        "id": "Q4NH6ufx_KOt",
        "colab": {
          "base_uri": "https://localhost:8080/"
        },
        "outputId": "63aa5cf5-c305-42e7-e512-a96408210383"
      },
      "outputs": [
        {
          "output_type": "execute_result",
          "data": {
            "text/plain": [
              "85000"
            ]
          },
          "metadata": {},
          "execution_count": 12
        }
      ],
      "source": [
        "# вначале указываем индекс вложенного списка, а затем индекс элемента в нем\n",
        "\n",
        "salary_list[1][1]"
      ]
    },
    {
      "cell_type": "code",
      "execution_count": null,
      "metadata": {
        "id": "hzcsnn7LISyc",
        "colab": {
          "base_uri": "https://localhost:8080/"
        },
        "outputId": "81ee2493-8497-4aad-e476-f7c17fd76562"
      },
      "outputs": [
        {
          "output_type": "execute_result",
          "data": {
            "text/plain": [
              "2"
            ]
          },
          "metadata": {},
          "execution_count": 13
        }
      ],
      "source": [
        "# индекс элемента в списке можно узнать с помощью метода .index()\n",
        "\n",
        "abc_list.index('c')"
      ]
    },
    {
      "cell_type": "code",
      "execution_count": null,
      "metadata": {
        "id": "ARwsxkVfrFOQ",
        "colab": {
          "base_uri": "https://localhost:8080/"
        },
        "outputId": "bcc0aa76-8670-4b0b-bbf5-efce74fe63f8"
      },
      "outputs": [
        {
          "output_type": "execute_result",
          "data": {
            "text/plain": [
              "1"
            ]
          },
          "metadata": {},
          "execution_count": 14
        }
      ],
      "source": [
        "# метод .index() можно применить и ко вложенному списку\n",
        "\n",
        "salary_list[0].index(90000)"
      ]
    },
    {
      "cell_type": "markdown",
      "metadata": {
        "id": "OUMU4VfD_rYD"
      },
      "source": [
        "В случае если необходимо получить **срез списка**, то так же как и в случае строк, указывается начало среза и элемент, до которого (но не включая который) нужно сделать срез."
      ]
    },
    {
      "cell_type": "code",
      "execution_count": null,
      "metadata": {
        "id": "VvcCb_ZaItpp"
      },
      "outputs": [],
      "source": [
        "# создадим список с днями недели\n",
        "\n",
        "days_list = ['Пн', 'Вт', 'Ср', 'Чт', 'Пт', 'Сб', 'Вс']"
      ]
    },
    {
      "cell_type": "code",
      "execution_count": null,
      "metadata": {
        "id": "lYZxnJ7h_iGB",
        "colab": {
          "base_uri": "https://localhost:8080/"
        },
        "outputId": "db982902-f0cb-4e40-e5c4-10eacaf48928"
      },
      "outputs": [
        {
          "output_type": "execute_result",
          "data": {
            "text/plain": [
              "['Вт', 'Ср', 'Чт', 'Пт']"
            ]
          },
          "metadata": {},
          "execution_count": 19
        }
      ],
      "source": [
        "# и выведем со второго по пятый элемент включительно\n",
        "\n",
        "days_list[1:5]"
      ]
    },
    {
      "cell_type": "markdown",
      "metadata": {
        "id": "ZnsuRE2TAD7k"
      },
      "source": [
        "У среза есть третий параметр — **шаг**. Он позволяет пропускать заданное количество элементов."
      ]
    },
    {
      "cell_type": "code",
      "execution_count": null,
      "metadata": {
        "id": "vFJFJGigJ-kQ",
        "colab": {
          "base_uri": "https://localhost:8080/"
        },
        "outputId": "dea0c798-6560-4283-dafc-571519260249"
      },
      "outputs": [
        {
          "output_type": "execute_result",
          "data": {
            "text/plain": [
              "['Пн', 'Ср', 'Пт']"
            ]
          },
          "metadata": {},
          "execution_count": 20
        }
      ],
      "source": [
        "# выведем каждый второй элемент в срезе с первого по пятый\n",
        "\n",
        "days_list[0:5:2]"
      ]
    },
    {
      "cell_type": "markdown",
      "metadata": {
        "id": "TxrQhCGkBvBJ"
      },
      "source": [
        "Можно проверить, содержится ли элемент в списке, с помощью ключевого слова `in`."
      ]
    },
    {
      "cell_type": "code",
      "execution_count": null,
      "metadata": {
        "id": "n6Q6not7t9GH",
        "colab": {
          "base_uri": "https://localhost:8080/"
        },
        "outputId": "36013397-b442-46ef-91a3-8c27b66d82f0"
      },
      "outputs": [
        {
          "output_type": "execute_result",
          "data": {
            "text/plain": [
              "True"
            ]
          },
          "metadata": {},
          "execution_count": 21
        }
      ],
      "source": [
        "# проверим есть ли \"Пн\" в списке\n",
        "\n",
        "'Пн' in days_list"
      ]
    },
    {
      "cell_type": "code",
      "execution_count": null,
      "metadata": {
        "id": "HpVMXHWDuXy7",
        "colab": {
          "base_uri": "https://localhost:8080/"
        },
        "outputId": "69b0952b-23e1-4b30-e0ed-928b37810007"
      },
      "outputs": [
        {
          "output_type": "stream",
          "name": "stdout",
          "text": [
            "Такой день недели есть\n"
          ]
        }
      ],
      "source": [
        "# если \"Вт\" есть в списке\n",
        "\n",
        "if 'Вт' in days_list:\n",
        "\n",
        "  # выведем сообщение\n",
        "\n",
        "  print('Такой день недели есть')"
      ]
    },
    {
      "cell_type": "markdown",
      "metadata": {
        "id": "msuaGJ1OLXrB"
      },
      "source": [
        "### Добавление, замена и удаление элементов списка"
      ]
    },
    {
      "cell_type": "code",
      "execution_count": null,
      "metadata": {
        "id": "fEyyqpUDLcsY"
      },
      "outputs": [],
      "source": [
        "# создадим список\n",
        "\n",
        "weekdays = ['Понедельник', 'Вторник']"
      ]
    },
    {
      "cell_type": "code",
      "execution_count": null,
      "metadata": {
        "id": "2YK5UIHOnZwq",
        "colab": {
          "base_uri": "https://localhost:8080/"
        },
        "outputId": "41776049-70a3-4791-f717-d6a69c67c43a"
      },
      "outputs": [
        {
          "output_type": "execute_result",
          "data": {
            "text/plain": [
              "['Понедельник', 'Вторник', 'Среда', 'Четверг', 'среда']"
            ]
          },
          "metadata": {},
          "execution_count": 31
        }
      ],
      "source": [
        "# добавим один элемент в конец списка с помощью метода .append()\n",
        "\n",
        "weekdays.append('среда')\n",
        "weekdays"
      ]
    },
    {
      "cell_type": "markdown",
      "metadata": {
        "id": "MMZChMQNCfy-"
      },
      "source": [
        "Метод `.insert()` позволяет добавить элемент в середину списка, при этом индекс последующих элементов сдвигается."
      ]
    },
    {
      "cell_type": "code",
      "execution_count": null,
      "metadata": {
        "id": "Yvrd-wOMnZ9d",
        "colab": {
          "base_uri": "https://localhost:8080/"
        },
        "outputId": "cb3287e4-7b0b-4ffe-f1d5-28f2517503af"
      },
      "outputs": [
        {
          "output_type": "execute_result",
          "data": {
            "text/plain": [
              "['Понедельник', 'Вторник', 'Среда', 'Четверг', 'среда']"
            ]
          },
          "metadata": {},
          "execution_count": 28
        }
      ],
      "source": [
        "# добавим элемент в определенное место в списке через желаемый индекс этого элемента\n",
        "\n",
        "weekdays.insert(2, 'Среда')\n",
        "weekdays"
      ]
    },
    {
      "cell_type": "code",
      "execution_count": null,
      "metadata": {
        "id": "zPEqoCsrzKEB",
        "colab": {
          "base_uri": "https://localhost:8080/"
        },
        "outputId": "ba832495-10c6-4ad7-a587-1de44cb52466"
      },
      "outputs": [
        {
          "output_type": "execute_result",
          "data": {
            "text/plain": [
              "['Понедельник', 'Вторник', 'Среда', 'Пятница', 'среда']"
            ]
          },
          "metadata": {},
          "execution_count": 32
        }
      ],
      "source": [
        "# изменим четвертый элемент в списке\n",
        "\n",
        "weekdays[3] = 'Пятница'\n",
        "weekdays"
      ]
    },
    {
      "cell_type": "markdown",
      "metadata": {
        "id": "rjSCIfrRCqUv"
      },
      "source": [
        "Элемент можно **удалить**, указав либо его название, либо индекс."
      ]
    },
    {
      "cell_type": "code",
      "execution_count": null,
      "metadata": {
        "id": "gsWduacznqg4",
        "colab": {
          "base_uri": "https://localhost:8080/"
        },
        "outputId": "2d95f5a7-b143-4c2b-f52f-cbb6b61580f7"
      },
      "outputs": [
        {
          "output_type": "execute_result",
          "data": {
            "text/plain": [
              "['Понедельник', 'Вторник', 'Среда', 'среда']"
            ]
          },
          "metadata": {},
          "execution_count": 33
        }
      ],
      "source": [
        "# удалим элемент по его значению\n",
        "\n",
        "weekdays.remove('Пятница')\n",
        "weekdays"
      ]
    },
    {
      "cell_type": "code",
      "execution_count": null,
      "metadata": {
        "id": "D2bnKXNAxmq2",
        "colab": {
          "base_uri": "https://localhost:8080/"
        },
        "outputId": "a856da04-64f2-44d7-b327-9a0e2c4bfd96"
      },
      "outputs": [
        {
          "output_type": "execute_result",
          "data": {
            "text/plain": [
              "['Понедельник', 'Вторник', 'среда']"
            ]
          },
          "metadata": {},
          "execution_count": 34
        }
      ],
      "source": [
        "# удалим элемент по его индексу через ключевое слово del\n",
        "\n",
        "del(weekdays[2])\n",
        "weekdays"
      ]
    },
    {
      "cell_type": "code",
      "execution_count": null,
      "metadata": {
        "id": "CooE-D9ouFeP",
        "colab": {
          "base_uri": "https://localhost:8080/",
          "height": 35
        },
        "outputId": "ecb77d4f-b24f-45bb-99fc-8116b758a26f"
      },
      "outputs": [
        {
          "output_type": "execute_result",
          "data": {
            "text/plain": [
              "'Вторник'"
            ],
            "application/vnd.google.colaboratory.intrinsic+json": {
              "type": "string"
            }
          },
          "metadata": {},
          "execution_count": 35
        }
      ],
      "source": [
        "# сделаем то же самое с помощью метода .pop()\n",
        "# этот метод выводит удаляемый элемент\n",
        "\n",
        "weekdays.pop(1)"
      ]
    },
    {
      "cell_type": "markdown",
      "metadata": {
        "id": "eYWdqi2wC6D3"
      },
      "source": [
        "Все эти операции возможны благодаря тому, что **списки** (1) **упорядочены** и (2) **изменяемы**."
      ]
    },
    {
      "cell_type": "code",
      "execution_count": null,
      "metadata": {
        "id": "kM8rmPNXuyN6",
        "colab": {
          "base_uri": "https://localhost:8080/"
        },
        "outputId": "4e090e56-2b78-4ffe-8a68-954dfad7c303"
      },
      "outputs": [
        {
          "output_type": "execute_result",
          "data": {
            "text/plain": [
              "['Понедельник', 'среда']"
            ]
          },
          "metadata": {},
          "execution_count": 36
        }
      ],
      "source": [
        "# посмотрим, что осталось в списке\n",
        "\n",
        "weekdays"
      ]
    },
    {
      "cell_type": "markdown",
      "metadata": {
        "id": "MWP0v0fz0IQ4"
      },
      "source": [
        "### Сложение списков"
      ]
    },
    {
      "cell_type": "markdown",
      "metadata": {
        "id": "3oSonJa7DRyG"
      },
      "source": [
        "Добавить к списку еще один список можно с помощью метода `.extend()`."
      ]
    },
    {
      "cell_type": "code",
      "execution_count": null,
      "metadata": {
        "id": "TUkNQwzwDDO1"
      },
      "outputs": [],
      "source": [
        "more_weekdays = ['Вторник', 'Среда', 'Четверг', 'Пятница']"
      ]
    },
    {
      "cell_type": "code",
      "execution_count": null,
      "metadata": {
        "id": "cwu9M49e0HlB",
        "colab": {
          "base_uri": "https://localhost:8080/"
        },
        "outputId": "1b642bbe-be43-45b5-c0a2-d9efe0dfaea7"
      },
      "outputs": [
        {
          "output_type": "execute_result",
          "data": {
            "text/plain": [
              "['Понедельник', 'среда', 'Вторник', 'Среда', 'Четверг', 'Пятница']"
            ]
          },
          "metadata": {},
          "execution_count": 38
        }
      ],
      "source": [
        "# соединить два списка можно с помощью метода .extend()\n",
        "\n",
        "weekdays.extend(more_weekdays)\n",
        "weekdays"
      ]
    },
    {
      "cell_type": "markdown",
      "metadata": {
        "id": "rRqPqRc0DXQN"
      },
      "source": [
        "Кроме того, два списка можно просто сложить (**concatenate**)."
      ]
    },
    {
      "cell_type": "code",
      "execution_count": null,
      "metadata": {
        "id": "bseB1BUwDIti"
      },
      "outputs": [],
      "source": [
        "weekend = ['Суббота', 'Воскресенье']"
      ]
    },
    {
      "cell_type": "code",
      "execution_count": null,
      "metadata": {
        "id": "CE07IDeZx0cl",
        "colab": {
          "base_uri": "https://localhost:8080/"
        },
        "outputId": "7ecbff8f-9519-4790-a0b9-a2dd26c5cfd3"
      },
      "outputs": [
        {
          "output_type": "stream",
          "name": "stdout",
          "text": [
            "['Понедельник', 'среда', 'Вторник', 'Среда', 'Четверг', 'Пятница', 'Суббота', 'Воскресенье']\n"
          ]
        }
      ],
      "source": [
        "# или просто сложив два списка\n",
        "\n",
        "print(weekdays + weekend)"
      ]
    },
    {
      "cell_type": "code",
      "execution_count": null,
      "metadata": {
        "id": "pJcSZ0jiz840",
        "colab": {
          "base_uri": "https://localhost:8080/"
        },
        "outputId": "b973ff62-abb3-4632-ef84-ad1ca22a0468"
      },
      "outputs": [
        {
          "output_type": "execute_result",
          "data": {
            "text/plain": [
              "['Понедельник', 'Понедельник']"
            ]
          },
          "metadata": {},
          "execution_count": 41
        }
      ],
      "source": [
        "# иногда бывает полезно \"размножить\" элементы списка\n",
        "\n",
        "['Понедельник'] * 2"
      ]
    },
    {
      "cell_type": "code",
      "execution_count": null,
      "metadata": {
        "id": "3MRsPPs30N1V",
        "colab": {
          "base_uri": "https://localhost:8080/"
        },
        "outputId": "6c1e2e65-782a-4335-faac-2c4dd03c2fa6"
      },
      "outputs": [
        {
          "output_type": "execute_result",
          "data": {
            "text/plain": [
              "['Понедельник', 'Понедельник', 'Вторник', 'Вторник']"
            ]
          },
          "metadata": {},
          "execution_count": 42
        }
      ],
      "source": [
        "# такие \"произведения\" также можно складывать\n",
        "\n",
        "['Понедельник'] * 2 + ['Вторник'] * 2"
      ]
    },
    {
      "cell_type": "markdown",
      "metadata": {
        "id": "CZZ2Tq0yq4l5"
      },
      "source": [
        "### Сортировка списков"
      ]
    },
    {
      "cell_type": "markdown",
      "metadata": {
        "id": "mCpSkB78GLb8"
      },
      "source": [
        "Для сортировки списка можно использовать функцию `sorted()` и метод `.sort()`. Функция `sorted()` не изменяет объект и сразу выводит результат сортировки."
      ]
    },
    {
      "cell_type": "code",
      "execution_count": null,
      "metadata": {
        "id": "zTBWIYWZr80H"
      },
      "outputs": [],
      "source": [
        "# возьмем список чисел\n",
        "\n",
        "nums = [25, 10, 30, 20, 5, 15]"
      ]
    },
    {
      "cell_type": "code",
      "execution_count": null,
      "metadata": {
        "id": "Zt9iwWx3q7IL",
        "colab": {
          "base_uri": "https://localhost:8080/"
        },
        "outputId": "4c0c44a3-5f79-4c4f-a94c-7f04c38939d0"
      },
      "outputs": [
        {
          "output_type": "execute_result",
          "data": {
            "text/plain": [
              "[5, 10, 15, 20, 25, 30]"
            ]
          },
          "metadata": {},
          "execution_count": 44
        }
      ],
      "source": [
        "# и отсортируем с помощью функции sorted(), результат выводится сразу\n",
        "\n",
        "sorted(nums)"
      ]
    },
    {
      "cell_type": "code",
      "execution_count": null,
      "metadata": {
        "id": "vS7G44sVs0jv",
        "colab": {
          "base_uri": "https://localhost:8080/"
        },
        "outputId": "573cfc5f-64b7-47f0-8688-0f1f9a38b9b2"
      },
      "outputs": [
        {
          "output_type": "execute_result",
          "data": {
            "text/plain": [
              "[25, 10, 30, 20, 5, 15]"
            ]
          },
          "metadata": {},
          "execution_count": 45
        }
      ],
      "source": [
        "# исходный список при этом не изменился\n",
        "\n",
        "nums"
      ]
    },
    {
      "cell_type": "code",
      "execution_count": null,
      "metadata": {
        "id": "Qbi91ZlWv116",
        "colab": {
          "base_uri": "https://localhost:8080/"
        },
        "outputId": "6b711595-f933-479e-9e57-a278202aa786"
      },
      "outputs": [
        {
          "output_type": "execute_result",
          "data": {
            "text/plain": [
              "[5, 10, 15, 20, 25, 30]"
            ]
          },
          "metadata": {},
          "execution_count": 46
        }
      ],
      "source": [
        "# если поместить результат в переменную, изменения сохранятся\n",
        "\n",
        "sorted_nums = sorted(nums)\n",
        "sorted_nums"
      ]
    },
    {
      "cell_type": "code",
      "execution_count": null,
      "metadata": {
        "id": "J92cKG_ZsGJd"
      },
      "outputs": [],
      "source": [
        "# метод .sort() сохраняет результат, но не выводит его сразу\n",
        "# reverse = True задает сортировку по убыванию\n",
        "\n",
        "nums.sort(reverse = True)"
      ]
    },
    {
      "cell_type": "code",
      "execution_count": null,
      "metadata": {
        "id": "tMLloVoxsdcW",
        "colab": {
          "base_uri": "https://localhost:8080/"
        },
        "outputId": "f6eec0e1-4847-44c7-e3dc-5810bd8e310d"
      },
      "outputs": [
        {
          "output_type": "execute_result",
          "data": {
            "text/plain": [
              "[30, 25, 20, 15, 10, 5]"
            ]
          },
          "metadata": {},
          "execution_count": 52
        }
      ],
      "source": [
        "# выведем результат\n",
        "\n",
        "nums"
      ]
    },
    {
      "cell_type": "markdown",
      "metadata": {
        "id": "ooqWGl8lGiai"
      },
      "source": [
        "Метод `.reverse()` задает обратный порядок элементов списка (объект также изменяется, результат по умолчанию не выводится)."
      ]
    },
    {
      "cell_type": "code",
      "execution_count": null,
      "metadata": {
        "id": "kU0tmatFulXn"
      },
      "outputs": [],
      "source": [
        "# метод .reverse() задает обратный порядок, сохраняет, но не выводит результат\n",
        "\n",
        "nums.reverse()"
      ]
    },
    {
      "cell_type": "code",
      "execution_count": null,
      "metadata": {
        "id": "tRKlyUxRGpyw",
        "colab": {
          "base_uri": "https://localhost:8080/"
        },
        "outputId": "ffde8c48-411e-4297-d29b-e8679e22c154"
      },
      "outputs": [
        {
          "output_type": "execute_result",
          "data": {
            "text/plain": [
              "[5, 10, 15, 20, 25, 30]"
            ]
          },
          "metadata": {},
          "execution_count": 54
        }
      ],
      "source": [
        "# его также нужно вывести отдельно\n",
        "\n",
        "nums"
      ]
    },
    {
      "cell_type": "markdown",
      "metadata": {
        "id": "o_GVShKah8m8"
      },
      "source": [
        "# Задание\n",
        "1. Есть список имен `girls`:<br>\n",
        "girls = ['Иветта', 'Виолетта', 'Кассандра', 'Вирджиния', 'Амелия', 'Розамунда', 'Янина', 'Беатриса'].<br>\n",
        "Используя список `girls` и срезы, выведите на экран следующие списки:\n",
        "\n",
        "    ['Виолетта', 'Кассандра', 'Вирджиния\", 'Амелия']<br>\n",
        "    ['Вирджиния', 'Амелия', 'Розамунда\", 'Янина', 'Беатриса']<br>\n",
        "    ['Иветта', 'Виолетта\", 'Вирджиния', 'Амелия']<br>\n",
        "    ['Кассандра', 'Амелия', 'Розамунда']<br>\n",
        "*Подсказка:* для списков 3, 4 используйте срезы и сложение списков.<br>\n",
        "\n",
        "2. Даны два списка `a` и `b`:<br>\n",
        "   a = [1, 0, 9, 12, 18, 34, 89, 91, 33, 127]<br>\n",
        "   b = [2, 8, 9, 11, 76, 25, 44]<br>\n",
        "    \n",
        "* Выведите на экран первый элемент списка `a`, третий элемент списка `a`, последний элемент списка `a`.\n",
        "* Добавьте в список `b` элемент 7 (просто допишите в конец).\n",
        "* Замените пятый элемент списка `a` на число 8.\n",
        "* Создайте список `merged`, который включает в себя все элементы списка `a` и списка `b`.\n",
        "* Создайте новый список `с`, который получается заменой последнего элемента списка `a` на число 100. Сам список `a` измениться не должен!<br>\n",
        "  *Подсказка:* вспомните про метод `.copy()`.<br>\n",
        "\n",
        "3. Дан список `d`: d = [12, 3, 8, 125, 10, 98, 54, 199]. Используя цикл выведите на экран (последовательно, с новой строчки):\n",
        "\n",
        "* все элементы списка `d`;\n",
        "* логарифмированные значения элементов списка `d` (потребуется функция `log()` из библиотеки `math`);\n",
        "* замените пятый элемент списка `d` на 0. Проделайте те же операции, что и выше. Объясните, почему получаются такие результаты."
      ]
    },
    {
      "cell_type": "code",
      "execution_count": 121,
      "metadata": {
        "id": "yYbNS12A1-Bx",
        "colab": {
          "base_uri": "https://localhost:8080/"
        },
        "outputId": "ce504c78-4b93-4f1f-fd31-60f53dfe80fc"
      },
      "outputs": [
        {
          "output_type": "stream",
          "name": "stdout",
          "text": [
            "['Саша', 'Маша', 'Даша', 'Катя']\n",
            "['Даша', 'Катя', 'Надя', 'Люба', 'Люда']\n",
            "['Есения', 'Саша', 'Даша', 'Катя']\n",
            "['Маша', 'Катя', 'Надя']\n",
            "\n",
            "1) 10 30 128\n",
            "2) [10, 20, 30, 34, 8, 43, 97, 27, 94, 128]\n",
            "3) [10, 20, 30, 34, 8, 43, 97, 27, 94, 128, 4, 9, 3, 111, 67, 52, 22, 7]\n",
            "4) [10, 20, 30, 34, 8, 43, 97, 27, 94, 100]\n",
            "\n",
            "21\n",
            "6\n",
            "7\n",
            "521\n",
            "10\n",
            "89\n",
            "45\n",
            "299\n",
            "\n",
            "3.044522437723423\n",
            "1.791759469228055\n",
            "1.9459101490553132\n",
            "6.255750041753367\n",
            "2.302585092994046\n",
            "4.48863636973214\n",
            "3.8066624897703196\n",
            "5.700443573390687\n",
            "\n",
            "21\n",
            "6\n",
            "7\n",
            "521\n",
            "0\n",
            "89\n",
            "45\n",
            "299\n",
            "\n",
            "3.044522437723423\n",
            "1.791759469228055\n",
            "1.9459101490553132\n",
            "6.255750041753367\n",
            "ValueError, log от 0 не определен\n"
          ]
        }
      ],
      "source": [
        "import math as m\n",
        "\n",
        "girls = ['Есения', 'Саша', 'Маша', 'Даша', 'Катя', 'Надя', 'Люба', 'Люда']\n",
        "\n",
        "print(girls[1:5])\n",
        "print(girls[3:8])\n",
        "print(girls[0:2] + girls[3:5])\n",
        "print(girls[2:3] + girls[4:6])\n",
        "\n",
        "print()\n",
        "\n",
        "a = [10, 20, 30, 34, 28, 43, 97, 27, 94, 128]\n",
        "b = [4, 9, 3, 111, 67, 52, 22, 7]\n",
        "\n",
        "print('1)', a[0], a[2], a[-1])\n",
        "\n",
        "a[4] = 8\n",
        "print('2)', a)\n",
        "\n",
        "merged = a + b\n",
        "print('3)', merged)\n",
        "\n",
        "c = a.copy()\n",
        "c[-1] = 100\n",
        "print('4)', c)\n",
        "\n",
        "print()\n",
        "\n",
        "d = [21, 6, 7, 521, 10, 89, 45, 299]\n",
        "\n",
        "for num in d:\n",
        "    print(num)\n",
        "\n",
        "print()\n",
        "\n",
        "for num in d:\n",
        "    print(m.log(num))\n",
        "\n",
        "print()\n",
        "\n",
        "d[4] = 0\n",
        "\n",
        "for num in d:\n",
        "    print(num)\n",
        "\n",
        "print()\n",
        "\n",
        "try:\n",
        "    for num in d:\n",
        "        print(m.log(num))\n",
        "\n",
        "except:\n",
        "    print('ValueError, log от 0 не определен')\n",
        "\n",
        "# В случае с логарифмом после замены элемента на 0,\n",
        "# программа выбрасывает исключение ValueError,\n",
        "# так как логарифм от 0 не определен.\n",
        "# В Python это приводит к ошибке вычисления.\n",
        "# Поэтому логарифм всех элементов списка d,\n",
        "# можно вычислить только в случае, если в списке нет нулевых значений."
      ]
    },
    {
      "cell_type": "markdown",
      "metadata": {
        "id": "_Xyi6IdeuA-4"
      },
      "source": [
        "### Преобразование списка в строку"
      ]
    },
    {
      "cell_type": "code",
      "execution_count": 7,
      "metadata": {
        "id": "iUoGSZMq0JFD"
      },
      "outputs": [],
      "source": [
        "# дан список из строковых элементов\n",
        "\n",
        "str_list = ['P', 'y', 't', 'h', 'o', 'n']"
      ]
    },
    {
      "cell_type": "markdown",
      "metadata": {
        "id": "LKlvRGW-G0yG"
      },
      "source": [
        "Преобразуем список в строку с помощью метода `.join()`. Обратите внимание, пространство между элементами списка мы ничем не заполняем и для этого оставляем кавычки пустыми ''."
      ]
    },
    {
      "cell_type": "code",
      "execution_count": 8,
      "metadata": {
        "id": "KuKfbsZLuER1",
        "outputId": "fd098b06-1246-4262-b046-3d9ca750a9db",
        "colab": {
          "base_uri": "https://localhost:8080/",
          "height": 35
        }
      },
      "outputs": [
        {
          "output_type": "execute_result",
          "data": {
            "text/plain": [
              "'Python'"
            ],
            "application/vnd.google.colaboratory.intrinsic+json": {
              "type": "string"
            }
          },
          "metadata": {},
          "execution_count": 8
        }
      ],
      "source": [
        "# с помощью метода .join() можно соединить все элементы\n",
        "\n",
        "joined_str = ''.join(str_list)\n",
        "joined_str"
      ]
    },
    {
      "cell_type": "code",
      "execution_count": 9,
      "metadata": {
        "id": "WfMTmZcEzgky",
        "outputId": "5b07cda3-84fa-4d75-d4a2-afa941266014",
        "colab": {
          "base_uri": "https://localhost:8080/",
          "height": 35
        }
      },
      "outputs": [
        {
          "output_type": "execute_result",
          "data": {
            "text/plain": [
              "'P_y_t_h_o_n'"
            ],
            "application/vnd.google.colaboratory.intrinsic+json": {
              "type": "string"
            }
          },
          "metadata": {},
          "execution_count": 9
        }
      ],
      "source": [
        "# если в кавычках ничего не указывать, элементы просто соединятся, но можно указать любой другой элемент\n",
        "\n",
        "joined_str_ = '_'.join(str_list)\n",
        "joined_str_"
      ]
    },
    {
      "cell_type": "markdown",
      "metadata": {
        "id": "uEFM3lgzzr_k"
      },
      "source": [
        "### Арифметика в списках"
      ]
    },
    {
      "cell_type": "code",
      "execution_count": 15,
      "metadata": {
        "id": "tGBnQ-mFzwJw"
      },
      "outputs": [],
      "source": [
        "# дан список чисел\n",
        "\n",
        "nums_ = [3, 2, 1, 4, 5, 12, 3, 3, 7, 9, 11, 15]"
      ]
    },
    {
      "cell_type": "markdown",
      "metadata": {
        "id": "2HvUe7cHHMht"
      },
      "source": [
        "С помощью метода `.count()` можно посчитать частоту вхождения элемента в список."
      ]
    },
    {
      "cell_type": "code",
      "execution_count": 11,
      "metadata": {
        "id": "VjwNZw2JzwUG",
        "outputId": "d6bff078-7182-41ee-a5d6-bd528a5f81d5",
        "colab": {
          "base_uri": "https://localhost:8080/"
        }
      },
      "outputs": [
        {
          "output_type": "execute_result",
          "data": {
            "text/plain": [
              "3"
            ]
          },
          "metadata": {},
          "execution_count": 11
        }
      ],
      "source": [
        "# с помощью метода .count() мы можем посчитать частоту вхождения элемента в список\n"
      ]
    },
    {
      "cell_type": "code",
      "execution_count": 12,
      "metadata": {
        "id": "rrRSZEb13P0e",
        "outputId": "1a3a8472-c390-4594-f4b0-064985f8fb90",
        "colab": {
          "base_uri": "https://localhost:8080/"
        }
      },
      "outputs": [
        {
          "output_type": "stream",
          "name": "stdout",
          "text": [
            "1 15 75\n"
          ]
        }
      ],
      "source": [
        "# кроме того можно найти минимальное и максимальное значения и сумму элементов\n",
        "\n"
      ]
    },
    {
      "cell_type": "markdown",
      "metadata": {
        "id": "kY91ANMfXeRG"
      },
      "source": [
        "## Часть 2. Кортежи"
      ]
    },
    {
      "cell_type": "markdown",
      "metadata": {
        "id": "aF48XEbsCsV4"
      },
      "source": [
        "### Основы работы с кортежами"
      ]
    },
    {
      "cell_type": "markdown",
      "metadata": {
        "id": "38W_nGPz1-Bz"
      },
      "source": [
        "Кортеж (`tuple`) инициализируется при помощи круглых скобок () или функции `tuple()`."
      ]
    },
    {
      "cell_type": "code",
      "execution_count": 16,
      "metadata": {
        "id": "qVBaa3SrtlYB",
        "outputId": "7c766d68-f3f9-44c2-b9c2-5a39221d413e",
        "colab": {
          "base_uri": "https://localhost:8080/"
        }
      },
      "outputs": [
        {
          "output_type": "stream",
          "name": "stdout",
          "text": [
            "() ()\n"
          ]
        }
      ],
      "source": [
        "# пустой кортеж можно создать с помощью пустых круглых скобок () или функции tuple()\n",
        "\n",
        "tuple_1, tuple_2 = (), tuple()\n",
        "\n",
        "print(tuple_1, tuple_2)"
      ]
    },
    {
      "cell_type": "markdown",
      "metadata": {
        "id": "Np0roRVI1-Bz"
      },
      "source": [
        "Во многом **кортеж** похож на список. Это также **упорядоченный** набор элементов с индексом, начинающимся с нуля."
      ]
    },
    {
      "cell_type": "code",
      "execution_count": 17,
      "metadata": {
        "id": "Vv-okCt8tlau",
        "outputId": "91ad2b46-6f03-4592-8108-af59b13f516a",
        "colab": {
          "base_uri": "https://localhost:8080/",
          "height": 35
        }
      },
      "outputs": [
        {
          "output_type": "execute_result",
          "data": {
            "text/plain": [
              "'a'"
            ],
            "application/vnd.google.colaboratory.intrinsic+json": {
              "type": "string"
            }
          },
          "metadata": {},
          "execution_count": 17
        }
      ],
      "source": [
        "# в кортеже элементы упорядочены, а значит есть индекс\n",
        "\n",
        "letters = ('a', 'b', 'c')\n",
        "letters[0]"
      ]
    },
    {
      "cell_type": "markdown",
      "metadata": {
        "id": "DF86jaF41-Bz"
      },
      "source": [
        "Основное отличие от списка — **кортеж неизменяем**. После того как кортеж создан, добавлять или удалять элементы нельзя.<br>\n",
        "\n",
        "Например, заменить элемент по его индексу нельзя."
      ]
    },
    {
      "cell_type": "code",
      "execution_count": 18,
      "metadata": {
        "id": "3MERPn2I_o9D",
        "outputId": "e5e64403-5534-4299-a549-114f3e15d007",
        "colab": {
          "base_uri": "https://localhost:8080/",
          "height": 176
        }
      },
      "outputs": [
        {
          "output_type": "error",
          "ename": "TypeError",
          "evalue": "'tuple' object does not support item assignment",
          "traceback": [
            "\u001b[0;31m---------------------------------------------------------------------------\u001b[0m",
            "\u001b[0;31mTypeError\u001b[0m                                 Traceback (most recent call last)",
            "\u001b[0;32m<ipython-input-18-6c80919a1d1e>\u001b[0m in \u001b[0;36m<cell line: 3>\u001b[0;34m()\u001b[0m\n\u001b[1;32m      1\u001b[0m \u001b[0;31m# но изменить элемент, как мы это делали в списке, нельзя\u001b[0m\u001b[0;34m\u001b[0m\u001b[0;34m\u001b[0m\u001b[0m\n\u001b[1;32m      2\u001b[0m \u001b[0;34m\u001b[0m\u001b[0m\n\u001b[0;32m----> 3\u001b[0;31m \u001b[0mletters\u001b[0m\u001b[0;34m[\u001b[0m\u001b[0;36m0\u001b[0m\u001b[0;34m]\u001b[0m \u001b[0;34m=\u001b[0m \u001b[0;34m'd'\u001b[0m\u001b[0;34m\u001b[0m\u001b[0;34m\u001b[0m\u001b[0m\n\u001b[0m",
            "\u001b[0;31mTypeError\u001b[0m: 'tuple' object does not support item assignment"
          ]
        }
      ],
      "source": [
        "# но изменить элемент, как мы это делали в списке, нельзя\n",
        "\n",
        "letters[0] = 'd'"
      ]
    },
    {
      "cell_type": "markdown",
      "metadata": {
        "id": "f2INhC5p1-Bz"
      },
      "source": [
        "Для этого придется вначале преобразовать кортеж в список."
      ]
    },
    {
      "cell_type": "code",
      "execution_count": 19,
      "metadata": {
        "id": "3AKPc8KEBKDl",
        "outputId": "1aa1bd24-03b7-412f-8579-4c73307bee45",
        "colab": {
          "base_uri": "https://localhost:8080/"
        }
      },
      "outputs": [
        {
          "output_type": "execute_result",
          "data": {
            "text/plain": [
              "['d', 'b', 'c']"
            ]
          },
          "metadata": {},
          "execution_count": 19
        }
      ],
      "source": [
        "# для изменения элемента кортеж вначале нужно преобразовать в список\n",
        "\n",
        "letters = list(letters)\n",
        "letters[0] = 'd'\n",
        "letters"
      ]
    },
    {
      "cell_type": "code",
      "execution_count": 20,
      "metadata": {
        "id": "NvRmYNY2C36p",
        "outputId": "22af2120-ac72-492e-cb5b-3ae0af83b55d",
        "colab": {
          "base_uri": "https://localhost:8080/"
        }
      },
      "outputs": [
        {
          "output_type": "execute_result",
          "data": {
            "text/plain": [
              "tuple"
            ]
          },
          "metadata": {},
          "execution_count": 20
        }
      ],
      "source": [
        "# кортеж из одного элемента можно создать с помощью запятой\n",
        "\n",
        "let_a = ('a', )\n",
        "\n",
        "type(let_a)"
      ]
    },
    {
      "cell_type": "code",
      "execution_count": 21,
      "metadata": {
        "id": "D2vQPPY8C_2G",
        "outputId": "67714d2c-0c4c-4214-e6fb-3fd54de19a12",
        "colab": {
          "base_uri": "https://localhost:8080/"
        }
      },
      "outputs": [
        {
          "output_type": "execute_result",
          "data": {
            "text/plain": [
              "str"
            ]
          },
          "metadata": {},
          "execution_count": 21
        }
      ],
      "source": [
        "# если запятую не указывать, получится строка\n",
        "\n",
        "let_a = ('a')\n",
        "\n",
        "type(let_a)"
      ]
    },
    {
      "cell_type": "markdown",
      "metadata": {
        "id": "xLJn10TGXhlq"
      },
      "source": [
        "## Часть 3. Множества"
      ]
    },
    {
      "cell_type": "markdown",
      "metadata": {
        "id": "nRFV4nUx1-B1"
      },
      "source": [
        "Про множества важно запомнить три факта:\n",
        "\n",
        "- Элементы множества **изменять нельзя**\n",
        "- Множество — это набор **уникальных** элементов, а значит повторы в нем удаляются\n",
        "- У множества нет индекса, элементы **не упорядочены**"
      ]
    },
    {
      "cell_type": "markdown",
      "metadata": {
        "id": "69RH3VDxWu_5"
      },
      "source": [
        "### Создание множества"
      ]
    },
    {
      "cell_type": "markdown",
      "metadata": {
        "id": "POUemeim1-B1"
      },
      "source": [
        "Множество можно создать с помощью функции `set()` или перечислив элементы в фигурных скобках `{}`."
      ]
    },
    {
      "cell_type": "code",
      "execution_count": 22,
      "metadata": {
        "id": "7T9QjMN_tn5Q"
      },
      "outputs": [],
      "source": [
        "# пустое множество задается через функцию set()\n",
        "\n",
        "set_1 = set()"
      ]
    },
    {
      "cell_type": "code",
      "execution_count": 24,
      "metadata": {
        "id": "jBPP53t91-B1"
      },
      "outputs": [],
      "source": [
        "# непустое множество задается через функцию set() и список элементов\n",
        "\n",
        "set_2 = set(['a', 'b', 'c', 'c'])"
      ]
    },
    {
      "cell_type": "code",
      "execution_count": 25,
      "metadata": {
        "id": "BaS-Zuc51-B1"
      },
      "outputs": [],
      "source": [
        "# или путем перечисления элементов в фигурных скобках {}\n",
        "\n",
        "set_3 = {'a', 'b', 'c', 'c'}"
      ]
    },
    {
      "cell_type": "code",
      "execution_count": 26,
      "metadata": {
        "id": "fGyDB6TD1-B1",
        "outputId": "e24e9767-7b7c-4168-9c55-8db45ac1f5f6",
        "colab": {
          "base_uri": "https://localhost:8080/"
        }
      },
      "outputs": [
        {
          "output_type": "stream",
          "name": "stdout",
          "text": [
            "set() {'a', 'c', 'b'} {'a', 'c', 'b'}\n"
          ]
        }
      ],
      "source": [
        "# множество содержит только уникальные элементы, поэтому дубликаты удаляются\n",
        "\n",
        "print(set_1, set_2, set_3)"
      ]
    },
    {
      "cell_type": "markdown",
      "metadata": {
        "id": "MQDl80DB1-B2"
      },
      "source": [
        "**!Обратите внимание**, Python вывел элементы множества не в том порядке, в котором они были изначально записаны, и кроме того удалил повторяющийся элемент 'c'."
      ]
    },
    {
      "cell_type": "code",
      "execution_count": 33,
      "metadata": {
        "id": "k4sVIWhxtn8N",
        "outputId": "e11efd36-ef0e-494f-e7f2-c01fb919a5b2",
        "colab": {
          "base_uri": "https://localhost:8080/"
        }
      },
      "outputs": [
        {
          "output_type": "execute_result",
          "data": {
            "text/plain": [
              "dict"
            ]
          },
          "metadata": {},
          "execution_count": 33
        }
      ],
      "source": [
        "# создать множество через пустые фигурные скобки нельзя\n",
        "\n",
        "not_a_set = {}\n",
        "\n",
        "# так создается словарь\n",
        "\n",
        "type(not_a_set)"
      ]
    },
    {
      "cell_type": "markdown",
      "metadata": {
        "id": "tHsQ7_dCXQkJ"
      },
      "source": [
        "### Добавление и удаление элементов"
      ]
    },
    {
      "cell_type": "markdown",
      "metadata": {
        "id": "AJkqmALf1-B2"
      },
      "source": [
        "Изменять элементы множества нельзя. При этом ничто не мешает их добавлять или удалять. Предположим, мы начали создавать множество гласных букв в русском языке."
      ]
    },
    {
      "cell_type": "code",
      "execution_count": 34,
      "metadata": {
        "id": "VMdDL588YmOm"
      },
      "outputs": [],
      "source": [
        "# предположим, что мы хотим создать множество гласных букв в русском языке\n",
        "\n",
        "vowels = {'а', 'о', 'э', 'е', 'у', 'ё', 'ю'}"
      ]
    },
    {
      "cell_type": "markdown",
      "metadata": {
        "id": "Ne0P3dvw1-B2"
      },
      "source": [
        "Метод `.add()` позволяет добавить элемент во множество. Например, букву «я»."
      ]
    },
    {
      "cell_type": "code",
      "execution_count": 35,
      "metadata": {
        "id": "A3b7LnrTuxu9",
        "outputId": "243d58e8-181f-446b-deaf-edcf2053ffdc",
        "colab": {
          "base_uri": "https://localhost:8080/"
        }
      },
      "outputs": [
        {
          "output_type": "execute_result",
          "data": {
            "text/plain": [
              "{'а', 'е', 'о', 'у', 'э', 'ю', 'я', 'ё'}"
            ]
          },
          "metadata": {},
          "execution_count": 35
        }
      ],
      "source": [
        "# добавим одну букву \"я\" методом .add()\n",
        "\n",
        "vowels.add('я')\n",
        "vowels"
      ]
    },
    {
      "cell_type": "markdown",
      "metadata": {
        "id": "DomFsfU51-B2"
      },
      "source": [
        "Несколько элементов можно добавить с помощью метода `.update()`."
      ]
    },
    {
      "cell_type": "code",
      "execution_count": 38,
      "metadata": {
        "id": "RuCG-RnTk9SZ",
        "outputId": "76a7b282-1bba-4c02-c785-12f6e6e7c63d",
        "colab": {
          "base_uri": "https://localhost:8080/"
        }
      },
      "outputs": [
        {
          "output_type": "execute_result",
          "data": {
            "text/plain": [
              "{'а', 'г', 'е', 'и', 'о', 'с', 'у', 'ы', 'э', 'ю', 'я', 'ё'}"
            ]
          },
          "metadata": {},
          "execution_count": 38
        }
      ],
      "source": [
        "# добавим две буквы \"и\" и \"ы\" методом .update()\n",
        "\n",
        "vowels.update(['и', 'ы', 'с', 'г'])\n",
        "vowels"
      ]
    },
    {
      "cell_type": "code",
      "execution_count": 39,
      "metadata": {
        "id": "6OJBJ5cYvwrl",
        "outputId": "48337493-c008-4214-8f2c-151c66a1e223",
        "colab": {
          "base_uri": "https://localhost:8080/"
        }
      },
      "outputs": [
        {
          "output_type": "execute_result",
          "data": {
            "text/plain": [
              "{'а', 'г', 'е', 'и', 'о', 'с', 'у', 'щ', 'ы', 'э', 'ю', 'я', 'ё'}"
            ]
          },
          "metadata": {},
          "execution_count": 39
        }
      ],
      "source": [
        "# если по ошибке добавим согласную букву\n",
        "\n",
        "vowels.add('щ')\n",
        "vowels"
      ]
    },
    {
      "cell_type": "markdown",
      "metadata": {
        "id": "zGvg4sOs1-B2"
      },
      "source": [
        "Ее можно удалить с помощью метода `.remove()`."
      ]
    },
    {
      "cell_type": "code",
      "execution_count": 43,
      "metadata": {
        "id": "VTCYCiXZv4Wc",
        "outputId": "c6dad25c-fcfc-4fa8-f84f-1a1e16aba1af",
        "colab": {
          "base_uri": "https://localhost:8080/"
        }
      },
      "outputs": [
        {
          "output_type": "execute_result",
          "data": {
            "text/plain": [
              "{'а', 'е', 'и', 'о', 'у', 'ы', 'э', 'ю', 'я', 'ё'}"
            ]
          },
          "metadata": {},
          "execution_count": 43
        }
      ],
      "source": [
        "# ее можно удалить методом .remove()\n",
        "\n",
        "vowels.remove('с')\n",
        "vowels"
      ]
    },
    {
      "cell_type": "markdown",
      "metadata": {
        "id": "uB1je436aY19"
      },
      "source": [
        "### Теория множеств в Python"
      ]
    },
    {
      "cell_type": "markdown",
      "metadata": {
        "id": "RpNDtpYK1-B2"
      },
      "source": [
        "Разумеется, объект множества в Python согласуется с математической теорией множеств (set theory)."
      ]
    },
    {
      "cell_type": "markdown",
      "metadata": {
        "id": "UGG3ip3J1-B2"
      },
      "source": [
        "В частности, **равные множества** — это множества, состоящие из одних и тех же элементов (при этом порядок элементов не важен). Python позволяет это проверить."
      ]
    },
    {
      "cell_type": "code",
      "execution_count": 49,
      "metadata": {
        "id": "ScRveXFjagly",
        "outputId": "3de4555a-4472-4e00-d4c2-ac8e2d2b8549",
        "colab": {
          "base_uri": "https://localhost:8080/"
        }
      },
      "outputs": [
        {
          "output_type": "execute_result",
          "data": {
            "text/plain": [
              "True"
            ]
          },
          "metadata": {},
          "execution_count": 49
        }
      ],
      "source": [
        "# два множества равны, если содержат одинаковые элементы, при этом порядок элементов не важен\n",
        "\n",
        "{'a', 'b', 'c'} == {'c', 'b', 'a'}"
      ]
    },
    {
      "cell_type": "markdown",
      "metadata": {
        "id": "KGYvyHNH1-B2"
      },
      "source": [
        "Мощность множества или его кардинальное число отражает количество элементов множества и рассчитывается с помощью функции `len()`."
      ]
    },
    {
      "cell_type": "code",
      "execution_count": 53,
      "metadata": {
        "id": "O5_E1AS9JOL2",
        "outputId": "acfb7130-be3d-46da-fec7-25be19da4ee2",
        "colab": {
          "base_uri": "https://localhost:8080/"
        }
      },
      "outputs": [
        {
          "output_type": "execute_result",
          "data": {
            "text/plain": [
              "3"
            ]
          },
          "metadata": {},
          "execution_count": 53
        }
      ],
      "source": [
        "# выведем мощность множества с помощью функции len()\n",
        "a = {'a', 'b', 'c'}\n",
        "\n",
        "len(a)"
      ]
    },
    {
      "cell_type": "code",
      "execution_count": 54,
      "metadata": {
        "id": "tktbnMu4JOOY",
        "outputId": "28636f69-3604-46e2-de48-f7638fee57ba",
        "colab": {
          "base_uri": "https://localhost:8080/"
        }
      },
      "outputs": [
        {
          "output_type": "execute_result",
          "data": {
            "text/plain": [
              "True"
            ]
          },
          "metadata": {},
          "execution_count": 54
        }
      ],
      "source": [
        "# проверим, содержится ли элемент во множестве\n",
        "\n",
        "'a' in a"
      ]
    },
    {
      "cell_type": "code",
      "execution_count": 55,
      "metadata": {
        "id": "7LjJsYc2JORQ",
        "outputId": "6590d6a9-5ca5-474e-af58-47179f9314c9",
        "colab": {
          "base_uri": "https://localhost:8080/"
        }
      },
      "outputs": [
        {
          "output_type": "execute_result",
          "data": {
            "text/plain": [
              "False"
            ]
          },
          "metadata": {},
          "execution_count": 55
        }
      ],
      "source": [
        "# возможна и обратная операция\n",
        "\n",
        "'a' not in a"
      ]
    },
    {
      "cell_type": "markdown",
      "metadata": {
        "id": "2Jy3RmRs1-B3"
      },
      "source": [
        "### Подмножество и надмножество"
      ]
    },
    {
      "cell_type": "markdown",
      "metadata": {
        "id": "lFabhG6P1-B3"
      },
      "source": [
        "Одно множество, назовем его A, называется **подмножеством (subset)** другого множества B, если все элементы множества A также принадлежат и множеству B. Python позволяет это проверить с помощью метода `.issubset()`."
      ]
    },
    {
      "cell_type": "code",
      "execution_count": 56,
      "metadata": {
        "id": "NQYRj8yT1-B3"
      },
      "outputs": [],
      "source": [
        "# проверим является ли А подмножеством В\n",
        "\n",
        "set_A = {'a', 'b', 'c'}\n",
        "set_B = {'a', 'b', 'c', 'd', 'e', 'f'}"
      ]
    },
    {
      "cell_type": "code",
      "execution_count": 57,
      "metadata": {
        "id": "MF1nGQvDJOUI",
        "outputId": "2dfae384-e5bf-4ae3-c27c-3b6383120bc2",
        "colab": {
          "base_uri": "https://localhost:8080/"
        }
      },
      "outputs": [
        {
          "output_type": "execute_result",
          "data": {
            "text/plain": [
              "True"
            ]
          },
          "metadata": {},
          "execution_count": 57
        }
      ],
      "source": [
        "set_A.issubset(set_B)"
      ]
    },
    {
      "cell_type": "markdown",
      "metadata": {
        "id": "B-h3wapY1-B3"
      },
      "source": [
        "Множество B называется **надмножеством (superset)** A, если A является подмножеством B. По сути, это обратная логическая операция, для которой есть метод `.issuperset()`."
      ]
    },
    {
      "cell_type": "code",
      "execution_count": 58,
      "metadata": {
        "id": "Ne2zLJy3DMT7",
        "outputId": "56ed11a1-ead3-437f-c008-be9af485e1ad",
        "colab": {
          "base_uri": "https://localhost:8080/"
        }
      },
      "outputs": [
        {
          "output_type": "execute_result",
          "data": {
            "text/plain": [
              "True"
            ]
          },
          "metadata": {},
          "execution_count": 58
        }
      ],
      "source": [
        "# проверим является ли B надмножеством А\n",
        "\n",
        "set_B.issuperset(set_A)"
      ]
    },
    {
      "cell_type": "markdown",
      "metadata": {
        "id": "OTa8csin1-B3"
      },
      "source": [
        "### Объединение, пересечение и разность множеств"
      ]
    },
    {
      "cell_type": "markdown",
      "metadata": {
        "id": "XEJxrgT11-B3"
      },
      "source": [
        "Предположим, есть две команды инженеров машинного обучения, одна занимается обработкой естественного языка (nlp), другая — компьютерным зрением (cv). Некоторые занимаются и тем, и другим."
      ]
    },
    {
      "cell_type": "code",
      "execution_count": 59,
      "metadata": {
        "id": "0MxJj85iDc_y"
      },
      "outputs": [],
      "source": [
        "# даны участники команд по обработке естественного языка (nlp) и компьютерному зрению (cv)\n",
        "\n",
        "nlp = set(['Анна', 'Николай', 'Павел', 'Оксана'])\n",
        "cv = set(['Николай', 'Евгений', 'Ольга', 'Оксана'])"
      ]
    },
    {
      "cell_type": "markdown",
      "metadata": {
        "id": "U3Spsyvu1-B3"
      },
      "source": [
        "**Объединение множеств (union)** отражает логическую операцию ИЛИ. Выберем тех специалистов, которые состоят хотя бы в одной команде. Другими словами, принадлежат или одному, или другому множеству, или обоим сразу."
      ]
    },
    {
      "cell_type": "code",
      "execution_count": 61,
      "metadata": {
        "id": "ipXl-eO5EFKS",
        "outputId": "afd06874-c5bd-4485-87d4-622036279943",
        "colab": {
          "base_uri": "https://localhost:8080/"
        }
      },
      "outputs": [
        {
          "output_type": "stream",
          "name": "stdout",
          "text": [
            "{'Оксана', 'Анна', 'Николай', 'Евгений', 'Ольга', 'Павел'}\n",
            "{'Оксана', 'Анна', 'Николай', 'Евгений', 'Ольга', 'Павел'}\n"
          ]
        }
      ],
      "source": [
        "# найдем тех, кто работает или в nlp, или в cv, или в обеих командах\n",
        "\n",
        "# можно использовать метод .union()\n",
        "\n",
        "print(nlp.union(cv))\n",
        "\n",
        "print(cv | nlp)"
      ]
    },
    {
      "cell_type": "markdown",
      "metadata": {
        "id": "dj63Lcuv1-B3"
      },
      "source": [
        "Есть два способа задать объединение множеств: через метод `.union()` или с помощью символа `|`. Аналогичные возможности есть и для других операций с множествами."
      ]
    },
    {
      "cell_type": "markdown",
      "metadata": {
        "id": "n3onPhvB1-B3"
      },
      "source": [
        "При **пересечении множеств (intersection)** осуществляется логическая операция И. Выбираем только тех людей, которые работают в обеих командах, т.е. принадлежат обоим множествам."
      ]
    },
    {
      "cell_type": "code",
      "execution_count": 62,
      "metadata": {
        "id": "vkUEl3eeEnPn",
        "outputId": "c735f58f-566d-411f-f216-e4938a834baf",
        "colab": {
          "base_uri": "https://localhost:8080/"
        }
      },
      "outputs": [
        {
          "output_type": "stream",
          "name": "stdout",
          "text": [
            "{'Оксана', 'Николай'}\n",
            "{'Оксана', 'Николай'}\n"
          ]
        }
      ],
      "source": [
        "# найдем пересечение множеств, то есть тех, кто работает и в nlp, и в cv\n",
        "\n",
        "print(nlp.intersection(cv))\n",
        "print(nlp & cv)"
      ]
    },
    {
      "cell_type": "markdown",
      "metadata": {
        "id": "UyG7aBip1-B3"
      },
      "source": [
        "**Разность множеств (difference)** nlp и cv позволяет увидеть, кто в команде по обработке естественного языка занимается только этой областью, и не учавствует в проектах по компьютерному зрению."
      ]
    },
    {
      "cell_type": "code",
      "execution_count": 66,
      "metadata": {
        "id": "mNV8c0hQExzL",
        "outputId": "f9cf8b9c-6466-46db-f5e6-85dea3063772",
        "colab": {
          "base_uri": "https://localhost:8080/"
        }
      },
      "outputs": [
        {
          "output_type": "stream",
          "name": "stdout",
          "text": [
            "{'Анна', 'Павел'}\n",
            "{'Анна', 'Павел'}\n"
          ]
        }
      ],
      "source": [
        "# выведем тех, кто работает только в nlp, но не в cv или cv и nlp одновременно\n",
        "\n",
        "print(nlp.difference(cv))\n",
        "print(nlp - cv)"
      ]
    },
    {
      "cell_type": "code",
      "execution_count": 65,
      "metadata": {
        "id": "RnawDdtME8T4",
        "outputId": "b3113a61-1e39-40c5-b539-b02b13d13cbf",
        "colab": {
          "base_uri": "https://localhost:8080/"
        }
      },
      "outputs": [
        {
          "output_type": "stream",
          "name": "stdout",
          "text": [
            "{'Ольга', 'Евгений'}\n",
            "{'Ольга', 'Евгений'}\n"
          ]
        }
      ],
      "source": [
        "# выведем тех, кто работает только в cv, но не в nlp или nlp и cv одновременно\n",
        "\n",
        "print(cv.difference(nlp))\n",
        "print(cv - nlp)"
      ]
    },
    {
      "cell_type": "markdown",
      "metadata": {
        "id": "aHFGTa6q1-B4"
      },
      "source": [
        "**Симметричная разность (symmetric difference)** множеств объединяет обе предыдущие операции разности."
      ]
    },
    {
      "cell_type": "code",
      "execution_count": 67,
      "metadata": {
        "id": "sHIWgu4ZFEqv",
        "outputId": "88ad2e40-fddd-4843-a671-4f0aef356c32",
        "colab": {
          "base_uri": "https://localhost:8080/"
        }
      },
      "outputs": [
        {
          "output_type": "stream",
          "name": "stdout",
          "text": [
            "{'Анна', 'Евгений', 'Ольга', 'Павел'}\n",
            "{'Анна', 'Евгений', 'Ольга', 'Павел'}\n"
          ]
        }
      ],
      "source": [
        "# найдем тех, кто работает или в cv, или в nlp, но не в обеих областях одновременно\n",
        "\n",
        "print(nlp.symmetric_difference(cv))\n",
        "print(nlp ^ cv)"
      ]
    },
    {
      "cell_type": "markdown",
      "metadata": {
        "id": "PM1xBwIm1-B4"
      },
      "source": [
        "# Задание\n",
        "\n",
        "- Даны два множества людей, посетивших Францию и Испанию. С помощью Python найдите тех, кто был и во Франции, и в Испании.\n",
        "- Воспользуйтесь этими же множествами и найдите тех, кто был только в Испании, но не заезжал еще и во Францию.\n",
        "- И наоборот, найдите тех, кто был только во Франции, но не в Испании."
      ]
    },
    {
      "cell_type": "code",
      "execution_count": 68,
      "metadata": {
        "id": "Tymr-6Lu1-B4"
      },
      "outputs": [],
      "source": [
        "france = {'Есения', 'Спартак', 'Гоша', 'Гриша'}\n",
        "spain = {'София', 'Серега', 'Гоша', 'Гриша'}"
      ]
    },
    {
      "cell_type": "code",
      "execution_count": 77,
      "metadata": {
        "id": "ojGuSK3YbozC",
        "colab": {
          "base_uri": "https://localhost:8080/"
        },
        "outputId": "a0416374-043b-4c20-e99b-a4eb942a3031"
      },
      "outputs": [
        {
          "output_type": "stream",
          "name": "stdout",
          "text": [
            "Были во Франции и Испании: {'Гриша', 'Гоша'}\n",
            "Были только в Испании: {'Серега', 'София'}\n",
            "Были только во Франции: {'Есения', 'Спартак'}\n"
          ]
        }
      ],
      "source": [
        "# Были во Франции и Испании:\n",
        "print('Были во Франции и Испании:', france & spain)\n",
        "print('Были только в Испании:', spain - france)\n",
        "print('Были только во Франции:', france - spain)"
      ]
    },
    {
      "cell_type": "markdown",
      "metadata": {
        "id": "rFcHI6PG3Q26"
      },
      "source": [
        "## Часть 4. Понятие словаря"
      ]
    },
    {
      "cell_type": "markdown",
      "metadata": {
        "id": "0WrN2pFN3NlW"
      },
      "source": [
        "**Словари**, наряду со списками, кортежами и множествами, также входят в состав **коллекций** (collections), т.е. структур данных, содержащих несколько элементов."
      ]
    },
    {
      "cell_type": "markdown",
      "metadata": {
        "id": "YrigTRzl3NlX"
      },
      "source": [
        "**Словарь** — неупорядоченный набор элементов с доступом по ключу."
      ]
    },
    {
      "cell_type": "markdown",
      "metadata": {
        "id": "Ju9zu2pG3NlX"
      },
      "source": [
        "Словарь состоит из **ключей** и **значений**. По ключу (key) всегда можно найти соответствующее ему значение (value)."
      ]
    },
    {
      "cell_type": "markdown",
      "metadata": {
        "id": "2xJEnQ8Z3NlX"
      },
      "source": [
        "*Например*, словарь для списка покупок: `shopping_dict` = {'огурцы': 2, 'помидоры': 3, 'лук': 1, 'картофель': 2}<br>\n",
        "Ключи - овощи, значения - килограммы."
      ]
    },
    {
      "cell_type": "markdown",
      "metadata": {
        "id": "q3g2TpPQ3NlX"
      },
      "source": [
        "Для **создания словаря** используются фигурные скобки, в которые через запятую записываются ключи и значения, разделенные двоеточием:<br>\n",
        "{ключ: значение, ключ: значение}"
      ]
    },
    {
      "cell_type": "markdown",
      "metadata": {
        "id": "AEHY4SW_3mIj"
      },
      "source": [
        "### Создание словаря"
      ]
    },
    {
      "cell_type": "code",
      "execution_count": 78,
      "metadata": {
        "id": "rvRyS13c3Q26",
        "outputId": "131466bd-df78-46a1-a7d3-fcab88a568be",
        "colab": {
          "base_uri": "https://localhost:8080/"
        }
      },
      "outputs": [
        {
          "output_type": "stream",
          "name": "stdout",
          "text": [
            "{} {}\n"
          ]
        }
      ],
      "source": [
        "# пустой словарь можно создать с помощью {} или функции dict()\n",
        "\n",
        "dict_1, dict_2 = {}, dict()\n",
        "\n",
        "print(dict_1, dict_2)"
      ]
    },
    {
      "cell_type": "code",
      "execution_count": 79,
      "metadata": {
        "id": "9dTLqldq3NlX",
        "outputId": "aaa2f0c5-1271-4fb6-a837-bd6736724909",
        "colab": {
          "base_uri": "https://localhost:8080/"
        }
      },
      "outputs": [
        {
          "output_type": "stream",
          "name": "stdout",
          "text": [
            "['огурцы', 'помидоры', 'лук', 'картофель'] [2, 3, 1, 2]\n"
          ]
        }
      ],
      "source": [
        "#списки\n",
        "\n",
        "veg_list, quantity_list = ['огурцы', 'помидоры', 'лук', 'картофель'], [2, 3, 1, 2]\n",
        "print(veg_list, quantity_list)"
      ]
    },
    {
      "cell_type": "code",
      "execution_count": 82,
      "metadata": {
        "id": "PQsUCcwS3NlX",
        "outputId": "8c9790b3-a307-4f17-a397-264ffe0b2bd2",
        "colab": {
          "base_uri": "https://localhost:8080/"
        }
      },
      "outputs": [
        {
          "output_type": "execute_result",
          "data": {
            "text/plain": [
              "{'огурцы': 2, 'помидоры': 3, 'лук': 1, 'картофель': 2}"
            ]
          },
          "metadata": {},
          "execution_count": 82
        }
      ],
      "source": [
        "#словарь\n",
        "\n",
        "shopping_dict = {'огурцы': 2, 'помидоры': 3, 'лук': 1, 'картофель': 2}\n",
        "shopping_dict"
      ]
    },
    {
      "cell_type": "code",
      "execution_count": 81,
      "metadata": {
        "id": "DAm_z2Ma3Q26",
        "scrolled": true,
        "outputId": "d9faac23-bf32-4ae9-b252-d45291e793e8",
        "colab": {
          "base_uri": "https://localhost:8080/"
        }
      },
      "outputs": [
        {
          "output_type": "execute_result",
          "data": {
            "text/plain": [
              "{'name': 'Toyota', 'founded': 1937, 'founder': 'Kiichiro Toyoda'}"
            ]
          },
          "metadata": {},
          "execution_count": 81
        }
      ],
      "source": [
        "# словарь можно сразу заполнить ключами и значениями\n",
        "\n",
        "company = {'name': 'Toyota', 'founded' : 1937, 'founder': 'Kiichiro Toyoda'}\n",
        "company"
      ]
    },
    {
      "cell_type": "code",
      "execution_count": 85,
      "metadata": {
        "id": "pBONkfBYZRkZ",
        "outputId": "75675ccf-06f8-4fcd-95b7-927bef2b21c8",
        "colab": {
          "base_uri": "https://localhost:8080/"
        }
      },
      "outputs": [
        {
          "output_type": "execute_result",
          "data": {
            "text/plain": [
              "{'TYO': 'Toyota', 'TSLA': 'Tesla', 'F': 'Ford'}"
            ]
          },
          "metadata": {},
          "execution_count": 85
        }
      ],
      "source": [
        "# словарь можно создать из вложенных списков\n",
        "\n",
        "tickers = dict([['TYO', 'Toyota'], ['TSLA', 'Tesla'], ['F', 'Ford']])\n",
        "tickers"
      ]
    },
    {
      "cell_type": "markdown",
      "metadata": {
        "id": "eCY4_EmI3NlY"
      },
      "source": [
        "Иногда бывает полезно создать словарь с заранее известными ключами и заданным значением."
      ]
    },
    {
      "cell_type": "code",
      "execution_count": 91,
      "metadata": {
        "id": "Zdh9r9X03NlY"
      },
      "outputs": [],
      "source": [
        "# если поместить ключи в кортеж\n",
        "keys = ('k1', 'k2', 'k3')\n",
        "\n",
        "# и задать значение\n",
        "value = 0"
      ]
    },
    {
      "cell_type": "code",
      "execution_count": 92,
      "metadata": {
        "id": "y5zC4qKWbUn3",
        "outputId": "4f3950bc-7ec0-4e03-b4b5-1c84036504b1",
        "colab": {
          "base_uri": "https://localhost:8080/"
        }
      },
      "outputs": [
        {
          "output_type": "execute_result",
          "data": {
            "text/plain": [
              "{'k1': 0, 'k2': 0, 'k3': 0}"
            ]
          },
          "metadata": {},
          "execution_count": 92
        }
      ],
      "source": [
        "# то с помощью метода .fromkeys() можно создать словарь\n",
        "# с этими ключами и заданным значением для каждого из них\n",
        "\n",
        "empty_values = dict.fromkeys(keys, value)\n",
        "empty_values"
      ]
    },
    {
      "cell_type": "markdown",
      "metadata": {
        "id": "SdW5ePii6BGZ"
      },
      "source": [
        "### Ключи и значения словаря"
      ]
    },
    {
      "cell_type": "markdown",
      "metadata": {
        "id": "y5MO20G73Nlb"
      },
      "source": [
        "Как и списки, **словари хранят значения любых типов**. Но **у ключей есть ограничения**: ключами словаря могут быть только неизменяемые типы данных. Например, строки, числа, кортежи или логические значения (Boolean). Кроме того, ключи должны быть уникальными и соответственно не могут повторяться."
      ]
    },
    {
      "cell_type": "markdown",
      "metadata": {
        "id": "9On-k7HU3Nlb"
      },
      "source": [
        "Значения словаря, наоборот, могут состоять из чисел, строк, пропущенных (NaN) и логических значений, значения типа None, списков, массивов Numpy и вложенных словарей."
      ]
    },
    {
      "cell_type": "markdown",
      "metadata": {
        "id": "W9vaAXb2zKVb"
      },
      "source": [
        "#### Виды значений словаря"
      ]
    },
    {
      "cell_type": "code",
      "execution_count": 95,
      "metadata": {
        "id": "d0bh3eRu6EAy",
        "outputId": "c04355d8-a2cc-471f-c9c5-bf167fdbb224",
        "colab": {
          "base_uri": "https://localhost:8080/"
        }
      },
      "outputs": [
        {
          "output_type": "execute_result",
          "data": {
            "text/plain": [
              "{'k1': 123,\n",
              " 'k2': 'string',\n",
              " 'k4': True,\n",
              " 'k5': None,\n",
              " 'k6': [1, 2, 3],\n",
              " 'k8': {1: 'v1', 2: 'v2', 3: 'v3'}}"
            ]
          },
          "metadata": {},
          "execution_count": 95
        }
      ],
      "source": [
        "# приведем пример того, какими могут быть значения словаря\n",
        "\n",
        "value_types = {'k1' : 123,\n",
        "               'k2' : 'string',\n",
        "              #  'k3' : np.NaN, # тип \"Пропущенное значение\"\n",
        "               'k4' : True, # логическое значение\n",
        "               'k5' : None,\n",
        "               'k6' : [1, 2, 3],\n",
        "              #  'k7' : np.array([1, 2, 3]),\n",
        "               'k8' : {1 : 'v1', 2 : 'v2', 3 : 'v3'}}\n",
        "\n",
        "value_types"
      ]
    },
    {
      "cell_type": "markdown",
      "metadata": {
        "id": "U9bE49-P3Nlb"
      },
      "source": [
        "Что будет, если в словаре есть одинаковые ключи."
      ]
    },
    {
      "cell_type": "code",
      "execution_count": 96,
      "metadata": {
        "id": "dH_dwtEF3Nlc",
        "outputId": "1255f1de-c6f8-4d0e-be6f-840bf2a51299",
        "colab": {
          "base_uri": "https://localhost:8080/"
        }
      },
      "outputs": [
        {
          "output_type": "execute_result",
          "data": {
            "text/plain": [
              "{'k1': 3}"
            ]
          },
          "metadata": {},
          "execution_count": 96
        }
      ],
      "source": [
        "{'k1' : 1, 'k1' : 2, 'k1' : 3}"
      ]
    },
    {
      "cell_type": "markdown",
      "metadata": {
        "id": "AktD-qd772bs"
      },
      "source": [
        "#### Методы `.keys()`, `.values()` и `.items()`"
      ]
    },
    {
      "cell_type": "code",
      "execution_count": 97,
      "metadata": {
        "id": "FoLHc64C716M"
      },
      "outputs": [],
      "source": [
        "# создадим словарь с информацией о сотруднике\n",
        "\n",
        "person = {'first name' : 'Иван',\n",
        "          'last name' : 'Иванов',\n",
        "          'born' : 1980,\n",
        "          'dept' : 'IT'}"
      ]
    },
    {
      "cell_type": "code",
      "execution_count": 101,
      "metadata": {
        "id": "8Gl7ZMqt8wuZ",
        "outputId": "a28e7925-e6ea-4407-f925-827e19fe98da",
        "colab": {
          "base_uri": "https://localhost:8080/"
        }
      },
      "outputs": [
        {
          "output_type": "stream",
          "name": "stdout",
          "text": [
            "dict_keys(['first name', 'last name', 'born', 'dept'])\n",
            "dict_values(['Иван', 'Иванов', 1980, 'IT'])\n",
            "dict_items([('first name', 'Иван'), ('last name', 'Иванов'), ('born', 1980), ('dept', 'IT')])\n"
          ]
        }
      ],
      "source": [
        "# посмотрим на ключи и\n",
        "\n",
        "print(person.keys())\n",
        "print(person.values())\n",
        "print(person.items())"
      ]
    },
    {
      "cell_type": "code",
      "execution_count": 102,
      "metadata": {
        "id": "j3mruPRR8xgX",
        "outputId": "095ce17d-43f7-4ff8-e8e5-501c0f98293a",
        "colab": {
          "base_uri": "https://localhost:8080/"
        }
      },
      "outputs": [
        {
          "output_type": "execute_result",
          "data": {
            "text/plain": [
              "dict_values(['Иван', 'Иванов', 1980, 'IT'])"
            ]
          },
          "metadata": {},
          "execution_count": 102
        }
      ],
      "source": [
        "# значения\n",
        "\n",
        "person.values()"
      ]
    },
    {
      "cell_type": "code",
      "execution_count": 103,
      "metadata": {
        "id": "wfmjr1bu81Ay",
        "outputId": "7f024757-9670-4f77-d50f-5d15ba94bf53",
        "colab": {
          "base_uri": "https://localhost:8080/"
        }
      },
      "outputs": [
        {
          "output_type": "execute_result",
          "data": {
            "text/plain": [
              "dict_items([('first name', 'Иван'), ('last name', 'Иванов'), ('born', 1980), ('dept', 'IT')])"
            ]
          },
          "metadata": {},
          "execution_count": 103
        }
      ],
      "source": [
        "# а также на пары ключ-значение в виде списка из кортежей\n",
        "\n",
        "person.items()"
      ]
    },
    {
      "cell_type": "markdown",
      "metadata": {
        "id": "YxrdHML389v4"
      },
      "source": [
        "#### Использование цикла for"
      ]
    },
    {
      "cell_type": "markdown",
      "metadata": {
        "id": "3gs_SFIt3Nlc"
      },
      "source": [
        "Ключи и значения словаря удобно просматривать с помощью цикла for и метода .items()."
      ]
    },
    {
      "cell_type": "code",
      "execution_count": 105,
      "metadata": {
        "id": "ssN6LrjO83h8",
        "outputId": "2f6f1502-f3bd-4d15-a97b-86057cc54c2a",
        "colab": {
          "base_uri": "https://localhost:8080/"
        }
      },
      "outputs": [
        {
          "output_type": "stream",
          "name": "stdout",
          "text": [
            "first name: Иван\n",
            "last name: Иванов\n",
            "born: 1980\n",
            "dept: IT\n"
          ]
        }
      ],
      "source": [
        "# ключи и значения можно вывести в цикле for\n",
        "\n",
        "for k, v in person.items():\n",
        "    print(k + ':', v)"
      ]
    },
    {
      "cell_type": "markdown",
      "metadata": {
        "id": "Z0EsdC1d3Nlc"
      },
      "source": [
        "Если записать результат метода `.items()` в одну переменную, будут выведены кортежи из ключа и значения.<br>\n",
        "Использование в цикле for методов `.keys()` и `.values()` выводит только ключи или только значения соответственно."
      ]
    },
    {
      "cell_type": "code",
      "execution_count": 106,
      "metadata": {
        "id": "_YmNhqLb3Nlc",
        "outputId": "377fc101-c8f9-459e-e3b2-8d3fea9a0913",
        "colab": {
          "base_uri": "https://localhost:8080/"
        }
      },
      "outputs": [
        {
          "output_type": "stream",
          "name": "stdout",
          "text": [
            "('first name', 'Иван')\n",
            "('last name', 'Иванов')\n",
            "('born', 1980)\n",
            "('dept', 'IT')\n"
          ]
        }
      ],
      "source": [
        "# одна переменная\n",
        "\n",
        "for i in person.items():\n",
        "    print(i)"
      ]
    },
    {
      "cell_type": "code",
      "execution_count": 107,
      "metadata": {
        "id": "4jVWiAlX3Nlc",
        "outputId": "6a040ada-e932-4ac2-dfc7-e03cb0f4f901",
        "colab": {
          "base_uri": "https://localhost:8080/"
        }
      },
      "outputs": [
        {
          "output_type": "stream",
          "name": "stdout",
          "text": [
            "first name\n",
            "last name\n",
            "born\n",
            "dept\n"
          ]
        }
      ],
      "source": [
        "#ключи\n",
        "\n",
        "for k in person.keys():\n",
        "    print(k)"
      ]
    },
    {
      "cell_type": "code",
      "execution_count": 108,
      "metadata": {
        "id": "fCsxAH3e3Nlc",
        "outputId": "caafad9a-291b-414f-f412-4bdfd7603fc6",
        "colab": {
          "base_uri": "https://localhost:8080/"
        }
      },
      "outputs": [
        {
          "output_type": "stream",
          "name": "stdout",
          "text": [
            "Иван\n",
            "Иванов\n",
            "1980\n",
            "IT\n"
          ]
        }
      ],
      "source": [
        "#значения\n",
        "\n",
        "for v in person.values():\n",
        "    print(v)"
      ]
    },
    {
      "cell_type": "markdown",
      "metadata": {
        "id": "zU-JtgYJ-vyO"
      },
      "source": [
        "#### Доступ по ключу и метод .get()"
      ]
    },
    {
      "cell_type": "markdown",
      "metadata": {
        "id": "8biLH2XU3Nlc"
      },
      "source": [
        "**Небезопасный способ.**<br>\n",
        "**Конкретное значение** в словаре можно получить, введя название словаря и затем название ключа в квадратных скобках."
      ]
    },
    {
      "cell_type": "code",
      "execution_count": 109,
      "metadata": {
        "id": "Au-MDTwZ-tGI",
        "outputId": "6f2a6ae4-2c28-4bd2-f1a2-0d731b70030f",
        "colab": {
          "base_uri": "https://localhost:8080/",
          "height": 35
        }
      },
      "outputs": [
        {
          "output_type": "execute_result",
          "data": {
            "text/plain": [
              "'Иванов'"
            ],
            "application/vnd.google.colaboratory.intrinsic+json": {
              "type": "string"
            }
          },
          "metadata": {},
          "execution_count": 109
        }
      ],
      "source": [
        "# значение можно посмотреть по ключу\n",
        "\n",
        "person['last name']"
      ]
    },
    {
      "cell_type": "code",
      "execution_count": 110,
      "metadata": {
        "id": "XwWDSYzH-O0l",
        "outputId": "c7f97c64-dc55-4125-86f1-fa3f5bb94694",
        "colab": {
          "base_uri": "https://localhost:8080/",
          "height": 176
        }
      },
      "outputs": [
        {
          "output_type": "error",
          "ename": "KeyError",
          "evalue": "'education'",
          "traceback": [
            "\u001b[0;31m---------------------------------------------------------------------------\u001b[0m",
            "\u001b[0;31mKeyError\u001b[0m                                  Traceback (most recent call last)",
            "\u001b[0;32m<ipython-input-110-91c77779cc56>\u001b[0m in \u001b[0;36m<cell line: 3>\u001b[0;34m()\u001b[0m\n\u001b[1;32m      1\u001b[0m \u001b[0;31m# если такого ключа нет, Python выдаст ошибку\u001b[0m\u001b[0;34m\u001b[0m\u001b[0;34m\u001b[0m\u001b[0m\n\u001b[1;32m      2\u001b[0m \u001b[0;34m\u001b[0m\u001b[0m\n\u001b[0;32m----> 3\u001b[0;31m \u001b[0mperson\u001b[0m\u001b[0;34m[\u001b[0m\u001b[0;34m'education'\u001b[0m\u001b[0;34m]\u001b[0m\u001b[0;34m\u001b[0m\u001b[0;34m\u001b[0m\u001b[0m\n\u001b[0m",
            "\u001b[0;31mKeyError\u001b[0m: 'education'"
          ]
        }
      ],
      "source": [
        "# если такого ключа нет, Python выдаст ошибку\n",
        "\n",
        "person['education']"
      ]
    },
    {
      "cell_type": "markdown",
      "metadata": {
        "id": "vP0gt7cm3Nlc"
      },
      "source": [
        "**Безопасный способ.**<br>\n",
        "Чтобы избежать ошибки, небезопасный способ иногда сочетают с конструкцией `try...except`:"
      ]
    },
    {
      "cell_type": "code",
      "execution_count": 119,
      "metadata": {
        "id": "L2xqIaha3Nld",
        "colab": {
          "base_uri": "https://localhost:8080/"
        },
        "outputId": "4b3e8644-c65b-4481-a0d2-fd480d513607"
      },
      "outputs": [
        {
          "output_type": "stream",
          "name": "stdout",
          "text": [
            "Иванов\n"
          ]
        }
      ],
      "source": [
        "try:\n",
        "    value = person['last name'] # ищем ключ в словаре\n",
        "    print(value) # если ключ найден — выводим значение\n",
        "\n",
        "except:\n",
        "    print('Ключ не найден!') # иначе выводим сообщение"
      ]
    },
    {
      "cell_type": "code",
      "execution_count": 115,
      "metadata": {
        "id": "C24OiBX03Nld",
        "colab": {
          "base_uri": "https://localhost:8080/"
        },
        "outputId": "b58b75dc-b33b-49e6-f5bf-00e458ab7a8a"
      },
      "outputs": [
        {
          "output_type": "stream",
          "name": "stdout",
          "text": [
            "Ключ не найден!\n"
          ]
        }
      ],
      "source": [
        "try:\n",
        "    value = person['education'] # ищем ключ в словаре\n",
        "    print(value) # если ключ найден — выводим значение\n",
        "\n",
        "except:\n",
        "    print('Ключ не найден!') # иначе выводим сообщение"
      ]
    },
    {
      "cell_type": "markdown",
      "metadata": {
        "id": "uOAWGLUd3Nld"
      },
      "source": [
        "**Предпочтительный безопасный способ.** Метод словаря `.get()`."
      ]
    },
    {
      "cell_type": "code",
      "execution_count": 127,
      "metadata": {
        "id": "dx2nFVH7eils",
        "colab": {
          "base_uri": "https://localhost:8080/"
        },
        "outputId": "b82ccdb0-37eb-4f55-d587-ce3a9e96091a"
      },
      "outputs": [
        {
          "output_type": "stream",
          "name": "stdout",
          "text": [
            "None\n",
            "1980\n"
          ]
        }
      ],
      "source": [
        "# чтобы этого не произошло, можно использовать метод .get()\n",
        "# по умолчанию, при отсутствии ключа, он выводит значение None\n",
        "\n",
        "print(person.get('education'))\n",
        "print(person.get('born'))"
      ]
    },
    {
      "cell_type": "code",
      "execution_count": 123,
      "metadata": {
        "id": "GiJU28QY3Nld",
        "colab": {
          "base_uri": "https://localhost:8080/"
        },
        "outputId": "524aa74e-3716-466b-bd66-8575f9780dd2"
      },
      "outputs": [
        {
          "output_type": "stream",
          "name": "stdout",
          "text": [
            "Ключ не найден!\n"
          ]
        }
      ],
      "source": [
        "print(person.get('education', 'Ключ не найден!'))"
      ]
    },
    {
      "cell_type": "code",
      "execution_count": 128,
      "metadata": {
        "id": "qTovRCnIb1ei",
        "colab": {
          "base_uri": "https://localhost:8080/"
        },
        "outputId": "5ddf7020-47b8-42d6-c97a-0e635ad02854"
      },
      "outputs": [
        {
          "output_type": "execute_result",
          "data": {
            "text/plain": [
              "1980"
            ]
          },
          "metadata": {},
          "execution_count": 128
        }
      ],
      "source": [
        "# если ключ все-таки есть, .get() выведет соответствующее значение\n",
        "\n",
        "person.get('born')"
      ]
    },
    {
      "cell_type": "markdown",
      "metadata": {
        "id": "IBgf5Al-aCOK"
      },
      "source": [
        "#### Проверка вхождения (наличия) ключа и значения в словарь"
      ]
    },
    {
      "cell_type": "markdown",
      "metadata": {
        "id": "pwQYfAF_3Nld"
      },
      "source": [
        "С помощью оператора `in` можно проверить наличие определенного ключа в словаре.<br>\n",
        "Важно сказать, что оператор `in` работает быстрее метода `.get()`."
      ]
    },
    {
      "cell_type": "code",
      "execution_count": 129,
      "metadata": {
        "id": "XbRxj_nPaHJU",
        "colab": {
          "base_uri": "https://localhost:8080/"
        },
        "outputId": "e804f817-1937-4d52-feda-87a0e60b3d42"
      },
      "outputs": [
        {
          "output_type": "execute_result",
          "data": {
            "text/plain": [
              "True"
            ]
          },
          "metadata": {},
          "execution_count": 129
        }
      ],
      "source": [
        "# проверим, есть ли такой ключ\n",
        "\n",
        "'born' in person"
      ]
    },
    {
      "cell_type": "markdown",
      "metadata": {
        "id": "K8tnA_hs3Nld"
      },
      "source": [
        "Метод `.values()` поможет проверить наличие определенного значения."
      ]
    },
    {
      "cell_type": "code",
      "execution_count": 130,
      "metadata": {
        "id": "sAKfv79KbC1p",
        "colab": {
          "base_uri": "https://localhost:8080/"
        },
        "outputId": "1477ab34-0f1b-4dcf-b4a9-fb6152102a2c"
      },
      "outputs": [
        {
          "output_type": "execute_result",
          "data": {
            "text/plain": [
              "True"
            ]
          },
          "metadata": {},
          "execution_count": 130
        }
      ],
      "source": [
        "# и такое значение\n",
        "\n",
        "1980 in person.values()"
      ]
    },
    {
      "cell_type": "markdown",
      "metadata": {
        "id": "2h8vHlmZ3Nld"
      },
      "source": [
        "Метод `.items()` поможет проверить наличие пары ключ : значение. Обратите внимание, эту пару следует записать в форме кортежа."
      ]
    },
    {
      "cell_type": "code",
      "execution_count": 135,
      "metadata": {
        "id": "UelKiVrybH30",
        "colab": {
          "base_uri": "https://localhost:8080/"
        },
        "outputId": "bbb45ed0-c24c-47eb-d048-ecafb1bfa678"
      },
      "outputs": [
        {
          "output_type": "stream",
          "name": "stdout",
          "text": [
            "True\n"
          ]
        }
      ],
      "source": [
        "# можно также проверить наличие и ключа, и значения одновременно\n",
        "\n",
        "print(('born', 1980) in person.items())\n"
      ]
    },
    {
      "cell_type": "markdown",
      "metadata": {
        "id": "qhW_njiL3Q2_"
      },
      "source": [
        "### Операции со словарями"
      ]
    },
    {
      "cell_type": "markdown",
      "metadata": {
        "id": "ebptqYBRcrJp"
      },
      "source": [
        "#### Добавление и изменение элементов"
      ]
    },
    {
      "cell_type": "code",
      "execution_count": 142,
      "metadata": {
        "id": "wQnsMMdo3Nld",
        "colab": {
          "base_uri": "https://localhost:8080/"
        },
        "outputId": "3bf136a7-c2eb-4f28-aa37-e25ae4f514b4"
      },
      "outputs": [
        {
          "output_type": "execute_result",
          "data": {
            "text/plain": [
              "{'first name': 'Иван',\n",
              " 'last name': 'Иванов',\n",
              " 'born': 1980,\n",
              " 'dept': 'IT',\n",
              " 'pay': 45000,\n",
              " 'languages': ['Python'],\n",
              " 'flowers': ['rozy', 'lilii']}"
            ]
          },
          "metadata": {},
          "execution_count": 142
        }
      ],
      "source": [
        "# добавить элемент можно, передав новому ключу новое значение\n",
        "\n",
        "person['pay'] = 45_000\n",
        "person['flowers'] = ['rozy', 'lilii']\n",
        "person"
      ]
    },
    {
      "cell_type": "code",
      "execution_count": 137,
      "metadata": {
        "id": "goyyGlx73Q2_",
        "colab": {
          "base_uri": "https://localhost:8080/"
        },
        "outputId": "5d39320d-fceb-4525-c5a3-34f7d8568961"
      },
      "outputs": [
        {
          "output_type": "execute_result",
          "data": {
            "text/plain": [
              "{'first name': 'Иван',\n",
              " 'last name': 'Иванов',\n",
              " 'born': 1980,\n",
              " 'dept': 'IT',\n",
              " 'pay': 45000,\n",
              " 'languages': ['Python', 'C++']}"
            ]
          },
          "metadata": {},
          "execution_count": 137
        }
      ],
      "source": [
        "# добавить элемент можно, передав новому ключу новое значение\n",
        "# обратите внимание, в данном случае новое значение - это список\n",
        "\n",
        "person['languages'] = ['Python', 'C++']\n",
        "person"
      ]
    },
    {
      "cell_type": "code",
      "execution_count": 140,
      "metadata": {
        "id": "r33azjy53Q2_",
        "colab": {
          "base_uri": "https://localhost:8080/"
        },
        "outputId": "eabb8828-4937-45fb-e2b7-abd4c928a201"
      },
      "outputs": [
        {
          "output_type": "execute_result",
          "data": {
            "text/plain": [
              "{'first name': 'Иван',\n",
              " 'last name': 'Иванов',\n",
              " 'born': 1980,\n",
              " 'dept': 'IT',\n",
              " 'pay': 45000,\n",
              " 'languages': ['Python']}"
            ]
          },
          "metadata": {},
          "execution_count": 140
        }
      ],
      "source": [
        "# изменить элемент можно, передав существующему ключу новое значение,\n",
        "# значение - это по-прежнему список, но из одного элемента\n",
        "\n",
        "person['languages'] = ['Python']\n",
        "person"
      ]
    },
    {
      "cell_type": "markdown",
      "metadata": {
        "id": "yZEX3-f73Nle"
      },
      "source": [
        "Метод `.update()` позволяет соединить два словаря."
      ]
    },
    {
      "cell_type": "code",
      "execution_count": 145,
      "metadata": {
        "id": "tGjvKCRk3Nle"
      },
      "outputs": [],
      "source": [
        "# возьмем еще один словарь\n",
        "\n",
        "new_elements = {'job' : 'программист', 'experience' : 7}\n",
        "new_elements_1 = {'rat' : 'blue', 'data' : 2027}"
      ]
    },
    {
      "cell_type": "code",
      "execution_count": 146,
      "metadata": {
        "id": "FBO1GOoDHXjc",
        "colab": {
          "base_uri": "https://localhost:8080/"
        },
        "outputId": "a4a88948-1b59-4a50-de77-a44db1fed5bd"
      },
      "outputs": [
        {
          "output_type": "execute_result",
          "data": {
            "text/plain": [
              "{'first name': 'Иван',\n",
              " 'last name': 'Иванов',\n",
              " 'born': 1980,\n",
              " 'dept': 'IT',\n",
              " 'pay': 45000,\n",
              " 'languages': ['Python'],\n",
              " 'flowers': ['rozy', 'lilii'],\n",
              " 'job': 'программист',\n",
              " 'experience': 7,\n",
              " 'rat': 'blue',\n",
              " 'data': 2027}"
            ]
          },
          "metadata": {},
          "execution_count": 146
        }
      ],
      "source": [
        "# и присоединим его к существующему словарю с помощью метода .update()\n",
        "\n",
        "person.update(new_elements_1)\n",
        "person"
      ]
    },
    {
      "cell_type": "code",
      "execution_count": 147,
      "metadata": {
        "id": "BF8sjloX3Nle"
      },
      "outputs": [],
      "source": [
        "new_elements = {'job' : 'web-программист'}"
      ]
    },
    {
      "cell_type": "code",
      "execution_count": 148,
      "metadata": {
        "id": "USq3dpKa3Nle",
        "colab": {
          "base_uri": "https://localhost:8080/"
        },
        "outputId": "728ab054-d18b-482d-d46f-43156b058d01"
      },
      "outputs": [
        {
          "output_type": "execute_result",
          "data": {
            "text/plain": [
              "{'first name': 'Иван',\n",
              " 'last name': 'Иванов',\n",
              " 'born': 1980,\n",
              " 'dept': 'IT',\n",
              " 'pay': 45000,\n",
              " 'languages': ['Python'],\n",
              " 'flowers': ['rozy', 'lilii'],\n",
              " 'job': 'web-программист',\n",
              " 'experience': 7,\n",
              " 'rat': 'blue',\n",
              " 'data': 2027}"
            ]
          },
          "metadata": {},
          "execution_count": 148
        }
      ],
      "source": [
        "person.update(new_elements)\n",
        "person"
      ]
    },
    {
      "cell_type": "markdown",
      "metadata": {
        "id": "plWoxAAe3Nle"
      },
      "source": [
        "Метод `.setdefault()` не изменяет значение, если указанный ключ уже содержится в словаре."
      ]
    },
    {
      "cell_type": "code",
      "execution_count": 149,
      "metadata": {
        "id": "8ABSReiDS86F",
        "colab": {
          "base_uri": "https://localhost:8080/"
        },
        "outputId": "da1a30c9-ec23-4982-f1e9-4b897a54d37c"
      },
      "outputs": [
        {
          "output_type": "execute_result",
          "data": {
            "text/plain": [
              "{'first name': 'Иван',\n",
              " 'last name': 'Иванов',\n",
              " 'born': 1980,\n",
              " 'dept': 'IT',\n",
              " 'pay': 45000,\n",
              " 'languages': ['Python'],\n",
              " 'flowers': ['rozy', 'lilii'],\n",
              " 'job': 'web-программист',\n",
              " 'experience': 7,\n",
              " 'rat': 'blue',\n",
              " 'data': 2027}"
            ]
          },
          "metadata": {},
          "execution_count": 149
        }
      ],
      "source": [
        "# метод .setdefault() проверит есть ли ключ в словаре,\n",
        "# если \"да\", значение не изменится\n",
        "\n",
        "person.setdefault('last name', 'Петров')\n",
        "person"
      ]
    },
    {
      "cell_type": "code",
      "execution_count": 150,
      "metadata": {
        "id": "uq1eR4FEYIFx",
        "colab": {
          "base_uri": "https://localhost:8080/"
        },
        "outputId": "e96d7e4c-b343-43b6-aa03-76d703227798"
      },
      "outputs": [
        {
          "output_type": "execute_result",
          "data": {
            "text/plain": [
              "{'first name': 'Иван',\n",
              " 'last name': 'Иванов',\n",
              " 'born': 1980,\n",
              " 'dept': 'IT',\n",
              " 'pay': 45000,\n",
              " 'languages': ['Python'],\n",
              " 'flowers': ['rozy', 'lilii'],\n",
              " 'job': 'web-программист',\n",
              " 'experience': 7,\n",
              " 'rat': 'blue',\n",
              " 'data': 2027,\n",
              " 'f_languages': ['русский', 'английский']}"
            ]
          },
          "metadata": {},
          "execution_count": 150
        }
      ],
      "source": [
        "# если нет, будет добавлен новый ключ и соответствующее значение\n",
        "\n",
        "person.setdefault('f_languages', ['русский', 'английский'])\n",
        "person"
      ]
    },
    {
      "cell_type": "markdown",
      "metadata": {
        "id": "wUMTWNK-fFsd"
      },
      "source": [
        "#### Удаление элементов"
      ]
    },
    {
      "cell_type": "markdown",
      "metadata": {
        "id": "Lt9yZqpk3Nle"
      },
      "source": [
        "Метод `.pop()` удаляет элемент по ключу и выводит удаляемое значение."
      ]
    },
    {
      "cell_type": "code",
      "execution_count": 151,
      "metadata": {
        "id": "AKViA8ItfIye",
        "colab": {
          "base_uri": "https://localhost:8080/",
          "height": 35
        },
        "outputId": "5776b16a-270f-4e49-dda2-e88c7ecb2efb"
      },
      "outputs": [
        {
          "output_type": "execute_result",
          "data": {
            "text/plain": [
              "'IT'"
            ],
            "application/vnd.google.colaboratory.intrinsic+json": {
              "type": "string"
            }
          },
          "metadata": {},
          "execution_count": 151
        }
      ],
      "source": [
        "# метод .pop() удаляет элемент по ключу и выводит удаляемое значение\n",
        "\n",
        "person.pop('dept')"
      ]
    },
    {
      "cell_type": "code",
      "execution_count": 152,
      "metadata": {
        "id": "anOK_5RVh8eG",
        "colab": {
          "base_uri": "https://localhost:8080/"
        },
        "outputId": "11c2d77b-f6bb-4ff1-a4ee-465a7f8c712d"
      },
      "outputs": [
        {
          "output_type": "execute_result",
          "data": {
            "text/plain": [
              "{'first name': 'Иван',\n",
              " 'last name': 'Иванов',\n",
              " 'born': 1980,\n",
              " 'pay': 45000,\n",
              " 'languages': ['Python'],\n",
              " 'flowers': ['rozy', 'lilii'],\n",
              " 'job': 'web-программист',\n",
              " 'experience': 7,\n",
              " 'rat': 'blue',\n",
              " 'data': 2027,\n",
              " 'f_languages': ['русский', 'английский']}"
            ]
          },
          "metadata": {},
          "execution_count": 152
        }
      ],
      "source": [
        "# мы видим, что пары 'dept' : 'IT' больше нет\n",
        "\n",
        "person"
      ]
    },
    {
      "cell_type": "markdown",
      "metadata": {
        "id": "XBMFguB93Nle"
      },
      "source": [
        "Ключевое слово `del` также удаляет элемент по ключу."
      ]
    },
    {
      "cell_type": "code",
      "execution_count": 159,
      "metadata": {
        "id": "t6flk9z_fluM"
      },
      "outputs": [],
      "source": [
        "# ключевое слово del также удаляет элемент по ключу\n",
        "# удаляемое значение не выводится\n",
        "\n",
        "del(person['pay'])"
      ]
    },
    {
      "cell_type": "code",
      "execution_count": 160,
      "metadata": {
        "id": "OKPnIPUF3Nle",
        "colab": {
          "base_uri": "https://localhost:8080/"
        },
        "outputId": "f38fcf0e-2e8b-4398-d341-606dacbb8c9f"
      },
      "outputs": [
        {
          "output_type": "execute_result",
          "data": {
            "text/plain": [
              "{'first name': 'Иван',\n",
              " 'languages': ['Python'],\n",
              " 'flowers': ['rozy', 'lilii'],\n",
              " 'job': 'web-программист',\n",
              " 'experience': 7,\n",
              " 'rat': 'blue',\n",
              " 'data': 2027,\n",
              " 'f_languages': ['русский', 'английский']}"
            ]
          },
          "metadata": {},
          "execution_count": 160
        }
      ],
      "source": [
        "person"
      ]
    },
    {
      "cell_type": "markdown",
      "metadata": {
        "id": "d2UpYUwc3Nle"
      },
      "source": [
        "Метод `.popitem()` удаляет и выводит последний добавленный в словарь элемент."
      ]
    },
    {
      "cell_type": "code",
      "execution_count": 161,
      "metadata": {
        "id": "6aruZx9MKBUK",
        "colab": {
          "base_uri": "https://localhost:8080/"
        },
        "outputId": "04c9747f-c3bb-4a9d-ca31-2b6cfbf46d48"
      },
      "outputs": [
        {
          "output_type": "execute_result",
          "data": {
            "text/plain": [
              "('f_languages', ['русский', 'английский'])"
            ]
          },
          "metadata": {},
          "execution_count": 161
        }
      ],
      "source": [
        "# метод .popitem() удаляет последний добавленный элемент и выводит его\n",
        "\n",
        "person.popitem()"
      ]
    },
    {
      "cell_type": "code",
      "execution_count": null,
      "metadata": {
        "id": "Cv71GcRg3Nle"
      },
      "outputs": [],
      "source": [
        "person"
      ]
    },
    {
      "cell_type": "markdown",
      "metadata": {
        "id": "kA6XrqTc3Nlf"
      },
      "source": [
        "Метод `.clear()` удаляет все ключи и значения и возвращает пустой словарь."
      ]
    },
    {
      "cell_type": "code",
      "execution_count": 162,
      "metadata": {
        "id": "tH_TmTAgf1Qc",
        "colab": {
          "base_uri": "https://localhost:8080/"
        },
        "outputId": "3b90d602-31cb-4c9b-9334-a2092888fc78"
      },
      "outputs": [
        {
          "output_type": "execute_result",
          "data": {
            "text/plain": [
              "{}"
            ]
          },
          "metadata": {},
          "execution_count": 162
        }
      ],
      "source": [
        "# метод .clear() удаляет все элементы словаря\n",
        "\n",
        "person.clear()\n",
        "person"
      ]
    },
    {
      "cell_type": "code",
      "execution_count": 163,
      "metadata": {
        "id": "KQzvF_SmHFYa"
      },
      "outputs": [],
      "source": [
        "# ключевое слово del также позволяет удалить словарь целиком\n",
        "\n",
        "del person"
      ]
    },
    {
      "cell_type": "code",
      "execution_count": 164,
      "metadata": {
        "id": "41jpFZaGA3U3",
        "colab": {
          "base_uri": "https://localhost:8080/",
          "height": 176
        },
        "outputId": "d64b43f4-3d33-4fe0-f11f-d8e7ad73147f"
      },
      "outputs": [
        {
          "output_type": "error",
          "ename": "NameError",
          "evalue": "name 'person' is not defined",
          "traceback": [
            "\u001b[0;31m---------------------------------------------------------------------------\u001b[0m",
            "\u001b[0;31mNameError\u001b[0m                                 Traceback (most recent call last)",
            "\u001b[0;32m<ipython-input-164-2ae09d3850b3>\u001b[0m in \u001b[0;36m<cell line: 3>\u001b[0;34m()\u001b[0m\n\u001b[1;32m      1\u001b[0m \u001b[0;31m# убедимся, что такого словаря больше нет\u001b[0m\u001b[0;34m\u001b[0m\u001b[0;34m\u001b[0m\u001b[0m\n\u001b[1;32m      2\u001b[0m \u001b[0;34m\u001b[0m\u001b[0m\n\u001b[0;32m----> 3\u001b[0;31m \u001b[0mperson\u001b[0m\u001b[0;34m\u001b[0m\u001b[0;34m\u001b[0m\u001b[0m\n\u001b[0m",
            "\u001b[0;31mNameError\u001b[0m: name 'person' is not defined"
          ]
        }
      ],
      "source": [
        "# убедимся, что такого словаря больше нет\n",
        "\n",
        "person"
      ]
    },
    {
      "cell_type": "markdown",
      "metadata": {
        "id": "VS8k8X8kwAhj"
      },
      "source": [
        "#### Сортировка словарей"
      ]
    },
    {
      "cell_type": "markdown",
      "metadata": {
        "id": "kf6nL-Mf3Nlf"
      },
      "source": [
        "Для сортировки словарей можно использовать функцию `sorted()`."
      ]
    },
    {
      "cell_type": "code",
      "execution_count": 165,
      "metadata": {
        "id": "u3rg89UKwE1e"
      },
      "outputs": [],
      "source": [
        "# возьмем словарь\n",
        "\n",
        "dict_to_sort = {'k2' : 30, 'k1' : 20, 'k3' : 10}"
      ]
    },
    {
      "cell_type": "code",
      "execution_count": 166,
      "metadata": {
        "id": "bTwIep0qwFW8",
        "colab": {
          "base_uri": "https://localhost:8080/"
        },
        "outputId": "c7cd3bf7-62bc-4286-e9bc-1416ba9366b8"
      },
      "outputs": [
        {
          "output_type": "execute_result",
          "data": {
            "text/plain": [
              "['k1', 'k2', 'k3']"
            ]
          },
          "metadata": {},
          "execution_count": 166
        }
      ],
      "source": [
        "# отсортируем ключи\n",
        "\n",
        "sorted(dict_to_sort)"
      ]
    },
    {
      "cell_type": "code",
      "execution_count": 167,
      "metadata": {
        "id": "tnJvCeBxna2q",
        "colab": {
          "base_uri": "https://localhost:8080/"
        },
        "outputId": "fb2d0546-727e-45c9-ed23-179e79ae9f0f"
      },
      "outputs": [
        {
          "output_type": "execute_result",
          "data": {
            "text/plain": [
              "[10, 20, 30]"
            ]
          },
          "metadata": {},
          "execution_count": 167
        }
      ],
      "source": [
        "# и значения\n",
        "\n",
        "sorted(dict_to_sort.values())"
      ]
    },
    {
      "cell_type": "markdown",
      "metadata": {
        "id": "j1fMeafH3Nlf"
      },
      "source": [
        "Если нужно отсортировать пары ключ : значение по ключу или по значению, вначале используют метод `.items()` для извлечения этих пар (кортежей) из словаря."
      ]
    },
    {
      "cell_type": "code",
      "execution_count": 168,
      "metadata": {
        "id": "jYQNHiJrMhSA",
        "colab": {
          "base_uri": "https://localhost:8080/"
        },
        "outputId": "6c518624-a962-432a-d365-732a3f9a7760"
      },
      "outputs": [
        {
          "output_type": "execute_result",
          "data": {
            "text/plain": [
              "dict_items([('k2', 30), ('k1', 20), ('k3', 10)])"
            ]
          },
          "metadata": {},
          "execution_count": 168
        }
      ],
      "source": [
        "# посмотрим на пары ключ : значение\n",
        "\n",
        "dict_to_sort.items()"
      ]
    },
    {
      "cell_type": "markdown",
      "metadata": {
        "id": "q3PZ3Em-3Nlf"
      },
      "source": [
        "Затем указывают эти кортежи в качестве первого аргумента функции `sorted()`. Параметру `key` этой же функции передают `lambda-функцию`, которая вернет либо ключ lambda x : x[0] каждого кортежа, либо его значение lambda x : x[1]. Именно по ним и будет произведена сортировка."
      ]
    },
    {
      "cell_type": "code",
      "execution_count": 177,
      "metadata": {
        "id": "2Lbe96f0nh85",
        "colab": {
          "base_uri": "https://localhost:8080/"
        },
        "outputId": "47c9047f-ac9a-4736-95d6-444bc77bf4e0"
      },
      "outputs": [
        {
          "output_type": "stream",
          "name": "stdout",
          "text": [
            "[('a', 30), ('b', 24), ('c', 32)]\n",
            "[('b', 24), ('a', 30), ('c', 32)]\n"
          ]
        }
      ],
      "source": [
        "# для их сортировки по ключу (индекс [0])\n",
        "# воспользуемся методом .items() и lambda-функцией\n",
        "\n",
        "abs = {'b' : 24, 'c' : 32, 'a': 30}\n",
        "\n",
        "print(sorted(abs.items(), key = lambda x: x[0]))\n",
        "print(sorted(abs.items(), key = lambda x: x[1]))"
      ]
    },
    {
      "cell_type": "code",
      "execution_count": 178,
      "metadata": {
        "id": "Vl9gs9fVoE-A",
        "colab": {
          "base_uri": "https://localhost:8080/"
        },
        "outputId": "214ee76f-2d80-4356-8371-b0f6dd2beffe"
      },
      "outputs": [
        {
          "output_type": "execute_result",
          "data": {
            "text/plain": [
              "[('k3', 10), ('k1', 20), ('k2', 30)]"
            ]
          },
          "metadata": {},
          "execution_count": 178
        }
      ],
      "source": [
        "# сортировка по значению выполняется так же, однако\n",
        "# lambda-функции мы передаем индекс [1]\n",
        "\n",
        "sorted(dict_to_sort.items(), key = lambda x : x[1])"
      ]
    },
    {
      "cell_type": "markdown",
      "metadata": {
        "id": "v9aK8-q2CdXO"
      },
      "source": [
        "#### Копирование словарей"
      ]
    },
    {
      "cell_type": "code",
      "execution_count": 179,
      "metadata": {
        "id": "ysVmXSyVFZMU"
      },
      "outputs": [],
      "source": [
        "# создадим исходный словарь с количеством студентов на первом и втором курсах университета\n",
        "\n",
        "original = {'Первый курс' : 174, 'Второй курс' : 131}"
      ]
    },
    {
      "cell_type": "markdown",
      "metadata": {
        "id": "DYkMoaN3GL1X"
      },
      "source": [
        "Копирование с помощью метода `.copy()`."
      ]
    },
    {
      "cell_type": "code",
      "execution_count": 180,
      "metadata": {
        "id": "7GARkYIJ3Nlf",
        "colab": {
          "base_uri": "https://localhost:8080/"
        },
        "outputId": "80b7b83e-163b-4fa8-b272-828447f6fb03"
      },
      "outputs": [
        {
          "output_type": "execute_result",
          "data": {
            "text/plain": [
              "{'Первый курс': 174, 'Второй курс': 131}"
            ]
          },
          "metadata": {},
          "execution_count": 180
        }
      ],
      "source": [
        "# создадим копию этого словаря с помощью метода .copy()\n",
        "\n",
        "new_original = original.copy()\n",
        "new_original"
      ]
    },
    {
      "cell_type": "code",
      "execution_count": 185,
      "metadata": {
        "id": "-t7mXlsUCc2p",
        "colab": {
          "base_uri": "https://localhost:8080/"
        },
        "outputId": "b4d397b8-f3ef-4164-f716-431858c2d7c1"
      },
      "outputs": [
        {
          "output_type": "stream",
          "name": "stdout",
          "text": [
            "{}\n",
            "{'Третий курс': 117}\n"
          ]
        }
      ],
      "source": [
        "# добавим информацию о третьем курсе в новый словарь\n",
        "\n",
        "new_original['Третий курс'] = 117\n",
        "\n",
        "# исходный словарь не изменился\n",
        "\n",
        "print(original)\n",
        "print(new_original)"
      ]
    },
    {
      "cell_type": "markdown",
      "metadata": {
        "id": "h9IslECkGSsr"
      },
      "source": [
        "Копирование через оператор присваивания `=` (так делать не стоит!)"
      ]
    },
    {
      "cell_type": "code",
      "execution_count": 182,
      "metadata": {
        "id": "9r3DfKz83Nlg"
      },
      "outputs": [],
      "source": [
        "# передадим исходный словарь в новую переменную\n",
        "\n",
        "new_2 = original"
      ]
    },
    {
      "cell_type": "code",
      "execution_count": 183,
      "metadata": {
        "id": "cQZ-uDDpEvkO",
        "colab": {
          "base_uri": "https://localhost:8080/"
        },
        "outputId": "93a9b9be-c028-41c5-a083-d5f73ee47391"
      },
      "outputs": [
        {
          "output_type": "stream",
          "name": "stdout",
          "text": [
            "{}\n",
            "{}\n"
          ]
        }
      ],
      "source": [
        "# удалим элементы нового словаря\n",
        "\n",
        "new_2.clear()\n",
        "\n",
        "# из исходного словаря данные также удалились\n",
        "\n",
        "print(original)\n",
        "print(new_2)"
      ]
    },
    {
      "cell_type": "markdown",
      "metadata": {
        "id": "KVhauxEM3Nlg"
      },
      "source": [
        "Данные были удалены из обоих словарей. Так быть не должно и поэтому такой метод копирования использовать не стоит."
      ]
    },
    {
      "cell_type": "markdown",
      "metadata": {
        "id": "89eAqj7A3Nlg"
      },
      "source": [
        "### Списки и словари"
      ]
    },
    {
      "cell_type": "markdown",
      "metadata": {
        "id": "-wgmqpo53Nlg"
      },
      "source": [
        "Из словарей и списков создают `сложные структуры данных`:\n",
        "- список списков, где одни списки становятся элементами другого;\n",
        "- словарь словарей — значениями одного словаря становятся другие словари;\n",
        "- словарь списков — списки выступают значениями словаря;\n",
        "- списки словарей — словари становятся элементами списка."
      ]
    },
    {
      "cell_type": "markdown",
      "metadata": {
        "id": "sotESTWI3Nlg"
      },
      "source": [
        "К значениям в списке словаря обращаются по двум «координатам»:\n",
        "- индексу списка,\n",
        "- имени ключа."
      ]
    },
    {
      "cell_type": "code",
      "execution_count": 197,
      "metadata": {
        "id": "2gUHloDp3Nlg",
        "colab": {
          "base_uri": "https://localhost:8080/"
        },
        "outputId": "f74b74d5-97ba-49e5-b858-109df30af376"
      },
      "outputs": [
        {
          "output_type": "stream",
          "name": "stdout",
          "text": [
            "                 Group                    Best Song\n",
            "0                AC/DC              Shoot To Thrill\n",
            "1  My Chemical Romance  Welcome to the Black Parade\n",
            "2        Artic Monkeys                          505\n",
            "3        Big Time Rush                    Boyfriend\n"
          ]
        }
      ],
      "source": [
        "# пример списка словарей\n",
        "\n",
        "movies_table = [\n",
        "    {'movie_name':'Побег из Шоушенка', 'country':'США', 'genre':'драма', 'year':1994, 'duration':142, 'rating':9.111},\n",
        "    {'movie_name':'Крёстный отец', 'country':'США', 'genre':'драма, криминал', 'year':1972, 'duration':175, 'rating':8.730},\n",
        "    {'movie_name':'Тёмный рыцарь', 'country':'США', 'genre':'фантастика, боевик, триллер', 'year':2008, 'duration':152, 'rating':8.499}\n",
        "]\n",
        "\n",
        "movies_table\n",
        "\n",
        "songs_table = [\n",
        "    {'Group' : 'AC/DC', 'Best Song' : 'Shoot To Thrill'},\n",
        "    {'Group' : 'My Chemical Romance', 'Best Song' : 'Welcome to the Black Parade'},\n",
        "    {'Group' : 'Artic Monkeys', 'Best Song' : '505'},\n",
        "    {'Group' : 'Big Time Rush', 'Best Song' : 'Boyfriend'}\n",
        "]\n",
        "\n",
        "df = pd.DataFrame(songs_table)\n",
        "print(df)"
      ]
    },
    {
      "cell_type": "markdown",
      "metadata": {
        "id": "XCKZ1eD83Nlg"
      },
      "source": [
        "Поэтому список словарей более всего напоминает таблицы `pandas`, где к данным обращаются по номеру строки и имени колонки:"
      ]
    },
    {
      "cell_type": "code",
      "execution_count": 198,
      "metadata": {
        "id": "5Z2rlVhx3Nlg",
        "colab": {
          "base_uri": "https://localhost:8080/",
          "height": 143
        },
        "outputId": "58a6bb70-15d7-4234-dd75-ee3cea21a126"
      },
      "outputs": [
        {
          "output_type": "execute_result",
          "data": {
            "text/plain": [
              "          movie_name country                        genre  year  duration  \\\n",
              "0  Побег из Шоушенка     США                        драма  1994       142   \n",
              "1      Крёстный отец     США              драма, криминал  1972       175   \n",
              "2      Тёмный рыцарь     США  фантастика, боевик, триллер  2008       152   \n",
              "\n",
              "   rating  \n",
              "0   9.111  \n",
              "1   8.730  \n",
              "2   8.499  "
            ],
            "text/html": [
              "\n",
              "  <div id=\"df-e104dc59-d871-4e43-b0f9-69dd26ddcf5c\" class=\"colab-df-container\">\n",
              "    <div>\n",
              "<style scoped>\n",
              "    .dataframe tbody tr th:only-of-type {\n",
              "        vertical-align: middle;\n",
              "    }\n",
              "\n",
              "    .dataframe tbody tr th {\n",
              "        vertical-align: top;\n",
              "    }\n",
              "\n",
              "    .dataframe thead th {\n",
              "        text-align: right;\n",
              "    }\n",
              "</style>\n",
              "<table border=\"1\" class=\"dataframe\">\n",
              "  <thead>\n",
              "    <tr style=\"text-align: right;\">\n",
              "      <th></th>\n",
              "      <th>movie_name</th>\n",
              "      <th>country</th>\n",
              "      <th>genre</th>\n",
              "      <th>year</th>\n",
              "      <th>duration</th>\n",
              "      <th>rating</th>\n",
              "    </tr>\n",
              "  </thead>\n",
              "  <tbody>\n",
              "    <tr>\n",
              "      <th>0</th>\n",
              "      <td>Побег из Шоушенка</td>\n",
              "      <td>США</td>\n",
              "      <td>драма</td>\n",
              "      <td>1994</td>\n",
              "      <td>142</td>\n",
              "      <td>9.111</td>\n",
              "    </tr>\n",
              "    <tr>\n",
              "      <th>1</th>\n",
              "      <td>Крёстный отец</td>\n",
              "      <td>США</td>\n",
              "      <td>драма, криминал</td>\n",
              "      <td>1972</td>\n",
              "      <td>175</td>\n",
              "      <td>8.730</td>\n",
              "    </tr>\n",
              "    <tr>\n",
              "      <th>2</th>\n",
              "      <td>Тёмный рыцарь</td>\n",
              "      <td>США</td>\n",
              "      <td>фантастика, боевик, триллер</td>\n",
              "      <td>2008</td>\n",
              "      <td>152</td>\n",
              "      <td>8.499</td>\n",
              "    </tr>\n",
              "  </tbody>\n",
              "</table>\n",
              "</div>\n",
              "    <div class=\"colab-df-buttons\">\n",
              "\n",
              "  <div class=\"colab-df-container\">\n",
              "    <button class=\"colab-df-convert\" onclick=\"convertToInteractive('df-e104dc59-d871-4e43-b0f9-69dd26ddcf5c')\"\n",
              "            title=\"Convert this dataframe to an interactive table.\"\n",
              "            style=\"display:none;\">\n",
              "\n",
              "  <svg xmlns=\"http://www.w3.org/2000/svg\" height=\"24px\" viewBox=\"0 -960 960 960\">\n",
              "    <path d=\"M120-120v-720h720v720H120Zm60-500h600v-160H180v160Zm220 220h160v-160H400v160Zm0 220h160v-160H400v160ZM180-400h160v-160H180v160Zm440 0h160v-160H620v160ZM180-180h160v-160H180v160Zm440 0h160v-160H620v160Z\"/>\n",
              "  </svg>\n",
              "    </button>\n",
              "\n",
              "  <style>\n",
              "    .colab-df-container {\n",
              "      display:flex;\n",
              "      gap: 12px;\n",
              "    }\n",
              "\n",
              "    .colab-df-convert {\n",
              "      background-color: #E8F0FE;\n",
              "      border: none;\n",
              "      border-radius: 50%;\n",
              "      cursor: pointer;\n",
              "      display: none;\n",
              "      fill: #1967D2;\n",
              "      height: 32px;\n",
              "      padding: 0 0 0 0;\n",
              "      width: 32px;\n",
              "    }\n",
              "\n",
              "    .colab-df-convert:hover {\n",
              "      background-color: #E2EBFA;\n",
              "      box-shadow: 0px 1px 2px rgba(60, 64, 67, 0.3), 0px 1px 3px 1px rgba(60, 64, 67, 0.15);\n",
              "      fill: #174EA6;\n",
              "    }\n",
              "\n",
              "    .colab-df-buttons div {\n",
              "      margin-bottom: 4px;\n",
              "    }\n",
              "\n",
              "    [theme=dark] .colab-df-convert {\n",
              "      background-color: #3B4455;\n",
              "      fill: #D2E3FC;\n",
              "    }\n",
              "\n",
              "    [theme=dark] .colab-df-convert:hover {\n",
              "      background-color: #434B5C;\n",
              "      box-shadow: 0px 1px 3px 1px rgba(0, 0, 0, 0.15);\n",
              "      filter: drop-shadow(0px 1px 2px rgba(0, 0, 0, 0.3));\n",
              "      fill: #FFFFFF;\n",
              "    }\n",
              "  </style>\n",
              "\n",
              "    <script>\n",
              "      const buttonEl =\n",
              "        document.querySelector('#df-e104dc59-d871-4e43-b0f9-69dd26ddcf5c button.colab-df-convert');\n",
              "      buttonEl.style.display =\n",
              "        google.colab.kernel.accessAllowed ? 'block' : 'none';\n",
              "\n",
              "      async function convertToInteractive(key) {\n",
              "        const element = document.querySelector('#df-e104dc59-d871-4e43-b0f9-69dd26ddcf5c');\n",
              "        const dataTable =\n",
              "          await google.colab.kernel.invokeFunction('convertToInteractive',\n",
              "                                                    [key], {});\n",
              "        if (!dataTable) return;\n",
              "\n",
              "        const docLinkHtml = 'Like what you see? Visit the ' +\n",
              "          '<a target=\"_blank\" href=https://colab.research.google.com/notebooks/data_table.ipynb>data table notebook</a>'\n",
              "          + ' to learn more about interactive tables.';\n",
              "        element.innerHTML = '';\n",
              "        dataTable['output_type'] = 'display_data';\n",
              "        await google.colab.output.renderOutput(dataTable, element);\n",
              "        const docLink = document.createElement('div');\n",
              "        docLink.innerHTML = docLinkHtml;\n",
              "        element.appendChild(docLink);\n",
              "      }\n",
              "    </script>\n",
              "  </div>\n",
              "\n",
              "\n",
              "<div id=\"df-b8266166-e49f-48db-b66c-13d8758309e8\">\n",
              "  <button class=\"colab-df-quickchart\" onclick=\"quickchart('df-b8266166-e49f-48db-b66c-13d8758309e8')\"\n",
              "            title=\"Suggest charts\"\n",
              "            style=\"display:none;\">\n",
              "\n",
              "<svg xmlns=\"http://www.w3.org/2000/svg\" height=\"24px\"viewBox=\"0 0 24 24\"\n",
              "     width=\"24px\">\n",
              "    <g>\n",
              "        <path d=\"M19 3H5c-1.1 0-2 .9-2 2v14c0 1.1.9 2 2 2h14c1.1 0 2-.9 2-2V5c0-1.1-.9-2-2-2zM9 17H7v-7h2v7zm4 0h-2V7h2v10zm4 0h-2v-4h2v4z\"/>\n",
              "    </g>\n",
              "</svg>\n",
              "  </button>\n",
              "\n",
              "<style>\n",
              "  .colab-df-quickchart {\n",
              "      --bg-color: #E8F0FE;\n",
              "      --fill-color: #1967D2;\n",
              "      --hover-bg-color: #E2EBFA;\n",
              "      --hover-fill-color: #174EA6;\n",
              "      --disabled-fill-color: #AAA;\n",
              "      --disabled-bg-color: #DDD;\n",
              "  }\n",
              "\n",
              "  [theme=dark] .colab-df-quickchart {\n",
              "      --bg-color: #3B4455;\n",
              "      --fill-color: #D2E3FC;\n",
              "      --hover-bg-color: #434B5C;\n",
              "      --hover-fill-color: #FFFFFF;\n",
              "      --disabled-bg-color: #3B4455;\n",
              "      --disabled-fill-color: #666;\n",
              "  }\n",
              "\n",
              "  .colab-df-quickchart {\n",
              "    background-color: var(--bg-color);\n",
              "    border: none;\n",
              "    border-radius: 50%;\n",
              "    cursor: pointer;\n",
              "    display: none;\n",
              "    fill: var(--fill-color);\n",
              "    height: 32px;\n",
              "    padding: 0;\n",
              "    width: 32px;\n",
              "  }\n",
              "\n",
              "  .colab-df-quickchart:hover {\n",
              "    background-color: var(--hover-bg-color);\n",
              "    box-shadow: 0 1px 2px rgba(60, 64, 67, 0.3), 0 1px 3px 1px rgba(60, 64, 67, 0.15);\n",
              "    fill: var(--button-hover-fill-color);\n",
              "  }\n",
              "\n",
              "  .colab-df-quickchart-complete:disabled,\n",
              "  .colab-df-quickchart-complete:disabled:hover {\n",
              "    background-color: var(--disabled-bg-color);\n",
              "    fill: var(--disabled-fill-color);\n",
              "    box-shadow: none;\n",
              "  }\n",
              "\n",
              "  .colab-df-spinner {\n",
              "    border: 2px solid var(--fill-color);\n",
              "    border-color: transparent;\n",
              "    border-bottom-color: var(--fill-color);\n",
              "    animation:\n",
              "      spin 1s steps(1) infinite;\n",
              "  }\n",
              "\n",
              "  @keyframes spin {\n",
              "    0% {\n",
              "      border-color: transparent;\n",
              "      border-bottom-color: var(--fill-color);\n",
              "      border-left-color: var(--fill-color);\n",
              "    }\n",
              "    20% {\n",
              "      border-color: transparent;\n",
              "      border-left-color: var(--fill-color);\n",
              "      border-top-color: var(--fill-color);\n",
              "    }\n",
              "    30% {\n",
              "      border-color: transparent;\n",
              "      border-left-color: var(--fill-color);\n",
              "      border-top-color: var(--fill-color);\n",
              "      border-right-color: var(--fill-color);\n",
              "    }\n",
              "    40% {\n",
              "      border-color: transparent;\n",
              "      border-right-color: var(--fill-color);\n",
              "      border-top-color: var(--fill-color);\n",
              "    }\n",
              "    60% {\n",
              "      border-color: transparent;\n",
              "      border-right-color: var(--fill-color);\n",
              "    }\n",
              "    80% {\n",
              "      border-color: transparent;\n",
              "      border-right-color: var(--fill-color);\n",
              "      border-bottom-color: var(--fill-color);\n",
              "    }\n",
              "    90% {\n",
              "      border-color: transparent;\n",
              "      border-bottom-color: var(--fill-color);\n",
              "    }\n",
              "  }\n",
              "</style>\n",
              "\n",
              "  <script>\n",
              "    async function quickchart(key) {\n",
              "      const quickchartButtonEl =\n",
              "        document.querySelector('#' + key + ' button');\n",
              "      quickchartButtonEl.disabled = true;  // To prevent multiple clicks.\n",
              "      quickchartButtonEl.classList.add('colab-df-spinner');\n",
              "      try {\n",
              "        const charts = await google.colab.kernel.invokeFunction(\n",
              "            'suggestCharts', [key], {});\n",
              "      } catch (error) {\n",
              "        console.error('Error during call to suggestCharts:', error);\n",
              "      }\n",
              "      quickchartButtonEl.classList.remove('colab-df-spinner');\n",
              "      quickchartButtonEl.classList.add('colab-df-quickchart-complete');\n",
              "    }\n",
              "    (() => {\n",
              "      let quickchartButtonEl =\n",
              "        document.querySelector('#df-b8266166-e49f-48db-b66c-13d8758309e8 button');\n",
              "      quickchartButtonEl.style.display =\n",
              "        google.colab.kernel.accessAllowed ? 'block' : 'none';\n",
              "    })();\n",
              "  </script>\n",
              "</div>\n",
              "    </div>\n",
              "  </div>\n"
            ],
            "application/vnd.google.colaboratory.intrinsic+json": {
              "type": "dataframe",
              "variable_name": "df",
              "summary": "{\n  \"name\": \"df\",\n  \"rows\": 3,\n  \"fields\": [\n    {\n      \"column\": \"movie_name\",\n      \"properties\": {\n        \"dtype\": \"string\",\n        \"num_unique_values\": 3,\n        \"samples\": [\n          \"\\u041f\\u043e\\u0431\\u0435\\u0433 \\u0438\\u0437 \\u0428\\u043e\\u0443\\u0448\\u0435\\u043d\\u043a\\u0430\",\n          \"\\u041a\\u0440\\u0451\\u0441\\u0442\\u043d\\u044b\\u0439 \\u043e\\u0442\\u0435\\u0446\",\n          \"\\u0422\\u0451\\u043c\\u043d\\u044b\\u0439 \\u0440\\u044b\\u0446\\u0430\\u0440\\u044c\"\n        ],\n        \"semantic_type\": \"\",\n        \"description\": \"\"\n      }\n    },\n    {\n      \"column\": \"country\",\n      \"properties\": {\n        \"dtype\": \"category\",\n        \"num_unique_values\": 1,\n        \"samples\": [\n          \"\\u0421\\u0428\\u0410\"\n        ],\n        \"semantic_type\": \"\",\n        \"description\": \"\"\n      }\n    },\n    {\n      \"column\": \"genre\",\n      \"properties\": {\n        \"dtype\": \"string\",\n        \"num_unique_values\": 3,\n        \"samples\": [\n          \"\\u0434\\u0440\\u0430\\u043c\\u0430\"\n        ],\n        \"semantic_type\": \"\",\n        \"description\": \"\"\n      }\n    },\n    {\n      \"column\": \"year\",\n      \"properties\": {\n        \"dtype\": \"number\",\n        \"std\": 18,\n        \"min\": 1972,\n        \"max\": 2008,\n        \"num_unique_values\": 3,\n        \"samples\": [\n          1994\n        ],\n        \"semantic_type\": \"\",\n        \"description\": \"\"\n      }\n    },\n    {\n      \"column\": \"duration\",\n      \"properties\": {\n        \"dtype\": \"number\",\n        \"std\": 16,\n        \"min\": 142,\n        \"max\": 175,\n        \"num_unique_values\": 3,\n        \"samples\": [\n          142\n        ],\n        \"semantic_type\": \"\",\n        \"description\": \"\"\n      }\n    },\n    {\n      \"column\": \"rating\",\n      \"properties\": {\n        \"dtype\": \"number\",\n        \"std\": 0.3090485398768291,\n        \"min\": 8.499,\n        \"max\": 9.111,\n        \"num_unique_values\": 3,\n        \"samples\": [\n          9.111\n        ],\n        \"semantic_type\": \"\",\n        \"description\": \"\"\n      }\n    }\n  ]\n}"
            }
          },
          "metadata": {},
          "execution_count": 198
        }
      ],
      "source": [
        "df = pd.DataFrame(movies_table)\n",
        "df"
      ]
    },
    {
      "cell_type": "markdown",
      "metadata": {
        "id": "cG8MukwZ3Nlg"
      },
      "source": [
        "Циклы могут обойти список словарей как обычный список. Например, так можно отфильтровать данные или посчитать сумму значений любой «колонки»."
      ]
    },
    {
      "cell_type": "code",
      "execution_count": 199,
      "metadata": {
        "id": "K9yAMMC73Nlg",
        "colab": {
          "base_uri": "https://localhost:8080/"
        },
        "outputId": "eba3cf90-a19d-4a92-a9c9-ca9b235d33a8"
      },
      "outputs": [
        {
          "output_type": "stream",
          "name": "stdout",
          "text": [
            "469\n"
          ]
        }
      ],
      "source": [
        "total_duration = 0 # присваиваем переменной с общей длительностью стартовое значение\n",
        "\n",
        "for movie in movies_table: # перебираем каждый словарь в списке\n",
        "    total_duration += movie['duration'] # добавляем к переменной длительность фильма\n",
        "\n",
        "print(total_duration)"
      ]
    },
    {
      "cell_type": "markdown",
      "metadata": {
        "id": "kTSeFrE13Nlg"
      },
      "source": [
        "### Вывод словаря на экран"
      ]
    },
    {
      "cell_type": "markdown",
      "metadata": {
        "id": "34MJ2XB53Nlg"
      },
      "source": [
        "Чтобы список словаря было удобно прочитать, можно подготовить его к печати функцией `dumps()` из библиотеки `json`. Она добавит отступы, которые разделят две «оси координат» в списке словарей:\n",
        "- индексы списка,\n",
        "- ключи словаря."
      ]
    },
    {
      "cell_type": "code",
      "execution_count": 200,
      "metadata": {
        "id": "NB3fQLL13Nlg"
      },
      "outputs": [],
      "source": [
        "from json import dumps # подключение dumps() для красивого вывода словаря"
      ]
    },
    {
      "cell_type": "code",
      "execution_count": 201,
      "metadata": {
        "id": "6WI_lgqQ3Nlg",
        "colab": {
          "base_uri": "https://localhost:8080/"
        },
        "outputId": "96cf148c-ce96-4cdd-fe4f-3b1b85c2b6be"
      },
      "outputs": [
        {
          "output_type": "stream",
          "name": "stdout",
          "text": [
            "[\n",
            "    {\n",
            "        \"movie_name\": \"Побег из Шоушенка\",\n",
            "        \"country\": \"США\",\n",
            "        \"genre\": \"драма\",\n",
            "        \"year\": 1994,\n",
            "        \"duration\": 142,\n",
            "        \"rating\": 9.111\n",
            "    },\n",
            "    {\n",
            "        \"movie_name\": \"Крёстный отец\",\n",
            "        \"country\": \"США\",\n",
            "        \"genre\": \"драма, криминал\",\n",
            "        \"year\": 1972,\n",
            "        \"duration\": 175,\n",
            "        \"rating\": 8.73\n",
            "    },\n",
            "    {\n",
            "        \"movie_name\": \"Тёмный рыцарь\",\n",
            "        \"country\": \"США\",\n",
            "        \"genre\": \"фантастика, боевик, триллер\",\n",
            "        \"year\": 2008,\n",
            "        \"duration\": 152,\n",
            "        \"rating\": 8.499\n",
            "    }\n",
            "]\n"
          ]
        }
      ],
      "source": [
        "movies_table = [\n",
        "    {'movie_name':'Побег из Шоушенка', 'country':'США', 'genre':'драма', 'year':1994, 'duration':142, 'rating':9.111},\n",
        "    {'movie_name':'Крёстный отец', 'country':'США', 'genre':'драма, криминал', 'year':1972, 'duration':175, 'rating':8.730},\n",
        "    {'movie_name':'Тёмный рыцарь', 'country':'США', 'genre':'фантастика, боевик, триллер', 'year':2008, 'duration':152, 'rating':8.499}\n",
        "]\n",
        "\n",
        "print(dumps(movies_table, indent=4, ensure_ascii=False))"
      ]
    },
    {
      "cell_type": "markdown",
      "metadata": {
        "id": "wUTNQBXl3Nlg"
      },
      "source": [
        "Функцией `dumps()` управляют два параметра:\n",
        "- indent=4 — настроит отступ;\n",
        "- ensure_ascii=False — обработает кириллические символы."
      ]
    },
    {
      "cell_type": "markdown",
      "metadata": {
        "id": "I-UUEhQNvezN"
      },
      "source": [
        "#### Вложенные словари"
      ]
    },
    {
      "cell_type": "code",
      "execution_count": 215,
      "metadata": {
        "id": "OA69rLjwwTAc",
        "colab": {
          "base_uri": "https://localhost:8080/"
        },
        "outputId": "dab95fc2-16f7-4486-d16c-213d361338bb"
      },
      "outputs": [
        {
          "output_type": "stream",
          "name": "stdout",
          "text": [
            "{'id1': {'first name': 'Александр', 'last name': 'Иванов', 'age': 30, 'job': 'программист'}, 'id2': {'first name': 'Ольга', 'last name': 'Петрова', 'age': 35, 'job': 'ML-engineer'}}\n"
          ]
        }
      ],
      "source": [
        "# возьмем словарь, ключами которого будут id сотрудников\n",
        "\n",
        "employees = {\n",
        "    'id1': {\n",
        "        'first name': 'Александр',\n",
        "        'last name' : 'Иванов',\n",
        "        'age': 30,\n",
        "        'job':'программист'\n",
        "    },\n",
        "    'id2': {\n",
        "        'first name': 'Ольга',\n",
        "        'last name' : 'Петрова',\n",
        "        'age': 35,\n",
        "        'job':'ML-engineer'\n",
        "    }\n",
        "}\n",
        "\n",
        "print(employees)"
      ]
    },
    {
      "cell_type": "code",
      "execution_count": 209,
      "metadata": {
        "id": "8UNwQKCANq0J",
        "colab": {
          "base_uri": "https://localhost:8080/"
        },
        "outputId": "2249359d-f03c-44e8-ddcd-737a7e55317f"
      },
      "outputs": [
        {
          "output_type": "stream",
          "name": "stdout",
          "text": [
            "{'first name': 'Александр', 'last name': 'Иванов', 'age': 30, 'job': 'программист'}\n",
            "{'first name': 'Ольга', 'last name': 'Петрова', 'age': 35, 'job': 'ML-engineer'}\n"
          ]
        }
      ],
      "source": [
        "# а значениями - вложенные словари с информацией о них\n",
        "\n",
        "for v in employees.values():\n",
        "    print(v)"
      ]
    },
    {
      "cell_type": "markdown",
      "metadata": {
        "id": "xBRzL0hdkF95"
      },
      "source": [
        "##### Базовые операции"
      ]
    },
    {
      "cell_type": "code",
      "execution_count": 220,
      "metadata": {
        "id": "0Hx_jDxnOBF3",
        "colab": {
          "base_uri": "https://localhost:8080/",
          "height": 35
        },
        "outputId": "5d19c3ce-f3b4-4e33-8e4f-d163baf3183e"
      },
      "outputs": [
        {
          "output_type": "execute_result",
          "data": {
            "text/plain": [
              "'программист'"
            ],
            "application/vnd.google.colaboratory.intrinsic+json": {
              "type": "string"
            }
          },
          "metadata": {},
          "execution_count": 220
        }
      ],
      "source": [
        "# для того чтобы вывести значение элемента вложенного словаря,\n",
        "# воспользуемся двойным ключом\n",
        "\n",
        "employees['id1']['job']\n"
      ]
    },
    {
      "cell_type": "code",
      "execution_count": 221,
      "metadata": {
        "id": "Sql_bisvmTM8"
      },
      "outputs": [],
      "source": [
        "# импортируем функцию pprint() из модуля pprint\n",
        "# некоторые структуры данных она выводит лучше, чем обычная print()\n",
        "\n",
        "from pprint import pprint"
      ]
    },
    {
      "cell_type": "code",
      "execution_count": 222,
      "metadata": {
        "id": "iUNy0ji7ORNC",
        "colab": {
          "base_uri": "https://localhost:8080/"
        },
        "outputId": "f02ebf08-bfc1-4b60-972a-40a9f2651b50"
      },
      "outputs": [
        {
          "output_type": "stream",
          "name": "stdout",
          "text": [
            "{'id1': {'age': 30,\n",
            "         'first name': 'Александр',\n",
            "         'job': 'программист',\n",
            "         'last name': 'Иванов'},\n",
            " 'id2': {'age': 35,\n",
            "         'first name': 'Ольга',\n",
            "         'job': 'ML-engineer',\n",
            "         'last name': 'Петрова'},\n",
            " 'id3': {'age': 27,\n",
            "         'first name': 'Дарья',\n",
            "         'job': 'веб-дизайнер',\n",
            "         'last name': 'Некрасова'}}\n"
          ]
        }
      ],
      "source": [
        "# добавим информацию о новом сотруднике\n",
        "\n",
        "employees['id3'] = {'first name': 'Дарья', 'last name' : 'Некрасова', 'age': 27, 'job' : 'веб-дизайнер' }\n",
        "\n",
        "# и выведем обновленный словарь с помощью функции pprint()\n",
        "\n",
        "pprint(employees)"
      ]
    },
    {
      "cell_type": "code",
      "execution_count": 224,
      "metadata": {
        "id": "mHmC4hPGwTC_",
        "colab": {
          "base_uri": "https://localhost:8080/"
        },
        "outputId": "a636c248-9116-49ae-f141-69a053784224"
      },
      "outputs": [
        {
          "output_type": "stream",
          "name": "stdout",
          "text": [
            "{'id1': {'age': 30,\n",
            "         'first name': 'Александр',\n",
            "         'job': 'программист',\n",
            "         'last name': 'Иванов'},\n",
            " 'id2': {'age': 35,\n",
            "         'first name': 'Ольга',\n",
            "         'job': 'ML-engineer',\n",
            "         'last name': 'Петрова'},\n",
            " 'id3': {'age': 26,\n",
            "         'first name': 'Дарья',\n",
            "         'job': 'веб-дизайнер',\n",
            "         'last name': 'Некрасова'}}\n"
          ]
        }
      ],
      "source": [
        "# изменить значение вложенного словаря можно также с помощью двойного ключа\n",
        "\n",
        "employees['id3']['age'] = 26\n",
        "pprint(employees)"
      ]
    },
    {
      "cell_type": "markdown",
      "metadata": {
        "id": "kP8KzxtckMf0"
      },
      "source": [
        "##### Циклы `for`"
      ]
    },
    {
      "cell_type": "code",
      "execution_count": 225,
      "metadata": {
        "id": "rfKMVzEGlUf1",
        "colab": {
          "base_uri": "https://localhost:8080/"
        },
        "outputId": "47137445-19a7-4a73-9c66-e97c97273e57"
      },
      "outputs": [
        {
          "output_type": "stream",
          "name": "stdout",
          "text": [
            "{'id1': {'age': 30.0,\n",
            "         'first name': 'Александр',\n",
            "         'job': 'программист',\n",
            "         'last name': 'Иванов'},\n",
            " 'id2': {'age': 35.0,\n",
            "         'first name': 'Ольга',\n",
            "         'job': 'ML-engineer',\n",
            "         'last name': 'Петрова'},\n",
            " 'id3': {'age': 26.0,\n",
            "         'first name': 'Дарья',\n",
            "         'job': 'веб-дизайнер',\n",
            "         'last name': 'Некрасова'}}\n"
          ]
        }
      ],
      "source": [
        "# заменим тип данных в информации о возрасте с int на float\n",
        "\n",
        "# для этого вначале пройдемся по вложенным словарям,\n",
        "# т.е. по значениям info внешнего словаря employees\n",
        "\n",
        "for info in employees.values():\n",
        "\n",
        "  # затем по ключам и значениям вложенного словаря info\n",
        "  for k, v in info.items():\n",
        "\n",
        "    # если ключ совпадет со словом 'age'\n",
        "    if k == 'age':\n",
        "\n",
        "      # преобразуем значение в тип float\n",
        "      info[k] = float(v)\n",
        "\n",
        "pprint(employees)"
      ]
    },
    {
      "cell_type": "markdown",
      "metadata": {
        "id": "LAx-zGvZ3NlY"
      },
      "source": [
        "# Задание\n",
        "\n",
        "1. Запишите в словарь `movies` четыре фильма. Название послужит ключом, а год выхода — значением.\n",
        "\n",
        "* Измените словарь таким образом, чтобы ключами стали порядковые числа, а название - значением.\n",
        "* Для словаря `movies` выведите ключи, значения и пары ключ-значение.\n",
        "* Добавьте еще один фильм.\n",
        "* Используя цикл `for` выведите ключи, значения и пары ключ-значение.\n",
        "* Используя небезопасный способ выведите информацию о фильме, ключа для которого нет в словаре.\n",
        "* Повторите операцию пункта 4, используя безопасный способ.\n",
        "* Проверьте наличие в словаре конкретного (имеющегося) фильма по его ключу, по его наименованию, по паре ключ-значение.\n",
        "* Проверьте наличие в словаре конкретного (отсутствующего) фильма по его ключу, по его наименованию, по паре ключ-значение.\n",
        "\n",
        "2. Создайте карточку студента в формате словаря Python.<br>\n",
        "Укажите следующие ключи: `first name`, `last name`, `gender`, `age` (значения могут быть произвольными).\n",
        "\n",
        "* К созданной карточке студента добавьте ключ `year` (курс) и значение 3.\n",
        "* Предположим студент перешел на четвертый курс. Обновите данные в словаре.\n",
        "* Проверьте, есть ли в словаре ключ `major` (основная специальность), но так, чтобы при этом не возникло ошибки.\n",
        "* Соедините ранее созданный словарь с новым. В новом словаре должны быть следующие ключи: `major` и `sports`. Значения могут быть произвольными.\n",
        "* Удалите данные о поле студента (ключ `gender`).\n",
        "* Создайте копию получившегося словаря. Измените любое значение в копии словаря. Убедитесь, что исходный словарь не изменился.\n",
        "\n",
        "3. Создайте `список словарей`, состоящий из 5 сериалов с указанием наименования сериала, страны, жанра, канала (шоураннера) и количества серий.\n",
        "* Сформируйте `датафрейм` на основе созданного списка словарей и выведите его на экран.\n",
        "* Рассчитайте общее количество серий, используя цикл `for`.\n",
        "* Выведите список словарей на экран, используя функцию `dumps()`."
      ]
    },
    {
      "cell_type": "code",
      "execution_count": 284,
      "metadata": {
        "id": "gKl8LdUD3Nlf",
        "colab": {
          "base_uri": "https://localhost:8080/"
        },
        "outputId": "7be35155-ea14-41d4-e4d1-e149c6da5a33"
      },
      "outputs": [
        {
          "output_type": "stream",
          "name": "stdout",
          "text": [
            "0 Alone Home\n",
            "1 Avatar\n",
            "2 Avatar 2\n",
            "3 Transformers\n",
            "\n",
            "Keys: dict_keys(['Alone Home', 'Avatar', 'Avatar 2', 'Transformers'])\n",
            "Values: dict_values([1990, 2009, 2022, 2007])\n",
            "Keys-Velues: dict_items([('Alone Home', 1990), ('Avatar', 2009), ('Avatar 2', 2022), ('Transformers', 2007)])\n",
            "\n",
            "key: Alone Home | Value: 1990\n",
            "key: Avatar | Value: 2009\n",
            "key: Avatar 2 | Value: 2022\n",
            "key: Transformers | Value: 2007\n",
            "key: Avatar 3 | Value: 2025\n",
            "\n",
            "Такого фильма нет!\n",
            "2022\n",
            "None\n"
          ]
        }
      ],
      "source": [
        "# Задание 1\n",
        "from pprint import pprint\n",
        "import pandas as pd\n",
        "from json import dumps\n",
        "\n",
        "movies = {'Alone Home' : 1990,\n",
        "          'Avatar' : 2009,\n",
        "          'Avatar 2' : 2022,\n",
        "          'Transformers' : 2007\n",
        "}\n",
        "\n",
        "# Ключи -> порядковые числа, названия - значением\n",
        "movies_list = list(movies.keys())\n",
        "movies_reversed =  {i: movies_list[i] for i in range(len(movies_list))}\n",
        "\n",
        "# Проверка\n",
        "for k, v in movies_reversed.items():\n",
        "    print(k, v)\n",
        "\n",
        "print()\n",
        "\n",
        "# Ключи, значения и пары ключ-значение.\n",
        "print('Keys:', movies.keys())\n",
        "print('Values:', movies.values())\n",
        "print('Keys-Velues:', movies.items())\n",
        "print()\n",
        "\n",
        "movies['Avatar 3'] = 2025\n",
        "\n",
        "# Ключи, значения и пары ключ-значение (for)\n",
        "for k, v in movies.items():\n",
        "    print('key:', k, '| ' 'Value:', v )\n",
        "\n",
        "print()\n",
        "\n",
        "# Небезопасный способ\n",
        "# print(movies['Avatar 4']) # KeyError\n",
        "print(movies.get('Avatar 4', 'Такого фильма нет!'))\n",
        "\n",
        "# Поиск существующего фильма\n",
        "print(movies.get('Avatar 2'))\n",
        "\n",
        "# Поиск не существующего фильма\n",
        "print(movies.get('Avatar 5'))"
      ]
    },
    {
      "cell_type": "code",
      "source": [
        "# Задание 2\n",
        "student = {\n",
        "    'first name' : 'Spartak',\n",
        "    'last name' : 'Deppershmidt',\n",
        "    'gender' : 'male',\n",
        "    'age' : '19'\n",
        "}\n",
        "\n",
        "student['year'] = 3\n",
        "student['year'] = 4\n",
        "\n",
        "# Проверка, без ошибки\n",
        "student.get('major', 'Такого ключа нет!')\n",
        "\n",
        "new_student = {'major' : 'IT', 'sports' : 'volleyball'}\n",
        "\n",
        "# Соединение словарей\n",
        "student.update(new_student)\n",
        "pprint(student)\n",
        "print()\n",
        "\n",
        "del student['gender']\n",
        "pprint(student)\n",
        "print()\n",
        "\n",
        "# Создание копии словаря\n",
        "student_copy = student.copy()\n",
        "pprint(student_copy)\n",
        "print()\n",
        "\n",
        "student_copy['age'] = 23\n",
        "pprint(student_copy)\n",
        "print()\n",
        "\n",
        "# Исходный словарь\n",
        "pprint(student)"
      ],
      "metadata": {
        "colab": {
          "base_uri": "https://localhost:8080/"
        },
        "id": "Ujy-2UaAnMpH",
        "outputId": "75893b3a-80f9-4bf0-b72c-521ae305aa39"
      },
      "execution_count": 285,
      "outputs": [
        {
          "output_type": "stream",
          "name": "stdout",
          "text": [
            "{'age': '19',\n",
            " 'first name': 'Spartak',\n",
            " 'gender': 'male',\n",
            " 'last name': 'Deppershmidt',\n",
            " 'major': 'IT',\n",
            " 'sports': 'volleyball',\n",
            " 'year': 4}\n",
            "\n",
            "{'age': '19',\n",
            " 'first name': 'Spartak',\n",
            " 'last name': 'Deppershmidt',\n",
            " 'major': 'IT',\n",
            " 'sports': 'volleyball',\n",
            " 'year': 4}\n",
            "\n",
            "{'age': '19',\n",
            " 'first name': 'Spartak',\n",
            " 'last name': 'Deppershmidt',\n",
            " 'major': 'IT',\n",
            " 'sports': 'volleyball',\n",
            " 'year': 4}\n",
            "\n",
            "{'age': 23,\n",
            " 'first name': 'Spartak',\n",
            " 'last name': 'Deppershmidt',\n",
            " 'major': 'IT',\n",
            " 'sports': 'volleyball',\n",
            " 'year': 4}\n",
            "\n",
            "{'age': '19',\n",
            " 'first name': 'Spartak',\n",
            " 'last name': 'Deppershmidt',\n",
            " 'major': 'IT',\n",
            " 'sports': 'volleyball',\n",
            " 'year': 4}\n"
          ]
        }
      ]
    },
    {
      "cell_type": "code",
      "source": [
        "# Задание 3\n",
        "series = [\n",
        "    {'Название сериала': 'Виктория Победительница', 'Страна' : 'США',\n",
        "     'Жанр' : 'Комедия', 'Канал' : 'Никелодион', 'Кол-во серий' : 96},\n",
        "    {'Название сериала': 'Губка-Боб', 'Страна' : 'США',\n",
        "     'Жанр' : 'Комедия', 'Канал' : 'Никелодион', 'Кол-во серий' : 101},\n",
        "    {'Название сериала': 'Биг Тайм Раш', 'Страна' : 'США',\n",
        "     'Жанр' : 'Комедия', 'Канал' : 'Никелодион', 'Кол-во серий' : 166},\n",
        "    {'Название сериала': 'Ники, Рики, Дики и Дон', 'Страна' : 'США',\n",
        "     'Жанр' : 'Комедия', 'Канал' : 'Никелодион', 'Кол-во серий' : 121},\n",
        "    {'Название сериала': 'Мой тихий дом', 'Страна' : 'США',\n",
        "     'Жанр' : 'Комедия', 'Канал' : 'Никелодион', 'Кол-во серий' : 81}\n",
        "]\n",
        "\n",
        "df = pd.DataFrame(series)\n",
        "print(df)\n",
        "print()\n",
        "\n",
        "total_episodes = 0\n",
        "\n",
        "for show in series:\n",
        "    total_episodes += show[\"Кол-во серий\"]\n",
        "\n",
        "print('Общее количество серий:', total_episodes)\n",
        "print()\n",
        "\n",
        "print('Вывод методом dumps:', dumps(series, indent=4, ensure_ascii=False))"
      ],
      "metadata": {
        "colab": {
          "base_uri": "https://localhost:8080/"
        },
        "id": "w7tAFXlInL6o",
        "outputId": "cad0aa65-e4e8-49b3-adcb-e27861216d0c"
      },
      "execution_count": 310,
      "outputs": [
        {
          "output_type": "stream",
          "name": "stdout",
          "text": [
            "          Название сериала Страна     Жанр       Канал  Кол-во серий\n",
            "0  Виктория Победительница    США  Комедия  Никелодион            96\n",
            "1                Губка-Боб    США  Комедия  Никелодион           101\n",
            "2             Биг Тайм Раш    США  Комедия  Никелодион           166\n",
            "3   Ники, Рики, Дики и Дон    США  Комедия  Никелодион           121\n",
            "4            Мой тихий дом    США  Комедия  Никелодион            81\n",
            "\n",
            "Общее количество серий: 565\n",
            "\n",
            "Вывод методом dumps: [\n",
            "    {\n",
            "        \"Название сериала\": \"Виктория Победительница\",\n",
            "        \"Страна\": \"США\",\n",
            "        \"Жанр\": \"Комедия\",\n",
            "        \"Канал\": \"Никелодион\",\n",
            "        \"Кол-во серий\": 96\n",
            "    },\n",
            "    {\n",
            "        \"Название сериала\": \"Губка-Боб\",\n",
            "        \"Страна\": \"США\",\n",
            "        \"Жанр\": \"Комедия\",\n",
            "        \"Канал\": \"Никелодион\",\n",
            "        \"Кол-во серий\": 101\n",
            "    },\n",
            "    {\n",
            "        \"Название сериала\": \"Биг Тайм Раш\",\n",
            "        \"Страна\": \"США\",\n",
            "        \"Жанр\": \"Комедия\",\n",
            "        \"Канал\": \"Никелодион\",\n",
            "        \"Кол-во серий\": 166\n",
            "    },\n",
            "    {\n",
            "        \"Название сериала\": \"Ники, Рики, Дики и Дон\",\n",
            "        \"Страна\": \"США\",\n",
            "        \"Жанр\": \"Комедия\",\n",
            "        \"Канал\": \"Никелодион\",\n",
            "        \"Кол-во серий\": 121\n",
            "    },\n",
            "    {\n",
            "        \"Название сериала\": \"Мой тихий дом\",\n",
            "        \"Страна\": \"США\",\n",
            "        \"Жанр\": \"Комедия\",\n",
            "        \"Канал\": \"Никелодион\",\n",
            "        \"Кол-во серий\": 81\n",
            "    }\n",
            "]\n"
          ]
        }
      ]
    },
    {
      "cell_type": "markdown",
      "metadata": {
        "id": "-7BJwOw73Nlj"
      },
      "source": [
        "# Задание\n",
        "\n",
        "Дан вложенный словарь."
      ]
    },
    {
      "cell_type": "code",
      "execution_count": 289,
      "metadata": {
        "id": "EUPLxd9I3Nlj"
      },
      "outputs": [],
      "source": [
        "writers = {\n",
        "    'Shakespeare' : {\n",
        "        'works' : ['Hamlet', 'Romeo and Juliet', 'Othello', 'King Lear'],\n",
        "        'born' : 1564,\n",
        "        'language' : 'English'\n",
        "    },\n",
        "    'Dumas' : {\n",
        "        'works' : ['Les Trois Mousquetaires', 'Le Comte de Monte-Cristo'],\n",
        "        'born': 1802,\n",
        "        'language' : 'French'\n",
        "    },\n",
        "    'Tolstoy' : {\n",
        "        'works' : ['Война и мир', 'Анна Каренина', 'Воскресение'],\n",
        "        'born' : 1908,\n",
        "        'language' : 'Russian'\n",
        "    }\n",
        "}\n"
      ]
    },
    {
      "cell_type": "markdown",
      "metadata": {
        "id": "PCDZ4tnQr6NX"
      },
      "source": [
        "Выведите словарь с помощью функции `pprint()`."
      ]
    },
    {
      "cell_type": "code",
      "execution_count": 295,
      "metadata": {
        "id": "M7Hf9iZNr24Q",
        "colab": {
          "base_uri": "https://localhost:8080/"
        },
        "outputId": "2506b9d6-3e0c-4e0b-fa65-b39130eaeca3"
      },
      "outputs": [
        {
          "output_type": "stream",
          "name": "stdout",
          "text": [
            "{'Dumas': {'born': 1802,\n",
            "           'language': 'French',\n",
            "           'works': ['Les Trois Mousquetaires', 'Le Comte de Monte-Cristo']},\n",
            " 'Shakespeare': {'born': 1564,\n",
            "                 'language': 'English',\n",
            "                 'works': ['Hamlet',\n",
            "                           'Romeo and Juliet',\n",
            "                           'Othello',\n",
            "                           'King Lear']},\n",
            " 'Tolstoy': {'born': 1908,\n",
            "             'language': 'Russian',\n",
            "             'works': ['Война и мир', 'Анна Каренина', 'Воскресение']}}\n"
          ]
        }
      ],
      "source": [
        "pprint(writers)"
      ]
    },
    {
      "cell_type": "markdown",
      "metadata": {
        "id": "bAsk2WD6r_99"
      },
      "source": [
        "Выведите год рождения Дюма."
      ]
    },
    {
      "cell_type": "code",
      "execution_count": 296,
      "metadata": {
        "id": "oRgFR_RyscQn",
        "colab": {
          "base_uri": "https://localhost:8080/"
        },
        "outputId": "fe989695-fe46-487e-b551-277e3c98678b"
      },
      "outputs": [
        {
          "output_type": "stream",
          "name": "stdout",
          "text": [
            "1802\n"
          ]
        }
      ],
      "source": [
        "print(writers['Dumas']['born'])"
      ]
    },
    {
      "cell_type": "markdown",
      "metadata": {
        "id": "kxRnBXzBsfG9"
      },
      "source": [
        "Добавьте пьесу Macbeth (Макбет) в перечень произведений Шекпира."
      ]
    },
    {
      "cell_type": "code",
      "execution_count": 306,
      "metadata": {
        "id": "ZyTprCkYtLPm",
        "colab": {
          "base_uri": "https://localhost:8080/"
        },
        "outputId": "63b0b983-2960-4052-c15d-1e133c47f649"
      },
      "outputs": [
        {
          "output_type": "stream",
          "name": "stdout",
          "text": [
            "['King Lear', 'Romeo and Juliet', 'Hamlet', 'Othello', 'Macbeth']\n"
          ]
        }
      ],
      "source": [
        "writers['Shakespeare']['works'] = list(set(writers['Shakespeare']['works']))\n",
        "\n",
        "if 'Macbeth' not in writers['Shakespeare']['works']:\n",
        "    writers['Shakespeare']['works'].append('Macbeth')\n",
        "\n",
        "pprint(writers['Shakespeare']['works'])"
      ]
    },
    {
      "cell_type": "markdown",
      "metadata": {
        "id": "b6C41f-dtS92"
      },
      "source": [
        "Создайте список языков, на которых писали авторы.\n",
        "\n",
        "Подсказка: используйте два цикла `for` или вложенные dict comprehension."
      ]
    },
    {
      "cell_type": "code",
      "execution_count": 307,
      "metadata": {
        "id": "iYbOsHG6h8ny",
        "colab": {
          "base_uri": "https://localhost:8080/"
        },
        "outputId": "b37be919-e48f-4640-a8a8-a5e368324462"
      },
      "outputs": [
        {
          "output_type": "stream",
          "name": "stdout",
          "text": [
            "['English', 'French', 'Russian']\n"
          ]
        }
      ],
      "source": [
        "languages = []\n",
        "\n",
        "for author in writers.values():\n",
        "    if author['language'] not in languages:\n",
        "        languages.append(author['language'])\n",
        "\n",
        "print(languages)"
      ]
    },
    {
      "cell_type": "code",
      "execution_count": 308,
      "metadata": {
        "id": "3ddbjay03Nlk",
        "colab": {
          "base_uri": "https://localhost:8080/"
        },
        "outputId": "26ef62c0-b84c-4c28-d989-326ca2f6b832"
      },
      "outputs": [
        {
          "output_type": "stream",
          "name": "stdout",
          "text": [
            "['French', 'English', 'Russian']\n"
          ]
        }
      ],
      "source": [
        "languages = list({author['language'] for author in writers.values()})\n",
        "print(languages)"
      ]
    }
  ],
  "metadata": {
    "colab": {
      "provenance": []
    },
    "kernelspec": {
      "display_name": "Python 3 (ipykernel)",
      "language": "python",
      "name": "python3"
    },
    "language_info": {
      "codemirror_mode": {
        "name": "ipython",
        "version": 3
      },
      "file_extension": ".py",
      "mimetype": "text/x-python",
      "name": "python",
      "nbconvert_exporter": "python",
      "pygments_lexer": "ipython3",
      "version": "3.11.7"
    }
  },
  "nbformat": 4,
  "nbformat_minor": 0
}
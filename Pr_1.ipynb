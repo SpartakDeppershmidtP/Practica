{
  "cells": [
    {
      "cell_type": "markdown",
      "id": "70bce946-e597-45fa-b8b9-365b450577fe",
      "metadata": {
        "id": "70bce946-e597-45fa-b8b9-365b450577fe"
      },
      "source": [
        "# Практика 01. Базовые конструкции языка Python. Коллекции данных: строки, списки, кортежи, множества, словари. Решение прикладных задач"
      ]
    },
    {
      "cell_type": "markdown",
      "id": "090ac3ff-70c0-4002-b246-1f84ffbdbafa",
      "metadata": {
        "id": "090ac3ff-70c0-4002-b246-1f84ffbdbafa"
      },
      "source": [
        "## Часть 01. Документация по практике"
      ]
    },
    {
      "cell_type": "markdown",
      "id": "61ddec85-164f-41ff-9aa5-f298652e070f",
      "metadata": {
        "id": "61ddec85-164f-41ff-9aa5-f298652e070f"
      },
      "source": [
        "1. **Дневник по практике**: 2 недели - практика по Python, 2 недели - приемная комиссия. Дневник практики заполняется на 4 недели, все дни, кроме воскресений. К дневнику практики распечатываются титульный лист и последний лист, подписываются студентом и руководителем практики. Дневник сдается в электронном виде с двумя сканами распечатанных и подписанных листов **до 05.09.2024**.\n",
        "2. **Практические задачи (практики 1-8)** выполняются студентами индивидуально, во время практических занятий. Сдаются в виде ноутбуков (.ipynb). Решения и ответы на контрольные вопросы приводятся в отчете по практике.\n",
        "3. **Индивидуальное задание на практику (бланк с заданием)** распечатывается, подписывается студентом и руководителем практики, прикладывается к отчету по практике **до 05.09.2024**.\n",
        "4. **Индивидуальное задание** выполнятся студентом индивидуально в соответствии с полученным заданием (файлы Индивидуальное задание (часть 1). Предобработка данных, Индивидуальное задание (часть 2). Иссл анализ данных) на выбранном датасете. Сдается в виде ноутбука (.ipynb).\n",
        "5. Ноутбук с индивидуальным заданием загружается на GiHub через Git.\n",
        "6. **Отчет по практике** оформляется по практическим задачам и индивидуальному заданию. Приводятся задачи, код решения с пояснениями, выводы к каждому этапу индивидуального задания, скриншоты рабочего кода. Отчет по практике защищается в очном формате и сдается в электронном виде **до 05.09.2024**.\n",
        "7. **Презентация к отчету по практике** для защиты работы - по желанию, для добора баллов, сдается **до 05.09.2024**.\n",
        "    ___\n",
        "9. **ГОТОВОЕ ИНДИВИДУАЛЬНОЕ ЗАДАНИЕ И ОТЧЕТ ПЕРЕД ЗАЩИТОЙ ДОЛЖНЫ БЫТЬ ЗАГРУЖЕНЫ В ЭЛЕКТРОННЫЙ ЮУРГУ ДО 25.08.2024**."
      ]
    },
    {
      "cell_type": "markdown",
      "id": "491194a5-9629-4dc3-bc44-f4f3d22e9db7",
      "metadata": {
        "id": "491194a5-9629-4dc3-bc44-f4f3d22e9db7"
      },
      "source": [
        "## Часть 02. Ноутбуки, маркдауны"
      ]
    },
    {
      "cell_type": "markdown",
      "id": "0cb95401-ac05-49c2-aef7-fad7b54d7205",
      "metadata": {
        "id": "0cb95401-ac05-49c2-aef7-fad7b54d7205"
      },
      "source": [
        "### 1. Установка Jupyter\n",
        "\n",
        "Инструкция по установке Jupyter Notebook: http://jupyter.readthedocs.org/en/latest/install.html\n",
        "\n",
        "После установки запуск осуществляется командой в консоли:  \n",
        "\n",
        "`jupyter notebook`\n",
        "\n",
        "Через несколько секунд должна открыться страница в браузере со списком файлов директории, в которой была запущена команда (можно не ждать и самим перейти по http://localhost:8888/ - обычно там располагается локальный \"сервер\" Jupyter Notebook`а)."
      ]
    },
    {
      "cell_type": "markdown",
      "id": "af95f82e-b9ad-47fe-ad92-007fc57ada10",
      "metadata": {
        "id": "af95f82e-b9ad-47fe-ad92-007fc57ada10"
      },
      "source": [
        "### 2. Онлайн Jupyter Notebook\n",
        "\n",
        "Можно ничего не устанавливать и работать с сайтом https://try.jupyter.org/\n",
        "\n",
        "На сайте можно создать новый файл `(New -> Python 2/3)` или загрузить файл с компьютера с помощью `Upload`.\n",
        "\n",
        "Будьте внимательны!\n",
        "<b>Сайт не сохраняет ваши файлы</b> и удаляет их после закрытия страницы.<br>\n",
        "Чтобы сохранить файл, откройте его, нажмите `File -> Download as -> ipynb`."
      ]
    },
    {
      "cell_type": "markdown",
      "id": "6559c388-593c-46ea-884b-73f14c3e7c2f",
      "metadata": {
        "id": "6559c388-593c-46ea-884b-73f14c3e7c2f"
      },
      "source": [
        "### 3. Google Colab\n",
        "**Google Colab** — это бесплатная среда для разработки и выполнения программного кода в облаке. Она предоставляет возможность писать и запускать код на языке Python, используя только браузер, без установки специальных программ на компьютер.\n",
        "\n",
        "**Google Colab** основан на Jupyter Notebook, популярном ПО для написания и запуска кода. Он поддерживает интерактивное программирование. Код можно писать в отдельных ячейках и выполнять их по порядку, просматривая результаты выполнения после блока с кодом.\n",
        "\n",
        "В Colab можно использовать различные библиотеки Python, включая популярные библиотеки для анализа данных и машинного обучения: NumPy, Pandas и TensorFlow. Также можно загружать и обрабатывать свои данные или работать с данными из интернета.\n",
        "\n",
        "Одно из главных преимуществ Google Colab для программирования Python ― возможность использовать GPU (графический процессор) или TPU (процессор для машинного обучения Tensor Processing Unit) для выполнения вычислительно интенсивных задач, таких как обучение глубоких нейронных сетей. Это делает Colab особенно полезным для работы с машинным обучением и искусственным интеллектом.\n",
        "\n",
        "**Все данные и код хранятся в облаке Google**."
      ]
    },
    {
      "cell_type": "markdown",
      "id": "42722866-e290-4696-a654-967a61a069f5",
      "metadata": {
        "id": "42722866-e290-4696-a654-967a61a069f5"
      },
      "source": [
        "**С Google Colab работают через Google Colab notebooks (блокноты). Вот пошаговое руководство, как начать работу:**\n",
        "1. Открыть браузер и перейти на сайт Google Colab. Для входа потребуется учетная запись Google.<br>\n",
        "2. На главной странице сразу будет несколько примеров текста и кода — можно попробовать что-то в них изменить и посмотреть, как это работает.<br>\n",
        "3. Создать новый блокнот, нажав на кнопку «Файл → Создать блокнот». Также можно открыть уже существующий с компьютера.<br>\n",
        "4. В открывшемся файле будут ячейки кода. В них можно писать код.<br>\n",
        "5. Когда код написан, можно навести на ячейку и нажать на появившуюся иконку в виде стрелочки. Код сразу выполнится.<br>\n",
        "6. Чтобы вставить новые ячейки кода, нужно нажать кнопку «+ Код». Ячейки можно добавлять и удалять.<br>\n",
        "7. Кроме кода можно вставлять текст, например для пояснений.<br>\n",
        "8. В меню доступно множество других инструментов: сохранение блокнотов на Google Drive, загрузка и сохранение данных и библиотек, работа с графиками, коллаборация с другими пользователями и многое другое.<br>\n",
        "9. После окончания работы можно сохранить блокнот на Google Drive или скачать на компьютер в различных форматах.<br>"
      ]
    },
    {
      "cell_type": "markdown",
      "id": "7c2c4c4d-3d93-427b-a45a-c80b10fba747",
      "metadata": {
        "id": "7c2c4c4d-3d93-427b-a45a-c80b10fba747"
      },
      "source": [
        "https://colab.research.google.com/"
      ]
    },
    {
      "cell_type": "markdown",
      "id": "6dcba696-e128-4bbd-8bd3-89e7ea727df7",
      "metadata": {
        "id": "6dcba696-e128-4bbd-8bd3-89e7ea727df7"
      },
      "source": [
        "### 4. Работа с Python в Jupyter Notebook\n",
        "\n",
        "Чтобы создать новый файл, кликните File -> New -> Notebook\n",
        "\n",
        "Ноутбук состоит из ячеек (cells), которые бывают текстовыми (Markdown) и кодовыми (Code).\n",
        "Выбрать тип ячейки можно на панели управления.\n",
        "\n",
        "Работа с ячейками:\n",
        "<ul>\n",
        "    <li> Выбор ячейки — нажмите на нее мышкой.</li>\n",
        "    <li> Редактирование — нажмите на нее два раза.</li>\n",
        "    <li> Запуск ячейки — `SHIFT+ENTER` или нажмите на кнопку <button class='fa fa-play icon-play btn btn-xs btn-default'></button> на панели.</li>\n",
        "    <li> Добавление новой ячейки — нажмите на кнопку <button class='fa fa-plus icon-plus btn btn-xs btn-default'></button> на панели.</li>\n",
        "    <li> Удаление ячейки — нажмите на кнопку <button class='fa fa-cut icon-cut btn btn-xs btn-default'></button> на панели.</li>\n",
        "    <li> Перемещение ячейки — нажмите на вертикальные стрелки.</li>\n",
        "</ul>"
      ]
    },
    {
      "cell_type": "markdown",
      "id": "f6b77c33-181a-45b6-9bbe-a5eec3237170",
      "metadata": {
        "id": "f6b77c33-181a-45b6-9bbe-a5eec3237170"
      },
      "source": [
        "699### 5. Текстовые ячейки\n",
        "Текстовые ячейки содержат в себе обычный текст, который может включать в себя формулы $\\LaTeX$ и `html`-команды:  \n",
        "\n",
        "$$f(x) = \\frac{1}{x}$$  \n",
        "\n",
        "$\\LaTeX$ cheat sheet -  https://wch.github.io/latexsheet/"
      ]
    },
    {
      "cell_type": "markdown",
      "id": "3cd2a9f2-eafd-449f-b3f6-c136ac9265b7",
      "metadata": {
        "id": "3cd2a9f2-eafd-449f-b3f6-c136ac9265b7"
      },
      "source": [
        "### 6. IPython и Jupyter для воспроизводимых исследований\n",
        "То, что вы сейчас видите - это тетрадка IPython (IPython notebook), интерактивная среда для вычислений, способная совмещать код, картинки, markdown-разметку и графики.\n",
        "\n",
        "Пример с сайта http://ipython.org/\n",
        "\n",
        "Тетрадка IPython имеет расширение *.ipynb* и запускается локально командой\n",
        "<p><i><b>>> ipython notebook</b></i></p>\n",
        "\n",
        "Выполнять и редактировать тетрадку можно в браузере http://localhost:8888/\n",
        "\n",
        "Начиная с версии IPython 4.0, большая часть проекта перешла в Jupyter.<br>\n",
        "<a href=\"http://jupyter.org/\">Jupyter</a> - это веб-приложение для обмена документами, в которых можно выполнять код на 40 популярных в анализе данных языках, включая Python, R, Julia и Scala.\n",
        "\n",
        "Тетрадки IPython - отличный способ представить идею, сразу поделиться кодом, хороши для воспроизводимости исследований, включающих написание кода."
      ]
    },
    {
      "cell_type": "markdown",
      "id": "68ddc73b-0c49-49cb-944a-405fc1c890b4",
      "metadata": {
        "id": "68ddc73b-0c49-49cb-944a-405fc1c890b4"
      },
      "source": [
        "### 7. Маркдауны\n",
        "**Markdown** - это облегчённый язык разметки, который преобразует текст в структурированный HTML. Следующее руководство поможет вам разобраться, как использовать Markdown.<br>\n",
        "https://gist.github.com/Jekins/2bf2d0638163f1294637<br>\n",
        "https://paulradzkov.com/2014/markdown_cheatsheet/\n"
      ]
    },
    {
      "cell_type": "markdown",
      "id": "20ca03f5-3641-487e-9f8b-bad61c0a72d5",
      "metadata": {
        "id": "20ca03f5-3641-487e-9f8b-bad61c0a72d5"
      },
      "source": [
        "# Задание #\n",
        "Оформите ниже **два абзаца текста с использованием синтаксиса Markdown**. В оформленном тексте должны присутствовать:\n",
        "1. три заголовка различных уровней; `готово`\n",
        "2. маркированный список; `готово`\n",
        "3. многоуровневый список; `готово`\n",
        "4. цитата; `готово`\n",
        "5. ссылка, отделенная от текста горизонтальной линией; `готово`\n",
        "6. различные начертания для слов внутри текста (курсив, жирный, зачеркнутый);\n",
        " `готово`\n",
        "7. встроенное изображение; `готово`\n",
        "8. чек-лист.  `готово`\n",
        "\n",
        "# **Markdown** #\n",
        "\n",
        "**Markdown** - это легковесный язык разметки, созданный для упрощения написания\n",
        "форматированного текста. Его синтаксис интуитивно понятен и позволяет легко создавать списки, цитаты, ссылки (отделенные от текста горизонтальной линией), различные начертания для слов внутрни текста (*курсив*, **жирный**, ~~зачеркнутый~~), втроенные изображения и чек-листы:  \n",
        "\n",
        "### ***1. Списки в Markdown-е*** ###\n",
        "\n",
        "1. Маркированный список;\n",
        "2. Многоуровнвый список.   \n",
        "\n",
        "##### ***Пример маркированного списка:*** #####  \n",
        "\n",
        "- markdown\n",
        "- удобен\n",
        "- уникален\n",
        "- для\n",
        "- программистов\n",
        "\n",
        "##### ***Пример многоуровневого списка:*** #####  \n",
        "\n",
        "1. Списки  \n",
        "  1.1. Важная информация  \n",
        "  1.2. Очень важная информация  \n",
        "  - Безумно очень важная информация  \n",
        "  - Ультра мега-супер важная информация  \n",
        "    - Крутая информация, для дополинтельных знаний\n",
        "    - Полезная информация, для умных\n",
        "2. Продолжение многоуровневого списка...  \n",
        "\n",
        "### ***2. Цитаты в Markdown-е*** ###\n",
        "\n",
        "*John Gruber, создатель Markdown, говорил:*  \n",
        "\n",
        "> \"Markdown - это язык разметки, который позволяет писать форматированный текст, используя простой и понятный синтаксис.\"\n",
        "\n",
        "> \"Простота Markdown делает его идеальным выбором для быстрой разметки текста, сохраняя при этом его читабельность в необработанном виде.\" *- Chris Coyier, веб-разработчик и основатель CSS-Tricks.*  \n",
        "\n",
        "### ***3. Ссылки, отделенные от текста горизонтальной линией*** ###  \n",
        "\n",
        "*Краткое руководство для изученя Markdown-а:*\n",
        "\n",
        "---\n",
        "\n",
        "[Руководство 1](https://paulradzkov.com/2014/markdown_cheatsheet/)  \n",
        "[Руководство 2](https://skillbox.ru/media/code/yazyk-razmetki-markdown-shpargalka-po-sintaksisu-s-primerami/)  \n",
        "\n",
        "---  \n",
        "\n",
        "*Данное руководство научит вас, правильно его использовать.*   \n",
        "\n",
        "### ***4. Различные начертания для слов внутри текста*** ###  \n",
        "\n",
        "*Возьмем уже используемую цитату:*  \n",
        "\n",
        "\"**Markdown** - ~~это~~ язык _разметки_, который позволяет писать ***форматированный*** текст, используя простой и *понятный синтаксис*.\"  \n",
        "\n",
        "### ***5. Встроенное изображение*** ###  \n",
        "*Картинка Markdown:*  \n",
        "\n",
        "![Markdown](https://miro.medium.com/v2/resize:fit:1200/1*bo-9Gk0DsJpyHsKnvpZa_g.png)  \n",
        "\n",
        "### ***6. Чек-лист*** ###   \n",
        "\n",
        "*Приведем в пример список продуктов:*  \n",
        "\n",
        "- [ ] Огурец\n",
        "- [x] Помидор (выполнен)\n",
        "- [ ] Лаваш\n",
        "\n",
        "\n",
        "\n",
        "### **Использование Markdown-а** ###  \n",
        "\n",
        "Markdown широко используется в блогах, документации, форумах и системах управления версиями, таких как GitHub. Его простота делает его популярным среди разработчиков и авторов, которым нужно быстро форматировать текст.   \n",
        "\n",
        "### **Универсальный инструмент** ###  \n",
        "\n",
        "Markdown поддерживает конвертацию в HTML, что делает его универсальным инструментом для веб-разработки. Он также хорошо интегрируется с различными платформами и приложениями, такими как Jupyter Notebooks и Markdown редакторы. Благодаря своей гибкости и простоте, Markdown стал стандартом де-факто для текстовой разметки в техническом сообществе.\n",
        "\n"
      ]
    },
    {
      "cell_type": "markdown",
      "id": "671b71fe-1c6a-4acd-baeb-ac7c86a5125a",
      "metadata": {
        "id": "671b71fe-1c6a-4acd-baeb-ac7c86a5125a"
      },
      "source": []
    },
    {
      "cell_type": "markdown",
      "id": "48e75074-cdc8-4bd9-84cf-4a2d7df4961a",
      "metadata": {
        "id": "48e75074-cdc8-4bd9-84cf-4a2d7df4961a"
      },
      "source": [
        "## Часть 03. Философия Python, стандарты, PEP 8"
      ]
    },
    {
      "cell_type": "markdown",
      "id": "8128d3db-d883-43b6-837f-de43e2cf7362",
      "metadata": {
        "id": "8128d3db-d883-43b6-837f-de43e2cf7362"
      },
      "source": [
        "**Название** - **«Питон» или «Пайтон»** (в честь комедийных серий BBC «Летающий цирк Монти-Пайтона»)  \n",
        "**Создатель** - **голландец Гвидо ван Россум (Guido van Rossum)** (в 1991 году)  \n",
        "\n",
        "**Особенности**:  \n",
        "- интерпретируемый\n",
        "- объектно-ориентированный\n",
        "- высокоуровневый язык\n",
        "- встроенные высокоуровневые структуры данных\n",
        "- динамическая типизация\n",
        "- синтаксис прост в изучении\n",
        "- поддержка модулей и пакетов (большинство библиотек\n",
        "бесплатны)\n",
        "- универсальный\n",
        "- интеграция с другими языками (C (Cython), C++, Java (JPython))  "
      ]
    },
    {
      "cell_type": "markdown",
      "id": "c63c3ec0-0030-43f2-a89e-0bda59ff1c21",
      "metadata": {
        "id": "c63c3ec0-0030-43f2-a89e-0bda59ff1c21"
      },
      "source": [
        "**Python** - это свободный интерпретируемый объектно-ориентированный расширяемый встраиваемый язык программирования очень высокого уровня (Г.Россум, Ф.Л.Дж.Дрейк, Д.С.Откидач \"Язык программирования Python\")\n",
        " - свободный - все исходные тексты открыты для любого использования, даже коммерческого\n",
        " - интерпретируемый - использует \"позднее связывание\"\n",
        " - объектно-ориентированный - классическая ОО модель с множественным наследованием\n",
        " - расширяемый - имеет строго определенные API для создания модулей, типов и классов на C или C++\n",
        " - встраиваемый - имеет строго определенные API для встраивания интерпретатора в другие программы\n",
        " - очень высокого уровня - динамическая типизация, встроенные типы данных высокого уровня (например, словари), классы, модули, исключения"
      ]
    },
    {
      "cell_type": "markdown",
      "id": "8ee2c23f-630d-4d8c-b97d-c7967f867da6",
      "metadata": {
        "id": "8ee2c23f-630d-4d8c-b97d-c7967f867da6"
      },
      "source": [
        "Код на Python чаще всего намного более читаемый, чем на C или C++, потому что:\n",
        "- типы данных высокого уровня позволяют выражать сложные операции одной или несколькими простыми командами\n",
        "- группирование инструкций выполняется отступами, а не фигурными скобками\n",
        "- не надо объявлять переменные"
      ]
    },
    {
      "cell_type": "markdown",
      "id": "c3dec714-fd3f-4f35-a53f-2b30b0d062fd",
      "metadata": {
        "id": "c3dec714-fd3f-4f35-a53f-2b30b0d062fd"
      },
      "source": [
        "**Стиль оформления кода** - **PEP8** (если Вы хороший человек).  \n",
        "\n",
        "*Самое главное из PEP8:*  \n",
        "- отступ – 4 пробела\n",
        "- длина строки < 80 символов\n",
        "- переменные: var_recommended\n",
        "- константы: CONST_RECOMMENDED"
      ]
    },
    {
      "cell_type": "markdown",
      "id": "4cf96f73-b317-464b-81e9-37212cd14359",
      "metadata": {
        "id": "4cf96f73-b317-464b-81e9-37212cd14359"
      },
      "source": [
        "https://netology-university.bitbucket.io/codestyle/python/<br>\n",
        "https://peps.python.org/pep-0008/"
      ]
    },
    {
      "cell_type": "markdown",
      "id": "daace445-ffb8-4de7-90b9-a7dfc86388b4",
      "metadata": {
        "id": "daace445-ffb8-4de7-90b9-a7dfc86388b4"
      },
      "source": [
        "<p><i><b>>> python</b></i></p>"
      ]
    },
    {
      "cell_type": "markdown",
      "id": "fe3db5d8-f3a9-4954-86c1-fe4328a50cb2",
      "metadata": {
        "id": "fe3db5d8-f3a9-4954-86c1-fe4328a50cb2"
      },
      "source": [
        "Программирование на Python в настоящее время придерживается целой философии, называемой «The Zen of Python» («Дзен Питона»), автором которой является Тим Петерс."
      ]
    },
    {
      "cell_type": "markdown",
      "id": "27aa754f-dbda-4de2-9b47-1d5cb8fef111",
      "metadata": {
        "id": "27aa754f-dbda-4de2-9b47-1d5cb8fef111"
      },
      "source": [
        "Дзен языка Python"
      ]
    },
    {
      "cell_type": "code",
      "execution_count": 2,
      "id": "fda5e8dc-f633-4443-ae08-70b85e2443d8",
      "metadata": {
        "id": "fda5e8dc-f633-4443-ae08-70b85e2443d8",
        "colab": {
          "base_uri": "https://localhost:8080/"
        },
        "outputId": "2dc05d76-d696-4cb9-d8f8-ed88196d0c0d"
      },
      "outputs": [
        {
          "output_type": "stream",
          "name": "stdout",
          "text": [
            "The Zen of Python, by Tim Peters\n",
            "\n",
            "Beautiful is better than ugly.\n",
            "Explicit is better than implicit.\n",
            "Simple is better than complex.\n",
            "Complex is better than complicated.\n",
            "Flat is better than nested.\n",
            "Sparse is better than dense.\n",
            "Readability counts.\n",
            "Special cases aren't special enough to break the rules.\n",
            "Although practicality beats purity.\n",
            "Errors should never pass silently.\n",
            "Unless explicitly silenced.\n",
            "In the face of ambiguity, refuse the temptation to guess.\n",
            "There should be one-- and preferably only one --obvious way to do it.\n",
            "Although that way may not be obvious at first unless you're Dutch.\n",
            "Now is better than never.\n",
            "Although never is often better than *right* now.\n",
            "If the implementation is hard to explain, it's a bad idea.\n",
            "If the implementation is easy to explain, it may be a good idea.\n",
            "Namespaces are one honking great idea -- let's do more of those!\n"
          ]
        }
      ],
      "source": [
        "import this"
      ]
    },
    {
      "cell_type": "markdown",
      "id": "39e95cbf-68bd-461e-b787-723fd5a7b1ff",
      "metadata": {
        "id": "39e95cbf-68bd-461e-b787-723fd5a7b1ff"
      },
      "source": [
        "# Задание\n",
        "1. Напишите **произвольный код из 7 строчек** с нарушением стиля оформления кода PEP8, допустите **более 10 различных ошибок**.\n",
        "2. Перепишите **код** без ошибок **в стиле PEP8**."
      ]
    },
    {
      "cell_type": "code",
      "execution_count": null,
      "id": "a5d53f08-37c9-41c1-8b67-c996aba4e8e8",
      "metadata": {
        "id": "a5d53f08-37c9-41c1-8b67-c996aba4e8e8"
      },
      "outputs": [],
      "source": [
        "def add(a,b):return a+b # Нет пробелов вокруг запятых, оператор в той же строке\n",
        "def sub(a , b) : return a - b  # Лишние пробелы вокруг запятых и оператора\n",
        "def mul( a,b):return a*b  # Пробел перед аргументами функции\n",
        "def div(a,b):\n",
        "  if b!=0: return a/b  # Отступ не кратен 4 пробелам, оператор в той же строке\n",
        "  else:return 'Error: Division by zero' # Оператор в той же строке\n",
        "\n",
        "print( add (2,3) ) ; print(sub(5 ,3))  # Лишние пробелы и ; вместо новой строки\n",
        "print(mul(4,5)) ;print(div(10, 2))  # Лишние пробелы и ; вместо новой строки\n"
      ]
    },
    {
      "cell_type": "code",
      "execution_count": null,
      "id": "aa989d2e-692f-476b-b452-fcf9ca734b28",
      "metadata": {
        "id": "aa989d2e-692f-476b-b452-fcf9ca734b28"
      },
      "outputs": [],
      "source": [
        "def add(a, b):\n",
        "    return a + b\n",
        "\n",
        "\n",
        "def sub(a, b):\n",
        "    return a - b\n",
        "\n",
        "\n",
        "def mul(a, b):\n",
        "    return a * b\n",
        "\n",
        "\n",
        "def div(a, b):\n",
        "    if b != 0:\n",
        "        return a / b\n",
        "    else:\n",
        "        return 'Error: Division by zero'\n",
        "\n",
        "\n",
        "print(add(2, 3))\n",
        "print(sub(5, 3))\n",
        "print(mul(4, 5))\n",
        "print(div(10, 2))"
      ]
    },
    {
      "cell_type": "markdown",
      "id": "5ed5b6f1-6688-4b98-8b40-e0e821a11267",
      "metadata": {
        "id": "5ed5b6f1-6688-4b98-8b40-e0e821a11267"
      },
      "source": [
        "## Часть 04. Основы языка Python. Типы и структуры данных"
      ]
    },
    {
      "cell_type": "markdown",
      "id": "941085bc-15b7-4239-a502-acf3588906d4",
      "metadata": {
        "id": "941085bc-15b7-4239-a502-acf3588906d4"
      },
      "source": [
        "**Переменная** – это именованная область памяти, в которой во время выполнения программы хранятся данные определенного типа.<br>\n",
        "В стандартах оформления кода PEP8 даны рекомендации по названиям переменных:\n",
        "\n",
        "- Названия не должны начинаться с цифры, но могут заканчиваться цифрой. Например, назвать переменную 7up – неправильно, а так – seven11n– можно.\n",
        "- Названия могут состоять из комбинации строчных, заглавных букв, цифр и символов подчеркивания: lower_case, mixedCase, CapitalizedCase, UPPER_CASE, lower123.\n",
        "- Не следует давать переменным названия, совпадающие со служебными словами, названиями встроенных функций и методов, к примеру – print, list, dict, set, pass, break, raise.\n",
        "- Следует избегать использования отдельных букв, которые могут быть ошибочно приняты друг за друга – l (L в нижнем регистре), I (i в верхнем регистре) или за нуль – 0.\n",
        "- В названиях не должно быть пробелов, дефисов и специальных символов, например, 'или $.\n",
        "- Главный принцип именования переменных – осмысленность. По названию переменной должно быть понятно, какого рода данные в ней хранятся – например, car_model, petName, CARD_NUMBER более информативны, чем a, а1, а2.\n",
        "\n",
        "Переменные выполняют две важные функции:\n",
        "\n",
        "- делают код понятнее;\n",
        "- дают возможность многократно использовать введенные данные."
      ]
    },
    {
      "cell_type": "code",
      "execution_count": null,
      "id": "9cbb34db-e73f-4fb7-9dce-a7ad87788d96",
      "metadata": {
        "id": "9cbb34db-e73f-4fb7-9dce-a7ad87788d96",
        "colab": {
          "base_uri": "https://localhost:8080/"
        },
        "outputId": "feec3fe0-ddbe-45d9-9253-fc169e3a2230"
      },
      "outputs": [
        {
          "name": "stdout",
          "output_type": "stream",
          "text": [
            "Спартак\n",
            "Деппершмидт\n",
            "19\n"
          ]
        }
      ],
      "source": [
        "first_name = input()\n",
        "last_name = input()\n",
        "age = input()"
      ]
    },
    {
      "cell_type": "code",
      "execution_count": null,
      "id": "545f824a-7050-4bb7-abb0-455aaef94c54",
      "metadata": {
        "id": "545f824a-7050-4bb7-abb0-455aaef94c54",
        "colab": {
          "base_uri": "https://localhost:8080/"
        },
        "outputId": "f460db8f-a0a1-4d40-d4bb-d05ece954ea3"
      },
      "outputs": [
        {
          "output_type": "stream",
          "name": "stdout",
          "text": [
            "Спартак\n",
            "Деппершмидт\n",
            "19\n"
          ]
        }
      ],
      "source": [
        "print(first_name)\n",
        "print(last_name)\n",
        "print(age)"
      ]
    },
    {
      "cell_type": "code",
      "execution_count": null,
      "id": "a3319080-8b12-48b8-aaed-1a5304d4be20",
      "metadata": {
        "id": "a3319080-8b12-48b8-aaed-1a5304d4be20",
        "colab": {
          "base_uri": "https://localhost:8080/"
        },
        "outputId": "41b40f19-8aa9-4f4d-c996-b05d9d80a676"
      },
      "outputs": [
        {
          "name": "stdout",
          "output_type": "stream",
          "text": [
            "Спартак\n",
            "Деппершмидт\n",
            "19\n"
          ]
        }
      ],
      "source": [
        "first_name, last_name, age = input(), input(), input()"
      ]
    },
    {
      "cell_type": "code",
      "execution_count": null,
      "id": "2e8ab896-d3fe-46ed-9b0c-a19be4dc05a6",
      "metadata": {
        "id": "2e8ab896-d3fe-46ed-9b0c-a19be4dc05a6",
        "colab": {
          "base_uri": "https://localhost:8080/"
        },
        "outputId": "7a5e334d-fc82-479f-852b-2557cc83c880"
      },
      "outputs": [
        {
          "output_type": "stream",
          "name": "stdout",
          "text": [
            "Спартак Деппершмидт 19\n"
          ]
        }
      ],
      "source": [
        "print(first_name, last_name, age)"
      ]
    },
    {
      "cell_type": "code",
      "execution_count": null,
      "id": "b88c483d-23e4-4c56-97d6-00f5c1b21372",
      "metadata": {
        "id": "b88c483d-23e4-4c56-97d6-00f5c1b21372",
        "colab": {
          "base_uri": "https://localhost:8080/"
        },
        "outputId": "e4637a4d-a0b2-41ed-f264-d9a6175a02f5"
      },
      "outputs": [
        {
          "name": "stdout",
          "output_type": "stream",
          "text": [
            "25\n"
          ]
        }
      ],
      "source": [
        "x1 = x2 = x3 = input()"
      ]
    },
    {
      "cell_type": "code",
      "execution_count": null,
      "id": "a0342e9c-002b-4480-9b98-2de018cab26e",
      "metadata": {
        "id": "a0342e9c-002b-4480-9b98-2de018cab26e",
        "colab": {
          "base_uri": "https://localhost:8080/"
        },
        "outputId": "1e5a8ae7-5486-4bea-ab0f-5acbbf1db71a"
      },
      "outputs": [
        {
          "output_type": "stream",
          "name": "stdout",
          "text": [
            "25 25 25\n"
          ]
        }
      ],
      "source": [
        "print(x1, x2, x3)"
      ]
    },
    {
      "cell_type": "markdown",
      "id": "HzbZpv-_eKoq",
      "metadata": {
        "id": "HzbZpv-_eKoq"
      },
      "source": [
        "**Все типы данных** в Python относятся к одной из **2-х категорий**: **изменяемые (mutable)** и **неизменяемые (unmutable)**.   \n",
        "\n",
        "*Неизменяемые объекты*:  \n",
        "* числовые данные (int, float),\n",
        "* bool,\n",
        "* None,\n",
        "* символьные строки (class 'str'),\n",
        "* кортежи (tuple).  \n",
        "\n",
        "*Изменяемые объекты*:  \n",
        "* списки (list),\n",
        "* множества (set),\n",
        "* словари (dict).  \n",
        "\n",
        "Вновь определяемые пользователем типы (классы) могут быть определены как неизменяемые или изменяемые. Изменяемость объектов определённого типа является принципиально важной характеристикой, определяющей, может ли объект такого типа **выступать в качестве ключа для словарей (dict)** или нет."
      ]
    },
    {
      "cell_type": "markdown",
      "id": "J3frjmb_eKor",
      "metadata": {
        "id": "J3frjmb_eKor"
      },
      "source": [
        "Рассмотрим следующие встроенные типы данных:\n",
        " - Числа (7382, 3.14, 3+4j, Decimal, Fraction)\n",
        " - Строки ('net', \"your's\", u'радость')<br>\n",
        " - Списки ([1, [2, 'three'], 4])\n",
        " - Словари ({'Alex': 2, 'Brian': 4})\n",
        " - Кортежи ('Leo', 21.7, 'single')\n",
        " - Множества (set(1,2,3), {'a', 'b', 'c'})"
      ]
    },
    {
      "cell_type": "markdown",
      "id": "0tpXdSszeKor",
      "metadata": {
        "id": "0tpXdSszeKor"
      },
      "source": [
        "### Числа"
      ]
    },
    {
      "cell_type": "markdown",
      "id": "mvndNO2zeKor",
      "metadata": {
        "id": "mvndNO2zeKor"
      },
      "source": [
        "Числа в Python бывают разные:\n",
        " - Целые числа (int): 122, -4, 99999999999, 0o177, 0x9ff, 0b101010\n",
        " - Вещественные числа (float): 1.0, 3.14, .5, 4E21, 4.0e21\n",
        " - Комплексные числа (complex): 3 + 4j, 3.0 + 4.0j,  \n",
        " - Числа фиксированной точности: decimal.Decimal('0.1')\n",
        " - Рациональные числа: fractions.Fraction(3, 4)"
      ]
    },
    {
      "cell_type": "markdown",
      "id": "sts3H0kMeKor",
      "metadata": {
        "id": "sts3H0kMeKor"
      },
      "source": [
        "### Операции с целыми и вещественными числами\n",
        "\n",
        "<img src=\"https://raw.githubusercontent.com/Yorko/python_intro/9b8b6017ad3f44b99fb6d30c9e4f6c3ef2682ee1/img/operations.png\" height=\"\" width=\"\">"
      ]
    },
    {
      "cell_type": "markdown",
      "id": "xFx1ZnPPeKor",
      "metadata": {
        "id": "xFx1ZnPPeKor"
      },
      "source": [
        "### Целые числа / int"
      ]
    },
    {
      "cell_type": "code",
      "execution_count": null,
      "id": "YPgeeOhteKor",
      "metadata": {
        "id": "YPgeeOhteKor",
        "colab": {
          "base_uri": "https://localhost:8080/"
        },
        "outputId": "435cf865-edb2-4858-ece3-4c4b11f9ad15"
      },
      "outputs": [
        {
          "output_type": "stream",
          "name": "stdout",
          "text": [
            "5\n"
          ]
        }
      ],
      "source": [
        "print(3 + 2)"
      ]
    },
    {
      "cell_type": "code",
      "execution_count": null,
      "id": "ogb8oKDieKos",
      "metadata": {
        "id": "ogb8oKDieKos",
        "colab": {
          "base_uri": "https://localhost:8080/"
        },
        "outputId": "b5807f09-7be7-40ee-a1e3-9ea003115f1d"
      },
      "outputs": [
        {
          "output_type": "stream",
          "name": "stdout",
          "text": [
            "1\n"
          ]
        }
      ],
      "source": [
        "print(3 - 2)"
      ]
    },
    {
      "cell_type": "code",
      "execution_count": null,
      "id": "SsP-z4SNeKos",
      "metadata": {
        "id": "SsP-z4SNeKos",
        "colab": {
          "base_uri": "https://localhost:8080/"
        },
        "outputId": "14ee9993-c286-498c-cb17-e193935d7148"
      },
      "outputs": [
        {
          "output_type": "stream",
          "name": "stdout",
          "text": [
            "6\n"
          ]
        }
      ],
      "source": [
        "print(3 * 2)"
      ]
    },
    {
      "cell_type": "code",
      "execution_count": null,
      "id": "crmU9keWeKos",
      "metadata": {
        "id": "crmU9keWeKos",
        "colab": {
          "base_uri": "https://localhost:8080/"
        },
        "outputId": "0f5b7d13-eda4-4a18-f77d-7a42952bbd6d"
      },
      "outputs": [
        {
          "output_type": "stream",
          "name": "stdout",
          "text": [
            "1.5\n"
          ]
        }
      ],
      "source": [
        "print(3 / 2)"
      ]
    },
    {
      "cell_type": "code",
      "execution_count": null,
      "id": "69b15080-5871-408f-bb23-1b9cb08d9b1b",
      "metadata": {
        "id": "69b15080-5871-408f-bb23-1b9cb08d9b1b",
        "colab": {
          "base_uri": "https://localhost:8080/"
        },
        "outputId": "af610873-70dd-4c4e-dda2-27265813b663"
      },
      "outputs": [
        {
          "output_type": "stream",
          "name": "stdout",
          "text": [
            "2.0\n"
          ]
        }
      ],
      "source": [
        "print(4 / 2)"
      ]
    },
    {
      "cell_type": "code",
      "execution_count": null,
      "id": "nffA5b4GeKos",
      "metadata": {
        "id": "nffA5b4GeKos",
        "colab": {
          "base_uri": "https://localhost:8080/"
        },
        "outputId": "c77460f5-bcad-4afa-831f-bf3dbd0ed116"
      },
      "outputs": [
        {
          "output_type": "stream",
          "name": "stdout",
          "text": [
            "9\n"
          ]
        }
      ],
      "source": [
        "print(3 ** 2)"
      ]
    },
    {
      "cell_type": "markdown",
      "id": "z397bVLAeKos",
      "metadata": {
        "id": "z397bVLAeKos"
      },
      "source": [
        "Можно использовать скобки для управления порядком операций."
      ]
    },
    {
      "cell_type": "code",
      "execution_count": null,
      "id": "uB9fEUlCeKos",
      "metadata": {
        "id": "uB9fEUlCeKos",
        "colab": {
          "base_uri": "https://localhost:8080/"
        },
        "outputId": "4fd43bd7-8591-4ea8-c747-d273d8747138"
      },
      "outputs": [
        {
          "output_type": "stream",
          "name": "stdout",
          "text": [
            "14\n",
            "20\n",
            "250\n"
          ]
        }
      ],
      "source": [
        "standard_order = 2 + 3 * 4\n",
        "\n",
        "print(standard_order)\n",
        "\n",
        "my_order = (2 + 3) * 4\n",
        "\n",
        "print(my_order)"
      ]
    },
    {
      "cell_type": "code",
      "execution_count": null,
      "id": "0QT1rSnveKos",
      "metadata": {
        "id": "0QT1rSnveKos",
        "colab": {
          "base_uri": "https://localhost:8080/"
        },
        "outputId": "7a1a139c-9549-4214-b4fd-b95cf3db472d"
      },
      "outputs": [
        {
          "output_type": "stream",
          "name": "stdout",
          "text": [
            "5 | <class 'int'>\n"
          ]
        }
      ],
      "source": [
        "x = 5\n",
        "\n",
        "print(x, '|', type(x))"
      ]
    },
    {
      "cell_type": "code",
      "execution_count": null,
      "id": "h_iIGEoseKot",
      "metadata": {
        "id": "h_iIGEoseKot",
        "colab": {
          "base_uri": "https://localhost:8080/"
        },
        "outputId": "79a261d4-f8ed-4625-88c1-3ec76820ee80"
      },
      "outputs": [
        {
          "output_type": "stream",
          "name": "stdout",
          "text": [
            "9 20 1\n"
          ]
        }
      ],
      "source": [
        "a = 4 + 5\n",
        "b = 4 * 5\n",
        "c = 5 // 4\n",
        "\n",
        "print(a, b, c)"
      ]
    },
    {
      "cell_type": "code",
      "execution_count": null,
      "id": "6V0CLyq7eKot",
      "metadata": {
        "id": "6V0CLyq7eKot",
        "colab": {
          "base_uri": "https://localhost:8080/"
        },
        "outputId": "f7273405-59b1-4a50-906a-0b5891957862"
      },
      "outputs": [
        {
          "output_type": "stream",
          "name": "stdout",
          "text": [
            "2\n"
          ]
        }
      ],
      "source": [
        "print(-(5 // 4))"
      ]
    },
    {
      "cell_type": "code",
      "execution_count": null,
      "id": "tKyKOD1VeKot",
      "metadata": {
        "id": "tKyKOD1VeKot",
        "colab": {
          "base_uri": "https://localhost:8080/"
        },
        "outputId": "717699d7-bbbc-4443-defa-acaa2f0544ee"
      },
      "outputs": [
        {
          "output_type": "stream",
          "name": "stdout",
          "text": [
            "-2\n"
          ]
        }
      ],
      "source": [
        "print(-5 // 4)"
      ]
    },
    {
      "cell_type": "code",
      "execution_count": null,
      "id": "iQzhvWjTeKot",
      "metadata": {
        "id": "iQzhvWjTeKot"
      },
      "outputs": [],
      "source": [
        "x = 5 * 1000000000 * 1000000000 * 10**9 + 1\n",
        "print(x, '|', type(x))"
      ]
    },
    {
      "cell_type": "markdown",
      "id": "9pfREHUneKot",
      "metadata": {
        "id": "9pfREHUneKot"
      },
      "source": [
        "### Вещественные числа / float"
      ]
    },
    {
      "cell_type": "code",
      "execution_count": null,
      "id": "GHOLer1XeKot",
      "metadata": {
        "id": "GHOLer1XeKot",
        "colab": {
          "base_uri": "https://localhost:8080/"
        },
        "outputId": "be0c54ac-d18e-4246-c9c8-4cbc0f6a7e77"
      },
      "outputs": [
        {
          "output_type": "stream",
          "name": "stdout",
          "text": [
            "0.2\n"
          ]
        }
      ],
      "source": [
        "print(.1 + .1)"
      ]
    },
    {
      "cell_type": "code",
      "execution_count": null,
      "id": "1hEtfk3zeKot",
      "metadata": {
        "id": "1hEtfk3zeKot",
        "colab": {
          "base_uri": "https://localhost:8080/"
        },
        "outputId": "fac3686e-ed86-4a15-b856-ef10e5419786"
      },
      "outputs": [
        {
          "output_type": "stream",
          "name": "stdout",
          "text": [
            "12.345 <class 'float'>\n"
          ]
        }
      ],
      "source": [
        "y = 12.345\n",
        "\n",
        "print(y, type(y))"
      ]
    },
    {
      "cell_type": "code",
      "execution_count": null,
      "id": "RvpAWC-UeKot",
      "metadata": {
        "id": "RvpAWC-UeKot",
        "colab": {
          "base_uri": "https://localhost:8080/"
        },
        "outputId": "da6ab421-b14d-4787-bc2b-a047b4970ea6"
      },
      "outputs": [
        {
          "output_type": "stream",
          "name": "stdout",
          "text": [
            "9.3 21.419999999999998 1.25\n"
          ]
        }
      ],
      "source": [
        "a = 4.2 + 5.1\n",
        "b = 4.2 * 5.1\n",
        "c = 5.0 / 4.0\n",
        "\n",
        "print(a, b, c)"
      ]
    },
    {
      "cell_type": "code",
      "execution_count": null,
      "id": "FCImDjm4eKot",
      "metadata": {
        "id": "FCImDjm4eKot",
        "colab": {
          "base_uri": "https://localhost:8080/"
        },
        "outputId": "ecc06828-c57c-463f-9cc1-abdc78061eab"
      },
      "outputs": [
        {
          "output_type": "stream",
          "name": "stdout",
          "text": [
            "1\n"
          ]
        }
      ],
      "source": [
        "a = 5\n",
        "b = 4\n",
        "\n",
        "print(float(a) / float(b))"
      ]
    },
    {
      "cell_type": "code",
      "execution_count": null,
      "id": "0nWQGSlKeKot",
      "metadata": {
        "id": "0nWQGSlKeKot"
      },
      "outputs": [],
      "source": [
        "print(a / b)"
      ]
    },
    {
      "cell_type": "markdown",
      "id": "ruvYMGmSeKot",
      "metadata": {
        "id": "ruvYMGmSeKot"
      },
      "source": [
        "### Целые числа в Python 2 и Python 3\n",
        "В Python 2 результат деления двух челых чисел - тоже целое, а в Python 3 - float."
      ]
    },
    {
      "cell_type": "code",
      "execution_count": null,
      "id": "k90JJhBneKot",
      "metadata": {
        "id": "k90JJhBneKot",
        "colab": {
          "base_uri": "https://localhost:8080/"
        },
        "outputId": "912005fb-e135-4e24-f40b-0499fe39c8ca"
      },
      "outputs": [
        {
          "output_type": "stream",
          "name": "stdout",
          "text": [
            "1.5\n"
          ]
        }
      ],
      "source": [
        "print(3 / 2)"
      ]
    },
    {
      "cell_type": "markdown",
      "id": "rzRYSy4-eKot",
      "metadata": {
        "id": "rzRYSy4-eKot"
      },
      "source": [
        "В Python 3 результат - 1.5, в Python 2 (без подключения future) - 1"
      ]
    },
    {
      "cell_type": "code",
      "execution_count": null,
      "id": "n8mPwrLreKou",
      "metadata": {
        "id": "n8mPwrLreKou",
        "colab": {
          "base_uri": "https://localhost:8080/"
        },
        "outputId": "316cc396-dfcb-4cf4-b36f-c4e961c08a2d"
      },
      "outputs": [
        {
          "output_type": "stream",
          "name": "stdout",
          "text": [
            "2.0\n"
          ]
        }
      ],
      "source": [
        "print(4 / 2)"
      ]
    },
    {
      "cell_type": "markdown",
      "id": "LtJoWTfmeKou",
      "metadata": {
        "id": "LtJoWTfmeKou"
      },
      "source": [
        "### Приоритет арифметических операций в Python\n",
        "\n",
        "<img src=\"https://raw.githubusercontent.com/Yorko/python_intro/9b8b6017ad3f44b99fb6d30c9e4f6c3ef2682ee1/img/operations_priority.png\" height=\"\" width=\"\">"
      ]
    },
    {
      "cell_type": "markdown",
      "id": "5nfKulbBeKou",
      "metadata": {
        "id": "5nfKulbBeKou"
      },
      "source": [
        "### Логический тип, bool"
      ]
    },
    {
      "cell_type": "code",
      "execution_count": null,
      "id": "E4mczIvDeKow",
      "metadata": {
        "id": "E4mczIvDeKow",
        "colab": {
          "base_uri": "https://localhost:8080/"
        },
        "outputId": "d4d7f782-aea9-458b-b0bf-8be7debf6caf"
      },
      "outputs": [
        {
          "output_type": "stream",
          "name": "stdout",
          "text": [
            "True | <class 'bool'>\n",
            "False | <class 'bool'>\n"
          ]
        }
      ],
      "source": [
        "a = True\n",
        "b = False\n",
        "\n",
        "print(a, '|', type(a))\n",
        "\n",
        "print(b, '|', type(b))"
      ]
    },
    {
      "cell_type": "code",
      "execution_count": null,
      "id": "aJNUAdmfeKox",
      "metadata": {
        "id": "aJNUAdmfeKox",
        "colab": {
          "base_uri": "https://localhost:8080/"
        },
        "outputId": "198e7736-51b0-4023-a4b9-db8cf235f4e4"
      },
      "outputs": [
        {
          "output_type": "stream",
          "name": "stdout",
          "text": [
            "1\n",
            "2\n",
            "0\n"
          ]
        }
      ],
      "source": [
        "print(a + b)\n",
        "print(a + a)\n",
        "print(b + b)"
      ]
    },
    {
      "cell_type": "code",
      "execution_count": null,
      "id": "ZwtNVE0KeKox",
      "metadata": {
        "id": "ZwtNVE0KeKox",
        "colab": {
          "base_uri": "https://localhost:8080/"
        },
        "outputId": "fd1418c5-a504-4339-a95c-fc9a50f89b20"
      },
      "outputs": [
        {
          "output_type": "stream",
          "name": "stdout",
          "text": [
            "1 0\n"
          ]
        }
      ],
      "source": [
        "print(int(a), int(b))"
      ]
    },
    {
      "cell_type": "code",
      "execution_count": null,
      "id": "1ohnjcS1eKox",
      "metadata": {
        "id": "1ohnjcS1eKox",
        "colab": {
          "base_uri": "https://localhost:8080/"
        },
        "outputId": "53f5eabc-fdc6-4f5d-e48b-e1f4fd2a859c"
      },
      "outputs": [
        {
          "output_type": "stream",
          "name": "stdout",
          "text": [
            "False \n",
            "\n",
            "True \n",
            "\n",
            "True \n",
            "\n"
          ]
        }
      ],
      "source": [
        "print(True and False, '\\n')\n",
        "\n",
        "print(True or True, '\\n')\n",
        "\n",
        "print(not False, '\\n')"
      ]
    },
    {
      "cell_type": "markdown",
      "id": "3MmsNoKYeKox",
      "metadata": {
        "id": "3MmsNoKYeKox"
      },
      "source": [
        "### None (неопределенное значение переменной)"
      ]
    },
    {
      "cell_type": "code",
      "execution_count": null,
      "id": "_z_9QRHSeKox",
      "metadata": {
        "id": "_z_9QRHSeKox",
        "colab": {
          "base_uri": "https://localhost:8080/"
        },
        "outputId": "9f6f2536-aeb4-478d-fcd0-8079002a8aa4"
      },
      "outputs": [
        {
          "output_type": "stream",
          "name": "stdout",
          "text": [
            "None | <class 'NoneType'>\n"
          ]
        }
      ],
      "source": [
        "zero = None\n",
        "print(zero, '|', type(zero))"
      ]
    },
    {
      "cell_type": "code",
      "execution_count": null,
      "id": "qF1WxKW-eKox",
      "metadata": {
        "id": "qF1WxKW-eKox",
        "colab": {
          "base_uri": "https://localhost:8080/",
          "height": 176
        },
        "outputId": "8c8c64d2-9dd1-4260-ce52-b604e4375caa"
      },
      "outputs": [
        {
          "output_type": "error",
          "ename": "TypeError",
          "evalue": "int() argument must be a string, a bytes-like object or a real number, not 'NoneType'",
          "traceback": [
            "\u001b[0;31m---------------------------------------------------------------------------\u001b[0m",
            "\u001b[0;31mTypeError\u001b[0m                                 Traceback (most recent call last)",
            "\u001b[0;32m<ipython-input-46-e3e0e305d46f>\u001b[0m in \u001b[0;36m<cell line: 1>\u001b[0;34m()\u001b[0m\n\u001b[0;32m----> 1\u001b[0;31m \u001b[0mint\u001b[0m\u001b[0;34m(\u001b[0m\u001b[0mzero\u001b[0m\u001b[0;34m)\u001b[0m\u001b[0;34m\u001b[0m\u001b[0;34m\u001b[0m\u001b[0m\n\u001b[0m\u001b[1;32m      2\u001b[0m \u001b[0;34m\u001b[0m\u001b[0m\n\u001b[1;32m      3\u001b[0m \u001b[0;31m#ошибка!\u001b[0m\u001b[0;34m\u001b[0m\u001b[0;34m\u001b[0m\u001b[0m\n",
            "\u001b[0;31mTypeError\u001b[0m: int() argument must be a string, a bytes-like object or a real number, not 'NoneType'"
          ]
        }
      ],
      "source": [
        "int(zero)\n",
        "\n",
        "#ошибка!"
      ]
    },
    {
      "cell_type": "code",
      "execution_count": null,
      "id": "CJVEbm5reKox",
      "metadata": {
        "id": "CJVEbm5reKox",
        "colab": {
          "base_uri": "https://localhost:8080/",
          "height": 35
        },
        "outputId": "560d1b7d-03e6-48e0-a509-7a24ebb3e157"
      },
      "outputs": [
        {
          "output_type": "execute_result",
          "data": {
            "text/plain": [
              "'I am None!'"
            ],
            "application/vnd.google.colaboratory.intrinsic+json": {
              "type": "string"
            }
          },
          "metadata": {},
          "execution_count": 47
        }
      ],
      "source": [
        "if zero is None:\n",
        "    zero = 'I am None!'\n",
        "zero"
      ]
    },
    {
      "cell_type": "markdown",
      "id": "86f30a7d-2281-47e5-9abd-89d0b73d596a",
      "metadata": {
        "id": "86f30a7d-2281-47e5-9abd-89d0b73d596a"
      },
      "source": [
        "### Приведение типов"
      ]
    },
    {
      "cell_type": "markdown",
      "id": "ddfb246e-ce0a-4483-94f4-52f21566d7b7",
      "metadata": {
        "id": "ddfb246e-ce0a-4483-94f4-52f21566d7b7"
      },
      "source": [
        "Иногда требуется преобразовать тип переменной, например, из числа с плавающей точкой сделать целое число. Зачем это бывает нужно? Для удобства и для более корректной выдачи результатов. Например, у нас есть база данных по респондентам, в которой указан их год рождения, и мы хотим добавить столбец с возрастом респондентов (числом полных лет). Из-за того, что кто-то ввёл год в виде 1993.0, возраст при вычислениях тоже получится числом с плавающей точкой — 25.0. Так как мы знаем, что возраст всегда будет целым, чтобы дробная часть не смущала, можно привести все значения к целочисленному типу.\n",
        "\n",
        "Функции для изменения типа переменных называются так же, как сами типы или их сокращённые названия (если таковые предусмотрены). Рассмотрим приведение типов на примерах.\n",
        "\n",
        "Превратим возраст с нулевой дробной частью в целое число:"
      ]
    },
    {
      "cell_type": "code",
      "execution_count": null,
      "id": "661a58e9-da02-48c8-8d43-510ed34a68ef",
      "metadata": {
        "id": "661a58e9-da02-48c8-8d43-510ed34a68ef",
        "colab": {
          "base_uri": "https://localhost:8080/"
        },
        "outputId": "10a2a59b-ea6e-4728-92a6-9559eb5c7d5f"
      },
      "outputs": [
        {
          "output_type": "stream",
          "name": "stdout",
          "text": [
            "25\n"
          ]
        }
      ],
      "source": [
        "age = 25.0\n",
        "age2 = int(age)\n",
        "\n",
        "print(age2)"
      ]
    },
    {
      "cell_type": "code",
      "execution_count": null,
      "id": "d902ebb3-6674-4472-b9bf-938d5d263eee",
      "metadata": {
        "id": "d902ebb3-6674-4472-b9bf-938d5d263eee",
        "colab": {
          "base_uri": "https://localhost:8080/"
        },
        "outputId": "69520d9e-84b7-4897-ee51-3ce81f22ac22"
      },
      "outputs": [
        {
          "output_type": "execute_result",
          "data": {
            "text/plain": [
              "23.0"
            ]
          },
          "metadata": {},
          "execution_count": 49
        }
      ],
      "source": [
        "float(23)"
      ]
    },
    {
      "cell_type": "code",
      "execution_count": null,
      "id": "7ce285b9-dddd-4d3d-85e4-8fb64ffaee62",
      "metadata": {
        "id": "7ce285b9-dddd-4d3d-85e4-8fb64ffaee62",
        "colab": {
          "base_uri": "https://localhost:8080/",
          "height": 35
        },
        "outputId": "2534f18e-b0a2-4413-8439-f7e2e37bde91"
      },
      "outputs": [
        {
          "output_type": "execute_result",
          "data": {
            "text/plain": [
              "'2'"
            ],
            "application/vnd.google.colaboratory.intrinsic+json": {
              "type": "string"
            }
          },
          "metadata": {},
          "execution_count": 50
        }
      ],
      "source": [
        "str(2)"
      ]
    },
    {
      "cell_type": "code",
      "execution_count": null,
      "id": "f9205d76-9652-4426-9f65-d762ad384544",
      "metadata": {
        "id": "f9205d76-9652-4426-9f65-d762ad384544",
        "colab": {
          "base_uri": "https://localhost:8080/",
          "height": 35
        },
        "outputId": "c720baa5-8003-4f49-b52d-993666035f30"
      },
      "outputs": [
        {
          "output_type": "execute_result",
          "data": {
            "text/plain": [
              "'56.7'"
            ],
            "application/vnd.google.colaboratory.intrinsic+json": {
              "type": "string"
            }
          },
          "metadata": {},
          "execution_count": 51
        }
      ],
      "source": [
        "str(56.7)"
      ]
    },
    {
      "cell_type": "code",
      "execution_count": null,
      "id": "0006aa14-5caf-4a15-942a-b8247ad942e2",
      "metadata": {
        "id": "0006aa14-5caf-4a15-942a-b8247ad942e2",
        "colab": {
          "base_uri": "https://localhost:8080/"
        },
        "outputId": "8a892c44-0d42-4c23-c227-167fce23cc04"
      },
      "outputs": [
        {
          "output_type": "execute_result",
          "data": {
            "text/plain": [
              "23.9"
            ]
          },
          "metadata": {},
          "execution_count": 52
        }
      ],
      "source": [
        "float('23.9')"
      ]
    },
    {
      "cell_type": "code",
      "execution_count": null,
      "id": "34f814ce-c1fa-4bf9-a8ac-56649b2aeb6a",
      "metadata": {
        "id": "34f814ce-c1fa-4bf9-a8ac-56649b2aeb6a",
        "colab": {
          "base_uri": "https://localhost:8080/"
        },
        "outputId": "ba62abd8-d48c-465c-a39a-145714a7d5ed"
      },
      "outputs": [
        {
          "output_type": "execute_result",
          "data": {
            "text/plain": [
              "23"
            ]
          },
          "metadata": {},
          "execution_count": 53
        }
      ],
      "source": [
        "int('23')"
      ]
    },
    {
      "cell_type": "code",
      "execution_count": null,
      "id": "3a4e73d5-35ce-48cd-9641-cead7f0ba3e4",
      "metadata": {
        "id": "3a4e73d5-35ce-48cd-9641-cead7f0ba3e4",
        "colab": {
          "base_uri": "https://localhost:8080/"
        },
        "outputId": "0f10fe9c-407a-4335-dbb6-66889e59c939"
      },
      "outputs": [
        {
          "output_type": "execute_result",
          "data": {
            "text/plain": [
              "23.56"
            ]
          },
          "metadata": {},
          "execution_count": 59
        }
      ],
      "source": [
        "float('23.56')"
      ]
    },
    {
      "cell_type": "code",
      "execution_count": null,
      "id": "423d4eb4-b96d-4fdb-b50c-ef97b867532e",
      "metadata": {
        "id": "423d4eb4-b96d-4fdb-b50c-ef97b867532e",
        "colab": {
          "base_uri": "https://localhost:8080/"
        },
        "outputId": "79f930fe-d34a-4a47-c67d-94fa83d74d73"
      },
      "outputs": [
        {
          "name": "stdout",
          "output_type": "stream",
          "text": [
            "Введите число: 25\n"
          ]
        }
      ],
      "source": [
        "num = input('Введите число: ')"
      ]
    },
    {
      "cell_type": "code",
      "execution_count": null,
      "id": "39ea77e6-e44b-48cd-ac3d-1e0ed35484f2",
      "metadata": {
        "id": "39ea77e6-e44b-48cd-ac3d-1e0ed35484f2"
      },
      "outputs": [],
      "source": [
        "num / 5"
      ]
    },
    {
      "cell_type": "markdown",
      "id": "57ef4ffb-30b0-451d-943a-29478d28e3f9",
      "metadata": {
        "id": "57ef4ffb-30b0-451d-943a-29478d28e3f9"
      },
      "source": [
        "Функция `input()` всегда возвращает обект типа *string*. Тут нам и пригодится преобразование типов переменных:"
      ]
    },
    {
      "cell_type": "code",
      "execution_count": null,
      "id": "91864a3b-629c-4b4f-ba0e-775d2fc14fdd",
      "metadata": {
        "id": "91864a3b-629c-4b4f-ba0e-775d2fc14fdd",
        "colab": {
          "base_uri": "https://localhost:8080/"
        },
        "outputId": "6c5161a2-31a3-4a82-c7ce-3c213cb68a71"
      },
      "outputs": [
        {
          "output_type": "stream",
          "name": "stdout",
          "text": [
            "Введите число: 25\n",
            "25 <class 'int'>\n"
          ]
        }
      ],
      "source": [
        "num = int(input('Введите число: '))\n",
        "\n",
        "print(num, type(num))"
      ]
    },
    {
      "cell_type": "code",
      "execution_count": null,
      "id": "274e2eb6-2fc2-465d-9c47-3db179e06a91",
      "metadata": {
        "id": "274e2eb6-2fc2-465d-9c47-3db179e06a91",
        "colab": {
          "base_uri": "https://localhost:8080/"
        },
        "outputId": "a70f050f-d4ab-4f81-9e09-af33a91b3ac9"
      },
      "outputs": [
        {
          "output_type": "stream",
          "name": "stdout",
          "text": [
            "Введите число: 54.3\n",
            "54.3\n"
          ]
        }
      ],
      "source": [
        "num = float(input('Введите число: '))\n",
        "\n",
        "print(num)"
      ]
    },
    {
      "cell_type": "markdown",
      "id": "d8753561-9f4d-4bb7-a4c7-32d94767087b",
      "metadata": {
        "id": "d8753561-9f4d-4bb7-a4c7-32d94767087b"
      },
      "source": [
        "# Задание (модуль math)\n",
        "Напишите **программу**, реализующую следующие действия:\n",
        "\n",
        "1. Инициализировать переменную `x`\n",
        "2. Вычислить:\n",
        "    - $|x|$\n",
        "    - $\\sqrt{x}$\n",
        "    - $x^3$\n",
        "    - $sin(x)$\n",
        "    - $cos(x)$\n",
        "    - $e^x$\n",
        "3. Инициализировать переменные `a`, `b`, 0 < `b` < 10\n",
        "4. Вычислить:<br>\n",
        "$$\n",
        "\\begin{align}\n",
        "\\sqrt{0.45 + a^3} + ln|b - 10| - \\frac{e^{b - a}}{cos^2(\\pi + 1/2)}\n",
        "\\end{align}\n",
        "$$"
      ]
    },
    {
      "cell_type": "code",
      "execution_count": 16,
      "id": "27a8d545-dba7-472f-81b5-4c4f962798b4",
      "metadata": {
        "id": "27a8d545-dba7-472f-81b5-4c4f962798b4",
        "colab": {
          "base_uri": "https://localhost:8080/"
        },
        "outputId": "766952b1-1f4b-4481-dd33-49d7367666ac"
      },
      "outputs": [
        {
          "output_type": "stream",
          "name": "stdout",
          "text": [
            "abs_x: 5\n",
            "sqrt_x: 2.23606797749979\n",
            "x_cubed 125\n",
            "sin_x: -0.9589242746631385\n",
            "cos_x: 0.28366218546322625\n",
            "exp_x: 148.4131591025766\n",
            "result: -520.8069050223169\n"
          ]
        }
      ],
      "source": [
        "import math as m\n",
        "\n",
        "x = 5\n",
        "\n",
        "print('abs_x:', abs(x))\n",
        "print('sqrt_x:', m.sqrt(x))\n",
        "print('x_cubed', x ** 3)\n",
        "print('sin_x:', m.sin(x))\n",
        "print('cos_x:', m.cos(x))\n",
        "print('exp_x:', m.exp(x))\n",
        "\n",
        "# a и b, 0 < b < 10\n",
        "a = 2\n",
        "b = 8\n",
        "\n",
        "numerator = m.exp(b - a)\n",
        "denominator = m.cos(m.pi + 0.5) ** 2\n",
        "expression = m.sqrt(0.45 + a ** 3 + m.log(abs(b - 10))) - (numerator / denominator)\n",
        "\n",
        "print('result:', expression)"
      ]
    },
    {
      "cell_type": "markdown",
      "id": "2fc1979c-7640-49f4-9b6e-7130eccb14fa",
      "metadata": {
        "id": "2fc1979c-7640-49f4-9b6e-7130eccb14fa"
      },
      "source": [
        "### Операторы сравнения. Логические операции"
      ]
    },
    {
      "cell_type": "markdown",
      "id": "afca92f0-c787-4afc-9d0a-49e5a3a66ff6",
      "metadata": {
        "id": "afca92f0-c787-4afc-9d0a-49e5a3a66ff6"
      },
      "source": [
        "Операция           | Название    | Семантика\n",
        "--------           | --------    | --------\n",
        "оператор  ==       | равенство   | Проверяет, равны ли операнды между собой. Если они равны, то выражение становится истинным\n",
        "оператор  !=       | неравенство | Проверяет, равны ли операнды между собой. Если они не равны, то выражение становится истинным\n",
        "оператор  >        | больше      | Проверяет, больше ли левый операнд чем правый, если больше, то выражение становится истинным\n",
        "оператор  <        | меньше      | Проверяет, меньше ли левый операнд чем правый, если меньше, то выражение становится истинным\n",
        "оператор  >=       | не меньше   | Проверяет, больше левый операнд, чем правый, или равен ему. Если больше или равен, то выражение становится истинным\n",
        "оператор  <=       | не больше   | Проверяет, меньше левый операнд, чем правый, или равен ему. Если меньше или равен, то выражение становится истинным"
      ]
    },
    {
      "cell_type": "markdown",
      "id": "bcdb17ae-4fec-491d-ba84-8564f3751e3e",
      "metadata": {
        "id": "bcdb17ae-4fec-491d-ba84-8564f3751e3e"
      },
      "source": [
        "### Логические операторы"
      ]
    },
    {
      "cell_type": "markdown",
      "id": "fe2c1250-5f99-4348-9ca3-df4aafceff59",
      "metadata": {
        "id": "fe2c1250-5f99-4348-9ca3-df4aafceff59"
      },
      "source": [
        "**and** - Логический оператор \"И\". Условие будет истинным, если оба операнда истина.\n",
        "\n",
        "```\n",
        "True and True = True\n",
        "\n",
        "True and False = False\n",
        "\n",
        "False and True = False\n",
        "\n",
        "False and False = False\n",
        "```\n",
        "\n",
        "\n",
        "**or** - Логический оператор \"ИЛИ\". Если хотя бы один из операндов истинный, то и все выражение будет истинным.\n",
        "\n",
        "```\n",
        "True or True = True\n",
        "\n",
        "True or False = True\n",
        "\n",
        "False or True = True\n",
        "\n",
        "False or False = False\n",
        "```\n",
        "\n",
        "**not** - Логический оператор \"НЕ\". Изменяет логическое значение операнда на противоположное (инверсия).\n",
        "\n",
        "```\n",
        "not True = False\n",
        "\n",
        "not False = True\n",
        "```"
      ]
    },
    {
      "cell_type": "markdown",
      "id": "c9MjHceleKox",
      "metadata": {
        "id": "c9MjHceleKox"
      },
      "source": [
        "### Строки"
      ]
    },
    {
      "cell_type": "markdown",
      "id": "-mm5O3jUeKox",
      "metadata": {
        "id": "-mm5O3jUeKox"
      },
      "source": [
        "#### Строки выделяются одинарными или двойными кавычками"
      ]
    },
    {
      "cell_type": "code",
      "execution_count": null,
      "id": "GfPdvyhUeKox",
      "metadata": {
        "id": "GfPdvyhUeKox",
        "colab": {
          "base_uri": "https://localhost:8080/"
        },
        "outputId": "f9e13fcb-bf72-4560-f999-71eb50ed6f20"
      },
      "outputs": [
        {
          "output_type": "stream",
          "name": "stdout",
          "text": [
            "This is a double-quoted string.\n",
            "This is a double-quoted string. | <class 'str'>\n",
            "This is a single-quoted string.\n",
            "This is a single-quoted string. | <class 'str'>\n"
          ]
        }
      ],
      "source": [
        "my_string = \"This is a double-quoted string.\"\n",
        "\n",
        "print(my_string)\n",
        "print(my_string, '|', type(my_string))\n",
        "\n",
        "my_string = 'This is a single-quoted string.'\n",
        "\n",
        "print(my_string)\n",
        "print(my_string, '|', type(my_string))"
      ]
    },
    {
      "cell_type": "code",
      "execution_count": null,
      "id": "b9CvnxmkeKox",
      "metadata": {
        "id": "b9CvnxmkeKox",
        "colab": {
          "base_uri": "https://localhost:8080/"
        },
        "outputId": "96752886-7699-4523-8dc0-e67411eb7dde"
      },
      "outputs": [
        {
          "output_type": "stream",
          "name": "stdout",
          "text": [
            "Linus Torvalds once said, 'Any program is only as good as it is useful.'\n"
          ]
        }
      ],
      "source": [
        "quote = \"Linus Torvalds once said, 'Any program is only as good as it is useful.'\"\n",
        "\n",
        "print(quote)"
      ]
    },
    {
      "cell_type": "code",
      "execution_count": null,
      "id": "ouL0MIU5eKox",
      "metadata": {
        "id": "ouL0MIU5eKox",
        "colab": {
          "base_uri": "https://localhost:8080/"
        },
        "outputId": "e2f70cd8-d197-4a83-a897-10017956cd5a"
      },
      "outputs": [
        {
          "output_type": "stream",
          "name": "stdout",
          "text": [
            "eric\n",
            "Eric\n"
          ]
        }
      ],
      "source": [
        "first_name = 'eric'\n",
        "\n",
        "print(first_name)\n",
        "print(first_name.title())"
      ]
    },
    {
      "cell_type": "markdown",
      "id": "21LkO-FqeKoy",
      "metadata": {
        "id": "21LkO-FqeKoy"
      },
      "source": [
        "#### Разные регистры"
      ]
    },
    {
      "cell_type": "code",
      "execution_count": null,
      "id": "dHhs-mnieKoy",
      "metadata": {
        "id": "dHhs-mnieKoy",
        "colab": {
          "base_uri": "https://localhost:8080/"
        },
        "outputId": "29ed90ca-8807-4463-ada7-f81a8909c668"
      },
      "outputs": [
        {
          "output_type": "stream",
          "name": "stdout",
          "text": [
            "eric\n",
            "Eric\n",
            "ERIC\n",
            "eric\n"
          ]
        }
      ],
      "source": [
        "first_name = 'eric'\n",
        "\n",
        "print(first_name)\n",
        "print(first_name.title())\n",
        "print(first_name.upper())\n",
        "\n",
        "first_name = 'Eric'\n",
        "print(first_name.lower())"
      ]
    },
    {
      "cell_type": "markdown",
      "id": "a02Ivsq3eKoy",
      "metadata": {
        "id": "a02Ivsq3eKoy"
      },
      "source": [
        "*upper()*, *lower()* и *title()* - это методы.\n",
        "\n",
        "Синтаксис: variable_name.action()\n",
        "\n",
        "*action* - это название метода, который можно применить к переменной *variable_name*. В скобках можно указывать другие переменные (аргументы) метода."
      ]
    },
    {
      "cell_type": "markdown",
      "id": "-VJwR3yreKoy",
      "metadata": {
        "id": "-VJwR3yreKoy"
      },
      "source": [
        "#### Конкатенация (\"склеивание\") строк"
      ]
    },
    {
      "cell_type": "code",
      "execution_count": null,
      "id": "R-juxwY6eKoy",
      "metadata": {
        "id": "R-juxwY6eKoy",
        "colab": {
          "base_uri": "https://localhost:8080/"
        },
        "outputId": "df02aa16-1542-4165-a80b-2b3f3a408d0e"
      },
      "outputs": [
        {
          "output_type": "stream",
          "name": "stdout",
          "text": [
            "Ada Lovelace\n"
          ]
        }
      ],
      "source": [
        "first_name = 'ada'\n",
        "last_name = 'lovelace'\n",
        "\n",
        "full_name = first_name + ' ' + last_name\n",
        "\n",
        "print(full_name.title())"
      ]
    },
    {
      "cell_type": "code",
      "execution_count": null,
      "id": "FK3bZohqeKoy",
      "metadata": {
        "id": "FK3bZohqeKoy",
        "colab": {
          "base_uri": "https://localhost:8080/"
        },
        "outputId": "adb5d66f-56c8-47e5-bffd-3b3b66abfa44"
      },
      "outputs": [
        {
          "output_type": "stream",
          "name": "stdout",
          "text": [
            "Ada Lovelace was considered the world's first computer programmer.\n"
          ]
        }
      ],
      "source": [
        "first_name = 'ada'\n",
        "last_name = 'lovelace'\n",
        "full_name = first_name + ' ' + last_name\n",
        "\n",
        "message = full_name.title() + ' ' + \"was considered the world's first computer programmer.\"\n",
        "\n",
        "print(message)"
      ]
    },
    {
      "cell_type": "markdown",
      "id": "ssO8csmdeKoy",
      "metadata": {
        "id": "ssO8csmdeKoy"
      },
      "source": [
        "#### Пробельные символы (whitespaces)\n",
        " - \" \" - пробел (очевидно)\n",
        " - \"\\t\" - табуляция\n",
        " - \"\\n\" - перенос строки"
      ]
    },
    {
      "cell_type": "code",
      "execution_count": null,
      "id": "_jkTdtoWeKoy",
      "metadata": {
        "id": "_jkTdtoWeKoy",
        "colab": {
          "base_uri": "https://localhost:8080/"
        },
        "outputId": "820db9e5-13bd-4aab-a274-faecdd5a8ac8"
      },
      "outputs": [
        {
          "output_type": "stream",
          "name": "stdout",
          "text": [
            "Hello everyone!\n",
            "HI\n"
          ]
        }
      ],
      "source": [
        "print(\"Hello everyone!\")\n",
        "print(\"HI\")"
      ]
    },
    {
      "cell_type": "code",
      "execution_count": null,
      "id": "WUyI0509eKoy",
      "metadata": {
        "id": "WUyI0509eKoy",
        "colab": {
          "base_uri": "https://localhost:8080/"
        },
        "outputId": "b2db0216-e093-43f4-fe1a-1378656800bc"
      },
      "outputs": [
        {
          "output_type": "stream",
          "name": "stdout",
          "text": [
            "\tHello everyone!\n"
          ]
        }
      ],
      "source": [
        "print(\"\\tHello everyone!\")"
      ]
    },
    {
      "cell_type": "code",
      "execution_count": null,
      "id": "hHu4bWqteKoy",
      "metadata": {
        "id": "hHu4bWqteKoy",
        "colab": {
          "base_uri": "https://localhost:8080/"
        },
        "outputId": "3d201b53-8a5e-469c-fcc5-09f0e107e87a"
      },
      "outputs": [
        {
          "output_type": "stream",
          "name": "stdout",
          "text": [
            "Hello \teveryone!\n",
            "Hi, \thello\n"
          ]
        }
      ],
      "source": [
        "print(\"Hello \\teveryone!\")\n",
        "print(\"Hi, \\thello\")"
      ]
    },
    {
      "cell_type": "code",
      "execution_count": null,
      "id": "argHmmEjeKoy",
      "metadata": {
        "id": "argHmmEjeKoy",
        "colab": {
          "base_uri": "https://localhost:8080/"
        },
        "outputId": "d42b67d1-534e-480b-dd81-22224827cbd5"
      },
      "outputs": [
        {
          "output_type": "stream",
          "name": "stdout",
          "text": [
            "Hello!\n",
            "\n",
            "Hello everyone!\n"
          ]
        }
      ],
      "source": [
        "print(\"Hello!\")\n",
        "print(\"\\nHello everyone!\")"
      ]
    },
    {
      "cell_type": "code",
      "execution_count": null,
      "id": "tnX6Pw6deKoz",
      "metadata": {
        "id": "tnX6Pw6deKoz",
        "colab": {
          "base_uri": "https://localhost:8080/"
        },
        "outputId": "91c4e332-c419-4caf-fe27-06fa7b302030"
      },
      "outputs": [
        {
          "output_type": "stream",
          "name": "stdout",
          "text": [
            "Hello \n",
            "everyone!\n"
          ]
        }
      ],
      "source": [
        "print(\"Hello \\neveryone!\")"
      ]
    },
    {
      "cell_type": "code",
      "execution_count": null,
      "id": "PeKQcEDMeKoz",
      "metadata": {
        "id": "PeKQcEDMeKoz",
        "colab": {
          "base_uri": "https://localhost:8080/"
        },
        "outputId": "8b557f4a-9ec7-433d-f177-bc2aba05c78b"
      },
      "outputs": [
        {
          "output_type": "stream",
          "name": "stdout",
          "text": [
            "\n",
            "\n",
            "\n",
            "Hello everyone!\n"
          ]
        }
      ],
      "source": [
        "print(\"\\n\\n\\nHello everyone!\")"
      ]
    },
    {
      "cell_type": "markdown",
      "id": "HHLOItZBeKoz",
      "metadata": {
        "id": "HHLOItZBeKoz"
      },
      "source": [
        "#### Удаление лишних пробельных символов\n",
        "\n",
        "Часто при заполнении веб-форм появляются лишние пробелы слева и/или справа. От них можно избавиться."
      ]
    },
    {
      "cell_type": "code",
      "execution_count": null,
      "id": "zC3XxjWkeKoz",
      "metadata": {
        "id": "zC3XxjWkeKoz",
        "colab": {
          "base_uri": "https://localhost:8080/"
        },
        "outputId": "d9e01c94-666a-455c-b924-e8e74ef47987"
      },
      "outputs": [
        {
          "output_type": "stream",
          "name": "stdout",
          "text": [
            "eric \n",
            " eric\n",
            "eric\n"
          ]
        }
      ],
      "source": [
        "name = ' eric '\n",
        "\n",
        "print(name.lstrip())\n",
        "print(name.rstrip())\n",
        "print(name.strip())"
      ]
    },
    {
      "cell_type": "markdown",
      "id": "C3A9yxhSeKoz",
      "metadata": {
        "id": "C3A9yxhSeKoz"
      },
      "source": [
        "Так нагляднее:"
      ]
    },
    {
      "cell_type": "code",
      "execution_count": null,
      "id": "bWLpEjTfeKoz",
      "metadata": {
        "id": "bWLpEjTfeKoz",
        "colab": {
          "base_uri": "https://localhost:8080/"
        },
        "outputId": "856efbf8-0ccd-4fae-dd53-802bbe57491b"
      },
      "outputs": [
        {
          "output_type": "stream",
          "name": "stdout",
          "text": [
            "-eric -\n",
            "- eric-\n",
            "-ERIC-\n"
          ]
        }
      ],
      "source": [
        "name = ' eric '\n",
        "\n",
        "print('-' + name.lstrip() + '-')\n",
        "print('-' + name.rstrip() + '-')\n",
        "print('-' + name.strip() + '-')"
      ]
    },
    {
      "cell_type": "markdown",
      "id": "DDYJhi8HeKoz",
      "metadata": {
        "id": "DDYJhi8HeKoz"
      },
      "source": [
        "Избавляться можно не только от пробелов. Здесь ',' - аргумент методов *lstrip()*, *rstrip()* и *strip()*"
      ]
    },
    {
      "cell_type": "code",
      "execution_count": null,
      "id": "FQklIX8eeKoz",
      "metadata": {
        "id": "FQklIX8eeKoz",
        "colab": {
          "base_uri": "https://localhost:8080/"
        },
        "outputId": "4264e3be-a0a9-42a1-a258-d566cb21fb76"
      },
      "outputs": [
        {
          "output_type": "stream",
          "name": "stdout",
          "text": [
            "-eric,,-\n",
            "-,,eric-\n",
            "-eric-\n"
          ]
        }
      ],
      "source": [
        "name = ',,eric,,'\n",
        "\n",
        "print('-' + name.lstrip(',') + '-')\n",
        "print('-' + name.rstrip(',') + '-')\n",
        "print('-' + name.strip(',') + '-')"
      ]
    },
    {
      "cell_type": "markdown",
      "id": "h23UtcBQeKoz",
      "metadata": {
        "id": "h23UtcBQeKoz"
      },
      "source": [
        "### Методы для работы со строками\n",
        "Обзор на <a href=\"http://pythonworld.ru/tipy-dannyx-v-python/stroki-funkcii-i-metody-strok.html\">Pythonworld</a>\n",
        "\n",
        "Все методы строк:"
      ]
    },
    {
      "cell_type": "code",
      "execution_count": null,
      "id": "6dooDGD8eKoz",
      "metadata": {
        "id": "6dooDGD8eKoz",
        "colab": {
          "base_uri": "https://localhost:8080/"
        },
        "collapsed": true,
        "outputId": "a82ba0bf-00f1-4ea7-c11a-4e19cb459332"
      },
      "outputs": [
        {
          "output_type": "execute_result",
          "data": {
            "text/plain": [
              "['__add__',\n",
              " '__class__',\n",
              " '__contains__',\n",
              " '__delattr__',\n",
              " '__dir__',\n",
              " '__doc__',\n",
              " '__eq__',\n",
              " '__format__',\n",
              " '__ge__',\n",
              " '__getattribute__',\n",
              " '__getitem__',\n",
              " '__getnewargs__',\n",
              " '__gt__',\n",
              " '__hash__',\n",
              " '__init__',\n",
              " '__init_subclass__',\n",
              " '__iter__',\n",
              " '__le__',\n",
              " '__len__',\n",
              " '__lt__',\n",
              " '__mod__',\n",
              " '__mul__',\n",
              " '__ne__',\n",
              " '__new__',\n",
              " '__reduce__',\n",
              " '__reduce_ex__',\n",
              " '__repr__',\n",
              " '__rmod__',\n",
              " '__rmul__',\n",
              " '__setattr__',\n",
              " '__sizeof__',\n",
              " '__str__',\n",
              " '__subclasshook__',\n",
              " 'capitalize',\n",
              " 'casefold',\n",
              " 'center',\n",
              " 'count',\n",
              " 'encode',\n",
              " 'endswith',\n",
              " 'expandtabs',\n",
              " 'find',\n",
              " 'format',\n",
              " 'format_map',\n",
              " 'index',\n",
              " 'isalnum',\n",
              " 'isalpha',\n",
              " 'isascii',\n",
              " 'isdecimal',\n",
              " 'isdigit',\n",
              " 'isidentifier',\n",
              " 'islower',\n",
              " 'isnumeric',\n",
              " 'isprintable',\n",
              " 'isspace',\n",
              " 'istitle',\n",
              " 'isupper',\n",
              " 'join',\n",
              " 'ljust',\n",
              " 'lower',\n",
              " 'lstrip',\n",
              " 'maketrans',\n",
              " 'partition',\n",
              " 'removeprefix',\n",
              " 'removesuffix',\n",
              " 'replace',\n",
              " 'rfind',\n",
              " 'rindex',\n",
              " 'rjust',\n",
              " 'rpartition',\n",
              " 'rsplit',\n",
              " 'rstrip',\n",
              " 'split',\n",
              " 'splitlines',\n",
              " 'startswith',\n",
              " 'strip',\n",
              " 'swapcase',\n",
              " 'title',\n",
              " 'translate',\n",
              " 'upper',\n",
              " 'zfill']"
            ]
          },
          "metadata": {},
          "execution_count": 102
        }
      ],
      "source": [
        "dir(str)"
      ]
    },
    {
      "cell_type": "markdown",
      "id": "jOO4Dx0ZeKoz",
      "metadata": {
        "id": "jOO4Dx0ZeKoz"
      },
      "source": [
        "**find** - поиск подстроки в строке. Возвращает номер первого вхождения или -1"
      ]
    },
    {
      "cell_type": "code",
      "execution_count": null,
      "id": "pGyP85xReKoz",
      "metadata": {
        "id": "pGyP85xReKoz",
        "colab": {
          "base_uri": "https://localhost:8080/"
        },
        "outputId": "551a6d1c-693e-4436-a925-f79500ab52cf"
      },
      "outputs": [
        {
          "output_type": "execute_result",
          "data": {
            "text/plain": [
              "0"
            ]
          },
          "metadata": {},
          "execution_count": 103
        }
      ],
      "source": [
        "\"we bought a new house and we are happy\".find(\"we\")"
      ]
    },
    {
      "cell_type": "code",
      "execution_count": null,
      "id": "4-SS2SKceKoz",
      "metadata": {
        "id": "4-SS2SKceKoz",
        "colab": {
          "base_uri": "https://localhost:8080/"
        },
        "outputId": "35816ffa-ea11-4d5e-cfcf-1062acab3074"
      },
      "outputs": [
        {
          "output_type": "execute_result",
          "data": {
            "text/plain": [
              "12"
            ]
          },
          "metadata": {},
          "execution_count": 104
        }
      ],
      "source": [
        "\"we bought a new house and we are happy\".find(\"new\")"
      ]
    },
    {
      "cell_type": "code",
      "execution_count": null,
      "id": "cvtmmq6beKoz",
      "metadata": {
        "id": "cvtmmq6beKoz",
        "colab": {
          "base_uri": "https://localhost:8080/"
        },
        "outputId": "9ea14807-9371-4e5d-8d57-3d304043b8c5"
      },
      "outputs": [
        {
          "output_type": "execute_result",
          "data": {
            "text/plain": [
              "-1"
            ]
          },
          "metadata": {},
          "execution_count": 105
        }
      ],
      "source": [
        "\"we bought a new house and we are happy\".find(\"up\")"
      ]
    },
    {
      "cell_type": "markdown",
      "id": "qzhPrzkVeKoz",
      "metadata": {
        "id": "qzhPrzkVeKoz"
      },
      "source": [
        "**rfind** - поиск подстроки в строке. Возвращает номер последнего вхождения или -1"
      ]
    },
    {
      "cell_type": "code",
      "execution_count": null,
      "id": "8RN0JXCdeKo0",
      "metadata": {
        "id": "8RN0JXCdeKo0",
        "colab": {
          "base_uri": "https://localhost:8080/"
        },
        "outputId": "f342a51b-2891-4bab-bb1c-21092225f92d"
      },
      "outputs": [
        {
          "output_type": "execute_result",
          "data": {
            "text/plain": [
              "26"
            ]
          },
          "metadata": {},
          "execution_count": 106
        }
      ],
      "source": [
        "\"we bought a new house and we are happy\".rfind(\"we\")"
      ]
    },
    {
      "cell_type": "markdown",
      "id": "NwUqzXy5eKo0",
      "metadata": {
        "id": "NwUqzXy5eKo0"
      },
      "source": [
        "**index** - поиск подстроки в строке. Возвращает номер первого вхождения или вызывает ValueError"
      ]
    },
    {
      "cell_type": "code",
      "execution_count": null,
      "id": "IkS3qbR7eKo0",
      "metadata": {
        "id": "IkS3qbR7eKo0",
        "colab": {
          "base_uri": "https://localhost:8080/"
        },
        "outputId": "04f00811-7f00-4d70-ba55-a8da38fdf2b2"
      },
      "outputs": [
        {
          "output_type": "execute_result",
          "data": {
            "text/plain": [
              "0"
            ]
          },
          "metadata": {},
          "execution_count": 107
        }
      ],
      "source": [
        "\"we bought a new house and we are happy\".index(\"we\")"
      ]
    },
    {
      "cell_type": "code",
      "execution_count": null,
      "id": "eSbwJ2bseKo0",
      "metadata": {
        "id": "eSbwJ2bseKo0"
      },
      "outputs": [],
      "source": [
        "\"we bought a new house and we are happy\".index(\"land\")"
      ]
    },
    {
      "cell_type": "markdown",
      "id": "okQO7Zm-eKo0",
      "metadata": {
        "id": "okQO7Zm-eKo0"
      },
      "source": [
        "**rindex** - поиск подстроки в строке. Возвращает номер последнего вхождения или вызывает ValueError"
      ]
    },
    {
      "cell_type": "code",
      "execution_count": null,
      "id": "I4OJZhG_eKo0",
      "metadata": {
        "id": "I4OJZhG_eKo0",
        "colab": {
          "base_uri": "https://localhost:8080/"
        },
        "outputId": "dbf888a8-06a9-4909-a2dc-8b0b1bc13521"
      },
      "outputs": [
        {
          "output_type": "execute_result",
          "data": {
            "text/plain": [
              "26"
            ]
          },
          "metadata": {},
          "execution_count": 109
        }
      ],
      "source": [
        "\"we bought a new house and we are happy\".rindex(\"we\")"
      ]
    },
    {
      "cell_type": "code",
      "execution_count": null,
      "id": "UQzjrDdseKo0",
      "metadata": {
        "id": "UQzjrDdseKo0"
      },
      "outputs": [],
      "source": [
        "\"we bought a new house and we are happy\".rindex(\"land\")"
      ]
    },
    {
      "cell_type": "markdown",
      "id": "_IE1AWz7eKo0",
      "metadata": {
        "id": "_IE1AWz7eKo0"
      },
      "source": [
        "**replace** - замена по шаблону"
      ]
    },
    {
      "cell_type": "code",
      "execution_count": null,
      "id": "HwzYP1m8eKo0",
      "metadata": {
        "id": "HwzYP1m8eKo0",
        "colab": {
          "base_uri": "https://localhost:8080/"
        },
        "outputId": "9ed77e07-24be-401f-e71a-1d66d91331f4"
      },
      "outputs": [
        {
          "output_type": "stream",
          "name": "stdout",
          "text": [
            "Help on method_descriptor:\n",
            "\n",
            "replace(self, old, new, count=-1, /)\n",
            "    Return a copy with all occurrences of substring old replaced by new.\n",
            "    \n",
            "      count\n",
            "        Maximum number of occurrences to replace.\n",
            "        -1 (the default value) means replace all occurrences.\n",
            "    \n",
            "    If the optional argument count is given, only the first count occurrences are\n",
            "    replaced.\n",
            "\n"
          ]
        }
      ],
      "source": [
        "help(str.replace)"
      ]
    },
    {
      "cell_type": "code",
      "execution_count": null,
      "id": "DQXWsqEXeKo0",
      "metadata": {
        "id": "DQXWsqEXeKo0",
        "colab": {
          "base_uri": "https://localhost:8080/",
          "height": 35
        },
        "outputId": "e77c87da-19c5-45d7-afce-511ff55b5fda"
      },
      "outputs": [
        {
          "output_type": "execute_result",
          "data": {
            "text/plain": [
              "'we bought a new building'"
            ],
            "application/vnd.google.colaboratory.intrinsic+json": {
              "type": "string"
            }
          },
          "metadata": {},
          "execution_count": 113
        }
      ],
      "source": [
        "\"we bought a new house\".replace(\"house\", \"building\")"
      ]
    },
    {
      "cell_type": "code",
      "execution_count": null,
      "id": "6c0yWAvqeKo0",
      "metadata": {
        "id": "6c0yWAvqeKo0",
        "colab": {
          "base_uri": "https://localhost:8080/",
          "height": 35
        },
        "outputId": "9ab0d551-7d94-4185-e99d-ac6e97696622"
      },
      "outputs": [
        {
          "output_type": "execute_result",
          "data": {
            "text/plain": [
              "'wow wow wow'"
            ],
            "application/vnd.google.colaboratory.intrinsic+json": {
              "type": "string"
            }
          },
          "metadata": {},
          "execution_count": 114
        }
      ],
      "source": [
        "\"bla bla bla\".replace(\"bla\", \"wow\", 3)"
      ]
    },
    {
      "cell_type": "markdown",
      "id": "zC9tTaQheKo0",
      "metadata": {
        "id": "zC9tTaQheKo0"
      },
      "source": [
        "**split** - разбиение строки по разделителю"
      ]
    },
    {
      "cell_type": "code",
      "execution_count": null,
      "id": "tKcmDB1feKo0",
      "metadata": {
        "id": "tKcmDB1feKo0"
      },
      "outputs": [],
      "source": [
        "\"hello#$great#$to#$see#$you\".split(\"#$\")"
      ]
    },
    {
      "cell_type": "markdown",
      "id": "pAS-oRPweKo0",
      "metadata": {
        "id": "pAS-oRPweKo0"
      },
      "source": [
        "- **isdigit** - состоит ли строка из цифр;\n",
        "- **isalpha** - состоит ли строка из букв;\n",
        "- **isalnum** - состоит ли строка из цифр или букв;\n",
        "- **islower** - состоит ли строка из символов в нижнем регистре;\n",
        "- **isupper** - состоит ли строка из символов в верхнем регистре;\n",
        "- **istitle** - начинаются ли слова в строке с заглавной буквы."
      ]
    },
    {
      "cell_type": "code",
      "execution_count": null,
      "id": "YsRlLa-1eKo0",
      "metadata": {
        "id": "YsRlLa-1eKo0",
        "colab": {
          "base_uri": "https://localhost:8080/"
        },
        "outputId": "963b6c95-7d83-4daa-ca22-165bae9c4217"
      },
      "outputs": [
        {
          "output_type": "stream",
          "name": "stdout",
          "text": [
            "['Райгородский', 'Андрей', 'Михайлович']\n"
          ]
        }
      ],
      "source": [
        "splitted_line = \"Райгородский Андрей Михайлович\".split(' ')\n",
        "print(splitted_line)"
      ]
    },
    {
      "cell_type": "code",
      "execution_count": null,
      "id": "zkRkyvFXeKo1",
      "metadata": {
        "id": "zkRkyvFXeKo1",
        "colab": {
          "base_uri": "https://localhost:8080/"
        },
        "outputId": "268abcfb-17f2-4c1b-e4dd-b396cbc7b278"
      },
      "outputs": [
        {
          "output_type": "execute_result",
          "data": {
            "text/plain": [
              "False"
            ]
          },
          "metadata": {},
          "execution_count": 116
        }
      ],
      "source": [
        "\"hello#$great#$to#$see#$you\".isdigit()"
      ]
    },
    {
      "cell_type": "code",
      "execution_count": null,
      "id": "cYFfD-L9eKo1",
      "metadata": {
        "id": "cYFfD-L9eKo1",
        "colab": {
          "base_uri": "https://localhost:8080/"
        },
        "outputId": "bc534667-1997-44a8-90b0-190b3392813f"
      },
      "outputs": [
        {
          "output_type": "execute_result",
          "data": {
            "text/plain": [
              "True"
            ]
          },
          "metadata": {},
          "execution_count": 117
        }
      ],
      "source": [
        "\"454654546546\".isdigit()"
      ]
    },
    {
      "cell_type": "markdown",
      "id": "ix2tUFHxeKo1",
      "metadata": {
        "collapsed": true,
        "id": "ix2tUFHxeKo1",
        "jupyter": {
          "outputs_hidden": true
        }
      },
      "source": [
        "**join** - сборка строки из списка по разделителю, применяется к разделителю"
      ]
    },
    {
      "cell_type": "code",
      "execution_count": null,
      "id": "eyLJqabCeKo1",
      "metadata": {
        "id": "eyLJqabCeKo1",
        "colab": {
          "base_uri": "https://localhost:8080/",
          "height": 35
        },
        "outputId": "57f3db95-3f4f-40e9-ad80-45efdf2a8680"
      },
      "outputs": [
        {
          "output_type": "execute_result",
          "data": {
            "text/plain": [
              "'Ann,Leo,Tiffany'"
            ],
            "application/vnd.google.colaboratory.intrinsic+json": {
              "type": "string"
            }
          },
          "metadata": {},
          "execution_count": 118
        }
      ],
      "source": [
        "\",\".join([\"Ann\", \"Leo\", \"Tiffany\"])"
      ]
    },
    {
      "cell_type": "markdown",
      "id": "XFiQilCieKo1",
      "metadata": {
        "id": "XFiQilCieKo1"
      },
      "source": [
        "**len()** - длина строки"
      ]
    },
    {
      "cell_type": "code",
      "execution_count": null,
      "id": "qr0xeED_eKo1",
      "metadata": {
        "id": "qr0xeED_eKo1"
      },
      "outputs": [],
      "source": [
        "a = 'Андрей'\n",
        "b = \"Михайлович\""
      ]
    },
    {
      "cell_type": "code",
      "execution_count": null,
      "id": "jqRzU2ACeKo1",
      "metadata": {
        "id": "jqRzU2ACeKo1",
        "colab": {
          "base_uri": "https://localhost:8080/"
        },
        "outputId": "d9ae12e4-3305-418b-af5b-47159fd263ec"
      },
      "outputs": [
        {
          "output_type": "stream",
          "name": "stdout",
          "text": [
            "6\n",
            "10\n"
          ]
        }
      ],
      "source": [
        "print(len(a))\n",
        "print(len(b))"
      ]
    },
    {
      "cell_type": "markdown",
      "id": "65400cf6-845a-4eb8-bdcd-870ddc6a3313",
      "metadata": {
        "id": "65400cf6-845a-4eb8-bdcd-870ddc6a3313"
      },
      "source": [
        "**Срезы**"
      ]
    },
    {
      "cell_type": "code",
      "execution_count": null,
      "id": "P7Swf1ngeKo1",
      "metadata": {
        "id": "P7Swf1ngeKo1",
        "colab": {
          "base_uri": "https://localhost:8080/"
        },
        "outputId": "ebfe4cfb-5afe-45d9-8864-82bd6bfd4e39"
      },
      "outputs": [
        {
          "output_type": "stream",
          "name": "stdout",
          "text": [
            "Андрей\n",
            "А\n",
            "н\n",
            "Анд\n",
            "й\n",
            "Pндрей\n"
          ]
        }
      ],
      "source": [
        "print(a)\n",
        "print(a[0])\n",
        "print(a[1])\n",
        "print(a[0:3])\n",
        "print(a[-1])\n",
        "print('P' + a[1:])"
      ]
    },
    {
      "cell_type": "markdown",
      "id": "0888fff0-8fdb-4300-ae49-468952723c0a",
      "metadata": {
        "id": "0888fff0-8fdb-4300-ae49-468952723c0a"
      },
      "source": [
        "В примере выше: 'P' + s[1:] использовалась очень популярная операция над последовательностями в Питоне — взятие среза.\n",
        "\n",
        "В срезе s[i:j] полученная подпоследовательность включает в себя элементы с индексами из $[i, j)$."
      ]
    },
    {
      "cell_type": "markdown",
      "id": "30166de3-fe1a-433c-a15e-093251e8392d",
      "metadata": {
        "id": "30166de3-fe1a-433c-a15e-093251e8392d"
      },
      "source": [
        "Срез — извлечение из последовательности одного элемента или некоторого фрагмента (подпоследовательности).\n",
        "\n",
        "Синтаксис среза:\n",
        "\n",
        "\n",
        "``` python\n",
        "[<начало> : <конец> : <шаг>]\n",
        "```\n",
        "где\n",
        "* начало -  начало диапазона индексов\n",
        "* конец -  конец диапазона индексов\n",
        "* шаг - шаг диапазона (не обязательный параметр)\n"
      ]
    },
    {
      "cell_type": "code",
      "execution_count": null,
      "id": "zbKGQFugeKo1",
      "metadata": {
        "id": "zbKGQFugeKo1",
        "colab": {
          "base_uri": "https://localhost:8080/"
        },
        "outputId": "70fa405b-f95d-4b8a-b66d-348af40baec4"
      },
      "outputs": [
        {
          "output_type": "stream",
          "name": "stdout",
          "text": [
            "Ад\n"
          ]
        }
      ],
      "source": [
        "print(a[0:4:2])"
      ]
    },
    {
      "cell_type": "code",
      "execution_count": null,
      "id": "ee6f5f49-8734-4ff9-9254-65ae53ff8370",
      "metadata": {
        "id": "ee6f5f49-8734-4ff9-9254-65ae53ff8370"
      },
      "outputs": [],
      "source": [
        "s = 'python'"
      ]
    },
    {
      "cell_type": "code",
      "execution_count": null,
      "id": "0df08fed-dcae-4ad6-bb32-6f232401f876",
      "metadata": {
        "id": "0df08fed-dcae-4ad6-bb32-6f232401f876",
        "colab": {
          "base_uri": "https://localhost:8080/",
          "height": 35
        },
        "outputId": "d598b2d4-1044-4146-f459-be9170a2c2bd"
      },
      "outputs": [
        {
          "output_type": "execute_result",
          "data": {
            "text/plain": [
              "'ython'"
            ],
            "application/vnd.google.colaboratory.intrinsic+json": {
              "type": "string"
            }
          },
          "metadata": {},
          "execution_count": 130
        }
      ],
      "source": [
        "s[1:] # от s[1] до s[len(s) - 1]"
      ]
    },
    {
      "cell_type": "code",
      "execution_count": null,
      "id": "b202c936-a2b2-4ef2-a90d-2745ac6e0cb7",
      "metadata": {
        "id": "b202c936-a2b2-4ef2-a90d-2745ac6e0cb7",
        "colab": {
          "base_uri": "https://localhost:8080/",
          "height": 35
        },
        "outputId": "1856e303-69bd-4abe-80f2-00471bfd1bfd"
      },
      "outputs": [
        {
          "output_type": "execute_result",
          "data": {
            "text/plain": [
              "'pyt'"
            ],
            "application/vnd.google.colaboratory.intrinsic+json": {
              "type": "string"
            }
          },
          "metadata": {},
          "execution_count": 131
        }
      ],
      "source": [
        "s[:3] # от s[0] до s[2]"
      ]
    },
    {
      "cell_type": "markdown",
      "id": "51b8ff1a-8251-4835-826c-d4eb717f0474",
      "metadata": {
        "id": "51b8ff1a-8251-4835-826c-d4eb717f0474"
      },
      "source": [
        "Индекс -1 обозначает индекс последнего элемента последовательности. В общем случае обращение по отрицательному индексу `s[-i]` трактуется, как `s[len(s) - i]`."
      ]
    },
    {
      "cell_type": "code",
      "execution_count": null,
      "id": "7db39d99-cb5b-4d86-8fd5-ebb9d7286da2",
      "metadata": {
        "id": "7db39d99-cb5b-4d86-8fd5-ebb9d7286da2",
        "colab": {
          "base_uri": "https://localhost:8080/"
        },
        "outputId": "8467493e-2e5d-4e68-b6ad-6efa097468aa"
      },
      "outputs": [
        {
          "output_type": "execute_result",
          "data": {
            "text/plain": [
              "('n', 'ytho', 'ytho')"
            ]
          },
          "metadata": {},
          "execution_count": 132
        }
      ],
      "source": [
        "s[-1], s[-5:-1], s[len(s) - 5:len(s) - 1]"
      ]
    },
    {
      "cell_type": "code",
      "execution_count": null,
      "id": "a987902c-39f4-426c-a59a-bdd4fde0f6c6",
      "metadata": {
        "id": "a987902c-39f4-426c-a59a-bdd4fde0f6c6",
        "colab": {
          "base_uri": "https://localhost:8080/",
          "height": 35
        },
        "outputId": "bd586999-832a-463b-b1e9-46c212ed7049"
      },
      "outputs": [
        {
          "output_type": "execute_result",
          "data": {
            "text/plain": [
              "'ytho'"
            ],
            "application/vnd.google.colaboratory.intrinsic+json": {
              "type": "string"
            }
          },
          "metadata": {},
          "execution_count": 133
        }
      ],
      "source": [
        "s[1:-1] # от s[1] до s[len(s) - 2]"
      ]
    },
    {
      "cell_type": "code",
      "execution_count": null,
      "id": "186b2837-1342-453c-a19a-7cde13712d9f",
      "metadata": {
        "id": "186b2837-1342-453c-a19a-7cde13712d9f",
        "colab": {
          "base_uri": "https://localhost:8080/",
          "height": 35
        },
        "outputId": "42554c39-2cab-4e04-ee96-e9e9a348604f"
      },
      "outputs": [
        {
          "output_type": "execute_result",
          "data": {
            "text/plain": [
              "'pto'"
            ],
            "application/vnd.google.colaboratory.intrinsic+json": {
              "type": "string"
            }
          },
          "metadata": {},
          "execution_count": 134
        }
      ],
      "source": [
        "s[::2] # от s[0] до s[len(s) - 1] с шагом 2"
      ]
    },
    {
      "cell_type": "markdown",
      "id": "33b4cfbd-4e0b-4fe3-9daa-1292ad25face",
      "metadata": {
        "id": "33b4cfbd-4e0b-4fe3-9daa-1292ad25face"
      },
      "source": [
        "Для неизменяемой последовательности, примером которой является строка, определен ряд общих операций:\n",
        "\n",
        "| Операция         | Описание                                |\n",
        "|------------------|-----------------------------------------|\n",
        "|      x in s      | Проверка на наличие x в s             |\n",
        "|    x not in s    | Проверка на отсутствие x в s            |\n",
        "|      s1 + s2     | Соединение последовательностей          |\n",
        "| s * n            | Последовательность из n повторений s    |\n",
        "| s[i]             | Получение элемента по индексу           |\n",
        "| s[i:j], s[i:j:k] | Получение подпоследовательности (среза) |\n",
        "| len(s)           | Длина s                                 |\n",
        "| max(s), min(s)   | Максимальный/минимальный элемент в s    |\n",
        "| s.index(x)       | Индекс первого вхождения x в s          |\n",
        "| s.count(x)       | Количество вхождений x в s              |"
      ]
    },
    {
      "cell_type": "markdown",
      "id": "ac07c0bf-af34-422c-be1f-ae0a083dea54",
      "metadata": {
        "id": "ac07c0bf-af34-422c-be1f-ae0a083dea54"
      },
      "source": [
        "Для экранирования специальных символов в Питоне используются знакомые программистам на C++ средства:"
      ]
    },
    {
      "cell_type": "code",
      "execution_count": null,
      "id": "82b20a02-0217-48db-9a3f-4d76e7985c11",
      "metadata": {
        "id": "82b20a02-0217-48db-9a3f-4d76e7985c11",
        "colab": {
          "base_uri": "https://localhost:8080/"
        },
        "outputId": "51735b9f-dff4-4e9b-d856-f0e93f166d6f"
      },
      "outputs": [
        {
          "output_type": "stream",
          "name": "stdout",
          "text": [
            "first\n",
            "second\n"
          ]
        }
      ],
      "source": [
        "print('first\\nsecond')"
      ]
    },
    {
      "cell_type": "markdown",
      "id": "0e627814-be35-40fb-acc7-df1768023b3b",
      "metadata": {
        "id": "0e627814-be35-40fb-acc7-df1768023b3b"
      },
      "source": [
        "При необходимости, интерпретацию специальных символов можно отключить при использовании строкового литерала с префиксом r:"
      ]
    },
    {
      "cell_type": "code",
      "execution_count": null,
      "id": "70872b05-4a34-44a4-b094-ac937c750bfe",
      "metadata": {
        "id": "70872b05-4a34-44a4-b094-ac937c750bfe",
        "colab": {
          "base_uri": "https://localhost:8080/"
        },
        "outputId": "2160704b-590b-4d38-88d6-08a252a0c781"
      },
      "outputs": [
        {
          "output_type": "stream",
          "name": "stdout",
          "text": [
            "first\\nsecond\n"
          ]
        }
      ],
      "source": [
        "print(r'first\\nsecond')"
      ]
    },
    {
      "cell_type": "markdown",
      "id": "f7026343-3a66-4a21-8c09-44fb062c3ff3",
      "metadata": {
        "id": "f7026343-3a66-4a21-8c09-44fb062c3ff3"
      },
      "source": [
        "Следует избегать построения длинных строк с помощью тяжеловесной операции `+` (конкатенации). Большей производительности можно достичь с помощью метода `join()`, как показано ниже:"
      ]
    },
    {
      "cell_type": "code",
      "execution_count": null,
      "id": "9b5af45e-da6e-4ce3-9a18-77d702533763",
      "metadata": {
        "id": "9b5af45e-da6e-4ce3-9a18-77d702533763",
        "colab": {
          "base_uri": "https://localhost:8080/",
          "height": 35
        },
        "outputId": "346ffcbc-94bc-4d0a-fa12-ba22d02b3a2e"
      },
      "outputs": [
        {
          "output_type": "execute_result",
          "data": {
            "text/plain": [
              "'АБВГДЕЖЗИЙКЛМНОПРСТУФХЦЧШЩЪЫЬЭЮЯ'"
            ],
            "application/vnd.google.colaboratory.intrinsic+json": {
              "type": "string"
            }
          },
          "metadata": {},
          "execution_count": 139
        }
      ],
      "source": [
        "alpha = range(ord('А'), ord('Я') + 1)\n",
        "\n",
        "''.join([chr(c) for c in alpha])"
      ]
    },
    {
      "cell_type": "markdown",
      "id": "7bb7ae0e-ef00-4d45-ba31-b929224f79c9",
      "metadata": {
        "id": "7bb7ae0e-ef00-4d45-ba31-b929224f79c9"
      },
      "source": [
        "Описание других методов для работы со строками в Питоне можно найти в [официальной документации](https://docs.python.org/3/library/stdtypes.html#string-methods)."
      ]
    },
    {
      "cell_type": "code",
      "execution_count": null,
      "id": "4fO3W_ATeKo1",
      "metadata": {
        "id": "4fO3W_ATeKo1",
        "colab": {
          "base_uri": "https://localhost:8080/"
        },
        "outputId": "e8a97961-71ac-489c-82d5-d32810508e5f"
      },
      "outputs": [
        {
          "output_type": "stream",
          "name": "stdout",
          "text": [
            "Винни Пух и Пятачок <class 'str'>\n",
            "\n",
            "b'\\xd0\\x92\\xd0\\xb8\\xd0\\xbd\\xd0\\xbd\\xd0\\xb8 \\xd0\\x9f\\xd1\\x83\\xd1\\x85 \\xd0\\xb8 \\xd0\\x9f\\xd1\\x8f\\xd1\\x82\\xd0\\xb0\\xd1\\x87\\xd0\\xbe\\xd0\\xba' <class 'bytes'>\n",
            "\n",
            "Винни Пух и Пятачок <class 'str'>\n",
            "\n",
            "Р’РёРЅРЅРё РџСѓС… Рё РџСЏС‚Р°С‡РѕРє <class 'str'>\n"
          ]
        }
      ],
      "source": [
        "x = 'Винни Пух и Пятачок'\n",
        "\n",
        "print(x, type(x))\n",
        "print()\n",
        "\n",
        "y = x.encode('utf-8')\n",
        "\n",
        "print(y, type(y))\n",
        "print()\n",
        "\n",
        "w = y.decode('utf-8')\n",
        "\n",
        "print(w, type(w))\n",
        "print()\n",
        "\n",
        "q = y.decode('cp1251')\n",
        "\n",
        "print(q, type(q))"
      ]
    },
    {
      "cell_type": "markdown",
      "id": "984819df-bb00-464a-a13b-264a4bda015e",
      "metadata": {
        "id": "984819df-bb00-464a-a13b-264a4bda015e"
      },
      "source": [
        "# Задание\n",
        "Дана произвольная строка.\n",
        "1. Сначала выведите третий символ этой строки (считая, что нумерация символов начинается с 1).\n",
        "2. Во второй строке выведите предпоследний символ этой строки.\n",
        "3. В третьей строке выведите первые пять символов этой строки.\n",
        "4. В четвертой строке выведите всю строку, кроме последних двух символов.\n",
        "5. В пятой строке выведите все символы с четными индексами (считая, что индексация начинается с 0).\n",
        "6. В шестой строке выведите все символы с нечетными индексами (считая, что индексация начинается с 0).\n",
        "7. В седьмой строке выведите все символы в обратном порядке.\n",
        "8. В восьмой строке выведите все символы строки через один в обратном порядке, начиная с последнего.\n",
        "9. В девятой строке выведите длину данной строки.\n",
        "\n",
        "**Пример:**\n",
        "\n",
        "*Входные данные:*\n",
        "\n",
        "    Abrakadabra\n",
        "\n",
        "*Выходные данные:*\n",
        "\n",
        "    r\n",
        "    r\n",
        "    Abrak\n",
        "    Abrakadab\n",
        "    Arkdba\n",
        "    baaar\n",
        "    arbadakarbA\n",
        "    abdkrA\n",
        "    11"
      ]
    },
    {
      "cell_type": "code",
      "execution_count": 17,
      "id": "847b51d1-18ea-4c2c-834d-66dce26c6d97",
      "metadata": {
        "id": "847b51d1-18ea-4c2c-834d-66dce26c6d97",
        "colab": {
          "base_uri": "https://localhost:8080/"
        },
        "outputId": "c85a8579-1fa9-4d4f-91a6-6a08cbfcbede"
      },
      "outputs": [
        {
          "output_type": "stream",
          "name": "stdout",
          "text": [
            "1) p\n",
            "2) d\n",
            "3) Deppe\n",
            "4) Deppershmi\n",
            "5) Dpesmd\n",
            "6) eprhit\n",
            "7) tdimhsreppeD\n",
            "8) tihrpe\n",
            "9) 12\n"
          ]
        }
      ],
      "source": [
        "x = \"Deppershmidt\"\n",
        "\n",
        "# 1) Выведите третий символ этой строки.\n",
        "print('1)', x[2])\n",
        "\n",
        "# 2) Выведите предпоследний символ этой строки.\n",
        "print('2)', x[-2])\n",
        "\n",
        "# 3) Выведите первые пять символов этой строки.\n",
        "print('3)', x[:5])\n",
        "\n",
        "# 4) Выведите всю строку, кроме последних двух символов.\n",
        "print('4)', x[:-2])\n",
        "\n",
        "# 5) Выведите все символы с четными индексами.\n",
        "print('5)', x[::2])\n",
        "\n",
        "# 6) Выведите все символы с нечетными индексами.\n",
        "print('6)', x[1::2])\n",
        "\n",
        "# 7) Выведите все символы в обратном порядке.\n",
        "print('7)', x[::-1])\n",
        "\n",
        "# 8) Выведите все символы строки через один в обратном порядке с последнего.\n",
        "print('8)', x[::-2])\n",
        "\n",
        "# 9) Выведите длину данной строки.\n",
        "print('9)', len(x))"
      ]
    },
    {
      "cell_type": "markdown",
      "id": "da8eb74c-7fcb-4e01-b71d-dc0360d3eeb2",
      "metadata": {
        "id": "da8eb74c-7fcb-4e01-b71d-dc0360d3eeb2"
      },
      "source": [
        "### Операции над строками\n",
        "\n",
        "Что мы можем с ними делать?\n",
        "\n",
        "- проверять условия\n",
        "- искать подстроки\n",
        "- превращать\n",
        "- разбивать\n",
        "- складывать"
      ]
    },
    {
      "cell_type": "markdown",
      "id": "608357e9-2610-45fd-a3f0-9f2a68c5a33e",
      "metadata": {
        "id": "608357e9-2610-45fd-a3f0-9f2a68c5a33e"
      },
      "source": [
        "### Условия\n",
        "\n",
        "- пустота\n",
        "- равенство\n",
        "- сравнения\n",
        "- вхождение подстроки"
      ]
    },
    {
      "cell_type": "code",
      "execution_count": null,
      "id": "57550194-a985-48c8-ac30-bf19e77b2e56",
      "metadata": {
        "id": "57550194-a985-48c8-ac30-bf19e77b2e56",
        "colab": {
          "base_uri": "https://localhost:8080/"
        },
        "outputId": "65ac378d-9771-46d1-835f-d9373fa74243"
      },
      "outputs": [
        {
          "output_type": "execute_result",
          "data": {
            "text/plain": [
              "True"
            ]
          },
          "metadata": {},
          "execution_count": 24
        }
      ],
      "source": [
        "'two' in 'one, two, tree'"
      ]
    },
    {
      "cell_type": "code",
      "execution_count": null,
      "id": "ed95fb81-a9c2-4be7-84b1-e9ffd34b643a",
      "metadata": {
        "id": "ed95fb81-a9c2-4be7-84b1-e9ffd34b643a",
        "colab": {
          "base_uri": "https://localhost:8080/"
        },
        "outputId": "238ce0a1-3415-4d57-8c05-98ed5522a334"
      },
      "outputs": [
        {
          "output_type": "execute_result",
          "data": {
            "text/plain": [
              "True"
            ]
          },
          "metadata": {},
          "execution_count": 25
        }
      ],
      "source": [
        "'four' not in 'one, two, tree'"
      ]
    },
    {
      "cell_type": "code",
      "execution_count": null,
      "id": "a786ff05-9070-4f3e-bffd-52ac61a0a30d",
      "metadata": {
        "id": "a786ff05-9070-4f3e-bffd-52ac61a0a30d",
        "colab": {
          "base_uri": "https://localhost:8080/"
        },
        "outputId": "483955b7-4956-4140-8ac1-dc8800248ee1"
      },
      "outputs": [
        {
          "output_type": "stream",
          "name": "stdout",
          "text": [
            "True\n",
            "True\n"
          ]
        }
      ],
      "source": [
        "# Условия вхождения\n",
        "# входит ли символ в строку?\n",
        "\n",
        "print('a' in 'abracadabra')\n"
      ]
    },
    {
      "cell_type": "code",
      "execution_count": null,
      "id": "28be7179-2487-4628-8bda-b61097f4842f",
      "metadata": {
        "id": "28be7179-2487-4628-8bda-b61097f4842f",
        "colab": {
          "base_uri": "https://localhost:8080/"
        },
        "outputId": "850e7ef9-4d2c-4124-ca6d-819ce0181f5f"
      },
      "outputs": [
        {
          "output_type": "stream",
          "name": "stdout",
          "text": [
            "True\n"
          ]
        }
      ],
      "source": [
        "# более обще: входит ли подстрока в строку?\n",
        "\n",
        "print('cad' in 'abracadabra')"
      ]
    },
    {
      "cell_type": "code",
      "execution_count": null,
      "id": "f4dbee37-4f12-442b-8ce7-ecb9f8b9279b",
      "metadata": {
        "id": "f4dbee37-4f12-442b-8ce7-ecb9f8b9279b",
        "colab": {
          "base_uri": "https://localhost:8080/"
        },
        "outputId": "28f6fd40-ec2b-4045-b344-44bdda561147"
      },
      "outputs": [
        {
          "output_type": "stream",
          "name": "stdout",
          "text": [
            "True\n"
          ]
        }
      ],
      "source": [
        "# \"не входит ли?\"\n",
        "\n",
        "print('bad' not in 'abracadabra')"
      ]
    },
    {
      "cell_type": "code",
      "execution_count": null,
      "id": "60f7a76f-5eaa-4b43-ae11-45e4b166c261",
      "metadata": {
        "id": "60f7a76f-5eaa-4b43-ae11-45e4b166c261"
      },
      "outputs": [],
      "source": [
        "digits = '0123456789'"
      ]
    },
    {
      "cell_type": "code",
      "execution_count": null,
      "id": "13a4f6fe-195e-428d-a02c-ce428bc219b6",
      "metadata": {
        "id": "13a4f6fe-195e-428d-a02c-ce428bc219b6",
        "colab": {
          "base_uri": "https://localhost:8080/"
        },
        "outputId": "ec27bee7-24cd-4a39-8179-711291ccd2bd"
      },
      "outputs": [
        {
          "output_type": "stream",
          "name": "stdout",
          "text": [
            "012 3456 789\n"
          ]
        }
      ],
      "source": [
        "# полуинтервалы\n",
        "\n",
        "print(digits[:3], digits[3:7], digits[7:])"
      ]
    },
    {
      "cell_type": "code",
      "execution_count": null,
      "id": "822fc5d8-75aa-4a82-a184-1a72a7ccc3c9",
      "metadata": {
        "id": "822fc5d8-75aa-4a82-a184-1a72a7ccc3c9",
        "colab": {
          "base_uri": "https://localhost:8080/"
        },
        "outputId": "406a1cfd-7813-478b-eec6-ac3a947f3f09"
      },
      "outputs": [
        {
          "output_type": "stream",
          "name": "stdout",
          "text": [
            "2345 2345\n"
          ]
        }
      ],
      "source": [
        "# индексы можно отсчитывать и от конца: -N = len(s)-N\n",
        "\n",
        "print(digits[2:-4], digits[-8:6])"
      ]
    },
    {
      "cell_type": "code",
      "execution_count": null,
      "id": "d63a1743-90fe-4264-b400-3fdb29078b05",
      "metadata": {
        "id": "d63a1743-90fe-4264-b400-3fdb29078b05",
        "colab": {
          "base_uri": "https://localhost:8080/"
        },
        "outputId": "5cc2c57a-e78f-43ef-8122-51cf3c662fc7"
      },
      "outputs": [
        {
          "output_type": "stream",
          "name": "stdout",
          "text": [
            "9876543210\n"
          ]
        }
      ],
      "source": [
        "# полуинтервалы с произвольным шагом\n",
        "# разворот строки: \"от начала до конца с шагом -1\"\n",
        "\n",
        "print(digits[::-1])"
      ]
    },
    {
      "cell_type": "code",
      "execution_count": null,
      "id": "a06f3dc9-ef8a-4d68-97f2-cb7f88e91ca5",
      "metadata": {
        "id": "a06f3dc9-ef8a-4d68-97f2-cb7f88e91ca5",
        "colab": {
          "base_uri": "https://localhost:8080/"
        },
        "outputId": "6ac1aa2d-bd24-4ffc-8a2e-36517f8277ed"
      },
      "outputs": [
        {
          "output_type": "stream",
          "name": "stdout",
          "text": [
            "98 7654 3210\n"
          ]
        }
      ],
      "source": [
        "print(digits[:7:-1], digits[7:3:-1], digits[3::-1])"
      ]
    },
    {
      "cell_type": "code",
      "execution_count": null,
      "id": "f610e3c8-d842-43ec-801d-13b89d69c4a0",
      "metadata": {
        "id": "f610e3c8-d842-43ec-801d-13b89d69c4a0",
        "colab": {
          "base_uri": "https://localhost:8080/"
        },
        "outputId": "6dfb61f0-dd51-4303-db25-b4761120ac70"
      },
      "outputs": [
        {
          "output_type": "stream",
          "name": "stdout",
          "text": [
            "02468 13579\n"
          ]
        }
      ],
      "source": [
        "# каждый второй символ (начиная с начала, начиная с первого)\n",
        "\n",
        "print(digits[::2], digits[1::2])"
      ]
    },
    {
      "cell_type": "code",
      "execution_count": null,
      "id": "f1c0bbf5-f83b-4c37-afa1-96f6c90917ce",
      "metadata": {
        "id": "f1c0bbf5-f83b-4c37-afa1-96f6c90917ce",
        "colab": {
          "base_uri": "https://localhost:8080/"
        },
        "outputId": "1c02980c-5f22-4524-dcd2-117c9f16d36e"
      },
      "outputs": [
        {
          "output_type": "stream",
          "name": "stdout",
          "text": [
            "['много', 'слов', 'со', 'всякими', 'пробелами']\n",
            "['', '', '', 'слова', 'разделённые', '', 'двоеточиями', '']\n"
          ]
        }
      ],
      "source": [
        "# разбиения по символу-разделителю\n",
        "\n",
        "print('   много слов  со  \\n\\t\\t всякими пробелами   '.split())\n",
        "print(':::слова:разделённые::двоеточиями:'.split(':'))"
      ]
    },
    {
      "cell_type": "code",
      "execution_count": null,
      "id": "cb9ce567-b757-432d-96b8-b4af2b507331",
      "metadata": {
        "id": "cb9ce567-b757-432d-96b8-b4af2b507331"
      },
      "outputs": [],
      "source": [
        "text = '''\n",
        "здесь будет\n",
        "несколько\n",
        "строк текста\n",
        "'''"
      ]
    },
    {
      "cell_type": "code",
      "execution_count": null,
      "id": "42b1f6a9-89bf-4730-b149-4dbf8d99c9f3",
      "metadata": {
        "id": "42b1f6a9-89bf-4730-b149-4dbf8d99c9f3",
        "colab": {
          "base_uri": "https://localhost:8080/",
          "height": 35
        },
        "outputId": "355aec40-bb9b-47ed-d122-50147e7765ec"
      },
      "outputs": [
        {
          "output_type": "execute_result",
          "data": {
            "text/plain": [
              "'\\nздесь будет\\nнесколько\\nстрок текста\\n'"
            ],
            "application/vnd.google.colaboratory.intrinsic+json": {
              "type": "string"
            }
          },
          "metadata": {},
          "execution_count": 47
        }
      ],
      "source": [
        "text"
      ]
    },
    {
      "cell_type": "code",
      "execution_count": null,
      "id": "d8d79d50-5c9d-4a35-9cbb-bd824a6338a8",
      "metadata": {
        "id": "d8d79d50-5c9d-4a35-9cbb-bd824a6338a8",
        "colab": {
          "base_uri": "https://localhost:8080/"
        },
        "outputId": "82fae319-b45d-4296-c0ba-1ca548fb62cc"
      },
      "outputs": [
        {
          "output_type": "stream",
          "name": "stdout",
          "text": [
            "['', 'здесь будет', 'несколько', 'строк текста']\n",
            "['\\n', 'здесь будет\\n', 'несколько\\n', 'строк текста\\n']\n"
          ]
        }
      ],
      "source": [
        "print(text.splitlines())\n",
        "print(text.splitlines(True)) # не откусывать перевод строки на новую строку"
      ]
    },
    {
      "cell_type": "markdown",
      "id": "211e1a27-ac9b-4221-afbd-44374803ec0b",
      "metadata": {
        "id": "211e1a27-ac9b-4221-afbd-44374803ec0b"
      },
      "source": [
        "### Склеивание\n",
        "\n",
        "- с разделителем и без\n",
        "- фиксированное и произвольное количество строк\n",
        "- умножение"
      ]
    },
    {
      "cell_type": "code",
      "execution_count": null,
      "id": "1d82e68a-3ffc-4239-8d4a-cfd8d670d4a2",
      "metadata": {
        "id": "1d82e68a-3ffc-4239-8d4a-cfd8d670d4a2"
      },
      "outputs": [],
      "source": [
        "x, y, k = '<iks>', '<igrek>', '<kei>'"
      ]
    },
    {
      "cell_type": "code",
      "execution_count": null,
      "id": "616f40f7-7db6-4417-b315-3d9fd208cbb9",
      "metadata": {
        "id": "616f40f7-7db6-4417-b315-3d9fd208cbb9",
        "colab": {
          "base_uri": "https://localhost:8080/"
        },
        "outputId": "efa81496-796c-4ace-f381-0fea08571575"
      },
      "outputs": [
        {
          "output_type": "stream",
          "name": "stdout",
          "text": [
            "<iks><iks><iks><iks><iks>\n"
          ]
        }
      ],
      "source": [
        "# сразу посмотрим на умножение\n",
        "\n",
        "print(x * 5)"
      ]
    },
    {
      "cell_type": "code",
      "execution_count": null,
      "id": "a267294b-ccc5-40f4-aeae-7a5dec0f72e9",
      "metadata": {
        "id": "a267294b-ccc5-40f4-aeae-7a5dec0f72e9",
        "colab": {
          "base_uri": "https://localhost:8080/"
        },
        "outputId": "9ac2b613-ba32-4f5c-9899-dbff8af620e5"
      },
      "outputs": [
        {
          "output_type": "stream",
          "name": "stdout",
          "text": [
            "<iks><igrek><kei>\n"
          ]
        }
      ],
      "source": [
        "# можно просто сложить\n",
        "\n",
        "print(x + y + k)"
      ]
    },
    {
      "cell_type": "code",
      "execution_count": null,
      "id": "86e2d1bf-e077-44f6-9955-66fa918ba449",
      "metadata": {
        "id": "86e2d1bf-e077-44f6-9955-66fa918ba449",
        "colab": {
          "base_uri": "https://localhost:8080/"
        },
        "outputId": "29258eb9-ae3f-4d19-dc3a-39d451ef724f"
      },
      "outputs": [
        {
          "output_type": "stream",
          "name": "stdout",
          "text": [
            "<iks><igrek><kei>\n"
          ]
        }
      ],
      "source": [
        "# или склеить функцией join\n",
        "\n",
        "print(''.join([x, y, k]))"
      ]
    },
    {
      "cell_type": "code",
      "execution_count": null,
      "id": "8370b5bf-0bdc-46b4-96fc-7152ddf5572e",
      "metadata": {
        "id": "8370b5bf-0bdc-46b4-96fc-7152ddf5572e",
        "colab": {
          "base_uri": "https://localhost:8080/"
        },
        "outputId": "1546fdc1-dc00-4bc2-8e5a-d1fdab6b17d7"
      },
      "outputs": [
        {
          "output_type": "stream",
          "name": "stdout",
          "text": [
            "<iks> : <igrek> : <kei>\n",
            "<iks> : <igrek> : <kei>\n",
            "<iks> : <igrek> : <kei>\n"
          ]
        }
      ],
      "source": [
        "print(x + ' : ' + y + ' : ' + k)\n",
        "\n",
        "print(f'{x} : {y} : {k}')\n",
        "\n",
        "print(' : '.join([x, y, k]))"
      ]
    },
    {
      "cell_type": "code",
      "execution_count": null,
      "id": "18224808-8568-4145-bfd9-0af5643a10fb",
      "metadata": {
        "id": "18224808-8568-4145-bfd9-0af5643a10fb",
        "colab": {
          "base_uri": "https://localhost:8080/"
        },
        "outputId": "24fda2ce-80a8-496d-fa76-4be06eba091d"
      },
      "outputs": [
        {
          "output_type": "stream",
          "name": "stdout",
          "text": [
            "h:e:l:l:o\n",
            "hello\n"
          ]
        }
      ],
      "source": [
        "print(':'.join('hello'))   # функции join всё равно,\n",
        "print(':'.join(['hello'])) # с элементами чего иметь дело"
      ]
    },
    {
      "cell_type": "markdown",
      "id": "c84357ae-92fe-4b1a-93c6-de666c9159ba",
      "metadata": {
        "id": "c84357ae-92fe-4b1a-93c6-de666c9159ba"
      },
      "source": [
        "# Задание (исходные данные придумываете индивидуально)\n",
        "1. Напишите программу, которая берет строку \"1; 2; 3; 100\" и возвращает:\n",
        "\n",
        "* список из целых чисел\n",
        "* список из чисел с плавающей точкой\n",
        "\n",
        "**Подсказка:** используйте метод `.split()` и конвертацию числа из одного типа в другой.\n",
        "\n",
        "2. Напишите программу, которая запрашивает у пользователя номер мобильного телефона, введенный через дефис, а возвращает номер, записанный без дефисов и пробелов.\n",
        "\n",
        "*Входные данные:*\n",
        "\n",
        "    8-900-123-45-67\n",
        "\n",
        "*Выходные данные:*\n",
        "\n",
        "    89001234567\n",
        "    \n",
        "**Подсказка:** используйте методы `.split()` и `.join()`.\n",
        "\n",
        "3. Напишите программу, которая принимает на вход список слов такого вида:\n",
        "\n",
        "    words = [\"Speak \",\"to\", \"me \", \"of\", \"Florence\" ,\"And \", \"of\", \"the\", \"Renaissance\"]\n",
        "\n",
        "а возвращает список\n",
        "\n",
        "    words_clean = [\"speak\", \"to\", \"me\", \"of\", \"florence\", \"and\", \"of\", \"the\", \"renaissance\"]\n",
        "\n",
        "Другими словами, программа убирает пробелы в словах и приводит все слова к нижнему регистру.\n",
        "\n",
        "**Подсказка:** запросите `help()`  по  методам `.strip()` и `.lower()`."
      ]
    },
    {
      "cell_type": "code",
      "execution_count": null,
      "id": "00f671e3-8197-4ce1-834d-2b02fb3de96b",
      "metadata": {
        "id": "00f671e3-8197-4ce1-834d-2b02fb3de96b",
        "colab": {
          "base_uri": "https://localhost:8080/"
        },
        "outputId": "55f01ea3-f781-49b9-99de-25518e77ef32"
      },
      "outputs": [
        {
          "output_type": "stream",
          "name": "stdout",
          "text": [
            "Список из целых чисел: [543, 3434, 12, 8]\n",
            "Список из чисел с плавающей точкой: [543.0, 3434.0, 12.0, 8.0]\n"
          ]
        }
      ],
      "source": [
        "# Задача 1\n",
        "input_str = \"543; 3434; 12; 8\"\n",
        "str_list = input_str.split(\"; \")\n",
        "\n",
        "int_list = [int(num) for num in str_list]\n",
        "float_list = [float(num) for num in str_list]\n",
        "\n",
        "print('Список из целых чисел:', int_list)\n",
        "print('Список из чисел с плавающей точкой:', float_list)"
      ]
    },
    {
      "cell_type": "code",
      "execution_count": null,
      "id": "2d87b85c-1c8d-4c56-b7ca-56f0ecc7d8f9",
      "metadata": {
        "id": "2d87b85c-1c8d-4c56-b7ca-56f0ecc7d8f9",
        "colab": {
          "base_uri": "https://localhost:8080/"
        },
        "outputId": "0b2366a7-e5a0-4715-eedd-ca7ab65a340c"
      },
      "outputs": [
        {
          "output_type": "stream",
          "name": "stdout",
          "text": [
            "Введите номер мобильного телефона (через дефис): 8-902 765-32 43\n",
            "Номер без дефисов и пробелов: 89027653243\n"
          ]
        }
      ],
      "source": [
        "# Задача 2\n",
        "phone_number = input('Введите номер мобильного телефона (через дефис):' )\n",
        "split_number = phone_number.split(\"-\")\n",
        "cleaned_number = \"\".join(split_number).replace(\" \", \"\")\n",
        "print(\"Номер без дефисов и пробелов:\", cleaned_number)"
      ]
    },
    {
      "cell_type": "code",
      "execution_count": null,
      "id": "80264b21-d2fb-4d55-970c-7171cbe1dc49",
      "metadata": {
        "id": "80264b21-d2fb-4d55-970c-7171cbe1dc49",
        "colab": {
          "base_uri": "https://localhost:8080/"
        },
        "outputId": "bb842de6-bad9-4c2f-941f-7341617e10f9"
      },
      "outputs": [
        {
          "output_type": "stream",
          "name": "stdout",
          "text": [
            "Очищенный список слов: ['медведь', 'хочет', 'чтобы', 'он', 'внимательно', 'и', 'быстро', 'осмотрел', 'берлогу']\n"
          ]
        }
      ],
      "source": [
        "# Задача 3\n",
        "words = [\"Медведь \", \"  Хочет\", \"Чтобы \", \"Он\", \"  Внимательно\", \"И \", \"Быстро\", \"Осмотрел\", \"Берлогу\"]\n",
        "words_clean = [word.strip().lower() for word in words]\n",
        "print(\"Очищенный список слов:\", words_clean)"
      ]
    }
  ],
  "metadata": {
    "colab": {
      "provenance": []
    },
    "kernelspec": {
      "display_name": "Python 3 (ipykernel)",
      "language": "python",
      "name": "python3"
    },
    "language_info": {
      "codemirror_mode": {
        "name": "ipython",
        "version": 3
      },
      "file_extension": ".py",
      "mimetype": "text/x-python",
      "name": "python",
      "nbconvert_exporter": "python",
      "pygments_lexer": "ipython3",
      "version": "3.11.7"
    }
  },
  "nbformat": 4,
  "nbformat_minor": 5
}